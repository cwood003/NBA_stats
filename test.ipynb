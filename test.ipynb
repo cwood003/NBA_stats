{
 "cells": [
  {
   "cell_type": "code",
   "execution_count": null,
   "metadata": {},
   "outputs": [],
   "source": []
  }
 ],
 "metadata": {
  "kernelspec": {
   "display_name": ".venv",
   "language": "python",
   "name": "python3"
  },
  "language_info": {
   "name": "python",
   "version": "3.8.2"
  },
  "orig_nbformat": 4,
  "vscode": {
   "interpreter": {
    "hash": "745ad8b2a7e3296165476373b435416d170bbb004e566d53aaaee70bc60621d4"
   }
  }
 },
 "nbformat": 4,
 "nbformat_minor": 2
}
