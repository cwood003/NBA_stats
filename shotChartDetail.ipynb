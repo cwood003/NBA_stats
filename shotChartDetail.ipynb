{
 "cells": [
  {
   "cell_type": "code",
   "execution_count": 1,
   "metadata": {},
   "outputs": [],
   "source": [
    "# plottable package"
   ]
  },
  {
   "cell_type": "code",
   "execution_count": 1,
   "metadata": {},
   "outputs": [],
   "source": [
    "# Dependencies\n",
    "from nba_api.stats.endpoints import shotchartdetail, commonplayerinfo, TeamPlayerDashboard, TeamDetails\n",
    "from nba_api.stats.static import players, teams\n",
    "import matplotlib as mpl\n",
    "import matplotlib.pyplot as plt\n",
    "import numpy as np\n",
    "import pandas as pd\n",
    "import numpy as np\n",
    "# from scipy.stats import binned_statistic_2d\n",
    "from math import pi\n",
    "import plotly.express as px\n",
    "import plotly.graph_objects as go\n",
    "from lib.utils import NBA_Stats\n",
    "\n",
    "from basketball_reference_web_scraper import client"
   ]
  },
  {
   "cell_type": "code",
   "execution_count": 5,
   "metadata": {},
   "outputs": [],
   "source": [
    "data = client.players_advanced_season_totals(season_end_year=2024)"
   ]
  },
  {
   "cell_type": "code",
   "execution_count": 7,
   "metadata": {},
   "outputs": [],
   "source": [
    "data = pd.DataFrame(data)"
   ]
  },
  {
   "cell_type": "code",
   "execution_count": 15,
   "metadata": {},
   "outputs": [
    {
     "data": {
      "text/html": [
       "<div>\n",
       "<style scoped>\n",
       "    .dataframe tbody tr th:only-of-type {\n",
       "        vertical-align: middle;\n",
       "    }\n",
       "\n",
       "    .dataframe tbody tr th {\n",
       "        vertical-align: top;\n",
       "    }\n",
       "\n",
       "    .dataframe thead th {\n",
       "        text-align: right;\n",
       "    }\n",
       "</style>\n",
       "<table border=\"1\" class=\"dataframe\">\n",
       "  <thead>\n",
       "    <tr style=\"text-align: right;\">\n",
       "      <th></th>\n",
       "      <th>slug</th>\n",
       "      <th>name</th>\n",
       "      <th>positions</th>\n",
       "      <th>age</th>\n",
       "      <th>team</th>\n",
       "      <th>games_played</th>\n",
       "      <th>minutes_played</th>\n",
       "      <th>player_efficiency_rating</th>\n",
       "      <th>true_shooting_percentage</th>\n",
       "      <th>three_point_attempt_rate</th>\n",
       "      <th>...</th>\n",
       "      <th>usage_percentage</th>\n",
       "      <th>offensive_win_shares</th>\n",
       "      <th>defensive_win_shares</th>\n",
       "      <th>win_shares</th>\n",
       "      <th>win_shares_per_48_minutes</th>\n",
       "      <th>offensive_box_plus_minus</th>\n",
       "      <th>defensive_box_plus_minus</th>\n",
       "      <th>box_plus_minus</th>\n",
       "      <th>value_over_replacement_player</th>\n",
       "      <th>is_combined_totals</th>\n",
       "    </tr>\n",
       "  </thead>\n",
       "  <tbody>\n",
       "    <tr>\n",
       "      <th>0</th>\n",
       "      <td>achiupr01</td>\n",
       "      <td>Precious Achiuwa</td>\n",
       "      <td>[Position.CENTER]</td>\n",
       "      <td>24</td>\n",
       "      <td>Team.TORONTO_RAPTORS</td>\n",
       "      <td>25</td>\n",
       "      <td>437</td>\n",
       "      <td>15.0</td>\n",
       "      <td>0.512</td>\n",
       "      <td>0.276</td>\n",
       "      <td>...</td>\n",
       "      <td>21.2</td>\n",
       "      <td>0.0</td>\n",
       "      <td>0.4</td>\n",
       "      <td>0.4</td>\n",
       "      <td>0.048</td>\n",
       "      <td>-1.4</td>\n",
       "      <td>-0.2</td>\n",
       "      <td>-1.6</td>\n",
       "      <td>0.0</td>\n",
       "      <td>False</td>\n",
       "    </tr>\n",
       "    <tr>\n",
       "      <th>1</th>\n",
       "      <td>achiupr01</td>\n",
       "      <td>Precious Achiuwa</td>\n",
       "      <td>[Position.POWER_FORWARD]</td>\n",
       "      <td>24</td>\n",
       "      <td>Team.NEW_YORK_KNICKS</td>\n",
       "      <td>49</td>\n",
       "      <td>1187</td>\n",
       "      <td>14.5</td>\n",
       "      <td>0.564</td>\n",
       "      <td>0.167</td>\n",
       "      <td>...</td>\n",
       "      <td>14.0</td>\n",
       "      <td>1.2</td>\n",
       "      <td>1.8</td>\n",
       "      <td>3.0</td>\n",
       "      <td>0.122</td>\n",
       "      <td>-1.9</td>\n",
       "      <td>0.5</td>\n",
       "      <td>-1.4</td>\n",
       "      <td>0.2</td>\n",
       "      <td>False</td>\n",
       "    </tr>\n",
       "    <tr>\n",
       "      <th>2</th>\n",
       "      <td>adebaba01</td>\n",
       "      <td>Bam Adebayo</td>\n",
       "      <td>[Position.CENTER]</td>\n",
       "      <td>26</td>\n",
       "      <td>Team.MIAMI_HEAT</td>\n",
       "      <td>71</td>\n",
       "      <td>2416</td>\n",
       "      <td>19.8</td>\n",
       "      <td>0.576</td>\n",
       "      <td>0.041</td>\n",
       "      <td>...</td>\n",
       "      <td>24.9</td>\n",
       "      <td>2.9</td>\n",
       "      <td>4.3</td>\n",
       "      <td>7.2</td>\n",
       "      <td>0.144</td>\n",
       "      <td>0.8</td>\n",
       "      <td>1.7</td>\n",
       "      <td>2.4</td>\n",
       "      <td>2.7</td>\n",
       "      <td>False</td>\n",
       "    </tr>\n",
       "    <tr>\n",
       "      <th>3</th>\n",
       "      <td>agbajoc01</td>\n",
       "      <td>Ochai Agbaji</td>\n",
       "      <td>[Position.SHOOTING_GUARD]</td>\n",
       "      <td>23</td>\n",
       "      <td>Team.UTAH_JAZZ</td>\n",
       "      <td>51</td>\n",
       "      <td>1003</td>\n",
       "      <td>8.1</td>\n",
       "      <td>0.531</td>\n",
       "      <td>0.570</td>\n",
       "      <td>...</td>\n",
       "      <td>12.2</td>\n",
       "      <td>0.1</td>\n",
       "      <td>0.3</td>\n",
       "      <td>0.4</td>\n",
       "      <td>0.019</td>\n",
       "      <td>-2.5</td>\n",
       "      <td>-0.5</td>\n",
       "      <td>-3.0</td>\n",
       "      <td>-0.3</td>\n",
       "      <td>False</td>\n",
       "    </tr>\n",
       "    <tr>\n",
       "      <th>4</th>\n",
       "      <td>agbajoc01</td>\n",
       "      <td>Ochai Agbaji</td>\n",
       "      <td>[Position.SHOOTING_GUARD]</td>\n",
       "      <td>23</td>\n",
       "      <td>Team.TORONTO_RAPTORS</td>\n",
       "      <td>27</td>\n",
       "      <td>638</td>\n",
       "      <td>7.1</td>\n",
       "      <td>0.453</td>\n",
       "      <td>0.375</td>\n",
       "      <td>...</td>\n",
       "      <td>15.4</td>\n",
       "      <td>-0.6</td>\n",
       "      <td>0.3</td>\n",
       "      <td>-0.3</td>\n",
       "      <td>-0.024</td>\n",
       "      <td>-5.0</td>\n",
       "      <td>-1.5</td>\n",
       "      <td>-6.5</td>\n",
       "      <td>-0.7</td>\n",
       "      <td>False</td>\n",
       "    </tr>\n",
       "    <tr>\n",
       "      <th>...</th>\n",
       "      <td>...</td>\n",
       "      <td>...</td>\n",
       "      <td>...</td>\n",
       "      <td>...</td>\n",
       "      <td>...</td>\n",
       "      <td>...</td>\n",
       "      <td>...</td>\n",
       "      <td>...</td>\n",
       "      <td>...</td>\n",
       "      <td>...</td>\n",
       "      <td>...</td>\n",
       "      <td>...</td>\n",
       "      <td>...</td>\n",
       "      <td>...</td>\n",
       "      <td>...</td>\n",
       "      <td>...</td>\n",
       "      <td>...</td>\n",
       "      <td>...</td>\n",
       "      <td>...</td>\n",
       "      <td>...</td>\n",
       "      <td>...</td>\n",
       "    </tr>\n",
       "    <tr>\n",
       "      <th>652</th>\n",
       "      <td>youngth01</td>\n",
       "      <td>Thaddeus Young</td>\n",
       "      <td>[Position.POWER_FORWARD]</td>\n",
       "      <td>35</td>\n",
       "      <td>Team.PHOENIX_SUNS</td>\n",
       "      <td>10</td>\n",
       "      <td>89</td>\n",
       "      <td>15.1</td>\n",
       "      <td>0.515</td>\n",
       "      <td>0.048</td>\n",
       "      <td>...</td>\n",
       "      <td>12.8</td>\n",
       "      <td>0.1</td>\n",
       "      <td>0.1</td>\n",
       "      <td>0.3</td>\n",
       "      <td>0.137</td>\n",
       "      <td>-1.5</td>\n",
       "      <td>0.6</td>\n",
       "      <td>-0.9</td>\n",
       "      <td>0.0</td>\n",
       "      <td>False</td>\n",
       "    </tr>\n",
       "    <tr>\n",
       "      <th>653</th>\n",
       "      <td>youngtr01</td>\n",
       "      <td>Trae Young</td>\n",
       "      <td>[Position.POINT_GUARD]</td>\n",
       "      <td>25</td>\n",
       "      <td>Team.ATLANTA_HAWKS</td>\n",
       "      <td>54</td>\n",
       "      <td>1942</td>\n",
       "      <td>20.3</td>\n",
       "      <td>0.585</td>\n",
       "      <td>0.465</td>\n",
       "      <td>...</td>\n",
       "      <td>30.5</td>\n",
       "      <td>4.0</td>\n",
       "      <td>0.6</td>\n",
       "      <td>4.6</td>\n",
       "      <td>0.114</td>\n",
       "      <td>4.9</td>\n",
       "      <td>-2.3</td>\n",
       "      <td>2.6</td>\n",
       "      <td>2.2</td>\n",
       "      <td>False</td>\n",
       "    </tr>\n",
       "    <tr>\n",
       "      <th>654</th>\n",
       "      <td>yurtsom01</td>\n",
       "      <td>Omer Yurtseven</td>\n",
       "      <td>[Position.CENTER]</td>\n",
       "      <td>25</td>\n",
       "      <td>Team.UTAH_JAZZ</td>\n",
       "      <td>48</td>\n",
       "      <td>545</td>\n",
       "      <td>15.0</td>\n",
       "      <td>0.565</td>\n",
       "      <td>0.130</td>\n",
       "      <td>...</td>\n",
       "      <td>17.9</td>\n",
       "      <td>0.3</td>\n",
       "      <td>0.4</td>\n",
       "      <td>0.7</td>\n",
       "      <td>0.062</td>\n",
       "      <td>-1.6</td>\n",
       "      <td>-1.5</td>\n",
       "      <td>-3.0</td>\n",
       "      <td>-0.1</td>\n",
       "      <td>False</td>\n",
       "    </tr>\n",
       "    <tr>\n",
       "      <th>655</th>\n",
       "      <td>zelleco01</td>\n",
       "      <td>Cody Zeller</td>\n",
       "      <td>[Position.CENTER]</td>\n",
       "      <td>31</td>\n",
       "      <td>Team.NEW_ORLEANS_PELICANS</td>\n",
       "      <td>43</td>\n",
       "      <td>320</td>\n",
       "      <td>12.8</td>\n",
       "      <td>0.483</td>\n",
       "      <td>0.048</td>\n",
       "      <td>...</td>\n",
       "      <td>12.9</td>\n",
       "      <td>0.4</td>\n",
       "      <td>0.4</td>\n",
       "      <td>0.8</td>\n",
       "      <td>0.124</td>\n",
       "      <td>-2.9</td>\n",
       "      <td>0.3</td>\n",
       "      <td>-2.6</td>\n",
       "      <td>0.0</td>\n",
       "      <td>False</td>\n",
       "    </tr>\n",
       "    <tr>\n",
       "      <th>656</th>\n",
       "      <td>zubaciv01</td>\n",
       "      <td>Ivica Zubac</td>\n",
       "      <td>[Position.CENTER]</td>\n",
       "      <td>26</td>\n",
       "      <td>Team.LOS_ANGELES_CLIPPERS</td>\n",
       "      <td>68</td>\n",
       "      <td>1794</td>\n",
       "      <td>19.3</td>\n",
       "      <td>0.671</td>\n",
       "      <td>0.000</td>\n",
       "      <td>...</td>\n",
       "      <td>16.4</td>\n",
       "      <td>4.5</td>\n",
       "      <td>2.3</td>\n",
       "      <td>6.8</td>\n",
       "      <td>0.182</td>\n",
       "      <td>0.8</td>\n",
       "      <td>0.0</td>\n",
       "      <td>0.8</td>\n",
       "      <td>1.3</td>\n",
       "      <td>False</td>\n",
       "    </tr>\n",
       "  </tbody>\n",
       "</table>\n",
       "<p>657 rows × 28 columns</p>\n",
       "</div>"
      ],
      "text/plain": [
       "          slug              name                  positions  age  \\\n",
       "0    achiupr01  Precious Achiuwa          [Position.CENTER]   24   \n",
       "1    achiupr01  Precious Achiuwa   [Position.POWER_FORWARD]   24   \n",
       "2    adebaba01       Bam Adebayo          [Position.CENTER]   26   \n",
       "3    agbajoc01      Ochai Agbaji  [Position.SHOOTING_GUARD]   23   \n",
       "4    agbajoc01      Ochai Agbaji  [Position.SHOOTING_GUARD]   23   \n",
       "..         ...               ...                        ...  ...   \n",
       "652  youngth01    Thaddeus Young   [Position.POWER_FORWARD]   35   \n",
       "653  youngtr01        Trae Young     [Position.POINT_GUARD]   25   \n",
       "654  yurtsom01    Omer Yurtseven          [Position.CENTER]   25   \n",
       "655  zelleco01       Cody Zeller          [Position.CENTER]   31   \n",
       "656  zubaciv01       Ivica Zubac          [Position.CENTER]   26   \n",
       "\n",
       "                          team  games_played  minutes_played  \\\n",
       "0         Team.TORONTO_RAPTORS            25             437   \n",
       "1         Team.NEW_YORK_KNICKS            49            1187   \n",
       "2              Team.MIAMI_HEAT            71            2416   \n",
       "3               Team.UTAH_JAZZ            51            1003   \n",
       "4         Team.TORONTO_RAPTORS            27             638   \n",
       "..                         ...           ...             ...   \n",
       "652          Team.PHOENIX_SUNS            10              89   \n",
       "653         Team.ATLANTA_HAWKS            54            1942   \n",
       "654             Team.UTAH_JAZZ            48             545   \n",
       "655  Team.NEW_ORLEANS_PELICANS            43             320   \n",
       "656  Team.LOS_ANGELES_CLIPPERS            68            1794   \n",
       "\n",
       "     player_efficiency_rating  true_shooting_percentage  \\\n",
       "0                        15.0                     0.512   \n",
       "1                        14.5                     0.564   \n",
       "2                        19.8                     0.576   \n",
       "3                         8.1                     0.531   \n",
       "4                         7.1                     0.453   \n",
       "..                        ...                       ...   \n",
       "652                      15.1                     0.515   \n",
       "653                      20.3                     0.585   \n",
       "654                      15.0                     0.565   \n",
       "655                      12.8                     0.483   \n",
       "656                      19.3                     0.671   \n",
       "\n",
       "     three_point_attempt_rate  ...  usage_percentage  offensive_win_shares  \\\n",
       "0                       0.276  ...              21.2                   0.0   \n",
       "1                       0.167  ...              14.0                   1.2   \n",
       "2                       0.041  ...              24.9                   2.9   \n",
       "3                       0.570  ...              12.2                   0.1   \n",
       "4                       0.375  ...              15.4                  -0.6   \n",
       "..                        ...  ...               ...                   ...   \n",
       "652                     0.048  ...              12.8                   0.1   \n",
       "653                     0.465  ...              30.5                   4.0   \n",
       "654                     0.130  ...              17.9                   0.3   \n",
       "655                     0.048  ...              12.9                   0.4   \n",
       "656                     0.000  ...              16.4                   4.5   \n",
       "\n",
       "     defensive_win_shares  win_shares  win_shares_per_48_minutes  \\\n",
       "0                     0.4         0.4                      0.048   \n",
       "1                     1.8         3.0                      0.122   \n",
       "2                     4.3         7.2                      0.144   \n",
       "3                     0.3         0.4                      0.019   \n",
       "4                     0.3        -0.3                     -0.024   \n",
       "..                    ...         ...                        ...   \n",
       "652                   0.1         0.3                      0.137   \n",
       "653                   0.6         4.6                      0.114   \n",
       "654                   0.4         0.7                      0.062   \n",
       "655                   0.4         0.8                      0.124   \n",
       "656                   2.3         6.8                      0.182   \n",
       "\n",
       "     offensive_box_plus_minus  defensive_box_plus_minus  box_plus_minus  \\\n",
       "0                        -1.4                      -0.2            -1.6   \n",
       "1                        -1.9                       0.5            -1.4   \n",
       "2                         0.8                       1.7             2.4   \n",
       "3                        -2.5                      -0.5            -3.0   \n",
       "4                        -5.0                      -1.5            -6.5   \n",
       "..                        ...                       ...             ...   \n",
       "652                      -1.5                       0.6            -0.9   \n",
       "653                       4.9                      -2.3             2.6   \n",
       "654                      -1.6                      -1.5            -3.0   \n",
       "655                      -2.9                       0.3            -2.6   \n",
       "656                       0.8                       0.0             0.8   \n",
       "\n",
       "     value_over_replacement_player  is_combined_totals  \n",
       "0                              0.0               False  \n",
       "1                              0.2               False  \n",
       "2                              2.7               False  \n",
       "3                             -0.3               False  \n",
       "4                             -0.7               False  \n",
       "..                             ...                 ...  \n",
       "652                            0.0               False  \n",
       "653                            2.2               False  \n",
       "654                           -0.1               False  \n",
       "655                            0.0               False  \n",
       "656                            1.3               False  \n",
       "\n",
       "[657 rows x 28 columns]"
      ]
     },
     "execution_count": 15,
     "metadata": {},
     "output_type": "execute_result"
    }
   ],
   "source": [
    "data"
   ]
  },
  {
   "cell_type": "code",
   "execution_count": 7,
   "metadata": {},
   "outputs": [
    {
     "data": {
      "application/vnd.plotly.v1+json": {
       "config": {
        "plotlyServerURL": "https://plot.ly"
       },
       "data": [
        {
         "hovertemplate": "SHOT_DISTANCE=%{x}<br>fg_pct=%{y}<br>FGA=%{marker.size}<extra></extra>",
         "legendgroup": "",
         "marker": {
          "color": "#636efa",
          "size": [
           30,
           57,
           63,
           29,
           23,
           17,
           23,
           19,
           19,
           29,
           40,
           40,
           50,
           46,
           48,
           61,
           53,
           39,
           38,
           28,
           17,
           15,
           18,
           39,
           100,
           44,
           18
          ],
          "sizemode": "area",
          "sizeref": 0.25,
          "symbol": "circle"
         },
         "mode": "markers",
         "name": "",
         "orientation": "v",
         "showlegend": false,
         "type": "scatter",
         "x": [
          0,
          1,
          2,
          3,
          4,
          5,
          6,
          7,
          8,
          9,
          10,
          11,
          12,
          13,
          14,
          15,
          16,
          17,
          18,
          19,
          20,
          22,
          23,
          24,
          25,
          26,
          27
         ],
         "xaxis": "x",
         "y": [
          0.8666666666666667,
          0.7719298245614035,
          0.6825396825396826,
          0.5517241379310345,
          0.5217391304347826,
          0.29411764705882354,
          0.391304347826087,
          0.47368421052631576,
          0.3157894736842105,
          0.5172413793103449,
          0.45,
          0.55,
          0.52,
          0.5652173913043478,
          0.375,
          0.5901639344262295,
          0.4528301886792453,
          0.41025641025641024,
          0.4473684210526316,
          0.4642857142857143,
          0.7058823529411765,
          0.4,
          0.3888888888888889,
          0.358974358974359,
          0.35,
          0.4318181818181818,
          0.16666666666666666
         ],
         "yaxis": "y"
        }
       ],
       "layout": {
        "legend": {
         "itemsizing": "constant",
         "tracegroupgap": 0
        },
        "margin": {
         "t": 60
        },
        "template": {
         "data": {
          "bar": [
           {
            "error_x": {
             "color": "#2a3f5f"
            },
            "error_y": {
             "color": "#2a3f5f"
            },
            "marker": {
             "line": {
              "color": "#E5ECF6",
              "width": 0.5
             },
             "pattern": {
              "fillmode": "overlay",
              "size": 10,
              "solidity": 0.2
             }
            },
            "type": "bar"
           }
          ],
          "barpolar": [
           {
            "marker": {
             "line": {
              "color": "#E5ECF6",
              "width": 0.5
             },
             "pattern": {
              "fillmode": "overlay",
              "size": 10,
              "solidity": 0.2
             }
            },
            "type": "barpolar"
           }
          ],
          "carpet": [
           {
            "aaxis": {
             "endlinecolor": "#2a3f5f",
             "gridcolor": "white",
             "linecolor": "white",
             "minorgridcolor": "white",
             "startlinecolor": "#2a3f5f"
            },
            "baxis": {
             "endlinecolor": "#2a3f5f",
             "gridcolor": "white",
             "linecolor": "white",
             "minorgridcolor": "white",
             "startlinecolor": "#2a3f5f"
            },
            "type": "carpet"
           }
          ],
          "choropleth": [
           {
            "colorbar": {
             "outlinewidth": 0,
             "ticks": ""
            },
            "type": "choropleth"
           }
          ],
          "contour": [
           {
            "colorbar": {
             "outlinewidth": 0,
             "ticks": ""
            },
            "colorscale": [
             [
              0,
              "#0d0887"
             ],
             [
              0.1111111111111111,
              "#46039f"
             ],
             [
              0.2222222222222222,
              "#7201a8"
             ],
             [
              0.3333333333333333,
              "#9c179e"
             ],
             [
              0.4444444444444444,
              "#bd3786"
             ],
             [
              0.5555555555555556,
              "#d8576b"
             ],
             [
              0.6666666666666666,
              "#ed7953"
             ],
             [
              0.7777777777777778,
              "#fb9f3a"
             ],
             [
              0.8888888888888888,
              "#fdca26"
             ],
             [
              1,
              "#f0f921"
             ]
            ],
            "type": "contour"
           }
          ],
          "contourcarpet": [
           {
            "colorbar": {
             "outlinewidth": 0,
             "ticks": ""
            },
            "type": "contourcarpet"
           }
          ],
          "heatmap": [
           {
            "colorbar": {
             "outlinewidth": 0,
             "ticks": ""
            },
            "colorscale": [
             [
              0,
              "#0d0887"
             ],
             [
              0.1111111111111111,
              "#46039f"
             ],
             [
              0.2222222222222222,
              "#7201a8"
             ],
             [
              0.3333333333333333,
              "#9c179e"
             ],
             [
              0.4444444444444444,
              "#bd3786"
             ],
             [
              0.5555555555555556,
              "#d8576b"
             ],
             [
              0.6666666666666666,
              "#ed7953"
             ],
             [
              0.7777777777777778,
              "#fb9f3a"
             ],
             [
              0.8888888888888888,
              "#fdca26"
             ],
             [
              1,
              "#f0f921"
             ]
            ],
            "type": "heatmap"
           }
          ],
          "heatmapgl": [
           {
            "colorbar": {
             "outlinewidth": 0,
             "ticks": ""
            },
            "colorscale": [
             [
              0,
              "#0d0887"
             ],
             [
              0.1111111111111111,
              "#46039f"
             ],
             [
              0.2222222222222222,
              "#7201a8"
             ],
             [
              0.3333333333333333,
              "#9c179e"
             ],
             [
              0.4444444444444444,
              "#bd3786"
             ],
             [
              0.5555555555555556,
              "#d8576b"
             ],
             [
              0.6666666666666666,
              "#ed7953"
             ],
             [
              0.7777777777777778,
              "#fb9f3a"
             ],
             [
              0.8888888888888888,
              "#fdca26"
             ],
             [
              1,
              "#f0f921"
             ]
            ],
            "type": "heatmapgl"
           }
          ],
          "histogram": [
           {
            "marker": {
             "pattern": {
              "fillmode": "overlay",
              "size": 10,
              "solidity": 0.2
             }
            },
            "type": "histogram"
           }
          ],
          "histogram2d": [
           {
            "colorbar": {
             "outlinewidth": 0,
             "ticks": ""
            },
            "colorscale": [
             [
              0,
              "#0d0887"
             ],
             [
              0.1111111111111111,
              "#46039f"
             ],
             [
              0.2222222222222222,
              "#7201a8"
             ],
             [
              0.3333333333333333,
              "#9c179e"
             ],
             [
              0.4444444444444444,
              "#bd3786"
             ],
             [
              0.5555555555555556,
              "#d8576b"
             ],
             [
              0.6666666666666666,
              "#ed7953"
             ],
             [
              0.7777777777777778,
              "#fb9f3a"
             ],
             [
              0.8888888888888888,
              "#fdca26"
             ],
             [
              1,
              "#f0f921"
             ]
            ],
            "type": "histogram2d"
           }
          ],
          "histogram2dcontour": [
           {
            "colorbar": {
             "outlinewidth": 0,
             "ticks": ""
            },
            "colorscale": [
             [
              0,
              "#0d0887"
             ],
             [
              0.1111111111111111,
              "#46039f"
             ],
             [
              0.2222222222222222,
              "#7201a8"
             ],
             [
              0.3333333333333333,
              "#9c179e"
             ],
             [
              0.4444444444444444,
              "#bd3786"
             ],
             [
              0.5555555555555556,
              "#d8576b"
             ],
             [
              0.6666666666666666,
              "#ed7953"
             ],
             [
              0.7777777777777778,
              "#fb9f3a"
             ],
             [
              0.8888888888888888,
              "#fdca26"
             ],
             [
              1,
              "#f0f921"
             ]
            ],
            "type": "histogram2dcontour"
           }
          ],
          "mesh3d": [
           {
            "colorbar": {
             "outlinewidth": 0,
             "ticks": ""
            },
            "type": "mesh3d"
           }
          ],
          "parcoords": [
           {
            "line": {
             "colorbar": {
              "outlinewidth": 0,
              "ticks": ""
             }
            },
            "type": "parcoords"
           }
          ],
          "pie": [
           {
            "automargin": true,
            "type": "pie"
           }
          ],
          "scatter": [
           {
            "fillpattern": {
             "fillmode": "overlay",
             "size": 10,
             "solidity": 0.2
            },
            "type": "scatter"
           }
          ],
          "scatter3d": [
           {
            "line": {
             "colorbar": {
              "outlinewidth": 0,
              "ticks": ""
             }
            },
            "marker": {
             "colorbar": {
              "outlinewidth": 0,
              "ticks": ""
             }
            },
            "type": "scatter3d"
           }
          ],
          "scattercarpet": [
           {
            "marker": {
             "colorbar": {
              "outlinewidth": 0,
              "ticks": ""
             }
            },
            "type": "scattercarpet"
           }
          ],
          "scattergeo": [
           {
            "marker": {
             "colorbar": {
              "outlinewidth": 0,
              "ticks": ""
             }
            },
            "type": "scattergeo"
           }
          ],
          "scattergl": [
           {
            "marker": {
             "colorbar": {
              "outlinewidth": 0,
              "ticks": ""
             }
            },
            "type": "scattergl"
           }
          ],
          "scattermapbox": [
           {
            "marker": {
             "colorbar": {
              "outlinewidth": 0,
              "ticks": ""
             }
            },
            "type": "scattermapbox"
           }
          ],
          "scatterpolar": [
           {
            "marker": {
             "colorbar": {
              "outlinewidth": 0,
              "ticks": ""
             }
            },
            "type": "scatterpolar"
           }
          ],
          "scatterpolargl": [
           {
            "marker": {
             "colorbar": {
              "outlinewidth": 0,
              "ticks": ""
             }
            },
            "type": "scatterpolargl"
           }
          ],
          "scatterternary": [
           {
            "marker": {
             "colorbar": {
              "outlinewidth": 0,
              "ticks": ""
             }
            },
            "type": "scatterternary"
           }
          ],
          "surface": [
           {
            "colorbar": {
             "outlinewidth": 0,
             "ticks": ""
            },
            "colorscale": [
             [
              0,
              "#0d0887"
             ],
             [
              0.1111111111111111,
              "#46039f"
             ],
             [
              0.2222222222222222,
              "#7201a8"
             ],
             [
              0.3333333333333333,
              "#9c179e"
             ],
             [
              0.4444444444444444,
              "#bd3786"
             ],
             [
              0.5555555555555556,
              "#d8576b"
             ],
             [
              0.6666666666666666,
              "#ed7953"
             ],
             [
              0.7777777777777778,
              "#fb9f3a"
             ],
             [
              0.8888888888888888,
              "#fdca26"
             ],
             [
              1,
              "#f0f921"
             ]
            ],
            "type": "surface"
           }
          ],
          "table": [
           {
            "cells": {
             "fill": {
              "color": "#EBF0F8"
             },
             "line": {
              "color": "white"
             }
            },
            "header": {
             "fill": {
              "color": "#C8D4E3"
             },
             "line": {
              "color": "white"
             }
            },
            "type": "table"
           }
          ]
         },
         "layout": {
          "annotationdefaults": {
           "arrowcolor": "#2a3f5f",
           "arrowhead": 0,
           "arrowwidth": 1
          },
          "autotypenumbers": "strict",
          "coloraxis": {
           "colorbar": {
            "outlinewidth": 0,
            "ticks": ""
           }
          },
          "colorscale": {
           "diverging": [
            [
             0,
             "#8e0152"
            ],
            [
             0.1,
             "#c51b7d"
            ],
            [
             0.2,
             "#de77ae"
            ],
            [
             0.3,
             "#f1b6da"
            ],
            [
             0.4,
             "#fde0ef"
            ],
            [
             0.5,
             "#f7f7f7"
            ],
            [
             0.6,
             "#e6f5d0"
            ],
            [
             0.7,
             "#b8e186"
            ],
            [
             0.8,
             "#7fbc41"
            ],
            [
             0.9,
             "#4d9221"
            ],
            [
             1,
             "#276419"
            ]
           ],
           "sequential": [
            [
             0,
             "#0d0887"
            ],
            [
             0.1111111111111111,
             "#46039f"
            ],
            [
             0.2222222222222222,
             "#7201a8"
            ],
            [
             0.3333333333333333,
             "#9c179e"
            ],
            [
             0.4444444444444444,
             "#bd3786"
            ],
            [
             0.5555555555555556,
             "#d8576b"
            ],
            [
             0.6666666666666666,
             "#ed7953"
            ],
            [
             0.7777777777777778,
             "#fb9f3a"
            ],
            [
             0.8888888888888888,
             "#fdca26"
            ],
            [
             1,
             "#f0f921"
            ]
           ],
           "sequentialminus": [
            [
             0,
             "#0d0887"
            ],
            [
             0.1111111111111111,
             "#46039f"
            ],
            [
             0.2222222222222222,
             "#7201a8"
            ],
            [
             0.3333333333333333,
             "#9c179e"
            ],
            [
             0.4444444444444444,
             "#bd3786"
            ],
            [
             0.5555555555555556,
             "#d8576b"
            ],
            [
             0.6666666666666666,
             "#ed7953"
            ],
            [
             0.7777777777777778,
             "#fb9f3a"
            ],
            [
             0.8888888888888888,
             "#fdca26"
            ],
            [
             1,
             "#f0f921"
            ]
           ]
          },
          "colorway": [
           "#636efa",
           "#EF553B",
           "#00cc96",
           "#ab63fa",
           "#FFA15A",
           "#19d3f3",
           "#FF6692",
           "#B6E880",
           "#FF97FF",
           "#FECB52"
          ],
          "font": {
           "color": "#2a3f5f"
          },
          "geo": {
           "bgcolor": "white",
           "lakecolor": "white",
           "landcolor": "#E5ECF6",
           "showlakes": true,
           "showland": true,
           "subunitcolor": "white"
          },
          "hoverlabel": {
           "align": "left"
          },
          "hovermode": "closest",
          "mapbox": {
           "style": "light"
          },
          "paper_bgcolor": "white",
          "plot_bgcolor": "#E5ECF6",
          "polar": {
           "angularaxis": {
            "gridcolor": "white",
            "linecolor": "white",
            "ticks": ""
           },
           "bgcolor": "#E5ECF6",
           "radialaxis": {
            "gridcolor": "white",
            "linecolor": "white",
            "ticks": ""
           }
          },
          "scene": {
           "xaxis": {
            "backgroundcolor": "#E5ECF6",
            "gridcolor": "white",
            "gridwidth": 2,
            "linecolor": "white",
            "showbackground": true,
            "ticks": "",
            "zerolinecolor": "white"
           },
           "yaxis": {
            "backgroundcolor": "#E5ECF6",
            "gridcolor": "white",
            "gridwidth": 2,
            "linecolor": "white",
            "showbackground": true,
            "ticks": "",
            "zerolinecolor": "white"
           },
           "zaxis": {
            "backgroundcolor": "#E5ECF6",
            "gridcolor": "white",
            "gridwidth": 2,
            "linecolor": "white",
            "showbackground": true,
            "ticks": "",
            "zerolinecolor": "white"
           }
          },
          "shapedefaults": {
           "line": {
            "color": "#2a3f5f"
           }
          },
          "ternary": {
           "aaxis": {
            "gridcolor": "white",
            "linecolor": "white",
            "ticks": ""
           },
           "baxis": {
            "gridcolor": "white",
            "linecolor": "white",
            "ticks": ""
           },
           "bgcolor": "#E5ECF6",
           "caxis": {
            "gridcolor": "white",
            "linecolor": "white",
            "ticks": ""
           }
          },
          "title": {
           "x": 0.05
          },
          "xaxis": {
           "automargin": true,
           "gridcolor": "white",
           "linecolor": "white",
           "ticks": "",
           "title": {
            "standoff": 15
           },
           "zerolinecolor": "white",
           "zerolinewidth": 2
          },
          "yaxis": {
           "automargin": true,
           "gridcolor": "white",
           "linecolor": "white",
           "ticks": "",
           "title": {
            "standoff": 15
           },
           "zerolinecolor": "white",
           "zerolinewidth": 2
          }
         }
        },
        "xaxis": {
         "anchor": "y",
         "domain": [
          0,
          1
         ],
         "title": {
          "text": "SHOT_DISTANCE"
         }
        },
        "yaxis": {
         "anchor": "x",
         "domain": [
          0,
          1
         ],
         "title": {
          "text": "fg_pct"
         }
        }
       }
      }
     },
     "metadata": {},
     "output_type": "display_data"
    }
   ],
   "source": [
    "# ========================================\n",
    "# Simple Scatter Plot\n",
    "# ========================================\n",
    "\n",
    "import plotly.express as px\n",
    "\n",
    "fig = px.scatter(plot_data_1, x=\"SHOT_DISTANCE\", y=\"fg_pct\", size=\"FGA\")\n",
    "fig.show()"
   ]
  },
  {
   "cell_type": "code",
   "execution_count": 8,
   "metadata": {},
   "outputs": [],
   "source": [
    "from lib.utils import NBA_Stats\n",
    "stats = NBA_Stats()"
   ]
  },
  {
   "cell_type": "code",
   "execution_count": 10,
   "metadata": {},
   "outputs": [],
   "source": [
    "player_id, team_id, player_info = stats.get_player_info('Stephen Curry')"
   ]
  },
  {
   "cell_type": "code",
   "execution_count": 37,
   "metadata": {},
   "outputs": [
    {
     "data": {
      "text/plain": [
       "'Warriors'"
      ]
     },
     "execution_count": 37,
     "metadata": {},
     "output_type": "execute_result"
    }
   ],
   "source": [
    "test = TeamDetails(team_id=team_id).get_normalized_dict()[\"TeamBackground\"][0]['NICKNAME']\n",
    "test"
   ]
  },
  {
   "cell_type": "code",
   "execution_count": null,
   "metadata": {},
   "outputs": [],
   "source": [
    "test."
   ]
  },
  {
   "cell_type": "code",
   "execution_count": 5,
   "metadata": {},
   "outputs": [
    {
     "data": {
      "application/vnd.plotly.v1+json": {
       "config": {
        "displayModeBar": true,
        "plotlyServerURL": "https://plot.ly"
       },
       "data": [
        {
         "marker": {
          "color": [
           0,
           0,
           0,
           0,
           0,
           0,
           0,
           0,
           0,
           0,
           0,
           0,
           0,
           0,
           1,
           0,
           0,
           0,
           0,
           0,
           0,
           0,
           0,
           0,
           0,
           0,
           0,
           0,
           2,
           2,
           2,
           5,
           8,
           11,
           7,
           0,
           0,
           0,
           0,
           0,
           0,
           0,
           0,
           0,
           0,
           3,
           2,
           4,
           0,
           0,
           1,
           0,
           0,
           0,
           0,
           0,
           0,
           0,
           0,
           0,
           0,
           0,
           3,
           3,
           3,
           0,
           0,
           0,
           1,
           1,
           0,
           0,
           0,
           0,
           0,
           0,
           0,
           1,
           0,
           0,
           4,
           5,
           1,
           2,
           1,
           0,
           0,
           1,
           0,
           0,
           0,
           0,
           0,
           0,
           0,
           0,
           1,
           3,
           5,
           1,
           1,
           0,
           0,
           0,
           0,
           0,
           0,
           0,
           0,
           0,
           0,
           0,
           0,
           0,
           2,
           6,
           2,
           1,
           0,
           0,
           0,
           2,
           2,
           2,
           0,
           0,
           0,
           0,
           0,
           0,
           0,
           1,
           1,
           4,
           1,
           0,
           0,
           0,
           0,
           1,
           0,
           1,
           0,
           0,
           0,
           0,
           0,
           0,
           1,
           0,
           2,
           2,
           0,
           0,
           0,
           1,
           0,
           0,
           2,
           2,
           0,
           0,
           0,
           0,
           0,
           0,
           1,
           0,
           3,
           2,
           0,
           1,
           0,
           0,
           1,
           3,
           1,
           0,
           0,
           0,
           0,
           0,
           0,
           0,
           0,
           2,
           1,
           1,
           0,
           0,
           1,
           0,
           4,
           1,
           2,
           2,
           0,
           0,
           0,
           0,
           0,
           0,
           1,
           0,
           6,
           0,
           1,
           0,
           1,
           3,
           4,
           5,
           2,
           0,
           0,
           0,
           0,
           0,
           0,
           0,
           0,
           2,
           5,
           0,
           0,
           0,
           1,
           2,
           2,
           4,
           4,
           4,
           0,
           0,
           0,
           0,
           0,
           1,
           0,
           1,
           5,
           0,
           0,
           0,
           2,
           1,
           2,
           6,
           9,
           9,
           0,
           0,
           0,
           0,
           0,
           0,
           0,
           1,
           1,
           0,
           0,
           2,
           1,
           2,
           3,
           8,
           7,
           24,
           0,
           0,
           0,
           0,
           0,
           1,
           0,
           3,
           7,
           0,
           1,
           3,
           3,
           3,
           6,
           13,
           13,
           66,
           2,
           0,
           0,
           0,
           0,
           0,
           1,
           1,
           4,
           0,
           0,
           1,
           0,
           4,
           4,
           3,
           12,
           50,
           0,
           0,
           0,
           0,
           0,
           0,
           0,
           1,
           3,
           0,
           0,
           2,
           2,
           1,
           3,
           4,
           8,
           18,
           0,
           0,
           0,
           0,
           0,
           0,
           0,
           3,
           4,
           0,
           0,
           1,
           1,
           1,
           5,
           9,
           6,
           6,
           0,
           0,
           0,
           0,
           1,
           0,
           1,
           0,
           6,
           1,
           1,
           1,
           1,
           0,
           3,
           4,
           3,
           2,
           0,
           0,
           0,
           0,
           0,
           0,
           0,
           1,
           2,
           1,
           1,
           0,
           1,
           4,
           2,
           3,
           0,
           2,
           0,
           0,
           0,
           0,
           0,
           0,
           0,
           0,
           2,
           0,
           0,
           0,
           0,
           0,
           3,
           0,
           2,
           1,
           0,
           0,
           0,
           0,
           0,
           0,
           0,
           2,
           2,
           4,
           0,
           1,
           0,
           0,
           1,
           1,
           0,
           1,
           0,
           0,
           0,
           0,
           0,
           0,
           0,
           1,
           1,
           4,
           0,
           0,
           0,
           0,
           1,
           0,
           2,
           0,
           0,
           0,
           0,
           0,
           0,
           0,
           0,
           0,
           1,
           4,
           2,
           1,
           0,
           1,
           1,
           1,
           0,
           0,
           0,
           0,
           0,
           0,
           0,
           0,
           0,
           0,
           1,
           2,
           2,
           1,
           0,
           0,
           0,
           0,
           0,
           0,
           0,
           0,
           0,
           0,
           0,
           0,
           1,
           0,
           0,
           0,
           3,
           3,
           0,
           0,
           0,
           0,
           0,
           0,
           0,
           0,
           0,
           0,
           0,
           0,
           0,
           0,
           0,
           0,
           0,
           0,
           1,
           0,
           0,
           1,
           0,
           0,
           0,
           0,
           0,
           0,
           0,
           0,
           0,
           0,
           0,
           0,
           0,
           1,
           3,
           2,
           0,
           1,
           1,
           2,
           1,
           0,
           0,
           0,
           0,
           0,
           0,
           0,
           0,
           0,
           0,
           0,
           0,
           6,
           4,
           5,
           4,
           0,
           4,
           0,
           0,
           0,
           0,
           0,
           0,
           0,
           0,
           0,
           0,
           0,
           0,
           0,
           0,
           0,
           0,
           0,
           0,
           0,
           0,
           0,
           0,
           0,
           0,
           0,
           0,
           0,
           0,
           0,
           0,
           0,
           2,
           3,
           3,
           5,
           2,
           0,
           0,
           0,
           0,
           0,
           0,
           0,
           0,
           0,
           0,
           3,
           2,
           2,
           2,
           5,
           8,
           0,
           0,
           0,
           0,
           0,
           0,
           0,
           0,
           0,
           2,
           2,
           1,
           0,
           0,
           0,
           0,
           0,
           0,
           0,
           0,
           0,
           0,
           0,
           0,
           0,
           3,
           2,
           4,
           0,
           0,
           0,
           0,
           1,
           0,
           0,
           0,
           0,
           0,
           0,
           0,
           0,
           0,
           3,
           3,
           0,
           0,
           0,
           0,
           0,
           2,
           0,
           0,
           0,
           0,
           0,
           0,
           0,
           0,
           1,
           11,
           2,
           0,
           0,
           0,
           1,
           0,
           1,
           0,
           0,
           0,
           0,
           0,
           0,
           0,
           0,
           4,
           5,
           0,
           2,
           0,
           1,
           0,
           1,
           2,
           1,
           0,
           0,
           0,
           0,
           0,
           0,
           0,
           3,
           3,
           1,
           0,
           2,
           2,
           1,
           0,
           0,
           0,
           0,
           0,
           0,
           0,
           0,
           0,
           2,
           2,
           0,
           0,
           1,
           3,
           1,
           0,
           0,
           3,
           1,
           0,
           0,
           0,
           0,
           0,
           0,
           1,
           5,
           0,
           0,
           1,
           1,
           2,
           0,
           1,
           4,
           0,
           0,
           0,
           0,
           0,
           1,
           0,
           4,
           1,
           0,
           0,
           1,
           0,
           3,
           2,
           4,
           1,
           0,
           0,
           0,
           0,
           0,
           0,
           0,
           3,
           2,
           0,
           0,
           0,
           2,
           1,
           2,
           2,
           8,
           1,
           0,
           0,
           0,
           0,
           0,
           0,
           1,
           0,
           0,
           0,
           3,
           1,
           2,
           4,
           4,
           7,
           2,
           0,
           0,
           0,
           0,
           0,
           0,
           4,
           1,
           0,
           1,
           1,
           0,
           1,
           5,
           3,
           12,
           8,
           0,
           0,
           0,
           0,
           0,
           3,
           4,
           0,
           0,
           0,
           1,
           1,
           1,
           13,
           9,
           32,
           9,
           0,
           0,
           0,
           0,
           0,
           0,
           4,
           0,
           0,
           0,
           4,
           2,
           1,
           5,
           9,
           31,
           16,
           0,
           0,
           0,
           0,
           0,
           0,
           1,
           1,
           0,
           0,
           1,
           0,
           1,
           8,
           6,
           31,
           7,
           0,
           0,
           0,
           0,
           0,
           0,
           3,
           2,
           1,
           0,
           2,
           0,
           5,
           3,
           11,
           15,
           3,
           0,
           0,
           0,
           0,
           0,
           0,
           4,
           2,
           0,
           0,
           1,
           3,
           2,
           5,
           6,
           5,
           1,
           0,
           0,
           0,
           0,
           0,
           0,
           2,
           1,
           0,
           2,
           1,
           1,
           3,
           2,
           3,
           5,
           0,
           0,
           0,
           0,
           0,
           0,
           0,
           1,
           6,
           0,
           1,
           1,
           1,
           0,
           0,
           2,
           2,
           0,
           0,
           0,
           0,
           0,
           0,
           0,
           0,
           2,
           0,
           2,
           1,
           0,
           2,
           3,
           5,
           2,
           0,
           0,
           0,
           0,
           0,
           0,
           1,
           0,
           4,
           1,
           0,
           2,
           0,
           0,
           0,
           1,
           0,
           0,
           0,
           0,
           0,
           0,
           0,
           0,
           1,
           1,
           6,
           0,
           1,
           1,
           0,
           0,
           0,
           1,
           0,
           0,
           0,
           0,
           0,
           0,
           0,
           0,
           1,
           1,
           0,
           0,
           0,
           1,
           0,
           0,
           1,
           0,
           0,
           0,
           0,
           0,
           0,
           0,
           0,
           1,
           3,
           1,
           0,
           0,
           0,
           0,
           1,
           2,
           0,
           0,
           0,
           0,
           0,
           0,
           0,
           0,
           0,
           0,
           4,
           1,
           0,
           0,
           0,
           0,
           1,
           0,
           0,
           0,
           0,
           0,
           0,
           0,
           0,
           0,
           0,
           0,
           2,
           1,
           0,
           0,
           0,
           0,
           0,
           0,
           0,
           0,
           0,
           0,
           0,
           0,
           0,
           0,
           0,
           0,
           1,
           2,
           2,
           10,
           2,
           5,
           0,
           0,
           0,
           0,
           0,
           0,
           0,
           0,
           0,
           0,
           0,
           0,
           0,
           0,
           0,
           2,
           3,
           0
          ],
          "colorscale": [
           [
            0,
            "rgba(51, 255, 173, 0.0)"
           ],
           [
            0.05,
            "rgba(51, 255, 173, 0.35)"
           ],
           [
            0.1,
            "rgba(51, 255, 173, 0.4)"
           ],
           [
            0.2,
            "rgba(51, 255, 173, 0.5)"
           ],
           [
            0.4,
            "rgba(51, 255, 173, 0.85)"
           ],
           [
            0.6,
            "rgba(51, 255, 173, 0.9)"
           ],
           [
            0.8,
            "rgba(51, 255, 173, 0.95)"
           ],
           [
            1,
            "rgba(51, 255, 173, 1.0)"
           ]
          ],
          "size": 16,
          "sizemode": "area",
          "symbol": "hexagon"
         },
         "mode": "markers",
         "name": "markers",
         "text": [
          "FGA: 0.0, FG_PCT: 0.0",
          "FGA: 0.0, FG_PCT: 0.0",
          "FGA: 0.0, FG_PCT: 0.0",
          "FGA: 0.0, FG_PCT: 0.0",
          "FGA: 0.0, FG_PCT: 0.0",
          "FGA: 0.0, FG_PCT: 0.0",
          "FGA: 0.0, FG_PCT: 0.0",
          "FGA: 0.0, FG_PCT: 0.0",
          "FGA: 0.0, FG_PCT: 0.0",
          "FGA: 0.0, FG_PCT: 0.0",
          "FGA: 0.0, FG_PCT: 0.0",
          "FGA: 0.0, FG_PCT: 0.0",
          "FGA: 0.0, FG_PCT: 0.0",
          "FGA: 0.0, FG_PCT: 0.0",
          "FGA: 1.0, FG_PCT: 1.0",
          "FGA: 0.0, FG_PCT: 0.0",
          "FGA: 0.0, FG_PCT: 0.0",
          "FGA: 0.0, FG_PCT: 0.0",
          "FGA: 0.0, FG_PCT: 0.0",
          "FGA: 0.0, FG_PCT: 0.0",
          "FGA: 0.0, FG_PCT: 0.0",
          "FGA: 0.0, FG_PCT: 0.0",
          "FGA: 0.0, FG_PCT: 0.0",
          "FGA: 0.0, FG_PCT: 0.0",
          "FGA: 0.0, FG_PCT: 0.0",
          "FGA: 0.0, FG_PCT: 0.0",
          "FGA: 0.0, FG_PCT: 0.0",
          "FGA: 0.0, FG_PCT: 0.0",
          "FGA: 2.0, FG_PCT: 0.5",
          "FGA: 2.0, FG_PCT: 0.0",
          "FGA: 2.0, FG_PCT: 0.0",
          "FGA: 5.0, FG_PCT: 0.4",
          "FGA: 8.0, FG_PCT: 0.5",
          "FGA: 11.0, FG_PCT: 0.45454545454545453",
          "FGA: 7.0, FG_PCT: 0.42857142857142855",
          "FGA: 0.0, FG_PCT: 0.0",
          "FGA: 0.0, FG_PCT: 0.0",
          "FGA: 0.0, FG_PCT: 0.0",
          "FGA: 0.0, FG_PCT: 0.0",
          "FGA: 0.0, FG_PCT: 0.0",
          "FGA: 0.0, FG_PCT: 0.0",
          "FGA: 0.0, FG_PCT: 0.0",
          "FGA: 0.0, FG_PCT: 0.0",
          "FGA: 0.0, FG_PCT: 0.0",
          "FGA: 0.0, FG_PCT: 0.0",
          "FGA: 3.0, FG_PCT: 0.0",
          "FGA: 2.0, FG_PCT: 0.0",
          "FGA: 4.0, FG_PCT: 0.75",
          "FGA: 0.0, FG_PCT: 0.0",
          "FGA: 0.0, FG_PCT: 0.0",
          "FGA: 1.0, FG_PCT: 1.0",
          "FGA: 0.0, FG_PCT: 0.0",
          "FGA: 0.0, FG_PCT: 0.0",
          "FGA: 0.0, FG_PCT: 0.0",
          "FGA: 0.0, FG_PCT: 0.0",
          "FGA: 0.0, FG_PCT: 0.0",
          "FGA: 0.0, FG_PCT: 0.0",
          "FGA: 0.0, FG_PCT: 0.0",
          "FGA: 0.0, FG_PCT: 0.0",
          "FGA: 0.0, FG_PCT: 0.0",
          "FGA: 0.0, FG_PCT: 0.0",
          "FGA: 0.0, FG_PCT: 0.0",
          "FGA: 3.0, FG_PCT: 0.3333333333333333",
          "FGA: 3.0, FG_PCT: 0.0",
          "FGA: 3.0, FG_PCT: 0.3333333333333333",
          "FGA: 0.0, FG_PCT: 0.0",
          "FGA: 0.0, FG_PCT: 0.0",
          "FGA: 0.0, FG_PCT: 0.0",
          "FGA: 1.0, FG_PCT: 0.0",
          "FGA: 1.0, FG_PCT: 0.0",
          "FGA: 0.0, FG_PCT: 0.0",
          "FGA: 0.0, FG_PCT: 0.0",
          "FGA: 0.0, FG_PCT: 0.0",
          "FGA: 0.0, FG_PCT: 0.0",
          "FGA: 0.0, FG_PCT: 0.0",
          "FGA: 0.0, FG_PCT: 0.0",
          "FGA: 0.0, FG_PCT: 0.0",
          "FGA: 1.0, FG_PCT: 0.0",
          "FGA: 0.0, FG_PCT: 0.0",
          "FGA: 0.0, FG_PCT: 0.0",
          "FGA: 4.0, FG_PCT: 0.5",
          "FGA: 5.0, FG_PCT: 0.4",
          "FGA: 1.0, FG_PCT: 0.0",
          "FGA: 2.0, FG_PCT: 0.0",
          "FGA: 1.0, FG_PCT: 0.0",
          "FGA: 0.0, FG_PCT: 0.0",
          "FGA: 0.0, FG_PCT: 0.0",
          "FGA: 1.0, FG_PCT: 0.0",
          "FGA: 0.0, FG_PCT: 0.0",
          "FGA: 0.0, FG_PCT: 0.0",
          "FGA: 0.0, FG_PCT: 0.0",
          "FGA: 0.0, FG_PCT: 0.0",
          "FGA: 0.0, FG_PCT: 0.0",
          "FGA: 0.0, FG_PCT: 0.0",
          "FGA: 0.0, FG_PCT: 0.0",
          "FGA: 0.0, FG_PCT: 0.0",
          "FGA: 1.0, FG_PCT: 1.0",
          "FGA: 3.0, FG_PCT: 0.0",
          "FGA: 5.0, FG_PCT: 0.8",
          "FGA: 1.0, FG_PCT: 0.0",
          "FGA: 1.0, FG_PCT: 1.0",
          "FGA: 0.0, FG_PCT: 0.0",
          "FGA: 0.0, FG_PCT: 0.0",
          "FGA: 0.0, FG_PCT: 0.0",
          "FGA: 0.0, FG_PCT: 0.0",
          "FGA: 0.0, FG_PCT: 0.0",
          "FGA: 0.0, FG_PCT: 0.0",
          "FGA: 0.0, FG_PCT: 0.0",
          "FGA: 0.0, FG_PCT: 0.0",
          "FGA: 0.0, FG_PCT: 0.0",
          "FGA: 0.0, FG_PCT: 0.0",
          "FGA: 0.0, FG_PCT: 0.0",
          "FGA: 0.0, FG_PCT: 0.0",
          "FGA: 0.0, FG_PCT: 0.0",
          "FGA: 2.0, FG_PCT: 0.0",
          "FGA: 6.0, FG_PCT: 0.16666666666666666",
          "FGA: 2.0, FG_PCT: 0.5",
          "FGA: 1.0, FG_PCT: 0.0",
          "FGA: 0.0, FG_PCT: 0.0",
          "FGA: 0.0, FG_PCT: 0.0",
          "FGA: 0.0, FG_PCT: 0.0",
          "FGA: 2.0, FG_PCT: 0.0",
          "FGA: 2.0, FG_PCT: 1.0",
          "FGA: 2.0, FG_PCT: 0.0",
          "FGA: 0.0, FG_PCT: 0.0",
          "FGA: 0.0, FG_PCT: 0.0",
          "FGA: 0.0, FG_PCT: 0.0",
          "FGA: 0.0, FG_PCT: 0.0",
          "FGA: 0.0, FG_PCT: 0.0",
          "FGA: 0.0, FG_PCT: 0.0",
          "FGA: 0.0, FG_PCT: 0.0",
          "FGA: 1.0, FG_PCT: 0.0",
          "FGA: 1.0, FG_PCT: 0.0",
          "FGA: 4.0, FG_PCT: 0.25",
          "FGA: 1.0, FG_PCT: 0.0",
          "FGA: 0.0, FG_PCT: 0.0",
          "FGA: 0.0, FG_PCT: 0.0",
          "FGA: 0.0, FG_PCT: 0.0",
          "FGA: 0.0, FG_PCT: 0.0",
          "FGA: 1.0, FG_PCT: 1.0",
          "FGA: 0.0, FG_PCT: 0.0",
          "FGA: 1.0, FG_PCT: 0.0",
          "FGA: 0.0, FG_PCT: 0.0",
          "FGA: 0.0, FG_PCT: 0.0",
          "FGA: 0.0, FG_PCT: 0.0",
          "FGA: 0.0, FG_PCT: 0.0",
          "FGA: 0.0, FG_PCT: 0.0",
          "FGA: 0.0, FG_PCT: 0.0",
          "FGA: 1.0, FG_PCT: 0.0",
          "FGA: 0.0, FG_PCT: 0.0",
          "FGA: 2.0, FG_PCT: 0.5",
          "FGA: 2.0, FG_PCT: 0.0",
          "FGA: 0.0, FG_PCT: 0.0",
          "FGA: 0.0, FG_PCT: 0.0",
          "FGA: 0.0, FG_PCT: 0.0",
          "FGA: 1.0, FG_PCT: 1.0",
          "FGA: 0.0, FG_PCT: 0.0",
          "FGA: 0.0, FG_PCT: 0.0",
          "FGA: 2.0, FG_PCT: 0.5",
          "FGA: 2.0, FG_PCT: 0.5",
          "FGA: 0.0, FG_PCT: 0.0",
          "FGA: 0.0, FG_PCT: 0.0",
          "FGA: 0.0, FG_PCT: 0.0",
          "FGA: 0.0, FG_PCT: 0.0",
          "FGA: 0.0, FG_PCT: 0.0",
          "FGA: 0.0, FG_PCT: 0.0",
          "FGA: 1.0, FG_PCT: 0.0",
          "FGA: 0.0, FG_PCT: 0.0",
          "FGA: 3.0, FG_PCT: 0.0",
          "FGA: 2.0, FG_PCT: 0.0",
          "FGA: 0.0, FG_PCT: 0.0",
          "FGA: 1.0, FG_PCT: 1.0",
          "FGA: 0.0, FG_PCT: 0.0",
          "FGA: 0.0, FG_PCT: 0.0",
          "FGA: 1.0, FG_PCT: 0.0",
          "FGA: 3.0, FG_PCT: 0.0",
          "FGA: 1.0, FG_PCT: 0.0",
          "FGA: 0.0, FG_PCT: 0.0",
          "FGA: 0.0, FG_PCT: 0.0",
          "FGA: 0.0, FG_PCT: 0.0",
          "FGA: 0.0, FG_PCT: 0.0",
          "FGA: 0.0, FG_PCT: 0.0",
          "FGA: 0.0, FG_PCT: 0.0",
          "FGA: 0.0, FG_PCT: 0.0",
          "FGA: 0.0, FG_PCT: 0.0",
          "FGA: 2.0, FG_PCT: 0.5",
          "FGA: 1.0, FG_PCT: 0.0",
          "FGA: 1.0, FG_PCT: 0.0",
          "FGA: 0.0, FG_PCT: 0.0",
          "FGA: 0.0, FG_PCT: 0.0",
          "FGA: 1.0, FG_PCT: 1.0",
          "FGA: 0.0, FG_PCT: 0.0",
          "FGA: 4.0, FG_PCT: 0.25",
          "FGA: 1.0, FG_PCT: 1.0",
          "FGA: 2.0, FG_PCT: 0.5",
          "FGA: 2.0, FG_PCT: 0.0",
          "FGA: 0.0, FG_PCT: 0.0",
          "FGA: 0.0, FG_PCT: 0.0",
          "FGA: 0.0, FG_PCT: 0.0",
          "FGA: 0.0, FG_PCT: 0.0",
          "FGA: 0.0, FG_PCT: 0.0",
          "FGA: 0.0, FG_PCT: 0.0",
          "FGA: 1.0, FG_PCT: 0.0",
          "FGA: 0.0, FG_PCT: 0.0",
          "FGA: 6.0, FG_PCT: 0.16666666666666666",
          "FGA: 0.0, FG_PCT: 0.0",
          "FGA: 1.0, FG_PCT: 1.0",
          "FGA: 0.0, FG_PCT: 0.0",
          "FGA: 1.0, FG_PCT: 0.0",
          "FGA: 3.0, FG_PCT: 0.3333333333333333",
          "FGA: 4.0, FG_PCT: 0.5",
          "FGA: 5.0, FG_PCT: 0.4",
          "FGA: 2.0, FG_PCT: 0.5",
          "FGA: 0.0, FG_PCT: 0.0",
          "FGA: 0.0, FG_PCT: 0.0",
          "FGA: 0.0, FG_PCT: 0.0",
          "FGA: 0.0, FG_PCT: 0.0",
          "FGA: 0.0, FG_PCT: 0.0",
          "FGA: 0.0, FG_PCT: 0.0",
          "FGA: 0.0, FG_PCT: 0.0",
          "FGA: 0.0, FG_PCT: 0.0",
          "FGA: 2.0, FG_PCT: 0.5",
          "FGA: 5.0, FG_PCT: 0.2",
          "FGA: 0.0, FG_PCT: 0.0",
          "FGA: 0.0, FG_PCT: 0.0",
          "FGA: 0.0, FG_PCT: 0.0",
          "FGA: 1.0, FG_PCT: 0.0",
          "FGA: 2.0, FG_PCT: 0.5",
          "FGA: 2.0, FG_PCT: 0.5",
          "FGA: 4.0, FG_PCT: 0.5",
          "FGA: 4.0, FG_PCT: 0.25",
          "FGA: 4.0, FG_PCT: 0.25",
          "FGA: 0.0, FG_PCT: 0.0",
          "FGA: 0.0, FG_PCT: 0.0",
          "FGA: 0.0, FG_PCT: 0.0",
          "FGA: 0.0, FG_PCT: 0.0",
          "FGA: 0.0, FG_PCT: 0.0",
          "FGA: 1.0, FG_PCT: 0.0",
          "FGA: 0.0, FG_PCT: 0.0",
          "FGA: 1.0, FG_PCT: 0.0",
          "FGA: 5.0, FG_PCT: 0.6",
          "FGA: 0.0, FG_PCT: 0.0",
          "FGA: 0.0, FG_PCT: 0.0",
          "FGA: 0.0, FG_PCT: 0.0",
          "FGA: 2.0, FG_PCT: 0.0",
          "FGA: 1.0, FG_PCT: 0.0",
          "FGA: 2.0, FG_PCT: 0.5",
          "FGA: 6.0, FG_PCT: 0.3333333333333333",
          "FGA: 9.0, FG_PCT: 0.5555555555555556",
          "FGA: 9.0, FG_PCT: 1.0",
          "FGA: 0.0, FG_PCT: 0.0",
          "FGA: 0.0, FG_PCT: 0.0",
          "FGA: 0.0, FG_PCT: 0.0",
          "FGA: 0.0, FG_PCT: 0.0",
          "FGA: 0.0, FG_PCT: 0.0",
          "FGA: 0.0, FG_PCT: 0.0",
          "FGA: 0.0, FG_PCT: 0.0",
          "FGA: 1.0, FG_PCT: 0.0",
          "FGA: 1.0, FG_PCT: 0.0",
          "FGA: 0.0, FG_PCT: 0.0",
          "FGA: 0.0, FG_PCT: 0.0",
          "FGA: 2.0, FG_PCT: 0.5",
          "FGA: 1.0, FG_PCT: 1.0",
          "FGA: 2.0, FG_PCT: 0.5",
          "FGA: 3.0, FG_PCT: 0.3333333333333333",
          "FGA: 8.0, FG_PCT: 0.625",
          "FGA: 7.0, FG_PCT: 0.7142857142857143",
          "FGA: 24.0, FG_PCT: 0.6666666666666666",
          "FGA: 0.0, FG_PCT: 0.0",
          "FGA: 0.0, FG_PCT: 0.0",
          "FGA: 0.0, FG_PCT: 0.0",
          "FGA: 0.0, FG_PCT: 0.0",
          "FGA: 0.0, FG_PCT: 0.0",
          "FGA: 1.0, FG_PCT: 0.0",
          "FGA: 0.0, FG_PCT: 0.0",
          "FGA: 3.0, FG_PCT: 0.0",
          "FGA: 7.0, FG_PCT: 0.2857142857142857",
          "FGA: 0.0, FG_PCT: 0.0",
          "FGA: 1.0, FG_PCT: 1.0",
          "FGA: 3.0, FG_PCT: 0.3333333333333333",
          "FGA: 3.0, FG_PCT: 0.0",
          "FGA: 3.0, FG_PCT: 0.0",
          "FGA: 6.0, FG_PCT: 0.5",
          "FGA: 13.0, FG_PCT: 0.46153846153846156",
          "FGA: 13.0, FG_PCT: 0.5384615384615384",
          "FGA: 66.0, FG_PCT: 0.8181818181818182",
          "FGA: 2.0, FG_PCT: 0.5",
          "FGA: 0.0, FG_PCT: 0.0",
          "FGA: 0.0, FG_PCT: 0.0",
          "FGA: 0.0, FG_PCT: 0.0",
          "FGA: 0.0, FG_PCT: 0.0",
          "FGA: 0.0, FG_PCT: 0.0",
          "FGA: 1.0, FG_PCT: 0.0",
          "FGA: 1.0, FG_PCT: 0.0",
          "FGA: 4.0, FG_PCT: 0.25",
          "FGA: 0.0, FG_PCT: 0.0",
          "FGA: 0.0, FG_PCT: 0.0",
          "FGA: 1.0, FG_PCT: 0.0",
          "FGA: 0.0, FG_PCT: 0.0",
          "FGA: 4.0, FG_PCT: 0.5",
          "FGA: 4.0, FG_PCT: 0.25",
          "FGA: 3.0, FG_PCT: 0.3333333333333333",
          "FGA: 12.0, FG_PCT: 0.5",
          "FGA: 50.0, FG_PCT: 0.76",
          "FGA: 0.0, FG_PCT: 0.0",
          "FGA: 0.0, FG_PCT: 0.0",
          "FGA: 0.0, FG_PCT: 0.0",
          "FGA: 0.0, FG_PCT: 0.0",
          "FGA: 0.0, FG_PCT: 0.0",
          "FGA: 0.0, FG_PCT: 0.0",
          "FGA: 0.0, FG_PCT: 0.0",
          "FGA: 1.0, FG_PCT: 1.0",
          "FGA: 3.0, FG_PCT: 0.3333333333333333",
          "FGA: 0.0, FG_PCT: 0.0",
          "FGA: 0.0, FG_PCT: 0.0",
          "FGA: 2.0, FG_PCT: 1.0",
          "FGA: 2.0, FG_PCT: 0.0",
          "FGA: 1.0, FG_PCT: 0.0",
          "FGA: 3.0, FG_PCT: 0.6666666666666666",
          "FGA: 4.0, FG_PCT: 0.5",
          "FGA: 8.0, FG_PCT: 0.5",
          "FGA: 18.0, FG_PCT: 0.6666666666666666",
          "FGA: 0.0, FG_PCT: 0.0",
          "FGA: 0.0, FG_PCT: 0.0",
          "FGA: 0.0, FG_PCT: 0.0",
          "FGA: 0.0, FG_PCT: 0.0",
          "FGA: 0.0, FG_PCT: 0.0",
          "FGA: 0.0, FG_PCT: 0.0",
          "FGA: 0.0, FG_PCT: 0.0",
          "FGA: 3.0, FG_PCT: 0.6666666666666666",
          "FGA: 4.0, FG_PCT: 0.75",
          "FGA: 0.0, FG_PCT: 0.0",
          "FGA: 0.0, FG_PCT: 0.0",
          "FGA: 1.0, FG_PCT: 0.0",
          "FGA: 1.0, FG_PCT: 0.0",
          "FGA: 1.0, FG_PCT: 0.0",
          "FGA: 5.0, FG_PCT: 0.4",
          "FGA: 9.0, FG_PCT: 0.4444444444444444",
          "FGA: 6.0, FG_PCT: 0.3333333333333333",
          "FGA: 6.0, FG_PCT: 0.5",
          "FGA: 0.0, FG_PCT: 0.0",
          "FGA: 0.0, FG_PCT: 0.0",
          "FGA: 0.0, FG_PCT: 0.0",
          "FGA: 0.0, FG_PCT: 0.0",
          "FGA: 1.0, FG_PCT: 0.0",
          "FGA: 0.0, FG_PCT: 0.0",
          "FGA: 1.0, FG_PCT: 0.0",
          "FGA: 0.0, FG_PCT: 0.0",
          "FGA: 6.0, FG_PCT: 0.16666666666666666",
          "FGA: 1.0, FG_PCT: 0.0",
          "FGA: 1.0, FG_PCT: 0.0",
          "FGA: 1.0, FG_PCT: 0.0",
          "FGA: 1.0, FG_PCT: 0.0",
          "FGA: 0.0, FG_PCT: 0.0",
          "FGA: 3.0, FG_PCT: 0.3333333333333333",
          "FGA: 4.0, FG_PCT: 0.5",
          "FGA: 3.0, FG_PCT: 0.6666666666666666",
          "FGA: 2.0, FG_PCT: 0.0",
          "FGA: 0.0, FG_PCT: 0.0",
          "FGA: 0.0, FG_PCT: 0.0",
          "FGA: 0.0, FG_PCT: 0.0",
          "FGA: 0.0, FG_PCT: 0.0",
          "FGA: 0.0, FG_PCT: 0.0",
          "FGA: 0.0, FG_PCT: 0.0",
          "FGA: 0.0, FG_PCT: 0.0",
          "FGA: 1.0, FG_PCT: 0.0",
          "FGA: 2.0, FG_PCT: 0.0",
          "FGA: 1.0, FG_PCT: 1.0",
          "FGA: 1.0, FG_PCT: 0.0",
          "FGA: 0.0, FG_PCT: 0.0",
          "FGA: 1.0, FG_PCT: 1.0",
          "FGA: 4.0, FG_PCT: 0.5",
          "FGA: 2.0, FG_PCT: 1.0",
          "FGA: 3.0, FG_PCT: 0.6666666666666666",
          "FGA: 0.0, FG_PCT: 0.0",
          "FGA: 2.0, FG_PCT: 1.0",
          "FGA: 0.0, FG_PCT: 0.0",
          "FGA: 0.0, FG_PCT: 0.0",
          "FGA: 0.0, FG_PCT: 0.0",
          "FGA: 0.0, FG_PCT: 0.0",
          "FGA: 0.0, FG_PCT: 0.0",
          "FGA: 0.0, FG_PCT: 0.0",
          "FGA: 0.0, FG_PCT: 0.0",
          "FGA: 0.0, FG_PCT: 0.0",
          "FGA: 2.0, FG_PCT: 0.0",
          "FGA: 0.0, FG_PCT: 0.0",
          "FGA: 0.0, FG_PCT: 0.0",
          "FGA: 0.0, FG_PCT: 0.0",
          "FGA: 0.0, FG_PCT: 0.0",
          "FGA: 0.0, FG_PCT: 0.0",
          "FGA: 3.0, FG_PCT: 0.6666666666666666",
          "FGA: 0.0, FG_PCT: 0.0",
          "FGA: 2.0, FG_PCT: 1.0",
          "FGA: 1.0, FG_PCT: 0.0",
          "FGA: 0.0, FG_PCT: 0.0",
          "FGA: 0.0, FG_PCT: 0.0",
          "FGA: 0.0, FG_PCT: 0.0",
          "FGA: 0.0, FG_PCT: 0.0",
          "FGA: 0.0, FG_PCT: 0.0",
          "FGA: 0.0, FG_PCT: 0.0",
          "FGA: 0.0, FG_PCT: 0.0",
          "FGA: 2.0, FG_PCT: 0.0",
          "FGA: 2.0, FG_PCT: 0.5",
          "FGA: 4.0, FG_PCT: 0.5",
          "FGA: 0.0, FG_PCT: 0.0",
          "FGA: 1.0, FG_PCT: 1.0",
          "FGA: 0.0, FG_PCT: 0.0",
          "FGA: 0.0, FG_PCT: 0.0",
          "FGA: 1.0, FG_PCT: 0.0",
          "FGA: 1.0, FG_PCT: 1.0",
          "FGA: 0.0, FG_PCT: 0.0",
          "FGA: 1.0, FG_PCT: 0.0",
          "FGA: 0.0, FG_PCT: 0.0",
          "FGA: 0.0, FG_PCT: 0.0",
          "FGA: 0.0, FG_PCT: 0.0",
          "FGA: 0.0, FG_PCT: 0.0",
          "FGA: 0.0, FG_PCT: 0.0",
          "FGA: 0.0, FG_PCT: 0.0",
          "FGA: 0.0, FG_PCT: 0.0",
          "FGA: 1.0, FG_PCT: 0.0",
          "FGA: 1.0, FG_PCT: 0.0",
          "FGA: 4.0, FG_PCT: 0.5",
          "FGA: 0.0, FG_PCT: 0.0",
          "FGA: 0.0, FG_PCT: 0.0",
          "FGA: 0.0, FG_PCT: 0.0",
          "FGA: 0.0, FG_PCT: 0.0",
          "FGA: 1.0, FG_PCT: 1.0",
          "FGA: 0.0, FG_PCT: 0.0",
          "FGA: 2.0, FG_PCT: 0.5",
          "FGA: 0.0, FG_PCT: 0.0",
          "FGA: 0.0, FG_PCT: 0.0",
          "FGA: 0.0, FG_PCT: 0.0",
          "FGA: 0.0, FG_PCT: 0.0",
          "FGA: 0.0, FG_PCT: 0.0",
          "FGA: 0.0, FG_PCT: 0.0",
          "FGA: 0.0, FG_PCT: 0.0",
          "FGA: 0.0, FG_PCT: 0.0",
          "FGA: 0.0, FG_PCT: 0.0",
          "FGA: 1.0, FG_PCT: 1.0",
          "FGA: 4.0, FG_PCT: 0.0",
          "FGA: 2.0, FG_PCT: 0.5",
          "FGA: 1.0, FG_PCT: 0.0",
          "FGA: 0.0, FG_PCT: 0.0",
          "FGA: 1.0, FG_PCT: 0.0",
          "FGA: 1.0, FG_PCT: 0.0",
          "FGA: 1.0, FG_PCT: 0.0",
          "FGA: 0.0, FG_PCT: 0.0",
          "FGA: 0.0, FG_PCT: 0.0",
          "FGA: 0.0, FG_PCT: 0.0",
          "FGA: 0.0, FG_PCT: 0.0",
          "FGA: 0.0, FG_PCT: 0.0",
          "FGA: 0.0, FG_PCT: 0.0",
          "FGA: 0.0, FG_PCT: 0.0",
          "FGA: 0.0, FG_PCT: 0.0",
          "FGA: 0.0, FG_PCT: 0.0",
          "FGA: 0.0, FG_PCT: 0.0",
          "FGA: 1.0, FG_PCT: 1.0",
          "FGA: 2.0, FG_PCT: 0.0",
          "FGA: 2.0, FG_PCT: 0.5",
          "FGA: 1.0, FG_PCT: 0.0",
          "FGA: 0.0, FG_PCT: 0.0",
          "FGA: 0.0, FG_PCT: 0.0",
          "FGA: 0.0, FG_PCT: 0.0",
          "FGA: 0.0, FG_PCT: 0.0",
          "FGA: 0.0, FG_PCT: 0.0",
          "FGA: 0.0, FG_PCT: 0.0",
          "FGA: 0.0, FG_PCT: 0.0",
          "FGA: 0.0, FG_PCT: 0.0",
          "FGA: 0.0, FG_PCT: 0.0",
          "FGA: 0.0, FG_PCT: 0.0",
          "FGA: 0.0, FG_PCT: 0.0",
          "FGA: 0.0, FG_PCT: 0.0",
          "FGA: 1.0, FG_PCT: 0.0",
          "FGA: 0.0, FG_PCT: 0.0",
          "FGA: 0.0, FG_PCT: 0.0",
          "FGA: 0.0, FG_PCT: 0.0",
          "FGA: 3.0, FG_PCT: 0.0",
          "FGA: 3.0, FG_PCT: 0.6666666666666666",
          "FGA: 0.0, FG_PCT: 0.0",
          "FGA: 0.0, FG_PCT: 0.0",
          "FGA: 0.0, FG_PCT: 0.0",
          "FGA: 0.0, FG_PCT: 0.0",
          "FGA: 0.0, FG_PCT: 0.0",
          "FGA: 0.0, FG_PCT: 0.0",
          "FGA: 0.0, FG_PCT: 0.0",
          "FGA: 0.0, FG_PCT: 0.0",
          "FGA: 0.0, FG_PCT: 0.0",
          "FGA: 0.0, FG_PCT: 0.0",
          "FGA: 0.0, FG_PCT: 0.0",
          "FGA: 0.0, FG_PCT: 0.0",
          "FGA: 0.0, FG_PCT: 0.0",
          "FGA: 0.0, FG_PCT: 0.0",
          "FGA: 0.0, FG_PCT: 0.0",
          "FGA: 0.0, FG_PCT: 0.0",
          "FGA: 0.0, FG_PCT: 0.0",
          "FGA: 0.0, FG_PCT: 0.0",
          "FGA: 1.0, FG_PCT: 0.0",
          "FGA: 0.0, FG_PCT: 0.0",
          "FGA: 0.0, FG_PCT: 0.0",
          "FGA: 1.0, FG_PCT: 0.0",
          "FGA: 0.0, FG_PCT: 0.0",
          "FGA: 0.0, FG_PCT: 0.0",
          "FGA: 0.0, FG_PCT: 0.0",
          "FGA: 0.0, FG_PCT: 0.0",
          "FGA: 0.0, FG_PCT: 0.0",
          "FGA: 0.0, FG_PCT: 0.0",
          "FGA: 0.0, FG_PCT: 0.0",
          "FGA: 0.0, FG_PCT: 0.0",
          "FGA: 0.0, FG_PCT: 0.0",
          "FGA: 0.0, FG_PCT: 0.0",
          "FGA: 0.0, FG_PCT: 0.0",
          "FGA: 0.0, FG_PCT: 0.0",
          "FGA: 0.0, FG_PCT: 0.0",
          "FGA: 1.0, FG_PCT: 0.0",
          "FGA: 3.0, FG_PCT: 0.3333333333333333",
          "FGA: 2.0, FG_PCT: 0.5",
          "FGA: 0.0, FG_PCT: 0.0",
          "FGA: 1.0, FG_PCT: 0.0",
          "FGA: 1.0, FG_PCT: 0.0",
          "FGA: 2.0, FG_PCT: 0.5",
          "FGA: 1.0, FG_PCT: 1.0",
          "FGA: 0.0, FG_PCT: 0.0",
          "FGA: 0.0, FG_PCT: 0.0",
          "FGA: 0.0, FG_PCT: 0.0",
          "FGA: 0.0, FG_PCT: 0.0",
          "FGA: 0.0, FG_PCT: 0.0",
          "FGA: 0.0, FG_PCT: 0.0",
          "FGA: 0.0, FG_PCT: 0.0",
          "FGA: 0.0, FG_PCT: 0.0",
          "FGA: 0.0, FG_PCT: 0.0",
          "FGA: 0.0, FG_PCT: 0.0",
          "FGA: 0.0, FG_PCT: 0.0",
          "FGA: 0.0, FG_PCT: 0.0",
          "FGA: 6.0, FG_PCT: 0.16666666666666666",
          "FGA: 4.0, FG_PCT: 0.75",
          "FGA: 5.0, FG_PCT: 0.6",
          "FGA: 4.0, FG_PCT: 0.5",
          "FGA: 0.0, FG_PCT: 0.0",
          "FGA: 4.0, FG_PCT: 0.5",
          "FGA: 0.0, FG_PCT: 0.0",
          "FGA: 0.0, FG_PCT: 0.0",
          "FGA: 0.0, FG_PCT: 0.0",
          "FGA: 0.0, FG_PCT: 0.0",
          "FGA: 0.0, FG_PCT: 0.0",
          "FGA: 0.0, FG_PCT: 0.0",
          "FGA: 0.0, FG_PCT: 0.0",
          "FGA: 0.0, FG_PCT: 0.0",
          "FGA: 0.0, FG_PCT: 0.0",
          "FGA: 0.0, FG_PCT: 0.0",
          "FGA: 0.0, FG_PCT: 0.0",
          "FGA: 0.0, FG_PCT: 0.0",
          "FGA: 0.0, FG_PCT: 0.0",
          "FGA: 0.0, FG_PCT: 0.0",
          "FGA: 0.0, FG_PCT: 0.0",
          "FGA: 0.0, FG_PCT: 0.0",
          "FGA: 0.0, FG_PCT: 0.0",
          "FGA: 0.0, FG_PCT: 0.0",
          "FGA: 0.0, FG_PCT: 0.0",
          "FGA: 0.0, FG_PCT: 0.0",
          "FGA: 0.0, FG_PCT: 0.0",
          "FGA: 0.0, FG_PCT: 0.0",
          "FGA: 0.0, FG_PCT: 0.0",
          "FGA: 0.0, FG_PCT: 0.0",
          "FGA: 0.0, FG_PCT: 0.0",
          "FGA: 0.0, FG_PCT: 0.0",
          "FGA: 0.0, FG_PCT: 0.0",
          "FGA: 0.0, FG_PCT: 0.0",
          "FGA: 0.0, FG_PCT: 0.0",
          "FGA: 0.0, FG_PCT: 0.0",
          "FGA: 0.0, FG_PCT: 0.0",
          "FGA: 2.0, FG_PCT: 0.5",
          "FGA: 3.0, FG_PCT: 0.0",
          "FGA: 3.0, FG_PCT: 0.0",
          "FGA: 5.0, FG_PCT: 0.4",
          "FGA: 2.0, FG_PCT: 1.0",
          "FGA: 0.0, FG_PCT: 0.0",
          "FGA: 0.0, FG_PCT: 0.0",
          "FGA: 0.0, FG_PCT: 0.0",
          "FGA: 0.0, FG_PCT: 0.0",
          "FGA: 0.0, FG_PCT: 0.0",
          "FGA: 0.0, FG_PCT: 0.0",
          "FGA: 0.0, FG_PCT: 0.0",
          "FGA: 0.0, FG_PCT: 0.0",
          "FGA: 0.0, FG_PCT: 0.0",
          "FGA: 0.0, FG_PCT: 0.0",
          "FGA: 3.0, FG_PCT: 0.3333333333333333",
          "FGA: 2.0, FG_PCT: 0.5",
          "FGA: 2.0, FG_PCT: 0.0",
          "FGA: 2.0, FG_PCT: 0.0",
          "FGA: 5.0, FG_PCT: 0.0",
          "FGA: 8.0, FG_PCT: 0.375",
          "FGA: 0.0, FG_PCT: 0.0",
          "FGA: 0.0, FG_PCT: 0.0",
          "FGA: 0.0, FG_PCT: 0.0",
          "FGA: 0.0, FG_PCT: 0.0",
          "FGA: 0.0, FG_PCT: 0.0",
          "FGA: 0.0, FG_PCT: 0.0",
          "FGA: 0.0, FG_PCT: 0.0",
          "FGA: 0.0, FG_PCT: 0.0",
          "FGA: 0.0, FG_PCT: 0.0",
          "FGA: 2.0, FG_PCT: 0.0",
          "FGA: 2.0, FG_PCT: 1.0",
          "FGA: 1.0, FG_PCT: 0.0",
          "FGA: 0.0, FG_PCT: 0.0",
          "FGA: 0.0, FG_PCT: 0.0",
          "FGA: 0.0, FG_PCT: 0.0",
          "FGA: 0.0, FG_PCT: 0.0",
          "FGA: 0.0, FG_PCT: 0.0",
          "FGA: 0.0, FG_PCT: 0.0",
          "FGA: 0.0, FG_PCT: 0.0",
          "FGA: 0.0, FG_PCT: 0.0",
          "FGA: 0.0, FG_PCT: 0.0",
          "FGA: 0.0, FG_PCT: 0.0",
          "FGA: 0.0, FG_PCT: 0.0",
          "FGA: 0.0, FG_PCT: 0.0",
          "FGA: 0.0, FG_PCT: 0.0",
          "FGA: 3.0, FG_PCT: 0.6666666666666666",
          "FGA: 2.0, FG_PCT: 1.0",
          "FGA: 4.0, FG_PCT: 0.5",
          "FGA: 0.0, FG_PCT: 0.0",
          "FGA: 0.0, FG_PCT: 0.0",
          "FGA: 0.0, FG_PCT: 0.0",
          "FGA: 0.0, FG_PCT: 0.0",
          "FGA: 1.0, FG_PCT: 0.0",
          "FGA: 0.0, FG_PCT: 0.0",
          "FGA: 0.0, FG_PCT: 0.0",
          "FGA: 0.0, FG_PCT: 0.0",
          "FGA: 0.0, FG_PCT: 0.0",
          "FGA: 0.0, FG_PCT: 0.0",
          "FGA: 0.0, FG_PCT: 0.0",
          "FGA: 0.0, FG_PCT: 0.0",
          "FGA: 0.0, FG_PCT: 0.0",
          "FGA: 0.0, FG_PCT: 0.0",
          "FGA: 3.0, FG_PCT: 0.3333333333333333",
          "FGA: 3.0, FG_PCT: 0.6666666666666666",
          "FGA: 0.0, FG_PCT: 0.0",
          "FGA: 0.0, FG_PCT: 0.0",
          "FGA: 0.0, FG_PCT: 0.0",
          "FGA: 0.0, FG_PCT: 0.0",
          "FGA: 0.0, FG_PCT: 0.0",
          "FGA: 2.0, FG_PCT: 0.5",
          "FGA: 0.0, FG_PCT: 0.0",
          "FGA: 0.0, FG_PCT: 0.0",
          "FGA: 0.0, FG_PCT: 0.0",
          "FGA: 0.0, FG_PCT: 0.0",
          "FGA: 0.0, FG_PCT: 0.0",
          "FGA: 0.0, FG_PCT: 0.0",
          "FGA: 0.0, FG_PCT: 0.0",
          "FGA: 0.0, FG_PCT: 0.0",
          "FGA: 1.0, FG_PCT: 0.0",
          "FGA: 11.0, FG_PCT: 0.45454545454545453",
          "FGA: 2.0, FG_PCT: 0.0",
          "FGA: 0.0, FG_PCT: 0.0",
          "FGA: 0.0, FG_PCT: 0.0",
          "FGA: 0.0, FG_PCT: 0.0",
          "FGA: 1.0, FG_PCT: 0.0",
          "FGA: 0.0, FG_PCT: 0.0",
          "FGA: 1.0, FG_PCT: 1.0",
          "FGA: 0.0, FG_PCT: 0.0",
          "FGA: 0.0, FG_PCT: 0.0",
          "FGA: 0.0, FG_PCT: 0.0",
          "FGA: 0.0, FG_PCT: 0.0",
          "FGA: 0.0, FG_PCT: 0.0",
          "FGA: 0.0, FG_PCT: 0.0",
          "FGA: 0.0, FG_PCT: 0.0",
          "FGA: 0.0, FG_PCT: 0.0",
          "FGA: 4.0, FG_PCT: 0.25",
          "FGA: 5.0, FG_PCT: 0.4",
          "FGA: 0.0, FG_PCT: 0.0",
          "FGA: 2.0, FG_PCT: 0.5",
          "FGA: 0.0, FG_PCT: 0.0",
          "FGA: 1.0, FG_PCT: 0.0",
          "FGA: 0.0, FG_PCT: 0.0",
          "FGA: 1.0, FG_PCT: 0.0",
          "FGA: 2.0, FG_PCT: 0.0",
          "FGA: 1.0, FG_PCT: 0.0",
          "FGA: 0.0, FG_PCT: 0.0",
          "FGA: 0.0, FG_PCT: 0.0",
          "FGA: 0.0, FG_PCT: 0.0",
          "FGA: 0.0, FG_PCT: 0.0",
          "FGA: 0.0, FG_PCT: 0.0",
          "FGA: 0.0, FG_PCT: 0.0",
          "FGA: 0.0, FG_PCT: 0.0",
          "FGA: 3.0, FG_PCT: 0.0",
          "FGA: 3.0, FG_PCT: 0.3333333333333333",
          "FGA: 1.0, FG_PCT: 0.0",
          "FGA: 0.0, FG_PCT: 0.0",
          "FGA: 2.0, FG_PCT: 0.5",
          "FGA: 2.0, FG_PCT: 0.5",
          "FGA: 1.0, FG_PCT: 0.0",
          "FGA: 0.0, FG_PCT: 0.0",
          "FGA: 0.0, FG_PCT: 0.0",
          "FGA: 0.0, FG_PCT: 0.0",
          "FGA: 0.0, FG_PCT: 0.0",
          "FGA: 0.0, FG_PCT: 0.0",
          "FGA: 0.0, FG_PCT: 0.0",
          "FGA: 0.0, FG_PCT: 0.0",
          "FGA: 0.0, FG_PCT: 0.0",
          "FGA: 0.0, FG_PCT: 0.0",
          "FGA: 2.0, FG_PCT: 0.0",
          "FGA: 2.0, FG_PCT: 0.0",
          "FGA: 0.0, FG_PCT: 0.0",
          "FGA: 0.0, FG_PCT: 0.0",
          "FGA: 1.0, FG_PCT: 0.0",
          "FGA: 3.0, FG_PCT: 0.0",
          "FGA: 1.0, FG_PCT: 0.0",
          "FGA: 0.0, FG_PCT: 0.0",
          "FGA: 0.0, FG_PCT: 0.0",
          "FGA: 3.0, FG_PCT: 0.3333333333333333",
          "FGA: 1.0, FG_PCT: 0.0",
          "FGA: 0.0, FG_PCT: 0.0",
          "FGA: 0.0, FG_PCT: 0.0",
          "FGA: 0.0, FG_PCT: 0.0",
          "FGA: 0.0, FG_PCT: 0.0",
          "FGA: 0.0, FG_PCT: 0.0",
          "FGA: 0.0, FG_PCT: 0.0",
          "FGA: 1.0, FG_PCT: 0.0",
          "FGA: 5.0, FG_PCT: 0.6",
          "FGA: 0.0, FG_PCT: 0.0",
          "FGA: 0.0, FG_PCT: 0.0",
          "FGA: 1.0, FG_PCT: 1.0",
          "FGA: 1.0, FG_PCT: 1.0",
          "FGA: 2.0, FG_PCT: 0.5",
          "FGA: 0.0, FG_PCT: 0.0",
          "FGA: 1.0, FG_PCT: 0.0",
          "FGA: 4.0, FG_PCT: 0.5",
          "FGA: 0.0, FG_PCT: 0.0",
          "FGA: 0.0, FG_PCT: 0.0",
          "FGA: 0.0, FG_PCT: 0.0",
          "FGA: 0.0, FG_PCT: 0.0",
          "FGA: 0.0, FG_PCT: 0.0",
          "FGA: 1.0, FG_PCT: 1.0",
          "FGA: 0.0, FG_PCT: 0.0",
          "FGA: 4.0, FG_PCT: 0.0",
          "FGA: 1.0, FG_PCT: 0.0",
          "FGA: 0.0, FG_PCT: 0.0",
          "FGA: 0.0, FG_PCT: 0.0",
          "FGA: 1.0, FG_PCT: 1.0",
          "FGA: 0.0, FG_PCT: 0.0",
          "FGA: 3.0, FG_PCT: 0.3333333333333333",
          "FGA: 2.0, FG_PCT: 1.0",
          "FGA: 4.0, FG_PCT: 0.25",
          "FGA: 1.0, FG_PCT: 1.0",
          "FGA: 0.0, FG_PCT: 0.0",
          "FGA: 0.0, FG_PCT: 0.0",
          "FGA: 0.0, FG_PCT: 0.0",
          "FGA: 0.0, FG_PCT: 0.0",
          "FGA: 0.0, FG_PCT: 0.0",
          "FGA: 0.0, FG_PCT: 0.0",
          "FGA: 0.0, FG_PCT: 0.0",
          "FGA: 3.0, FG_PCT: 0.3333333333333333",
          "FGA: 2.0, FG_PCT: 1.0",
          "FGA: 0.0, FG_PCT: 0.0",
          "FGA: 0.0, FG_PCT: 0.0",
          "FGA: 0.0, FG_PCT: 0.0",
          "FGA: 2.0, FG_PCT: 0.5",
          "FGA: 1.0, FG_PCT: 1.0",
          "FGA: 2.0, FG_PCT: 1.0",
          "FGA: 2.0, FG_PCT: 0.0",
          "FGA: 8.0, FG_PCT: 0.125",
          "FGA: 1.0, FG_PCT: 0.0",
          "FGA: 0.0, FG_PCT: 0.0",
          "FGA: 0.0, FG_PCT: 0.0",
          "FGA: 0.0, FG_PCT: 0.0",
          "FGA: 0.0, FG_PCT: 0.0",
          "FGA: 0.0, FG_PCT: 0.0",
          "FGA: 0.0, FG_PCT: 0.0",
          "FGA: 1.0, FG_PCT: 0.0",
          "FGA: 0.0, FG_PCT: 0.0",
          "FGA: 0.0, FG_PCT: 0.0",
          "FGA: 0.0, FG_PCT: 0.0",
          "FGA: 3.0, FG_PCT: 0.0",
          "FGA: 1.0, FG_PCT: 0.0",
          "FGA: 2.0, FG_PCT: 0.5",
          "FGA: 4.0, FG_PCT: 0.0",
          "FGA: 4.0, FG_PCT: 0.0",
          "FGA: 7.0, FG_PCT: 0.42857142857142855",
          "FGA: 2.0, FG_PCT: 1.0",
          "FGA: 0.0, FG_PCT: 0.0",
          "FGA: 0.0, FG_PCT: 0.0",
          "FGA: 0.0, FG_PCT: 0.0",
          "FGA: 0.0, FG_PCT: 0.0",
          "FGA: 0.0, FG_PCT: 0.0",
          "FGA: 0.0, FG_PCT: 0.0",
          "FGA: 4.0, FG_PCT: 0.25",
          "FGA: 1.0, FG_PCT: 0.0",
          "FGA: 0.0, FG_PCT: 0.0",
          "FGA: 1.0, FG_PCT: 0.0",
          "FGA: 1.0, FG_PCT: 0.0",
          "FGA: 0.0, FG_PCT: 0.0",
          "FGA: 1.0, FG_PCT: 0.0",
          "FGA: 5.0, FG_PCT: 0.0",
          "FGA: 3.0, FG_PCT: 0.6666666666666666",
          "FGA: 12.0, FG_PCT: 0.5",
          "FGA: 8.0, FG_PCT: 0.5",
          "FGA: 0.0, FG_PCT: 0.0",
          "FGA: 0.0, FG_PCT: 0.0",
          "FGA: 0.0, FG_PCT: 0.0",
          "FGA: 0.0, FG_PCT: 0.0",
          "FGA: 0.0, FG_PCT: 0.0",
          "FGA: 3.0, FG_PCT: 0.0",
          "FGA: 4.0, FG_PCT: 0.25",
          "FGA: 0.0, FG_PCT: 0.0",
          "FGA: 0.0, FG_PCT: 0.0",
          "FGA: 0.0, FG_PCT: 0.0",
          "FGA: 1.0, FG_PCT: 0.0",
          "FGA: 1.0, FG_PCT: 0.0",
          "FGA: 1.0, FG_PCT: 0.0",
          "FGA: 13.0, FG_PCT: 0.5384615384615384",
          "FGA: 9.0, FG_PCT: 0.4444444444444444",
          "FGA: 32.0, FG_PCT: 0.78125",
          "FGA: 9.0, FG_PCT: 0.8888888888888888",
          "FGA: 0.0, FG_PCT: 0.0",
          "FGA: 0.0, FG_PCT: 0.0",
          "FGA: 0.0, FG_PCT: 0.0",
          "FGA: 0.0, FG_PCT: 0.0",
          "FGA: 0.0, FG_PCT: 0.0",
          "FGA: 0.0, FG_PCT: 0.0",
          "FGA: 4.0, FG_PCT: 0.25",
          "FGA: 0.0, FG_PCT: 0.0",
          "FGA: 0.0, FG_PCT: 0.0",
          "FGA: 0.0, FG_PCT: 0.0",
          "FGA: 4.0, FG_PCT: 0.75",
          "FGA: 2.0, FG_PCT: 0.0",
          "FGA: 1.0, FG_PCT: 0.0",
          "FGA: 5.0, FG_PCT: 0.6",
          "FGA: 9.0, FG_PCT: 0.6666666666666666",
          "FGA: 31.0, FG_PCT: 0.8709677419354839",
          "FGA: 16.0, FG_PCT: 0.9375",
          "FGA: 0.0, FG_PCT: 0.0",
          "FGA: 0.0, FG_PCT: 0.0",
          "FGA: 0.0, FG_PCT: 0.0",
          "FGA: 0.0, FG_PCT: 0.0",
          "FGA: 0.0, FG_PCT: 0.0",
          "FGA: 0.0, FG_PCT: 0.0",
          "FGA: 1.0, FG_PCT: 0.0",
          "FGA: 1.0, FG_PCT: 1.0",
          "FGA: 0.0, FG_PCT: 0.0",
          "FGA: 0.0, FG_PCT: 0.0",
          "FGA: 1.0, FG_PCT: 1.0",
          "FGA: 0.0, FG_PCT: 0.0",
          "FGA: 1.0, FG_PCT: 1.0",
          "FGA: 8.0, FG_PCT: 0.5",
          "FGA: 6.0, FG_PCT: 0.16666666666666666",
          "FGA: 31.0, FG_PCT: 0.6774193548387096",
          "FGA: 7.0, FG_PCT: 0.7142857142857143",
          "FGA: 0.0, FG_PCT: 0.0",
          "FGA: 0.0, FG_PCT: 0.0",
          "FGA: 0.0, FG_PCT: 0.0",
          "FGA: 0.0, FG_PCT: 0.0",
          "FGA: 0.0, FG_PCT: 0.0",
          "FGA: 0.0, FG_PCT: 0.0",
          "FGA: 3.0, FG_PCT: 0.3333333333333333",
          "FGA: 2.0, FG_PCT: 0.0",
          "FGA: 1.0, FG_PCT: 1.0",
          "FGA: 0.0, FG_PCT: 0.0",
          "FGA: 2.0, FG_PCT: 0.5",
          "FGA: 0.0, FG_PCT: 0.0",
          "FGA: 5.0, FG_PCT: 0.4",
          "FGA: 3.0, FG_PCT: 0.3333333333333333",
          "FGA: 11.0, FG_PCT: 0.45454545454545453",
          "FGA: 15.0, FG_PCT: 0.13333333333333333",
          "FGA: 3.0, FG_PCT: 0.6666666666666666",
          "FGA: 0.0, FG_PCT: 0.0",
          "FGA: 0.0, FG_PCT: 0.0",
          "FGA: 0.0, FG_PCT: 0.0",
          "FGA: 0.0, FG_PCT: 0.0",
          "FGA: 0.0, FG_PCT: 0.0",
          "FGA: 0.0, FG_PCT: 0.0",
          "FGA: 4.0, FG_PCT: 0.25",
          "FGA: 2.0, FG_PCT: 1.0",
          "FGA: 0.0, FG_PCT: 0.0",
          "FGA: 0.0, FG_PCT: 0.0",
          "FGA: 1.0, FG_PCT: 0.0",
          "FGA: 3.0, FG_PCT: 0.0",
          "FGA: 2.0, FG_PCT: 0.5",
          "FGA: 5.0, FG_PCT: 0.2",
          "FGA: 6.0, FG_PCT: 0.3333333333333333",
          "FGA: 5.0, FG_PCT: 0.4",
          "FGA: 1.0, FG_PCT: 0.0",
          "FGA: 0.0, FG_PCT: 0.0",
          "FGA: 0.0, FG_PCT: 0.0",
          "FGA: 0.0, FG_PCT: 0.0",
          "FGA: 0.0, FG_PCT: 0.0",
          "FGA: 0.0, FG_PCT: 0.0",
          "FGA: 0.0, FG_PCT: 0.0",
          "FGA: 2.0, FG_PCT: 0.0",
          "FGA: 1.0, FG_PCT: 1.0",
          "FGA: 0.0, FG_PCT: 0.0",
          "FGA: 2.0, FG_PCT: 0.0",
          "FGA: 1.0, FG_PCT: 0.0",
          "FGA: 1.0, FG_PCT: 0.0",
          "FGA: 3.0, FG_PCT: 0.3333333333333333",
          "FGA: 2.0, FG_PCT: 0.5",
          "FGA: 3.0, FG_PCT: 0.3333333333333333",
          "FGA: 5.0, FG_PCT: 0.8",
          "FGA: 0.0, FG_PCT: 0.0",
          "FGA: 0.0, FG_PCT: 0.0",
          "FGA: 0.0, FG_PCT: 0.0",
          "FGA: 0.0, FG_PCT: 0.0",
          "FGA: 0.0, FG_PCT: 0.0",
          "FGA: 0.0, FG_PCT: 0.0",
          "FGA: 0.0, FG_PCT: 0.0",
          "FGA: 1.0, FG_PCT: 1.0",
          "FGA: 6.0, FG_PCT: 0.3333333333333333",
          "FGA: 0.0, FG_PCT: 0.0",
          "FGA: 1.0, FG_PCT: 1.0",
          "FGA: 1.0, FG_PCT: 1.0",
          "FGA: 1.0, FG_PCT: 0.0",
          "FGA: 0.0, FG_PCT: 0.0",
          "FGA: 0.0, FG_PCT: 0.0",
          "FGA: 2.0, FG_PCT: 0.0",
          "FGA: 2.0, FG_PCT: 0.5",
          "FGA: 0.0, FG_PCT: 0.0",
          "FGA: 0.0, FG_PCT: 0.0",
          "FGA: 0.0, FG_PCT: 0.0",
          "FGA: 0.0, FG_PCT: 0.0",
          "FGA: 0.0, FG_PCT: 0.0",
          "FGA: 0.0, FG_PCT: 0.0",
          "FGA: 0.0, FG_PCT: 0.0",
          "FGA: 0.0, FG_PCT: 0.0",
          "FGA: 2.0, FG_PCT: 1.0",
          "FGA: 0.0, FG_PCT: 0.0",
          "FGA: 2.0, FG_PCT: 0.5",
          "FGA: 1.0, FG_PCT: 0.0",
          "FGA: 0.0, FG_PCT: 0.0",
          "FGA: 2.0, FG_PCT: 0.5",
          "FGA: 3.0, FG_PCT: 0.0",
          "FGA: 5.0, FG_PCT: 0.4",
          "FGA: 2.0, FG_PCT: 0.5",
          "FGA: 0.0, FG_PCT: 0.0",
          "FGA: 0.0, FG_PCT: 0.0",
          "FGA: 0.0, FG_PCT: 0.0",
          "FGA: 0.0, FG_PCT: 0.0",
          "FGA: 0.0, FG_PCT: 0.0",
          "FGA: 0.0, FG_PCT: 0.0",
          "FGA: 1.0, FG_PCT: 1.0",
          "FGA: 0.0, FG_PCT: 0.0",
          "FGA: 4.0, FG_PCT: 0.25",
          "FGA: 1.0, FG_PCT: 0.0",
          "FGA: 0.0, FG_PCT: 0.0",
          "FGA: 2.0, FG_PCT: 0.0",
          "FGA: 0.0, FG_PCT: 0.0",
          "FGA: 0.0, FG_PCT: 0.0",
          "FGA: 0.0, FG_PCT: 0.0",
          "FGA: 1.0, FG_PCT: 0.0",
          "FGA: 0.0, FG_PCT: 0.0",
          "FGA: 0.0, FG_PCT: 0.0",
          "FGA: 0.0, FG_PCT: 0.0",
          "FGA: 0.0, FG_PCT: 0.0",
          "FGA: 0.0, FG_PCT: 0.0",
          "FGA: 0.0, FG_PCT: 0.0",
          "FGA: 0.0, FG_PCT: 0.0",
          "FGA: 0.0, FG_PCT: 0.0",
          "FGA: 1.0, FG_PCT: 0.0",
          "FGA: 1.0, FG_PCT: 0.0",
          "FGA: 6.0, FG_PCT: 0.5",
          "FGA: 0.0, FG_PCT: 0.0",
          "FGA: 1.0, FG_PCT: 1.0",
          "FGA: 1.0, FG_PCT: 0.0",
          "FGA: 0.0, FG_PCT: 0.0",
          "FGA: 0.0, FG_PCT: 0.0",
          "FGA: 0.0, FG_PCT: 0.0",
          "FGA: 1.0, FG_PCT: 0.0",
          "FGA: 0.0, FG_PCT: 0.0",
          "FGA: 0.0, FG_PCT: 0.0",
          "FGA: 0.0, FG_PCT: 0.0",
          "FGA: 0.0, FG_PCT: 0.0",
          "FGA: 0.0, FG_PCT: 0.0",
          "FGA: 0.0, FG_PCT: 0.0",
          "FGA: 0.0, FG_PCT: 0.0",
          "FGA: 0.0, FG_PCT: 0.0",
          "FGA: 1.0, FG_PCT: 0.0",
          "FGA: 1.0, FG_PCT: 0.0",
          "FGA: 0.0, FG_PCT: 0.0",
          "FGA: 0.0, FG_PCT: 0.0",
          "FGA: 0.0, FG_PCT: 0.0",
          "FGA: 1.0, FG_PCT: 0.0",
          "FGA: 0.0, FG_PCT: 0.0",
          "FGA: 0.0, FG_PCT: 0.0",
          "FGA: 1.0, FG_PCT: 0.0",
          "FGA: 0.0, FG_PCT: 0.0",
          "FGA: 0.0, FG_PCT: 0.0",
          "FGA: 0.0, FG_PCT: 0.0",
          "FGA: 0.0, FG_PCT: 0.0",
          "FGA: 0.0, FG_PCT: 0.0",
          "FGA: 0.0, FG_PCT: 0.0",
          "FGA: 0.0, FG_PCT: 0.0",
          "FGA: 0.0, FG_PCT: 0.0",
          "FGA: 1.0, FG_PCT: 0.0",
          "FGA: 3.0, FG_PCT: 0.3333333333333333",
          "FGA: 1.0, FG_PCT: 0.0",
          "FGA: 0.0, FG_PCT: 0.0",
          "FGA: 0.0, FG_PCT: 0.0",
          "FGA: 0.0, FG_PCT: 0.0",
          "FGA: 0.0, FG_PCT: 0.0",
          "FGA: 1.0, FG_PCT: 0.0",
          "FGA: 2.0, FG_PCT: 1.0",
          "FGA: 0.0, FG_PCT: 0.0",
          "FGA: 0.0, FG_PCT: 0.0",
          "FGA: 0.0, FG_PCT: 0.0",
          "FGA: 0.0, FG_PCT: 0.0",
          "FGA: 0.0, FG_PCT: 0.0",
          "FGA: 0.0, FG_PCT: 0.0",
          "FGA: 0.0, FG_PCT: 0.0",
          "FGA: 0.0, FG_PCT: 0.0",
          "FGA: 0.0, FG_PCT: 0.0",
          "FGA: 0.0, FG_PCT: 0.0",
          "FGA: 4.0, FG_PCT: 0.5",
          "FGA: 1.0, FG_PCT: 0.0",
          "FGA: 0.0, FG_PCT: 0.0",
          "FGA: 0.0, FG_PCT: 0.0",
          "FGA: 0.0, FG_PCT: 0.0",
          "FGA: 0.0, FG_PCT: 0.0",
          "FGA: 1.0, FG_PCT: 0.0",
          "FGA: 0.0, FG_PCT: 0.0",
          "FGA: 0.0, FG_PCT: 0.0",
          "FGA: 0.0, FG_PCT: 0.0",
          "FGA: 0.0, FG_PCT: 0.0",
          "FGA: 0.0, FG_PCT: 0.0",
          "FGA: 0.0, FG_PCT: 0.0",
          "FGA: 0.0, FG_PCT: 0.0",
          "FGA: 0.0, FG_PCT: 0.0",
          "FGA: 0.0, FG_PCT: 0.0",
          "FGA: 0.0, FG_PCT: 0.0",
          "FGA: 0.0, FG_PCT: 0.0",
          "FGA: 2.0, FG_PCT: 0.0",
          "FGA: 1.0, FG_PCT: 0.0",
          "FGA: 0.0, FG_PCT: 0.0",
          "FGA: 0.0, FG_PCT: 0.0",
          "FGA: 0.0, FG_PCT: 0.0",
          "FGA: 0.0, FG_PCT: 0.0",
          "FGA: 0.0, FG_PCT: 0.0",
          "FGA: 0.0, FG_PCT: 0.0",
          "FGA: 0.0, FG_PCT: 0.0",
          "FGA: 0.0, FG_PCT: 0.0",
          "FGA: 0.0, FG_PCT: 0.0",
          "FGA: 0.0, FG_PCT: 0.0",
          "FGA: 0.0, FG_PCT: 0.0",
          "FGA: 0.0, FG_PCT: 0.0",
          "FGA: 0.0, FG_PCT: 0.0",
          "FGA: 0.0, FG_PCT: 0.0",
          "FGA: 0.0, FG_PCT: 0.0",
          "FGA: 0.0, FG_PCT: 0.0",
          "FGA: 1.0, FG_PCT: 0.0",
          "FGA: 2.0, FG_PCT: 1.0",
          "FGA: 2.0, FG_PCT: 0.5",
          "FGA: 10.0, FG_PCT: 0.5",
          "FGA: 2.0, FG_PCT: 0.0",
          "FGA: 5.0, FG_PCT: 0.2",
          "FGA: 0.0, FG_PCT: 0.0",
          "FGA: 0.0, FG_PCT: 0.0",
          "FGA: 0.0, FG_PCT: 0.0",
          "FGA: 0.0, FG_PCT: 0.0",
          "FGA: 0.0, FG_PCT: 0.0",
          "FGA: 0.0, FG_PCT: 0.0",
          "FGA: 0.0, FG_PCT: 0.0",
          "FGA: 0.0, FG_PCT: 0.0",
          "FGA: 0.0, FG_PCT: 0.0",
          "FGA: 0.0, FG_PCT: 0.0",
          "FGA: 0.0, FG_PCT: 0.0",
          "FGA: 0.0, FG_PCT: 0.0",
          "FGA: 0.0, FG_PCT: 0.0",
          "FGA: 0.0, FG_PCT: 0.0",
          "FGA: 0.0, FG_PCT: 0.0",
          "FGA: 2.0, FG_PCT: 0.5",
          "FGA: 3.0, FG_PCT: 0.6666666666666666",
          "FGA: 0.0, FG_PCT: 0.0"
         ],
         "type": "scatter",
         "x": [
          -250.0000005,
          -250.0000005,
          -250.0000005,
          -250.0000005,
          -250.0000005,
          -250.0000005,
          -250.0000005,
          -250.0000005,
          -250.0000005,
          -250.0000005,
          -250.0000005,
          -250.0000005,
          -250.0000005,
          -250.0000005,
          -250.0000005,
          -250.0000005,
          -250.0000005,
          -250.0000005,
          -233.3333338,
          -233.3333338,
          -233.3333338,
          -233.3333338,
          -233.3333338,
          -233.3333338,
          -233.3333338,
          -233.3333338,
          -233.3333338,
          -233.3333338,
          -233.3333338,
          -233.3333338,
          -233.3333338,
          -233.3333338,
          -233.3333338,
          -233.3333338,
          -233.3333338,
          -233.3333338,
          -216.66666709999998,
          -216.66666709999998,
          -216.66666709999998,
          -216.66666709999998,
          -216.66666709999998,
          -216.66666709999998,
          -216.66666709999998,
          -216.66666709999998,
          -216.66666709999998,
          -216.66666709999998,
          -216.66666709999998,
          -216.66666709999998,
          -216.66666709999998,
          -216.66666709999998,
          -216.66666709999998,
          -216.66666709999998,
          -216.66666709999998,
          -216.66666709999998,
          -200.0000004,
          -200.0000004,
          -200.0000004,
          -200.0000004,
          -200.0000004,
          -200.0000004,
          -200.0000004,
          -200.0000004,
          -200.0000004,
          -200.0000004,
          -200.0000004,
          -200.0000004,
          -200.0000004,
          -200.0000004,
          -200.0000004,
          -200.0000004,
          -200.0000004,
          -200.0000004,
          -183.3333337,
          -183.3333337,
          -183.3333337,
          -183.3333337,
          -183.3333337,
          -183.3333337,
          -183.3333337,
          -183.3333337,
          -183.3333337,
          -183.3333337,
          -183.3333337,
          -183.3333337,
          -183.3333337,
          -183.3333337,
          -183.3333337,
          -183.3333337,
          -183.3333337,
          -183.3333337,
          -166.666667,
          -166.666667,
          -166.666667,
          -166.666667,
          -166.666667,
          -166.666667,
          -166.666667,
          -166.666667,
          -166.666667,
          -166.666667,
          -166.666667,
          -166.666667,
          -166.666667,
          -166.666667,
          -166.666667,
          -166.666667,
          -166.666667,
          -166.666667,
          -150.0000003,
          -150.0000003,
          -150.0000003,
          -150.0000003,
          -150.0000003,
          -150.0000003,
          -150.0000003,
          -150.0000003,
          -150.0000003,
          -150.0000003,
          -150.0000003,
          -150.0000003,
          -150.0000003,
          -150.0000003,
          -150.0000003,
          -150.0000003,
          -150.0000003,
          -150.0000003,
          -133.3333336,
          -133.3333336,
          -133.3333336,
          -133.3333336,
          -133.3333336,
          -133.3333336,
          -133.3333336,
          -133.3333336,
          -133.3333336,
          -133.3333336,
          -133.3333336,
          -133.3333336,
          -133.3333336,
          -133.3333336,
          -133.3333336,
          -133.3333336,
          -133.3333336,
          -133.3333336,
          -116.6666669,
          -116.6666669,
          -116.6666669,
          -116.6666669,
          -116.6666669,
          -116.6666669,
          -116.6666669,
          -116.6666669,
          -116.6666669,
          -116.6666669,
          -116.6666669,
          -116.6666669,
          -116.6666669,
          -116.6666669,
          -116.6666669,
          -116.6666669,
          -116.6666669,
          -116.6666669,
          -100.00000019999999,
          -100.00000019999999,
          -100.00000019999999,
          -100.00000019999999,
          -100.00000019999999,
          -100.00000019999999,
          -100.00000019999999,
          -100.00000019999999,
          -100.00000019999999,
          -100.00000019999999,
          -100.00000019999999,
          -100.00000019999999,
          -100.00000019999999,
          -100.00000019999999,
          -100.00000019999999,
          -100.00000019999999,
          -100.00000019999999,
          -100.00000019999999,
          -83.33333349999998,
          -83.33333349999998,
          -83.33333349999998,
          -83.33333349999998,
          -83.33333349999998,
          -83.33333349999998,
          -83.33333349999998,
          -83.33333349999998,
          -83.33333349999998,
          -83.33333349999998,
          -83.33333349999998,
          -83.33333349999998,
          -83.33333349999998,
          -83.33333349999998,
          -83.33333349999998,
          -83.33333349999998,
          -83.33333349999998,
          -83.33333349999998,
          -66.6666668,
          -66.6666668,
          -66.6666668,
          -66.6666668,
          -66.6666668,
          -66.6666668,
          -66.6666668,
          -66.6666668,
          -66.6666668,
          -66.6666668,
          -66.6666668,
          -66.6666668,
          -66.6666668,
          -66.6666668,
          -66.6666668,
          -66.6666668,
          -66.6666668,
          -66.6666668,
          -50.000000099999994,
          -50.000000099999994,
          -50.000000099999994,
          -50.000000099999994,
          -50.000000099999994,
          -50.000000099999994,
          -50.000000099999994,
          -50.000000099999994,
          -50.000000099999994,
          -50.000000099999994,
          -50.000000099999994,
          -50.000000099999994,
          -50.000000099999994,
          -50.000000099999994,
          -50.000000099999994,
          -50.000000099999994,
          -50.000000099999994,
          -50.000000099999994,
          -33.33333339999999,
          -33.33333339999999,
          -33.33333339999999,
          -33.33333339999999,
          -33.33333339999999,
          -33.33333339999999,
          -33.33333339999999,
          -33.33333339999999,
          -33.33333339999999,
          -33.33333339999999,
          -33.33333339999999,
          -33.33333339999999,
          -33.33333339999999,
          -33.33333339999999,
          -33.33333339999999,
          -33.33333339999999,
          -33.33333339999999,
          -33.33333339999999,
          -16.666666700000007,
          -16.666666700000007,
          -16.666666700000007,
          -16.666666700000007,
          -16.666666700000007,
          -16.666666700000007,
          -16.666666700000007,
          -16.666666700000007,
          -16.666666700000007,
          -16.666666700000007,
          -16.666666700000007,
          -16.666666700000007,
          -16.666666700000007,
          -16.666666700000007,
          -16.666666700000007,
          -16.666666700000007,
          -16.666666700000007,
          -16.666666700000007,
          0,
          0,
          0,
          0,
          0,
          0,
          0,
          0,
          0,
          0,
          0,
          0,
          0,
          0,
          0,
          0,
          0,
          0,
          16.666666700000007,
          16.666666700000007,
          16.666666700000007,
          16.666666700000007,
          16.666666700000007,
          16.666666700000007,
          16.666666700000007,
          16.666666700000007,
          16.666666700000007,
          16.666666700000007,
          16.666666700000007,
          16.666666700000007,
          16.666666700000007,
          16.666666700000007,
          16.666666700000007,
          16.666666700000007,
          16.666666700000007,
          16.666666700000007,
          33.333333400000015,
          33.333333400000015,
          33.333333400000015,
          33.333333400000015,
          33.333333400000015,
          33.333333400000015,
          33.333333400000015,
          33.333333400000015,
          33.333333400000015,
          33.333333400000015,
          33.333333400000015,
          33.333333400000015,
          33.333333400000015,
          33.333333400000015,
          33.333333400000015,
          33.333333400000015,
          33.333333400000015,
          33.333333400000015,
          50.00000010000002,
          50.00000010000002,
          50.00000010000002,
          50.00000010000002,
          50.00000010000002,
          50.00000010000002,
          50.00000010000002,
          50.00000010000002,
          50.00000010000002,
          50.00000010000002,
          50.00000010000002,
          50.00000010000002,
          50.00000010000002,
          50.00000010000002,
          50.00000010000002,
          50.00000010000002,
          50.00000010000002,
          50.00000010000002,
          66.66666680000003,
          66.66666680000003,
          66.66666680000003,
          66.66666680000003,
          66.66666680000003,
          66.66666680000003,
          66.66666680000003,
          66.66666680000003,
          66.66666680000003,
          66.66666680000003,
          66.66666680000003,
          66.66666680000003,
          66.66666680000003,
          66.66666680000003,
          66.66666680000003,
          66.66666680000003,
          66.66666680000003,
          66.66666680000003,
          83.33333350000004,
          83.33333350000004,
          83.33333350000004,
          83.33333350000004,
          83.33333350000004,
          83.33333350000004,
          83.33333350000004,
          83.33333350000004,
          83.33333350000004,
          83.33333350000004,
          83.33333350000004,
          83.33333350000004,
          83.33333350000004,
          83.33333350000004,
          83.33333350000004,
          83.33333350000004,
          83.33333350000004,
          83.33333350000004,
          100.00000019999999,
          100.00000019999999,
          100.00000019999999,
          100.00000019999999,
          100.00000019999999,
          100.00000019999999,
          100.00000019999999,
          100.00000019999999,
          100.00000019999999,
          100.00000019999999,
          100.00000019999999,
          100.00000019999999,
          100.00000019999999,
          100.00000019999999,
          100.00000019999999,
          100.00000019999999,
          100.00000019999999,
          100.00000019999999,
          116.6666669,
          116.6666669,
          116.6666669,
          116.6666669,
          116.6666669,
          116.6666669,
          116.6666669,
          116.6666669,
          116.6666669,
          116.6666669,
          116.6666669,
          116.6666669,
          116.6666669,
          116.6666669,
          116.6666669,
          116.6666669,
          116.6666669,
          116.6666669,
          133.3333336,
          133.3333336,
          133.3333336,
          133.3333336,
          133.3333336,
          133.3333336,
          133.3333336,
          133.3333336,
          133.3333336,
          133.3333336,
          133.3333336,
          133.3333336,
          133.3333336,
          133.3333336,
          133.3333336,
          133.3333336,
          133.3333336,
          133.3333336,
          150.0000003,
          150.0000003,
          150.0000003,
          150.0000003,
          150.0000003,
          150.0000003,
          150.0000003,
          150.0000003,
          150.0000003,
          150.0000003,
          150.0000003,
          150.0000003,
          150.0000003,
          150.0000003,
          150.0000003,
          150.0000003,
          150.0000003,
          150.0000003,
          166.66666700000002,
          166.66666700000002,
          166.66666700000002,
          166.66666700000002,
          166.66666700000002,
          166.66666700000002,
          166.66666700000002,
          166.66666700000002,
          166.66666700000002,
          166.66666700000002,
          166.66666700000002,
          166.66666700000002,
          166.66666700000002,
          166.66666700000002,
          166.66666700000002,
          166.66666700000002,
          166.66666700000002,
          166.66666700000002,
          183.33333370000003,
          183.33333370000003,
          183.33333370000003,
          183.33333370000003,
          183.33333370000003,
          183.33333370000003,
          183.33333370000003,
          183.33333370000003,
          183.33333370000003,
          183.33333370000003,
          183.33333370000003,
          183.33333370000003,
          183.33333370000003,
          183.33333370000003,
          183.33333370000003,
          183.33333370000003,
          183.33333370000003,
          183.33333370000003,
          200.00000040000003,
          200.00000040000003,
          200.00000040000003,
          200.00000040000003,
          200.00000040000003,
          200.00000040000003,
          200.00000040000003,
          200.00000040000003,
          200.00000040000003,
          200.00000040000003,
          200.00000040000003,
          200.00000040000003,
          200.00000040000003,
          200.00000040000003,
          200.00000040000003,
          200.00000040000003,
          200.00000040000003,
          200.00000040000003,
          216.66666709999998,
          216.66666709999998,
          216.66666709999998,
          216.66666709999998,
          216.66666709999998,
          216.66666709999998,
          216.66666709999998,
          216.66666709999998,
          216.66666709999998,
          216.66666709999998,
          216.66666709999998,
          216.66666709999998,
          216.66666709999998,
          216.66666709999998,
          216.66666709999998,
          216.66666709999998,
          216.66666709999998,
          216.66666709999998,
          233.3333338,
          233.3333338,
          233.3333338,
          233.3333338,
          233.3333338,
          233.3333338,
          233.3333338,
          233.3333338,
          233.3333338,
          233.3333338,
          233.3333338,
          233.3333338,
          233.3333338,
          233.3333338,
          233.3333338,
          233.3333338,
          233.3333338,
          233.3333338,
          250.0000005,
          250.0000005,
          250.0000005,
          250.0000005,
          250.0000005,
          250.0000005,
          250.0000005,
          250.0000005,
          250.0000005,
          250.0000005,
          250.0000005,
          250.0000005,
          250.0000005,
          250.0000005,
          250.0000005,
          250.0000005,
          250.0000005,
          250.0000005,
          -241.66666715,
          -241.66666715,
          -241.66666715,
          -241.66666715,
          -241.66666715,
          -241.66666715,
          -241.66666715,
          -241.66666715,
          -241.66666715,
          -241.66666715,
          -241.66666715,
          -241.66666715,
          -241.66666715,
          -241.66666715,
          -241.66666715,
          -241.66666715,
          -241.66666715,
          -225.00000045,
          -225.00000045,
          -225.00000045,
          -225.00000045,
          -225.00000045,
          -225.00000045,
          -225.00000045,
          -225.00000045,
          -225.00000045,
          -225.00000045,
          -225.00000045,
          -225.00000045,
          -225.00000045,
          -225.00000045,
          -225.00000045,
          -225.00000045,
          -225.00000045,
          -208.33333375,
          -208.33333375,
          -208.33333375,
          -208.33333375,
          -208.33333375,
          -208.33333375,
          -208.33333375,
          -208.33333375,
          -208.33333375,
          -208.33333375,
          -208.33333375,
          -208.33333375,
          -208.33333375,
          -208.33333375,
          -208.33333375,
          -208.33333375,
          -208.33333375,
          -191.66666705,
          -191.66666705,
          -191.66666705,
          -191.66666705,
          -191.66666705,
          -191.66666705,
          -191.66666705,
          -191.66666705,
          -191.66666705,
          -191.66666705,
          -191.66666705,
          -191.66666705,
          -191.66666705,
          -191.66666705,
          -191.66666705,
          -191.66666705,
          -191.66666705,
          -175.00000035,
          -175.00000035,
          -175.00000035,
          -175.00000035,
          -175.00000035,
          -175.00000035,
          -175.00000035,
          -175.00000035,
          -175.00000035,
          -175.00000035,
          -175.00000035,
          -175.00000035,
          -175.00000035,
          -175.00000035,
          -175.00000035,
          -175.00000035,
          -175.00000035,
          -158.33333365,
          -158.33333365,
          -158.33333365,
          -158.33333365,
          -158.33333365,
          -158.33333365,
          -158.33333365,
          -158.33333365,
          -158.33333365,
          -158.33333365,
          -158.33333365,
          -158.33333365,
          -158.33333365,
          -158.33333365,
          -158.33333365,
          -158.33333365,
          -158.33333365,
          -141.66666694999998,
          -141.66666694999998,
          -141.66666694999998,
          -141.66666694999998,
          -141.66666694999998,
          -141.66666694999998,
          -141.66666694999998,
          -141.66666694999998,
          -141.66666694999998,
          -141.66666694999998,
          -141.66666694999998,
          -141.66666694999998,
          -141.66666694999998,
          -141.66666694999998,
          -141.66666694999998,
          -141.66666694999998,
          -141.66666694999998,
          -125.00000025,
          -125.00000025,
          -125.00000025,
          -125.00000025,
          -125.00000025,
          -125.00000025,
          -125.00000025,
          -125.00000025,
          -125.00000025,
          -125.00000025,
          -125.00000025,
          -125.00000025,
          -125.00000025,
          -125.00000025,
          -125.00000025,
          -125.00000025,
          -125.00000025,
          -108.33333354999999,
          -108.33333354999999,
          -108.33333354999999,
          -108.33333354999999,
          -108.33333354999999,
          -108.33333354999999,
          -108.33333354999999,
          -108.33333354999999,
          -108.33333354999999,
          -108.33333354999999,
          -108.33333354999999,
          -108.33333354999999,
          -108.33333354999999,
          -108.33333354999999,
          -108.33333354999999,
          -108.33333354999999,
          -108.33333354999999,
          -91.66666684999998,
          -91.66666684999998,
          -91.66666684999998,
          -91.66666684999998,
          -91.66666684999998,
          -91.66666684999998,
          -91.66666684999998,
          -91.66666684999998,
          -91.66666684999998,
          -91.66666684999998,
          -91.66666684999998,
          -91.66666684999998,
          -91.66666684999998,
          -91.66666684999998,
          -91.66666684999998,
          -91.66666684999998,
          -91.66666684999998,
          -75.00000015,
          -75.00000015,
          -75.00000015,
          -75.00000015,
          -75.00000015,
          -75.00000015,
          -75.00000015,
          -75.00000015,
          -75.00000015,
          -75.00000015,
          -75.00000015,
          -75.00000015,
          -75.00000015,
          -75.00000015,
          -75.00000015,
          -75.00000015,
          -75.00000015,
          -58.33333345,
          -58.33333345,
          -58.33333345,
          -58.33333345,
          -58.33333345,
          -58.33333345,
          -58.33333345,
          -58.33333345,
          -58.33333345,
          -58.33333345,
          -58.33333345,
          -58.33333345,
          -58.33333345,
          -58.33333345,
          -58.33333345,
          -58.33333345,
          -58.33333345,
          -41.66666674999999,
          -41.66666674999999,
          -41.66666674999999,
          -41.66666674999999,
          -41.66666674999999,
          -41.66666674999999,
          -41.66666674999999,
          -41.66666674999999,
          -41.66666674999999,
          -41.66666674999999,
          -41.66666674999999,
          -41.66666674999999,
          -41.66666674999999,
          -41.66666674999999,
          -41.66666674999999,
          -41.66666674999999,
          -41.66666674999999,
          -25.000000049999983,
          -25.000000049999983,
          -25.000000049999983,
          -25.000000049999983,
          -25.000000049999983,
          -25.000000049999983,
          -25.000000049999983,
          -25.000000049999983,
          -25.000000049999983,
          -25.000000049999983,
          -25.000000049999983,
          -25.000000049999983,
          -25.000000049999983,
          -25.000000049999983,
          -25.000000049999983,
          -25.000000049999983,
          -25.000000049999983,
          -8.333333350000004,
          -8.333333350000004,
          -8.333333350000004,
          -8.333333350000004,
          -8.333333350000004,
          -8.333333350000004,
          -8.333333350000004,
          -8.333333350000004,
          -8.333333350000004,
          -8.333333350000004,
          -8.333333350000004,
          -8.333333350000004,
          -8.333333350000004,
          -8.333333350000004,
          -8.333333350000004,
          -8.333333350000004,
          -8.333333350000004,
          8.333333350000032,
          8.333333350000032,
          8.333333350000032,
          8.333333350000032,
          8.333333350000032,
          8.333333350000032,
          8.333333350000032,
          8.333333350000032,
          8.333333350000032,
          8.333333350000032,
          8.333333350000032,
          8.333333350000032,
          8.333333350000032,
          8.333333350000032,
          8.333333350000032,
          8.333333350000032,
          8.333333350000032,
          25.000000049999983,
          25.000000049999983,
          25.000000049999983,
          25.000000049999983,
          25.000000049999983,
          25.000000049999983,
          25.000000049999983,
          25.000000049999983,
          25.000000049999983,
          25.000000049999983,
          25.000000049999983,
          25.000000049999983,
          25.000000049999983,
          25.000000049999983,
          25.000000049999983,
          25.000000049999983,
          25.000000049999983,
          41.66666674999999,
          41.66666674999999,
          41.66666674999999,
          41.66666674999999,
          41.66666674999999,
          41.66666674999999,
          41.66666674999999,
          41.66666674999999,
          41.66666674999999,
          41.66666674999999,
          41.66666674999999,
          41.66666674999999,
          41.66666674999999,
          41.66666674999999,
          41.66666674999999,
          41.66666674999999,
          41.66666674999999,
          58.33333345,
          58.33333345,
          58.33333345,
          58.33333345,
          58.33333345,
          58.33333345,
          58.33333345,
          58.33333345,
          58.33333345,
          58.33333345,
          58.33333345,
          58.33333345,
          58.33333345,
          58.33333345,
          58.33333345,
          58.33333345,
          58.33333345,
          75.00000015,
          75.00000015,
          75.00000015,
          75.00000015,
          75.00000015,
          75.00000015,
          75.00000015,
          75.00000015,
          75.00000015,
          75.00000015,
          75.00000015,
          75.00000015,
          75.00000015,
          75.00000015,
          75.00000015,
          75.00000015,
          75.00000015,
          91.66666685000001,
          91.66666685000001,
          91.66666685000001,
          91.66666685000001,
          91.66666685000001,
          91.66666685000001,
          91.66666685000001,
          91.66666685000001,
          91.66666685000001,
          91.66666685000001,
          91.66666685000001,
          91.66666685000001,
          91.66666685000001,
          91.66666685000001,
          91.66666685000001,
          91.66666685000001,
          91.66666685000001,
          108.33333355000002,
          108.33333355000002,
          108.33333355000002,
          108.33333355000002,
          108.33333355000002,
          108.33333355000002,
          108.33333355000002,
          108.33333355000002,
          108.33333355000002,
          108.33333355000002,
          108.33333355000002,
          108.33333355000002,
          108.33333355000002,
          108.33333355000002,
          108.33333355000002,
          108.33333355000002,
          108.33333355000002,
          125.00000025000003,
          125.00000025000003,
          125.00000025000003,
          125.00000025000003,
          125.00000025000003,
          125.00000025000003,
          125.00000025000003,
          125.00000025000003,
          125.00000025000003,
          125.00000025000003,
          125.00000025000003,
          125.00000025000003,
          125.00000025000003,
          125.00000025000003,
          125.00000025000003,
          125.00000025000003,
          125.00000025000003,
          141.66666695000004,
          141.66666695000004,
          141.66666695000004,
          141.66666695000004,
          141.66666695000004,
          141.66666695000004,
          141.66666695000004,
          141.66666695000004,
          141.66666695000004,
          141.66666695000004,
          141.66666695000004,
          141.66666695000004,
          141.66666695000004,
          141.66666695000004,
          141.66666695000004,
          141.66666695000004,
          141.66666695000004,
          158.33333365,
          158.33333365,
          158.33333365,
          158.33333365,
          158.33333365,
          158.33333365,
          158.33333365,
          158.33333365,
          158.33333365,
          158.33333365,
          158.33333365,
          158.33333365,
          158.33333365,
          158.33333365,
          158.33333365,
          158.33333365,
          158.33333365,
          175.00000035,
          175.00000035,
          175.00000035,
          175.00000035,
          175.00000035,
          175.00000035,
          175.00000035,
          175.00000035,
          175.00000035,
          175.00000035,
          175.00000035,
          175.00000035,
          175.00000035,
          175.00000035,
          175.00000035,
          175.00000035,
          175.00000035,
          191.66666705,
          191.66666705,
          191.66666705,
          191.66666705,
          191.66666705,
          191.66666705,
          191.66666705,
          191.66666705,
          191.66666705,
          191.66666705,
          191.66666705,
          191.66666705,
          191.66666705,
          191.66666705,
          191.66666705,
          191.66666705,
          191.66666705,
          208.33333375,
          208.33333375,
          208.33333375,
          208.33333375,
          208.33333375,
          208.33333375,
          208.33333375,
          208.33333375,
          208.33333375,
          208.33333375,
          208.33333375,
          208.33333375,
          208.33333375,
          208.33333375,
          208.33333375,
          208.33333375,
          208.33333375,
          225.00000045000002,
          225.00000045000002,
          225.00000045000002,
          225.00000045000002,
          225.00000045000002,
          225.00000045000002,
          225.00000045000002,
          225.00000045000002,
          225.00000045000002,
          225.00000045000002,
          225.00000045000002,
          225.00000045000002,
          225.00000045000002,
          225.00000045000002,
          225.00000045000002,
          225.00000045000002,
          225.00000045000002,
          241.66666715000002,
          241.66666715000002,
          241.66666715000002,
          241.66666715000002,
          241.66666715000002,
          241.66666715000002,
          241.66666715000002,
          241.66666715000002,
          241.66666715000002,
          241.66666715000002,
          241.66666715000002,
          241.66666715000002,
          241.66666715000002,
          241.66666715000002,
          241.66666715000002,
          241.66666715000002,
          241.66666715000002
         ],
         "y": [
          422.5,
          394.8529411764706,
          367.20588235294116,
          339.55882352941177,
          311.9117647058823,
          284.2647058823529,
          256.61764705882354,
          228.97058823529412,
          201.3235294117647,
          173.67647058823528,
          146.02941176470586,
          118.38235294117646,
          90.73529411764707,
          63.088235294117624,
          35.44117647058823,
          7.794117647058783,
          -19.85294117647061,
          -47.5,
          422.5,
          394.8529411764706,
          367.20588235294116,
          339.55882352941177,
          311.9117647058823,
          284.2647058823529,
          256.61764705882354,
          228.97058823529412,
          201.3235294117647,
          173.67647058823528,
          146.02941176470586,
          118.38235294117646,
          90.73529411764707,
          63.088235294117624,
          35.44117647058823,
          7.794117647058783,
          -19.85294117647061,
          -47.5,
          422.5,
          394.8529411764706,
          367.20588235294116,
          339.55882352941177,
          311.9117647058823,
          284.2647058823529,
          256.61764705882354,
          228.97058823529412,
          201.3235294117647,
          173.67647058823528,
          146.02941176470586,
          118.38235294117646,
          90.73529411764707,
          63.088235294117624,
          35.44117647058823,
          7.794117647058783,
          -19.85294117647061,
          -47.5,
          422.5,
          394.8529411764706,
          367.20588235294116,
          339.55882352941177,
          311.9117647058823,
          284.2647058823529,
          256.61764705882354,
          228.97058823529412,
          201.3235294117647,
          173.67647058823528,
          146.02941176470586,
          118.38235294117646,
          90.73529411764707,
          63.088235294117624,
          35.44117647058823,
          7.794117647058783,
          -19.85294117647061,
          -47.5,
          422.5,
          394.8529411764706,
          367.20588235294116,
          339.55882352941177,
          311.9117647058823,
          284.2647058823529,
          256.61764705882354,
          228.97058823529412,
          201.3235294117647,
          173.67647058823528,
          146.02941176470586,
          118.38235294117646,
          90.73529411764707,
          63.088235294117624,
          35.44117647058823,
          7.794117647058783,
          -19.85294117647061,
          -47.5,
          422.5,
          394.8529411764706,
          367.20588235294116,
          339.55882352941177,
          311.9117647058823,
          284.2647058823529,
          256.61764705882354,
          228.97058823529412,
          201.3235294117647,
          173.67647058823528,
          146.02941176470586,
          118.38235294117646,
          90.73529411764707,
          63.088235294117624,
          35.44117647058823,
          7.794117647058783,
          -19.85294117647061,
          -47.5,
          422.5,
          394.8529411764706,
          367.20588235294116,
          339.55882352941177,
          311.9117647058823,
          284.2647058823529,
          256.61764705882354,
          228.97058823529412,
          201.3235294117647,
          173.67647058823528,
          146.02941176470586,
          118.38235294117646,
          90.73529411764707,
          63.088235294117624,
          35.44117647058823,
          7.794117647058783,
          -19.85294117647061,
          -47.5,
          422.5,
          394.8529411764706,
          367.20588235294116,
          339.55882352941177,
          311.9117647058823,
          284.2647058823529,
          256.61764705882354,
          228.97058823529412,
          201.3235294117647,
          173.67647058823528,
          146.02941176470586,
          118.38235294117646,
          90.73529411764707,
          63.088235294117624,
          35.44117647058823,
          7.794117647058783,
          -19.85294117647061,
          -47.5,
          422.5,
          394.8529411764706,
          367.20588235294116,
          339.55882352941177,
          311.9117647058823,
          284.2647058823529,
          256.61764705882354,
          228.97058823529412,
          201.3235294117647,
          173.67647058823528,
          146.02941176470586,
          118.38235294117646,
          90.73529411764707,
          63.088235294117624,
          35.44117647058823,
          7.794117647058783,
          -19.85294117647061,
          -47.5,
          422.5,
          394.8529411764706,
          367.20588235294116,
          339.55882352941177,
          311.9117647058823,
          284.2647058823529,
          256.61764705882354,
          228.97058823529412,
          201.3235294117647,
          173.67647058823528,
          146.02941176470586,
          118.38235294117646,
          90.73529411764707,
          63.088235294117624,
          35.44117647058823,
          7.794117647058783,
          -19.85294117647061,
          -47.5,
          422.5,
          394.8529411764706,
          367.20588235294116,
          339.55882352941177,
          311.9117647058823,
          284.2647058823529,
          256.61764705882354,
          228.97058823529412,
          201.3235294117647,
          173.67647058823528,
          146.02941176470586,
          118.38235294117646,
          90.73529411764707,
          63.088235294117624,
          35.44117647058823,
          7.794117647058783,
          -19.85294117647061,
          -47.5,
          422.5,
          394.8529411764706,
          367.20588235294116,
          339.55882352941177,
          311.9117647058823,
          284.2647058823529,
          256.61764705882354,
          228.97058823529412,
          201.3235294117647,
          173.67647058823528,
          146.02941176470586,
          118.38235294117646,
          90.73529411764707,
          63.088235294117624,
          35.44117647058823,
          7.794117647058783,
          -19.85294117647061,
          -47.5,
          422.5,
          394.8529411764706,
          367.20588235294116,
          339.55882352941177,
          311.9117647058823,
          284.2647058823529,
          256.61764705882354,
          228.97058823529412,
          201.3235294117647,
          173.67647058823528,
          146.02941176470586,
          118.38235294117646,
          90.73529411764707,
          63.088235294117624,
          35.44117647058823,
          7.794117647058783,
          -19.85294117647061,
          -47.5,
          422.5,
          394.8529411764706,
          367.20588235294116,
          339.55882352941177,
          311.9117647058823,
          284.2647058823529,
          256.61764705882354,
          228.97058823529412,
          201.3235294117647,
          173.67647058823528,
          146.02941176470586,
          118.38235294117646,
          90.73529411764707,
          63.088235294117624,
          35.44117647058823,
          7.794117647058783,
          -19.85294117647061,
          -47.5,
          422.5,
          394.8529411764706,
          367.20588235294116,
          339.55882352941177,
          311.9117647058823,
          284.2647058823529,
          256.61764705882354,
          228.97058823529412,
          201.3235294117647,
          173.67647058823528,
          146.02941176470586,
          118.38235294117646,
          90.73529411764707,
          63.088235294117624,
          35.44117647058823,
          7.794117647058783,
          -19.85294117647061,
          -47.5,
          422.5,
          394.8529411764706,
          367.20588235294116,
          339.55882352941177,
          311.9117647058823,
          284.2647058823529,
          256.61764705882354,
          228.97058823529412,
          201.3235294117647,
          173.67647058823528,
          146.02941176470586,
          118.38235294117646,
          90.73529411764707,
          63.088235294117624,
          35.44117647058823,
          7.794117647058783,
          -19.85294117647061,
          -47.5,
          422.5,
          394.8529411764706,
          367.20588235294116,
          339.55882352941177,
          311.9117647058823,
          284.2647058823529,
          256.61764705882354,
          228.97058823529412,
          201.3235294117647,
          173.67647058823528,
          146.02941176470586,
          118.38235294117646,
          90.73529411764707,
          63.088235294117624,
          35.44117647058823,
          7.794117647058783,
          -19.85294117647061,
          -47.5,
          422.5,
          394.8529411764706,
          367.20588235294116,
          339.55882352941177,
          311.9117647058823,
          284.2647058823529,
          256.61764705882354,
          228.97058823529412,
          201.3235294117647,
          173.67647058823528,
          146.02941176470586,
          118.38235294117646,
          90.73529411764707,
          63.088235294117624,
          35.44117647058823,
          7.794117647058783,
          -19.85294117647061,
          -47.5,
          422.5,
          394.8529411764706,
          367.20588235294116,
          339.55882352941177,
          311.9117647058823,
          284.2647058823529,
          256.61764705882354,
          228.97058823529412,
          201.3235294117647,
          173.67647058823528,
          146.02941176470586,
          118.38235294117646,
          90.73529411764707,
          63.088235294117624,
          35.44117647058823,
          7.794117647058783,
          -19.85294117647061,
          -47.5,
          422.5,
          394.8529411764706,
          367.20588235294116,
          339.55882352941177,
          311.9117647058823,
          284.2647058823529,
          256.61764705882354,
          228.97058823529412,
          201.3235294117647,
          173.67647058823528,
          146.02941176470586,
          118.38235294117646,
          90.73529411764707,
          63.088235294117624,
          35.44117647058823,
          7.794117647058783,
          -19.85294117647061,
          -47.5,
          422.5,
          394.8529411764706,
          367.20588235294116,
          339.55882352941177,
          311.9117647058823,
          284.2647058823529,
          256.61764705882354,
          228.97058823529412,
          201.3235294117647,
          173.67647058823528,
          146.02941176470586,
          118.38235294117646,
          90.73529411764707,
          63.088235294117624,
          35.44117647058823,
          7.794117647058783,
          -19.85294117647061,
          -47.5,
          422.5,
          394.8529411764706,
          367.20588235294116,
          339.55882352941177,
          311.9117647058823,
          284.2647058823529,
          256.61764705882354,
          228.97058823529412,
          201.3235294117647,
          173.67647058823528,
          146.02941176470586,
          118.38235294117646,
          90.73529411764707,
          63.088235294117624,
          35.44117647058823,
          7.794117647058783,
          -19.85294117647061,
          -47.5,
          422.5,
          394.8529411764706,
          367.20588235294116,
          339.55882352941177,
          311.9117647058823,
          284.2647058823529,
          256.61764705882354,
          228.97058823529412,
          201.3235294117647,
          173.67647058823528,
          146.02941176470586,
          118.38235294117646,
          90.73529411764707,
          63.088235294117624,
          35.44117647058823,
          7.794117647058783,
          -19.85294117647061,
          -47.5,
          422.5,
          394.8529411764706,
          367.20588235294116,
          339.55882352941177,
          311.9117647058823,
          284.2647058823529,
          256.61764705882354,
          228.97058823529412,
          201.3235294117647,
          173.67647058823528,
          146.02941176470586,
          118.38235294117646,
          90.73529411764707,
          63.088235294117624,
          35.44117647058823,
          7.794117647058783,
          -19.85294117647061,
          -47.5,
          422.5,
          394.8529411764706,
          367.20588235294116,
          339.55882352941177,
          311.9117647058823,
          284.2647058823529,
          256.61764705882354,
          228.97058823529412,
          201.3235294117647,
          173.67647058823528,
          146.02941176470586,
          118.38235294117646,
          90.73529411764707,
          63.088235294117624,
          35.44117647058823,
          7.794117647058783,
          -19.85294117647061,
          -47.5,
          422.5,
          394.8529411764706,
          367.20588235294116,
          339.55882352941177,
          311.9117647058823,
          284.2647058823529,
          256.61764705882354,
          228.97058823529412,
          201.3235294117647,
          173.67647058823528,
          146.02941176470586,
          118.38235294117646,
          90.73529411764707,
          63.088235294117624,
          35.44117647058823,
          7.794117647058783,
          -19.85294117647061,
          -47.5,
          422.5,
          394.8529411764706,
          367.20588235294116,
          339.55882352941177,
          311.9117647058823,
          284.2647058823529,
          256.61764705882354,
          228.97058823529412,
          201.3235294117647,
          173.67647058823528,
          146.02941176470586,
          118.38235294117646,
          90.73529411764707,
          63.088235294117624,
          35.44117647058823,
          7.794117647058783,
          -19.85294117647061,
          -47.5,
          422.5,
          394.8529411764706,
          367.20588235294116,
          339.55882352941177,
          311.9117647058823,
          284.2647058823529,
          256.61764705882354,
          228.97058823529412,
          201.3235294117647,
          173.67647058823528,
          146.02941176470586,
          118.38235294117646,
          90.73529411764707,
          63.088235294117624,
          35.44117647058823,
          7.794117647058783,
          -19.85294117647061,
          -47.5,
          422.5,
          394.8529411764706,
          367.20588235294116,
          339.55882352941177,
          311.9117647058823,
          284.2647058823529,
          256.61764705882354,
          228.97058823529412,
          201.3235294117647,
          173.67647058823528,
          146.02941176470586,
          118.38235294117646,
          90.73529411764707,
          63.088235294117624,
          35.44117647058823,
          7.794117647058783,
          -19.85294117647061,
          -47.5,
          422.5,
          394.8529411764706,
          367.20588235294116,
          339.55882352941177,
          311.9117647058823,
          284.2647058823529,
          256.61764705882354,
          228.97058823529412,
          201.3235294117647,
          173.67647058823528,
          146.02941176470586,
          118.38235294117646,
          90.73529411764707,
          63.088235294117624,
          35.44117647058823,
          7.794117647058783,
          -19.85294117647061,
          -47.5,
          422.5,
          394.8529411764706,
          367.20588235294116,
          339.55882352941177,
          311.9117647058823,
          284.2647058823529,
          256.61764705882354,
          228.97058823529412,
          201.3235294117647,
          173.67647058823528,
          146.02941176470586,
          118.38235294117646,
          90.73529411764707,
          63.088235294117624,
          35.44117647058823,
          7.794117647058783,
          -19.85294117647061,
          -47.5,
          408.6764705882353,
          381.02941176470586,
          353.38235294117646,
          325.7352941176471,
          298.0882352941176,
          270.44117647058823,
          242.7941176470588,
          215.1470588235294,
          187.5,
          159.85294117647055,
          132.20588235294116,
          104.55882352941177,
          76.91176470588232,
          49.26470588235293,
          21.617647058823536,
          -6.0294117647059124,
          -33.676470588235304,
          408.6764705882353,
          381.02941176470586,
          353.38235294117646,
          325.7352941176471,
          298.0882352941176,
          270.44117647058823,
          242.7941176470588,
          215.1470588235294,
          187.5,
          159.85294117647055,
          132.20588235294116,
          104.55882352941177,
          76.91176470588232,
          49.26470588235293,
          21.617647058823536,
          -6.0294117647059124,
          -33.676470588235304,
          408.6764705882353,
          381.02941176470586,
          353.38235294117646,
          325.7352941176471,
          298.0882352941176,
          270.44117647058823,
          242.7941176470588,
          215.1470588235294,
          187.5,
          159.85294117647055,
          132.20588235294116,
          104.55882352941177,
          76.91176470588232,
          49.26470588235293,
          21.617647058823536,
          -6.0294117647059124,
          -33.676470588235304,
          408.6764705882353,
          381.02941176470586,
          353.38235294117646,
          325.7352941176471,
          298.0882352941176,
          270.44117647058823,
          242.7941176470588,
          215.1470588235294,
          187.5,
          159.85294117647055,
          132.20588235294116,
          104.55882352941177,
          76.91176470588232,
          49.26470588235293,
          21.617647058823536,
          -6.0294117647059124,
          -33.676470588235304,
          408.6764705882353,
          381.02941176470586,
          353.38235294117646,
          325.7352941176471,
          298.0882352941176,
          270.44117647058823,
          242.7941176470588,
          215.1470588235294,
          187.5,
          159.85294117647055,
          132.20588235294116,
          104.55882352941177,
          76.91176470588232,
          49.26470588235293,
          21.617647058823536,
          -6.0294117647059124,
          -33.676470588235304,
          408.6764705882353,
          381.02941176470586,
          353.38235294117646,
          325.7352941176471,
          298.0882352941176,
          270.44117647058823,
          242.7941176470588,
          215.1470588235294,
          187.5,
          159.85294117647055,
          132.20588235294116,
          104.55882352941177,
          76.91176470588232,
          49.26470588235293,
          21.617647058823536,
          -6.0294117647059124,
          -33.676470588235304,
          408.6764705882353,
          381.02941176470586,
          353.38235294117646,
          325.7352941176471,
          298.0882352941176,
          270.44117647058823,
          242.7941176470588,
          215.1470588235294,
          187.5,
          159.85294117647055,
          132.20588235294116,
          104.55882352941177,
          76.91176470588232,
          49.26470588235293,
          21.617647058823536,
          -6.0294117647059124,
          -33.676470588235304,
          408.6764705882353,
          381.02941176470586,
          353.38235294117646,
          325.7352941176471,
          298.0882352941176,
          270.44117647058823,
          242.7941176470588,
          215.1470588235294,
          187.5,
          159.85294117647055,
          132.20588235294116,
          104.55882352941177,
          76.91176470588232,
          49.26470588235293,
          21.617647058823536,
          -6.0294117647059124,
          -33.676470588235304,
          408.6764705882353,
          381.02941176470586,
          353.38235294117646,
          325.7352941176471,
          298.0882352941176,
          270.44117647058823,
          242.7941176470588,
          215.1470588235294,
          187.5,
          159.85294117647055,
          132.20588235294116,
          104.55882352941177,
          76.91176470588232,
          49.26470588235293,
          21.617647058823536,
          -6.0294117647059124,
          -33.676470588235304,
          408.6764705882353,
          381.02941176470586,
          353.38235294117646,
          325.7352941176471,
          298.0882352941176,
          270.44117647058823,
          242.7941176470588,
          215.1470588235294,
          187.5,
          159.85294117647055,
          132.20588235294116,
          104.55882352941177,
          76.91176470588232,
          49.26470588235293,
          21.617647058823536,
          -6.0294117647059124,
          -33.676470588235304,
          408.6764705882353,
          381.02941176470586,
          353.38235294117646,
          325.7352941176471,
          298.0882352941176,
          270.44117647058823,
          242.7941176470588,
          215.1470588235294,
          187.5,
          159.85294117647055,
          132.20588235294116,
          104.55882352941177,
          76.91176470588232,
          49.26470588235293,
          21.617647058823536,
          -6.0294117647059124,
          -33.676470588235304,
          408.6764705882353,
          381.02941176470586,
          353.38235294117646,
          325.7352941176471,
          298.0882352941176,
          270.44117647058823,
          242.7941176470588,
          215.1470588235294,
          187.5,
          159.85294117647055,
          132.20588235294116,
          104.55882352941177,
          76.91176470588232,
          49.26470588235293,
          21.617647058823536,
          -6.0294117647059124,
          -33.676470588235304,
          408.6764705882353,
          381.02941176470586,
          353.38235294117646,
          325.7352941176471,
          298.0882352941176,
          270.44117647058823,
          242.7941176470588,
          215.1470588235294,
          187.5,
          159.85294117647055,
          132.20588235294116,
          104.55882352941177,
          76.91176470588232,
          49.26470588235293,
          21.617647058823536,
          -6.0294117647059124,
          -33.676470588235304,
          408.6764705882353,
          381.02941176470586,
          353.38235294117646,
          325.7352941176471,
          298.0882352941176,
          270.44117647058823,
          242.7941176470588,
          215.1470588235294,
          187.5,
          159.85294117647055,
          132.20588235294116,
          104.55882352941177,
          76.91176470588232,
          49.26470588235293,
          21.617647058823536,
          -6.0294117647059124,
          -33.676470588235304,
          408.6764705882353,
          381.02941176470586,
          353.38235294117646,
          325.7352941176471,
          298.0882352941176,
          270.44117647058823,
          242.7941176470588,
          215.1470588235294,
          187.5,
          159.85294117647055,
          132.20588235294116,
          104.55882352941177,
          76.91176470588232,
          49.26470588235293,
          21.617647058823536,
          -6.0294117647059124,
          -33.676470588235304,
          408.6764705882353,
          381.02941176470586,
          353.38235294117646,
          325.7352941176471,
          298.0882352941176,
          270.44117647058823,
          242.7941176470588,
          215.1470588235294,
          187.5,
          159.85294117647055,
          132.20588235294116,
          104.55882352941177,
          76.91176470588232,
          49.26470588235293,
          21.617647058823536,
          -6.0294117647059124,
          -33.676470588235304,
          408.6764705882353,
          381.02941176470586,
          353.38235294117646,
          325.7352941176471,
          298.0882352941176,
          270.44117647058823,
          242.7941176470588,
          215.1470588235294,
          187.5,
          159.85294117647055,
          132.20588235294116,
          104.55882352941177,
          76.91176470588232,
          49.26470588235293,
          21.617647058823536,
          -6.0294117647059124,
          -33.676470588235304,
          408.6764705882353,
          381.02941176470586,
          353.38235294117646,
          325.7352941176471,
          298.0882352941176,
          270.44117647058823,
          242.7941176470588,
          215.1470588235294,
          187.5,
          159.85294117647055,
          132.20588235294116,
          104.55882352941177,
          76.91176470588232,
          49.26470588235293,
          21.617647058823536,
          -6.0294117647059124,
          -33.676470588235304,
          408.6764705882353,
          381.02941176470586,
          353.38235294117646,
          325.7352941176471,
          298.0882352941176,
          270.44117647058823,
          242.7941176470588,
          215.1470588235294,
          187.5,
          159.85294117647055,
          132.20588235294116,
          104.55882352941177,
          76.91176470588232,
          49.26470588235293,
          21.617647058823536,
          -6.0294117647059124,
          -33.676470588235304,
          408.6764705882353,
          381.02941176470586,
          353.38235294117646,
          325.7352941176471,
          298.0882352941176,
          270.44117647058823,
          242.7941176470588,
          215.1470588235294,
          187.5,
          159.85294117647055,
          132.20588235294116,
          104.55882352941177,
          76.91176470588232,
          49.26470588235293,
          21.617647058823536,
          -6.0294117647059124,
          -33.676470588235304,
          408.6764705882353,
          381.02941176470586,
          353.38235294117646,
          325.7352941176471,
          298.0882352941176,
          270.44117647058823,
          242.7941176470588,
          215.1470588235294,
          187.5,
          159.85294117647055,
          132.20588235294116,
          104.55882352941177,
          76.91176470588232,
          49.26470588235293,
          21.617647058823536,
          -6.0294117647059124,
          -33.676470588235304,
          408.6764705882353,
          381.02941176470586,
          353.38235294117646,
          325.7352941176471,
          298.0882352941176,
          270.44117647058823,
          242.7941176470588,
          215.1470588235294,
          187.5,
          159.85294117647055,
          132.20588235294116,
          104.55882352941177,
          76.91176470588232,
          49.26470588235293,
          21.617647058823536,
          -6.0294117647059124,
          -33.676470588235304,
          408.6764705882353,
          381.02941176470586,
          353.38235294117646,
          325.7352941176471,
          298.0882352941176,
          270.44117647058823,
          242.7941176470588,
          215.1470588235294,
          187.5,
          159.85294117647055,
          132.20588235294116,
          104.55882352941177,
          76.91176470588232,
          49.26470588235293,
          21.617647058823536,
          -6.0294117647059124,
          -33.676470588235304,
          408.6764705882353,
          381.02941176470586,
          353.38235294117646,
          325.7352941176471,
          298.0882352941176,
          270.44117647058823,
          242.7941176470588,
          215.1470588235294,
          187.5,
          159.85294117647055,
          132.20588235294116,
          104.55882352941177,
          76.91176470588232,
          49.26470588235293,
          21.617647058823536,
          -6.0294117647059124,
          -33.676470588235304,
          408.6764705882353,
          381.02941176470586,
          353.38235294117646,
          325.7352941176471,
          298.0882352941176,
          270.44117647058823,
          242.7941176470588,
          215.1470588235294,
          187.5,
          159.85294117647055,
          132.20588235294116,
          104.55882352941177,
          76.91176470588232,
          49.26470588235293,
          21.617647058823536,
          -6.0294117647059124,
          -33.676470588235304,
          408.6764705882353,
          381.02941176470586,
          353.38235294117646,
          325.7352941176471,
          298.0882352941176,
          270.44117647058823,
          242.7941176470588,
          215.1470588235294,
          187.5,
          159.85294117647055,
          132.20588235294116,
          104.55882352941177,
          76.91176470588232,
          49.26470588235293,
          21.617647058823536,
          -6.0294117647059124,
          -33.676470588235304,
          408.6764705882353,
          381.02941176470586,
          353.38235294117646,
          325.7352941176471,
          298.0882352941176,
          270.44117647058823,
          242.7941176470588,
          215.1470588235294,
          187.5,
          159.85294117647055,
          132.20588235294116,
          104.55882352941177,
          76.91176470588232,
          49.26470588235293,
          21.617647058823536,
          -6.0294117647059124,
          -33.676470588235304,
          408.6764705882353,
          381.02941176470586,
          353.38235294117646,
          325.7352941176471,
          298.0882352941176,
          270.44117647058823,
          242.7941176470588,
          215.1470588235294,
          187.5,
          159.85294117647055,
          132.20588235294116,
          104.55882352941177,
          76.91176470588232,
          49.26470588235293,
          21.617647058823536,
          -6.0294117647059124,
          -33.676470588235304,
          408.6764705882353,
          381.02941176470586,
          353.38235294117646,
          325.7352941176471,
          298.0882352941176,
          270.44117647058823,
          242.7941176470588,
          215.1470588235294,
          187.5,
          159.85294117647055,
          132.20588235294116,
          104.55882352941177,
          76.91176470588232,
          49.26470588235293,
          21.617647058823536,
          -6.0294117647059124,
          -33.676470588235304,
          408.6764705882353,
          381.02941176470586,
          353.38235294117646,
          325.7352941176471,
          298.0882352941176,
          270.44117647058823,
          242.7941176470588,
          215.1470588235294,
          187.5,
          159.85294117647055,
          132.20588235294116,
          104.55882352941177,
          76.91176470588232,
          49.26470588235293,
          21.617647058823536,
          -6.0294117647059124,
          -33.676470588235304
         ]
        }
       ],
       "layout": {
        "annotations": [
         {
          "showarrow": false,
          "text": "source: nba.com/stats",
          "x": 0.99,
          "xref": "paper",
          "y": -0.03,
          "yref": "paper"
         },
         {
          "showarrow": false,
          "text": "Cole Wood",
          "x": 0.01,
          "xref": "paper",
          "y": -0.03,
          "yref": "paper"
         }
        ],
        "height": 565.3846153846154,
        "margin": {
         "b": 20,
         "l": 5,
         "r": 5,
         "t": 80
        },
        "paper_bgcolor": " #2f2f2f ",
        "plot_bgcolor": " #2f2f2f ",
        "shapes": [
         {
          "layer": "below",
          "line": {
           "color": "#777777",
           "width": 1
          },
          "type": "rect",
          "x0": -250,
          "x1": 250,
          "y0": -52.5,
          "y1": 417.5
         },
         {
          "layer": "below",
          "line": {
           "color": "#777777",
           "width": 1
          },
          "type": "rect",
          "x0": -80,
          "x1": 80,
          "y0": -52.5,
          "y1": 137.5
         },
         {
          "fillcolor": "#333333",
          "layer": "below",
          "line": {
           "color": "#777777",
           "width": 1
          },
          "type": "rect",
          "x0": -60,
          "x1": 60,
          "y0": -52.5,
          "y1": 137.5
         },
         {
          "fillcolor": "#2f2f2f",
          "layer": "below",
          "line": {
           "color": "#777777",
           "width": 1
          },
          "type": "circle",
          "x0": -60,
          "x1": 60,
          "xref": "x",
          "y0": 77.5,
          "y1": 197.5,
          "yref": "y"
         },
         {
          "layer": "below",
          "line": {
           "color": "#777777",
           "width": 1
          },
          "type": "line",
          "x0": -60,
          "x1": 60,
          "y0": 137.5,
          "y1": 137.5
         },
         {
          "fillcolor": "#ec7607",
          "line": {
           "color": "#ec7607",
           "width": 1
          },
          "type": "rect",
          "x0": -2,
          "x1": 2,
          "y0": -7.25,
          "y1": -12.5
         },
         {
          "line": {
           "color": "#ec7607",
           "width": 1
          },
          "type": "circle",
          "x0": -7.5,
          "x1": 7.5,
          "xref": "x",
          "y0": -7.5,
          "y1": 7.5,
          "yref": "y"
         },
         {
          "line": {
           "color": "#ec7607",
           "width": 1
          },
          "type": "line",
          "x0": -30,
          "x1": 30,
          "y0": -12.5,
          "y1": -12.5
         },
         {
          "layer": "below",
          "line": {
           "color": "#777777",
           "width": 1
          },
          "path": "M 40.0, 0.0L39.995015580706294, 0.6314496805454785L39.980063565046954, 1.262741990592421L39.955147679377745, 1.8937195988623197L39.92027413325974, 2.524225252506946L39.87545161791173, 3.1541018162990584L39.82069130404424, 3.7831923117937976L39.75600683907551, 4.411339956451001L39.68141434373031, 5.038388202708703L39.59693240802228, 5.664180776998066L39.50258208662095, 6.2885617186900316L39.39838689360442, 6.911375418963981L39.284372796599214, 7.532466659588715L39.16056821030858, 8.151680651606085L39.027003989430945, 8.768863073907653L38.88371342097028, 9.383860111694748L38.730732215940286, 9.996518494812335L38.568098500464465, 10.606685535947147L38.39585280627428, 11.214209168680577L38.21403806060779, 11.818937985386802L38.02269957551132, 12.420721274966752L37.82188503654668, 13.019409060408469L37.611644490907025, 13.614852136164512L37.39203033494393, 14.206902105337136L37.163097301109225, 14.795411416661873L36.92490244431443, 15.380233401280435L36.677505127711555, 15.961222309293639L36.42096700789849, 16.538233346085363L36.15535201955294, 17.111122708408384L35.88072635949854, 17.679747620223164L35.59715847020721, 18.24396636828064L35.30471902274188, 18.80363833744012L35.003480899143746, 19.358624045713547L34.69351917426859, 19.908785179027323L34.37491109707648, 20.453984625693067L34.04773607137979, 20.994086510578732L33.712075636054024, 21.528956228971545L33.3680134447167, 22.058460480124296L33.01563524487905, 22.582467300476722L32.65502885657596, 23.100846096543542L32.28628415047942, 23.613467677461134L31.909493025500772, 24.12020428718458L31.524749385887695, 24.62092963632717L31.132149117821196, 25.115518933634334L30.73179006551883, 25.603848917084285L30.323772006849822, 26.085797884607462L29.908196628468367, 26.561245724417248L29.48516750047116, 27.03007394494435L29.054790050585577, 27.49216570436737L28.61717153789485, 27.94740583973226L28.172421026106885, 28.395680895653314L27.720649356373272, 28.836879152588658L27.261969119665352, 29.270890654683072L26.796494628714207, 29.697607237171326L26.324341889521506, 30.11692255333508L25.845628572448387, 30.528732101006742L25.360473982889545, 30.932933248613562L24.86899903153981, 31.329425260755617L24.371326204260665, 31.718109323311143L23.867579531554238, 32.09888856806312L23.357884557652252, 32.47166809684083L22.84236830922779, 32.8363550051705L22.321159263737606, 33.19285840542903L21.79438731740282, 33.5410894494951L21.26218375283606, 33.88096135089195L20.724681206323098, 34.21238940641648L20.1820136347671, 34.53529101724893L19.634316282303747, 34.84958570953839L19.081725646595583, 35.15519515445841L18.524379444813913, 35.45204318772834L17.962416579316805, 35.74005582859496L17.395977103031722, 36.01916129827006L16.825202184551365, 36.289290037819256L16.25023407295156, 36.55037472549747L15.671216062339726, 36.802350293526985L15.088292456143042, 37.04515394431365L14.501608531144983, 37.27872516609739L13.9113105012793, 37.503005748033004L13.317545481190443, 37.71793979469748L12.720461449569529, 37.923473740020384L12.12020721227491, 38.11955636063357L11.516932365246662, 38.30613878863718L10.91078725722413, 38.483174523778516L10.301922952275863, 38.650619445040874L9.690491192151327, 38.80843182163945L9.076644358463605, 38.95657232342151L8.460535434712762, 39.095004030668285L7.842317968159125, 39.223692443296166L7.222146031556092, 39.3426054894548L6.600174184751969, 39.451713533520106L5.976557436170438, 39.5509893834801L5.351451204179166, 39.64040829771169L4.725011278356322, 39.71994799114678L4.097393780664537, 39.789588640826274L3.468755126542029, 39.84931289084027L2.839251985920636, 39.89910585665355L2.2090412441803267, 39.93895512881515L1.578279963050113, 39.96885077605103L0.947125341464964, 39.98878534773912L0.3157346763885285, 39.998753875766255L-0.3157346763885324, 39.998753875766255L-0.9471253414649592, 39.98878534773912L-1.5782799630501079, 39.96885077605103L-2.2090412441803218, 39.93895512881515L-2.83925198592064, 39.89910585665355L-3.468755126542033, 39.84931289084027L-4.0973937806645315, 39.789588640826274L-4.725011278356317, 39.71994799114678L-5.351451204179161, 39.64040829771169L-5.976557436170433, 39.5509893834801L-6.600174184751973, 39.451713533520106L-7.222146031556088, 39.3426054894548L-7.84231796815912, 39.223692443296166L-8.460535434712758, 39.095004030668285L-9.076644358463602, 38.95657232342151L-9.690491192151331, 38.808431821639445L-10.301922952275868, 38.650619445040874L-10.910787257224124, 38.483174523778516L-11.516932365246655, 38.306138788637185L-12.120207212274906, 38.119556360633574L-12.720461449569525, 37.923473740020384L-13.317545481190447, 37.71793979469748L-13.911310501279296, 37.503005748033004L-14.501608531144976, 37.278725166097395L-15.088292456143037, 37.045153944313654L-15.67121606233972, 36.802350293526985L-16.25023407295156, 36.55037472549746L-16.82520218455136, 36.289290037819256L-17.39597710303172, 36.01916129827006L-17.962416579316812, 35.74005582859496L-18.524379444813906, 35.45204318772835L-19.081725646595586, 35.15519515445841L-19.63431628230374, 34.84958570953839L-20.182013634767095, 34.53529101724894L-20.7246812063231, 34.21238940641647L-21.26218375283605, 33.88096135089196L-21.79438731740282, 33.5410894494951L-22.321159263737602, 33.192858405429035L-22.84236830922779, 32.8363550051705L-23.357884557652255, 32.47166809684082L-23.867579531554238, 32.09888856806312L-24.37132620426067, 31.718109323311143L-24.8689990315398, 31.32942526075562L-25.360473982889545, 30.932933248613562L-25.845628572448398, 30.52873210100674L-26.324341889521502, 30.11692255333508L-26.79649462871421, 29.69760723717132L-27.261969119665345, 29.270890654683072L-27.720649356373272, 28.83687915258865L-28.17242102610688, 28.39568089565332L-28.617171537894848, 27.947405839732262L-29.054790050585577, 27.492165704367366L-29.485167500471153, 27.030073944944352L-29.908196628468367, 26.561245724417248L-30.323772006849815, 26.085797884607473L-30.731790065518826, 25.60384891708429L-31.1321491178212, 25.115518933634334L-31.52474938588769, 24.620929636327173L-31.909493025500772, 24.12020428718458L-32.28628415047941, 23.613467677461145L-32.65502885657596, 23.100846096543542L-33.01563524487905, 22.58246730047672L-33.368013444716695, 22.058460480124303L-33.712075636054024, 21.528956228971538L-34.04773607137978, 20.99408651057874L-34.37491109707648, 20.453984625693067L-34.69351917426859, 19.90878517902732L-35.003480899143746, 19.358624045713555L-35.30471902274188, 18.80363833744012L-35.597158470207205, 18.243966368280645L-35.88072635949854, 17.679747620223164L-36.15535201955294, 17.111122708408377L-36.42096700789849, 16.538233346085367L-36.677505127711555, 15.961222309293637L-36.92490244431443, 15.38023340128044L-37.163097301109225, 14.795411416661874L-37.392030334943925, 14.206902105337145L-37.61164449090702, 13.614852136164517L-37.82188503654668, 13.019409060408464L-38.02269957551131, 12.420721274966759L-38.21403806060779, 11.818937985386802L-38.39585280627428, 11.214209168680586L-38.568098500464465, 10.606685535947149L-38.73073221594029, 9.99651849481233L-38.88371342097028, 9.383860111694755L-39.027003989430945, 8.768863073907653L-39.160568210308575, 8.151680651606094L-39.284372796599214, 7.532466659588717L-39.39838689360442, 6.911375418963976L-39.50258208662095, 6.288561718690037L-39.59693240802228, 5.664180776998063L-39.68141434373031, 5.0383882027087115L-39.75600683907551, 4.411339956451003L-39.82069130404424, 3.7831923117937927L-39.87545161791173, 3.154101816299064L-39.92027413325974, 2.5242252525069437L-39.955147679377745, 1.893719598862328L-39.980063565046954, 1.2627419905924224L-39.995015580706294, 0.6314496805454728L-40.0, 4.898587196589413e-15",
          "type": "path"
         },
         {
          "layer": "below",
          "line": {
           "color": "#777777",
           "width": 1
          },
          "path": "M 220.00000002647042, 89.47765077578319L218.91923546938534, 92.09027278437074L217.80744586439718, 94.68984383780392L216.6647887733834, 97.27599552708344L215.4914261327353, 99.84836134499089L214.2875242304087, 102.40657673802988L213.05325368235742, 104.95027915809018L211.78878940835406, 107.47910811382769L210.49431060720033, 109.99270522175311L209.17000073133127, 112.4907142570216L207.81604746081638, 114.97278120391675L206.43264267676193, 117.43855430602136L205.01998243411757, 119.88768411606807L203.5782669338917, 122.31982354546268L202.10770049477918, 124.7346279134733L200.60849152420525, 127.13175499607823L199.0808524887905, 129.51086507446564L197.52499988424003, 131.8716209831781L195.941154204662, 134.21368815789566L194.32953991131944, 136.53673468284975L192.6903854008196, 138.84043133786213L191.02392297274588, 141.12445164500178L189.33038879673668, 143.3884719148528L187.6100228790154, 145.6321712923876L185.86306902837697, 147.85523180243834L184.08977482163576, 150.05733839475977L182.2903915685389, 152.23817898867804L180.46517427615095, 154.3974445173186L178.6143816127146, 156.53482897140674L176.73827587099245, 158.65002944263506L174.83712293109488, 160.74274616659133L172.91119222280003, 162.8126825652409L170.96075668737026, 164.85954528895738L168.98609273887115, 166.88304425809602L166.9874802249984, 168.8828927041036L164.96520238741812, 170.8588072101587L162.9195458216259, 172.81050775133767L160.85080043633073, 174.73771773429945L158.75925941236963, 176.64016403648384L156.64521916115808, 178.51757704481864L154.50897928268284, 180.36969069392865L152.3508425230431, 182.19624250384234L150.17111473154534, 183.99697361719035L147.97010481735873, 185.77162883589054L145.7481247057368, 187.5199566573142L143.50548929381165, 189.24170930992912L141.24251640596688, 190.9366427884134L138.95952674879592, 192.6045168882357L136.65684386565187, 194.24509523969672L134.33479409079484, 195.85814534142753L131.9937065031445, 197.44343859333932L129.6339128796432, 199.00075032902032L127.25574764823664, 200.5298598475756L124.85954784047927, 202.0305504449044L122.44565304377043, 203.5026094444113L120.01440535322807, 204.94582822714654L117.56614932320763, 206.3600022613715L115.10123191847197, 207.7449311315444L112.6200024650197, 209.10041856672348L110.12281260057917, 210.42627246838197L107.61001622477467, 211.72230493763223L105.08196944897188, 212.98833230185485L102.53903054581022, 214.22417514072822L99.98155989842888, 215.42965831165606L97.40991994939336, 216.60461097458838L94.82447514933048, 217.74886661623293L92.22559190527902, 218.8622630736531L89.6136385287624, 219.94464255724964L86.98898518359216, 220.99585167312253L84.35200383340874, 222.01574144480972L81.70306818896678, 223.00416733439994L79.04255365517345, 223.96098926301656L76.37083727788615, 224.88607163066956L73.68829769047824, 225.77928333547226L70.99531506017897, 226.64049779222145L68.29227103419686, 227.46959295033656L65.57954868563291, 228.26645131115677L62.857532459191745, 229.03095994459278L60.12660811669832, 229.76301050513112L57.38716268242849, 230.46249924718876L54.63958438825976, 231.12932703981605L51.884262618651675, 231.76339938074514L49.12158785546265, 232.36462640978309L46.35195162261098, 232.93292292154652L43.5757464305885, 233.46820837753705L40.79336572083451, 233.97040691755495L38.00520380997721, 234.4394473704502L35.21165583395196, 234.87526326420863L32.41311769200248, 235.27779283537237L29.609985990574604, 235.64697903779282L26.80265798710965, 235.98276955071535L23.991531533745142, 236.28511678619392L21.177005020931738, 236.55397789583552L18.359477320973582, 236.78931477687217L15.53934773150066, 236.99109407756129L12.717015918880387, 237.15928720191192L9.892881861577349, 237.2938703137375L7.067345793468887, 237.3948243400339L4.240808147123958, 237.46213497368225L1.4136694970543362, 237.49579267547688L-1.4136694970543073, 237.49579267547688L-4.240808147123876, 237.46213497368225L-7.067345793468856, 237.3948243400339L-9.89288186157732, 237.2938703137375L-12.717015918880303, 237.15928720191192L-15.539347731500634, 236.99109407756129L-18.35947732097355, 236.78931477687217L-21.177005020931656, 236.55397789583552L-23.991531533745114, 236.28511678619392L-26.802657987109622, 235.98276955071537L-29.609985990574575, 235.64697903779282L-32.413117692002444, 235.27779283537237L-35.21165583395192, 234.87526326420863L-38.00520380997718, 234.4394473704502L-40.79336572083447, 233.97040691755495L-43.57574643058847, 233.46820837753705L-46.351951622610905, 232.93292292154655L-49.12158785546257, 232.36462640978309L-51.88426261865165, 231.76339938074514L-54.639584388259685, 231.12932703981605L-57.387162682428404, 230.4624992471888L-60.12660811669829, 229.76301050513112L-62.85753245919166, 229.0309599445928L-65.57954868563284, 228.26645131115677L-68.29227103419683, 227.46959295033656L-70.99531506017888, 226.64049779222145L-73.68829769047815, 225.7792833354723L-76.37083727788612, 224.88607163066956L-79.04255365517338, 223.9609892630166L-81.70306818896672, 223.00416733439997L-84.35200383340872, 222.01574144480972L-86.98898518359213, 220.99585167312256L-89.61363852876232, 219.94464255724967L-92.22559190527897, 218.8622630736531L-94.82447514933045, 217.74886661623293L-97.4099199493933, 216.60461097458844L-99.98155989842887, 215.42965831165606L-102.53903054581019, 214.22417514072825L-105.0819694489718, 212.98833230185485L-107.61001622477458, 211.7223049376323L-110.1228126005791, 210.426272468382L-112.62000246501958, 209.10041856672353L-115.10123191847185, 207.7449311315445L-117.5661493232076, 206.3600022613715L-120.01440535322801, 204.9458282271466L-122.44565304377035, 203.50260944441132L-124.85954784047921, 202.03055044490443L-127.25574764823654, 200.5298598475757L-129.63391287964308, 199.00075032902038L-131.99370650314447, 197.44343859333932L-134.3347940907948, 195.8581453414276L-136.6568438656518, 194.24509523969675L-138.95952674879587, 192.60451688823574L-141.24251640596677, 190.93664278841345L-143.50548929381154, 189.24170930992918L-145.74812470573679, 187.5199566573142L-147.9701048173587, 185.77162883589054L-150.1711147315453, 183.9969736171904L-152.35084252304304, 182.1962425038424L-154.50897928268276, 180.3696906939287L-156.64521916115797, 178.51757704481872L-158.7592594123696, 176.64016403648387L-160.8508004363307, 174.73771773429948L-162.91954582162583, 172.81050775133772L-164.96520238741806, 170.85880721015874L-166.98748022499834, 168.88289270410363L-168.98609273887104, 166.88304425809613L-170.96075668737015, 164.85954528895746L-172.91119222280003, 162.81268256524092L-174.83712293109485, 160.74274616659136L-176.7382758709924, 158.65002944263512L-178.61438161271454, 156.5348289714068L-180.46517427615095, 154.3974445173186L-182.29039156853887, 152.23817898867807L-184.08977482163573, 150.0573383947598L-185.86306902837694, 147.8552318024384L-187.61002287901533, 145.63217129238768L-189.33038879673666, 143.38847191485286L-191.02392297274588, 141.12445164500178L-192.69038540081957, 138.84043133786216L-194.32953991131942, 136.53673468284978L-195.94115420466198, 134.2136881578957L-197.52499988423997, 131.8716209831782L-199.08085248879044, 129.5108650744657L-200.6084915242052, 127.13175499607834L-202.10770049477915, 124.73462791347333L-203.5782669338917, 122.31982354546271L-205.01998243411754, 119.88768411606813L-206.43264267676187, 117.43855430602143L-207.81604746081632, 114.97278120391684L-209.1700007313312, 112.4907142570217L-210.49431060720033, 109.99270522175313L-211.78878940835403, 107.47910811382772L-213.0532536823574, 104.95027915809023L-214.28752423040868, 102.40657673802995L-215.49142613273528, 99.84836134499098L-216.66478877338335, 97.27599552708351L-217.80744586439718, 94.68984383780392L-218.9192354693853, 92.09027278437077L-220.00000002647042, 89.47765077578323",
          "type": "path"
         },
         {
          "layer": "below",
          "line": {
           "color": "#777777",
           "width": 1
          },
          "type": "line",
          "x0": -220,
          "x1": -220,
          "y0": -52.5,
          "y1": 89.47765084
         },
         {
          "layer": "below",
          "line": {
           "color": "#777777",
           "width": 1
          },
          "type": "line",
          "x0": -220,
          "x1": -220,
          "y0": -52.5,
          "y1": 89.47765084
         },
         {
          "layer": "below",
          "line": {
           "color": "#777777",
           "width": 1
          },
          "type": "line",
          "x0": 220,
          "x1": 220,
          "y0": -52.5,
          "y1": 89.47765084
         },
         {
          "layer": "below",
          "line": {
           "color": "#777777",
           "width": 1
          },
          "type": "line",
          "x0": -250,
          "x1": -220,
          "y0": 227.5,
          "y1": 227.5
         },
         {
          "layer": "below",
          "line": {
           "color": "#777777",
           "width": 1
          },
          "type": "line",
          "x0": 250,
          "x1": 220,
          "y0": 227.5,
          "y1": 227.5
         },
         {
          "layer": "below",
          "line": {
           "color": "#777777",
           "width": 1
          },
          "type": "line",
          "x0": -90,
          "x1": -80,
          "y0": 17.5,
          "y1": 17.5
         },
         {
          "layer": "below",
          "line": {
           "color": "#777777",
           "width": 1
          },
          "type": "line",
          "x0": -90,
          "x1": -80,
          "y0": 27.5,
          "y1": 27.5
         },
         {
          "layer": "below",
          "line": {
           "color": "#777777",
           "width": 1
          },
          "type": "line",
          "x0": -90,
          "x1": -80,
          "y0": 57.5,
          "y1": 57.5
         },
         {
          "layer": "below",
          "line": {
           "color": "#777777",
           "width": 1
          },
          "type": "line",
          "x0": -90,
          "x1": -80,
          "y0": 87.5,
          "y1": 87.5
         },
         {
          "layer": "below",
          "line": {
           "color": "#777777",
           "width": 1
          },
          "type": "line",
          "x0": 90,
          "x1": 80,
          "y0": 17.5,
          "y1": 17.5
         },
         {
          "layer": "below",
          "line": {
           "color": "#777777",
           "width": 1
          },
          "type": "line",
          "x0": 90,
          "x1": 80,
          "y0": 27.5,
          "y1": 27.5
         },
         {
          "layer": "below",
          "line": {
           "color": "#777777",
           "width": 1
          },
          "type": "line",
          "x0": 90,
          "x1": 80,
          "y0": 57.5,
          "y1": 57.5
         },
         {
          "layer": "below",
          "line": {
           "color": "#777777",
           "width": 1
          },
          "type": "line",
          "x0": 90,
          "x1": 80,
          "y0": 87.5,
          "y1": 87.5
         },
         {
          "layer": "below",
          "line": {
           "color": "#777777",
           "width": 1
          },
          "path": "M 60.0, 417.5L59.99252337105944, 416.55282547918176L59.97009534757043, 415.6058870141114L59.93272151906661, 414.65942060170653L59.88041119988961, 413.71366212123957L59.81317742686759, 412.7688472755514L59.731036956066355, 411.8252115323093L59.634010258613266, 410.8829900653235L59.522121515595465, 409.94241769593697L59.395398612033425, 409.0037288345029L59.25387312993143, 408.06715742196496L59.09758034040663, 407.132936871554L58.92655919489882, 406.20130001061693L58.740852315462874, 405.27247902259086L58.540505984146414, 404.3467053891385L58.325570131455414, 403.4242098324579L58.09609832391043, 402.5052222577815L57.8521477506967, 401.58997169607926L57.59377920941142, 400.6786862469791L57.32105709091169, 399.7715930219198L57.03404936326697, 398.8689180875499L56.73282755482003, 397.9708864093873L56.41746673636054, 397.07772179575323L56.0880455024159, 396.1896468419943L55.744645951663834, 395.3068828750072L55.38735366647165, 394.42964989807933L55.016257691567326, 393.55816653605956L54.63145051184773, 392.692649980872L54.23302802932941, 391.8333159373874L53.82108953924781, 390.9803785696653L53.39573770531082, 390.13405044757906L52.95707853411282, 389.2945424938398L52.50522134871562, 388.46206393142967L52.04027876140288, 387.636822231459L51.562366645614716, 386.81902306146037L51.07160410706968, 386.0088702341319L50.568113454081036, 385.2065656565427L50.05202016707506, 384.41230927981354L49.523452867318575, 383.6262990492849L48.982543284863944, 382.84873085518467L48.42942622571912, 382.0797984838083L47.864239538251155, 381.31969356922315L47.287124078831546, 380.56860554550923L46.69822367673179, 379.8267215995485L46.09768509827825, 379.09422662437356L45.48565801027473, 378.3713031730888L44.86229494270255, 377.6581314133741L44.22775125070674, 376.95488908258346L43.582185075878364, 376.26175144344893L42.92575730684228, 375.5788912404016L42.258631539160326, 374.90647865652005L41.58097403455991, 374.24468127111703L40.89295367949803, 373.5936640179754L40.19474194307131, 372.953589144243L39.48651283428226, 372.3246161699974L38.76844285867258, 371.7069018484899L38.04071097433432, 371.10060012707964L37.303498547309715, 370.50586210886655L36.556989306390996, 369.9228360150333L35.801369297331355, 369.35166714790535L35.036826836478376, 368.79249785473877L34.263552463841684, 368.24546749224425L33.48173889560641, 367.7107123918565L32.69158097610423, 367.1883658257574L31.893275629254084, 366.67855797366207L31.087021809484646, 366.1814158903753L30.27302045215065, 365.6970634741266L29.45147442345562, 365.2256214356924L28.622588469893373, 364.7672072683124L27.78656916722087, 364.3219352184075L26.94362486897521, 363.88991625710753L26.093965654547585, 363.4712580525949L25.23780327682705, 363.0660649432711L24.37535110942734, 362.6744379117538L23.50682409350959, 362.2964745597095L22.632438684214563, 361.93226908352955L21.752412796717476, 361.5819122508539L20.866965751918947, 361.2454913779505L19.976318221785665, 360.92309030795377L19.080692174354294, 360.6147893899694L18.180310818412366, 360.3206654590497L17.275398547869994, 360.04079181704424L16.366180885836194, 359.7752382143322L15.452884428413796, 359.52407083243867L14.535736788226991, 359.2873522675408L13.614966537695409, 359.0651415148677L12.690803152069144, 358.85749395399756L11.763476952238687, 358.66446133505576L10.833219047334138, 358.48609176581783L9.900261277127953, 358.3224296997198L8.964836154255657, 358.17351592477985L8.027176806268749, 358.03938755343245L7.087516917534483, 357.9200780132798L6.146090670996805, 357.8156170387606L5.203132689813044, 357.7260306637396L4.258877978880954, 357.65134121501967L3.31356186627049, 357.5915673067773L2.3674199445751696, 357.54672383592344L1.420688012197446, 357.5168219783913L0.4736020145827927, 357.50186918635063L-0.4736020145827986, 357.50186918635063L-1.4206880121974388, 357.5168219783913L-2.367419944575162, 357.54672383592344L-3.3135618662704824, 357.5915673067773L-4.25887797888096, 357.65134121501967L-5.203132689813049, 357.7260306637396L-6.146090670996798, 357.8156170387606L-7.087516917534476, 357.9200780132798L-8.027176806268741, 358.03938755343245L-8.96483615425565, 358.17351592477985L-9.900261277127958, 358.3224296997198L-10.833219047334133, 358.48609176581783L-11.76347695223868, 358.66446133505576L-12.690803152069137, 358.85749395399756L-13.614966537695402, 359.0651415148677L-14.535736788226995, 359.2873522675408L-15.452884428413803, 359.52407083243867L-16.366180885836187, 359.7752382143322L-17.275398547869983, 360.04079181704424L-18.18031081841236, 360.3206654590496L-19.080692174354287, 360.6147893899694L-19.97631822178567, 360.92309030795377L-20.866965751918944, 361.2454913779505L-21.752412796717465, 361.5819122508539L-22.632438684214556, 361.93226908352955L-23.506824093509582, 362.2964745597095L-24.375351109427342, 362.6744379117538L-25.237803276827044, 363.0660649432711L-26.093965654547578, 363.4712580525949L-26.943624868975217, 363.8899162571076L-27.78656916722086, 364.3219352184075L-28.62258846989338, 364.7672072683124L-29.45147442345561, 365.2256214356924L-30.273020452150643, 365.6970634741266L-31.087021809484654, 366.1814158903753L-31.893275629254077, 366.67855797366207L-32.69158097610423, 367.1883658257574L-33.481738895606405, 367.7107123918564L-34.263552463841684, 368.24546749224425L-35.03682683647838, 368.79249785473877L-35.801369297331355, 369.35166714790535L-36.556989306391, 369.9228360150333L-37.3034985473097, 370.50586210886655L-38.04071097433432, 371.10060012707964L-38.76844285867259, 371.7069018484899L-39.48651283428225, 372.3246161699974L-40.194741943071314, 372.95358914424304L-40.89295367949802, 373.5936640179754L-41.58097403455991, 374.24468127111703L-42.25863153916032, 374.90647865652L-42.92575730684227, 375.5788912404016L-43.582185075878364, 376.26175144344893L-44.22775125070673, 376.95488908258346L-44.86229494270255, 377.6581314133741L-45.48565801027472, 378.3713031730888L-46.09768509827824, 379.09422662437356L-46.6982236767318, 379.8267215995485L-47.28712407883154, 380.56860554550923L-47.864239538251155, 381.31969356922315L-48.42942622571911, 382.0797984838083L-48.982543284863944, 382.84873085518467L-49.523452867318575, 383.6262990492849L-50.05202016707505, 384.41230927981354L-50.568113454081036, 385.2065656565427L-51.071604107069675, 386.0088702341319L-51.562366645614716, 386.81902306146037L-52.04027876140288, 387.636822231459L-52.505221348715615, 388.46206393142967L-52.95707853411282, 389.2945424938398L-53.395737705310815, 390.13405044757906L-53.82108953924781, 390.9803785696653L-54.23302802932941, 391.83331593738745L-54.63145051184773, 392.6926499808719L-55.016257691567326, 393.55816653605956L-55.38735366647164, 394.42964989807933L-55.744645951663834, 395.3068828750072L-56.088045502415895, 396.18964684199426L-56.41746673636053, 397.07772179575323L-56.73282755482003, 397.9708864093873L-57.034049363266966, 398.86891808754984L-57.32105709091169, 399.7715930219198L-57.593779209411416, 400.6786862469791L-57.8521477506967, 401.58997169607926L-58.09609832391044, 402.5052222577815L-58.325570131455414, 403.42420983245785L-58.540505984146414, 404.34670538913855L-58.74085231546287, 405.27247902259086L-58.92655919489882, 406.20130001061693L-59.09758034040663, 407.132936871554L-59.25387312993143, 408.06715742196496L-59.395398612033425, 409.0037288345029L-59.522121515595465, 409.9424176959369L-59.634010258613266, 410.8829900653235L-59.731036956066355, 411.8252115323093L-59.81317742686759, 412.7688472755514L-59.88041119988961, 413.71366212123957L-59.93272151906661, 414.65942060170653L-59.97009534757043, 415.6058870141114L-59.99252337105944, 416.55282547918176L-60.0, 417.5",
          "type": "path"
         }
        ],
        "template": {
         "layout": {
          "font": {
           "color": "#dcdcdc",
           "family": "Helvetica Neue, Helvetica Nueue Light, Sans-serif",
           "size": 12
          },
          "title": {
           "font": {
            "color": "#dcdcdc",
            "family": "Helvetica Nueue, Helvetica Nueue Light, Sans-serif",
            "size": 24
           }
          }
         }
        },
        "title": {
         "text": "Kyle Kuzma - WAS<br><sub>2023-24 Shot Chart</sub>",
         "x": 0.03,
         "xanchor": "left",
         "y": 0.93,
         "yanchor": "top"
        },
        "width": 500,
        "xaxis": {
         "automargin": "left+right",
         "fixedrange": true,
         "range": [
          -260,
          260
         ],
         "showgrid": false,
         "showline": false,
         "showticklabels": false,
         "ticks": "",
         "zeroline": false
        },
        "yaxis": {
         "fixedrange": true,
         "range": [
          -62.5,
          427.5
         ],
         "scaleanchor": "x",
         "scaleratio": 1,
         "showgrid": false,
         "showline": false,
         "showticklabels": false,
         "ticks": "",
         "zeroline": false
        }
       }
      }
     },
     "metadata": {},
     "output_type": "display_data"
    }
   ],
   "source": [
    "stats.hex_shot_chart(\"Kyle Kuzma\", \"2023-24\")"
   ]
  },
  {
   "cell_type": "code",
   "execution_count": 10,
   "metadata": {},
   "outputs": [
    {
     "data": {
      "application/vnd.plotly.v1+json": {
       "config": {
        "plotlyServerURL": "https://plot.ly"
       },
       "data": [
        {
         "name": "fg_pct_pl",
         "type": "scatter",
         "x": [
          0,
          1,
          2,
          3,
          4,
          5,
          6,
          7,
          8,
          9,
          10,
          11,
          12,
          13,
          14,
          15,
          16,
          17,
          18,
          19,
          20,
          21,
          23,
          24,
          25,
          26,
          27
         ],
         "y": [
          0.7307692307692307,
          0.7272727272727273,
          0.6140350877192983,
          0.5483870967741935,
          0.35714285714285715,
          0.25,
          0.23076923076923078,
          0.4117647058823529,
          0.55,
          0.4827586206896552,
          0.56,
          0.4634146341463415,
          0.5263157894736842,
          0.5428571428571428,
          0.48333333333333334,
          0.5098039215686274,
          0.4909090909090909,
          0.4084507042253521,
          0.28,
          0.3333333333333333,
          0.5217391304347826,
          0.5,
          0.3333333333333333,
          0.40625,
          0.3333333333333333,
          0.2608695652173913,
          0.2222222222222222
         ]
        },
        {
         "name": "fg_pct_la",
         "type": "scatter",
         "x": [
          0,
          1,
          2,
          3,
          4,
          5,
          6,
          7,
          8,
          9,
          10,
          11,
          12,
          13,
          14,
          15,
          16,
          17,
          18,
          19,
          20,
          21,
          23,
          24,
          25,
          26,
          27
         ],
         "y": [
          0.5901572887952002,
          0.5901572887952002,
          0.5901572887952002,
          0.5901572887952002,
          0.5901572887952002,
          0.5901572887952002,
          0.5901572887952002,
          0.5901572887952002,
          0.4294117647058823,
          0.4294117647058823,
          0.4294117647058823,
          0.4294117647058823,
          0.4294117647058823,
          0.4294117647058823,
          0.4294117647058823,
          0.4294117647058823,
          0.3993147585493568,
          0.3993147585493568,
          0.3993147585493568,
          0.3993147585493568,
          0.3993147585493568,
          0.3993147585493568,
          0.35539124359571495,
          0.35539124359571495,
          0.35539124359571495,
          0.35539124359571495,
          0.35539124359571495
         ]
        }
       ],
       "layout": {
        "template": {
         "data": {
          "bar": [
           {
            "error_x": {
             "color": "#2a3f5f"
            },
            "error_y": {
             "color": "#2a3f5f"
            },
            "marker": {
             "line": {
              "color": "#E5ECF6",
              "width": 0.5
             },
             "pattern": {
              "fillmode": "overlay",
              "size": 10,
              "solidity": 0.2
             }
            },
            "type": "bar"
           }
          ],
          "barpolar": [
           {
            "marker": {
             "line": {
              "color": "#E5ECF6",
              "width": 0.5
             },
             "pattern": {
              "fillmode": "overlay",
              "size": 10,
              "solidity": 0.2
             }
            },
            "type": "barpolar"
           }
          ],
          "carpet": [
           {
            "aaxis": {
             "endlinecolor": "#2a3f5f",
             "gridcolor": "white",
             "linecolor": "white",
             "minorgridcolor": "white",
             "startlinecolor": "#2a3f5f"
            },
            "baxis": {
             "endlinecolor": "#2a3f5f",
             "gridcolor": "white",
             "linecolor": "white",
             "minorgridcolor": "white",
             "startlinecolor": "#2a3f5f"
            },
            "type": "carpet"
           }
          ],
          "choropleth": [
           {
            "colorbar": {
             "outlinewidth": 0,
             "ticks": ""
            },
            "type": "choropleth"
           }
          ],
          "contour": [
           {
            "colorbar": {
             "outlinewidth": 0,
             "ticks": ""
            },
            "colorscale": [
             [
              0,
              "#0d0887"
             ],
             [
              0.1111111111111111,
              "#46039f"
             ],
             [
              0.2222222222222222,
              "#7201a8"
             ],
             [
              0.3333333333333333,
              "#9c179e"
             ],
             [
              0.4444444444444444,
              "#bd3786"
             ],
             [
              0.5555555555555556,
              "#d8576b"
             ],
             [
              0.6666666666666666,
              "#ed7953"
             ],
             [
              0.7777777777777778,
              "#fb9f3a"
             ],
             [
              0.8888888888888888,
              "#fdca26"
             ],
             [
              1,
              "#f0f921"
             ]
            ],
            "type": "contour"
           }
          ],
          "contourcarpet": [
           {
            "colorbar": {
             "outlinewidth": 0,
             "ticks": ""
            },
            "type": "contourcarpet"
           }
          ],
          "heatmap": [
           {
            "colorbar": {
             "outlinewidth": 0,
             "ticks": ""
            },
            "colorscale": [
             [
              0,
              "#0d0887"
             ],
             [
              0.1111111111111111,
              "#46039f"
             ],
             [
              0.2222222222222222,
              "#7201a8"
             ],
             [
              0.3333333333333333,
              "#9c179e"
             ],
             [
              0.4444444444444444,
              "#bd3786"
             ],
             [
              0.5555555555555556,
              "#d8576b"
             ],
             [
              0.6666666666666666,
              "#ed7953"
             ],
             [
              0.7777777777777778,
              "#fb9f3a"
             ],
             [
              0.8888888888888888,
              "#fdca26"
             ],
             [
              1,
              "#f0f921"
             ]
            ],
            "type": "heatmap"
           }
          ],
          "heatmapgl": [
           {
            "colorbar": {
             "outlinewidth": 0,
             "ticks": ""
            },
            "colorscale": [
             [
              0,
              "#0d0887"
             ],
             [
              0.1111111111111111,
              "#46039f"
             ],
             [
              0.2222222222222222,
              "#7201a8"
             ],
             [
              0.3333333333333333,
              "#9c179e"
             ],
             [
              0.4444444444444444,
              "#bd3786"
             ],
             [
              0.5555555555555556,
              "#d8576b"
             ],
             [
              0.6666666666666666,
              "#ed7953"
             ],
             [
              0.7777777777777778,
              "#fb9f3a"
             ],
             [
              0.8888888888888888,
              "#fdca26"
             ],
             [
              1,
              "#f0f921"
             ]
            ],
            "type": "heatmapgl"
           }
          ],
          "histogram": [
           {
            "marker": {
             "pattern": {
              "fillmode": "overlay",
              "size": 10,
              "solidity": 0.2
             }
            },
            "type": "histogram"
           }
          ],
          "histogram2d": [
           {
            "colorbar": {
             "outlinewidth": 0,
             "ticks": ""
            },
            "colorscale": [
             [
              0,
              "#0d0887"
             ],
             [
              0.1111111111111111,
              "#46039f"
             ],
             [
              0.2222222222222222,
              "#7201a8"
             ],
             [
              0.3333333333333333,
              "#9c179e"
             ],
             [
              0.4444444444444444,
              "#bd3786"
             ],
             [
              0.5555555555555556,
              "#d8576b"
             ],
             [
              0.6666666666666666,
              "#ed7953"
             ],
             [
              0.7777777777777778,
              "#fb9f3a"
             ],
             [
              0.8888888888888888,
              "#fdca26"
             ],
             [
              1,
              "#f0f921"
             ]
            ],
            "type": "histogram2d"
           }
          ],
          "histogram2dcontour": [
           {
            "colorbar": {
             "outlinewidth": 0,
             "ticks": ""
            },
            "colorscale": [
             [
              0,
              "#0d0887"
             ],
             [
              0.1111111111111111,
              "#46039f"
             ],
             [
              0.2222222222222222,
              "#7201a8"
             ],
             [
              0.3333333333333333,
              "#9c179e"
             ],
             [
              0.4444444444444444,
              "#bd3786"
             ],
             [
              0.5555555555555556,
              "#d8576b"
             ],
             [
              0.6666666666666666,
              "#ed7953"
             ],
             [
              0.7777777777777778,
              "#fb9f3a"
             ],
             [
              0.8888888888888888,
              "#fdca26"
             ],
             [
              1,
              "#f0f921"
             ]
            ],
            "type": "histogram2dcontour"
           }
          ],
          "mesh3d": [
           {
            "colorbar": {
             "outlinewidth": 0,
             "ticks": ""
            },
            "type": "mesh3d"
           }
          ],
          "parcoords": [
           {
            "line": {
             "colorbar": {
              "outlinewidth": 0,
              "ticks": ""
             }
            },
            "type": "parcoords"
           }
          ],
          "pie": [
           {
            "automargin": true,
            "type": "pie"
           }
          ],
          "scatter": [
           {
            "fillpattern": {
             "fillmode": "overlay",
             "size": 10,
             "solidity": 0.2
            },
            "type": "scatter"
           }
          ],
          "scatter3d": [
           {
            "line": {
             "colorbar": {
              "outlinewidth": 0,
              "ticks": ""
             }
            },
            "marker": {
             "colorbar": {
              "outlinewidth": 0,
              "ticks": ""
             }
            },
            "type": "scatter3d"
           }
          ],
          "scattercarpet": [
           {
            "marker": {
             "colorbar": {
              "outlinewidth": 0,
              "ticks": ""
             }
            },
            "type": "scattercarpet"
           }
          ],
          "scattergeo": [
           {
            "marker": {
             "colorbar": {
              "outlinewidth": 0,
              "ticks": ""
             }
            },
            "type": "scattergeo"
           }
          ],
          "scattergl": [
           {
            "marker": {
             "colorbar": {
              "outlinewidth": 0,
              "ticks": ""
             }
            },
            "type": "scattergl"
           }
          ],
          "scattermapbox": [
           {
            "marker": {
             "colorbar": {
              "outlinewidth": 0,
              "ticks": ""
             }
            },
            "type": "scattermapbox"
           }
          ],
          "scatterpolar": [
           {
            "marker": {
             "colorbar": {
              "outlinewidth": 0,
              "ticks": ""
             }
            },
            "type": "scatterpolar"
           }
          ],
          "scatterpolargl": [
           {
            "marker": {
             "colorbar": {
              "outlinewidth": 0,
              "ticks": ""
             }
            },
            "type": "scatterpolargl"
           }
          ],
          "scatterternary": [
           {
            "marker": {
             "colorbar": {
              "outlinewidth": 0,
              "ticks": ""
             }
            },
            "type": "scatterternary"
           }
          ],
          "surface": [
           {
            "colorbar": {
             "outlinewidth": 0,
             "ticks": ""
            },
            "colorscale": [
             [
              0,
              "#0d0887"
             ],
             [
              0.1111111111111111,
              "#46039f"
             ],
             [
              0.2222222222222222,
              "#7201a8"
             ],
             [
              0.3333333333333333,
              "#9c179e"
             ],
             [
              0.4444444444444444,
              "#bd3786"
             ],
             [
              0.5555555555555556,
              "#d8576b"
             ],
             [
              0.6666666666666666,
              "#ed7953"
             ],
             [
              0.7777777777777778,
              "#fb9f3a"
             ],
             [
              0.8888888888888888,
              "#fdca26"
             ],
             [
              1,
              "#f0f921"
             ]
            ],
            "type": "surface"
           }
          ],
          "table": [
           {
            "cells": {
             "fill": {
              "color": "#EBF0F8"
             },
             "line": {
              "color": "white"
             }
            },
            "header": {
             "fill": {
              "color": "#C8D4E3"
             },
             "line": {
              "color": "white"
             }
            },
            "type": "table"
           }
          ]
         },
         "layout": {
          "annotationdefaults": {
           "arrowcolor": "#2a3f5f",
           "arrowhead": 0,
           "arrowwidth": 1
          },
          "autotypenumbers": "strict",
          "coloraxis": {
           "colorbar": {
            "outlinewidth": 0,
            "ticks": ""
           }
          },
          "colorscale": {
           "diverging": [
            [
             0,
             "#8e0152"
            ],
            [
             0.1,
             "#c51b7d"
            ],
            [
             0.2,
             "#de77ae"
            ],
            [
             0.3,
             "#f1b6da"
            ],
            [
             0.4,
             "#fde0ef"
            ],
            [
             0.5,
             "#f7f7f7"
            ],
            [
             0.6,
             "#e6f5d0"
            ],
            [
             0.7,
             "#b8e186"
            ],
            [
             0.8,
             "#7fbc41"
            ],
            [
             0.9,
             "#4d9221"
            ],
            [
             1,
             "#276419"
            ]
           ],
           "sequential": [
            [
             0,
             "#0d0887"
            ],
            [
             0.1111111111111111,
             "#46039f"
            ],
            [
             0.2222222222222222,
             "#7201a8"
            ],
            [
             0.3333333333333333,
             "#9c179e"
            ],
            [
             0.4444444444444444,
             "#bd3786"
            ],
            [
             0.5555555555555556,
             "#d8576b"
            ],
            [
             0.6666666666666666,
             "#ed7953"
            ],
            [
             0.7777777777777778,
             "#fb9f3a"
            ],
            [
             0.8888888888888888,
             "#fdca26"
            ],
            [
             1,
             "#f0f921"
            ]
           ],
           "sequentialminus": [
            [
             0,
             "#0d0887"
            ],
            [
             0.1111111111111111,
             "#46039f"
            ],
            [
             0.2222222222222222,
             "#7201a8"
            ],
            [
             0.3333333333333333,
             "#9c179e"
            ],
            [
             0.4444444444444444,
             "#bd3786"
            ],
            [
             0.5555555555555556,
             "#d8576b"
            ],
            [
             0.6666666666666666,
             "#ed7953"
            ],
            [
             0.7777777777777778,
             "#fb9f3a"
            ],
            [
             0.8888888888888888,
             "#fdca26"
            ],
            [
             1,
             "#f0f921"
            ]
           ]
          },
          "colorway": [
           "#636efa",
           "#EF553B",
           "#00cc96",
           "#ab63fa",
           "#FFA15A",
           "#19d3f3",
           "#FF6692",
           "#B6E880",
           "#FF97FF",
           "#FECB52"
          ],
          "font": {
           "color": "#2a3f5f"
          },
          "geo": {
           "bgcolor": "white",
           "lakecolor": "white",
           "landcolor": "#E5ECF6",
           "showlakes": true,
           "showland": true,
           "subunitcolor": "white"
          },
          "hoverlabel": {
           "align": "left"
          },
          "hovermode": "closest",
          "mapbox": {
           "style": "light"
          },
          "paper_bgcolor": "white",
          "plot_bgcolor": "#E5ECF6",
          "polar": {
           "angularaxis": {
            "gridcolor": "white",
            "linecolor": "white",
            "ticks": ""
           },
           "bgcolor": "#E5ECF6",
           "radialaxis": {
            "gridcolor": "white",
            "linecolor": "white",
            "ticks": ""
           }
          },
          "scene": {
           "xaxis": {
            "backgroundcolor": "#E5ECF6",
            "gridcolor": "white",
            "gridwidth": 2,
            "linecolor": "white",
            "showbackground": true,
            "ticks": "",
            "zerolinecolor": "white"
           },
           "yaxis": {
            "backgroundcolor": "#E5ECF6",
            "gridcolor": "white",
            "gridwidth": 2,
            "linecolor": "white",
            "showbackground": true,
            "ticks": "",
            "zerolinecolor": "white"
           },
           "zaxis": {
            "backgroundcolor": "#E5ECF6",
            "gridcolor": "white",
            "gridwidth": 2,
            "linecolor": "white",
            "showbackground": true,
            "ticks": "",
            "zerolinecolor": "white"
           }
          },
          "shapedefaults": {
           "line": {
            "color": "#2a3f5f"
           }
          },
          "ternary": {
           "aaxis": {
            "gridcolor": "white",
            "linecolor": "white",
            "ticks": ""
           },
           "baxis": {
            "gridcolor": "white",
            "linecolor": "white",
            "ticks": ""
           },
           "bgcolor": "#E5ECF6",
           "caxis": {
            "gridcolor": "white",
            "linecolor": "white",
            "ticks": ""
           }
          },
          "title": {
           "x": 0.05
          },
          "xaxis": {
           "automargin": true,
           "gridcolor": "white",
           "linecolor": "white",
           "ticks": "",
           "title": {
            "standoff": 15
           },
           "zerolinecolor": "white",
           "zerolinewidth": 2
          },
          "yaxis": {
           "automargin": true,
           "gridcolor": "white",
           "linecolor": "white",
           "ticks": "",
           "title": {
            "standoff": 15
           },
           "zerolinecolor": "white",
           "zerolinewidth": 2
          }
         }
        }
       }
      }
     },
     "metadata": {},
     "output_type": "display_data"
    }
   ],
   "source": [
    "# Plot 'both' dataframe using plotly .addTrace and scatter with shot distance as the x axis and fg_pct_pl as the y axis\n",
    "fig = go.Figure()\n",
    "fig.add_trace(go.Scatter(x=both['SHOT_DISTANCE'], y=both['fg_pct_pl'], name=\"fg_pct_pl\"))\n",
    "fig.add_trace(go.Scatter(x=both['SHOT_DISTANCE'], y=both['fg_pct_la'], name=\"fg_pct_la\"))\n",
    "fig.show()"
   ]
  },
  {
   "cell_type": "code",
   "execution_count": 49,
   "metadata": {},
   "outputs": [
    {
     "data": {
      "application/vnd.plotly.v1+json": {
       "config": {
        "plotlyServerURL": "https://plot.ly"
       },
       "data": [
        {
         "hovertemplate": "SHOT_DISTANCE=%{x}<br>fg_pct=%{y}<extra></extra>",
         "legendgroup": "",
         "marker": {
          "color": "#636efa",
          "symbol": "circle"
         },
         "mode": "markers",
         "name": "",
         "orientation": "v",
         "showlegend": false,
         "type": "scatter",
         "x": [
          0,
          1,
          2,
          3,
          4,
          5,
          6,
          7,
          8,
          9,
          10,
          11,
          12,
          13,
          14,
          15,
          16,
          17,
          18,
          19,
          20,
          21,
          22,
          23,
          24,
          25,
          26,
          27
         ],
         "xaxis": "x",
         "y": [
          0.7307692307692307,
          0.7272727272727273,
          0.6140350877192983,
          0.5483870967741935,
          0.35714285714285715,
          0.25,
          0.23076923076923078,
          0.4117647058823529,
          0.55,
          0.4827586206896552,
          0.56,
          0.4634146341463415,
          0.5263157894736842,
          0.5428571428571428,
          0.48333333333333334,
          0.5098039215686274,
          0.4909090909090909,
          0.4084507042253521,
          0.28,
          0.3333333333333333,
          0.5217391304347826,
          0.5,
          0.3333333333333333,
          0.37037037037037035,
          0.40625,
          0.3333333333333333,
          0.2608695652173913,
          0.2222222222222222
         ],
         "yaxis": "y"
        }
       ],
       "layout": {
        "legend": {
         "tracegroupgap": 0
        },
        "margin": {
         "t": 60
        },
        "template": {
         "data": {
          "bar": [
           {
            "error_x": {
             "color": "#2a3f5f"
            },
            "error_y": {
             "color": "#2a3f5f"
            },
            "marker": {
             "line": {
              "color": "#E5ECF6",
              "width": 0.5
             },
             "pattern": {
              "fillmode": "overlay",
              "size": 10,
              "solidity": 0.2
             }
            },
            "type": "bar"
           }
          ],
          "barpolar": [
           {
            "marker": {
             "line": {
              "color": "#E5ECF6",
              "width": 0.5
             },
             "pattern": {
              "fillmode": "overlay",
              "size": 10,
              "solidity": 0.2
             }
            },
            "type": "barpolar"
           }
          ],
          "carpet": [
           {
            "aaxis": {
             "endlinecolor": "#2a3f5f",
             "gridcolor": "white",
             "linecolor": "white",
             "minorgridcolor": "white",
             "startlinecolor": "#2a3f5f"
            },
            "baxis": {
             "endlinecolor": "#2a3f5f",
             "gridcolor": "white",
             "linecolor": "white",
             "minorgridcolor": "white",
             "startlinecolor": "#2a3f5f"
            },
            "type": "carpet"
           }
          ],
          "choropleth": [
           {
            "colorbar": {
             "outlinewidth": 0,
             "ticks": ""
            },
            "type": "choropleth"
           }
          ],
          "contour": [
           {
            "colorbar": {
             "outlinewidth": 0,
             "ticks": ""
            },
            "colorscale": [
             [
              0,
              "#0d0887"
             ],
             [
              0.1111111111111111,
              "#46039f"
             ],
             [
              0.2222222222222222,
              "#7201a8"
             ],
             [
              0.3333333333333333,
              "#9c179e"
             ],
             [
              0.4444444444444444,
              "#bd3786"
             ],
             [
              0.5555555555555556,
              "#d8576b"
             ],
             [
              0.6666666666666666,
              "#ed7953"
             ],
             [
              0.7777777777777778,
              "#fb9f3a"
             ],
             [
              0.8888888888888888,
              "#fdca26"
             ],
             [
              1,
              "#f0f921"
             ]
            ],
            "type": "contour"
           }
          ],
          "contourcarpet": [
           {
            "colorbar": {
             "outlinewidth": 0,
             "ticks": ""
            },
            "type": "contourcarpet"
           }
          ],
          "heatmap": [
           {
            "colorbar": {
             "outlinewidth": 0,
             "ticks": ""
            },
            "colorscale": [
             [
              0,
              "#0d0887"
             ],
             [
              0.1111111111111111,
              "#46039f"
             ],
             [
              0.2222222222222222,
              "#7201a8"
             ],
             [
              0.3333333333333333,
              "#9c179e"
             ],
             [
              0.4444444444444444,
              "#bd3786"
             ],
             [
              0.5555555555555556,
              "#d8576b"
             ],
             [
              0.6666666666666666,
              "#ed7953"
             ],
             [
              0.7777777777777778,
              "#fb9f3a"
             ],
             [
              0.8888888888888888,
              "#fdca26"
             ],
             [
              1,
              "#f0f921"
             ]
            ],
            "type": "heatmap"
           }
          ],
          "heatmapgl": [
           {
            "colorbar": {
             "outlinewidth": 0,
             "ticks": ""
            },
            "colorscale": [
             [
              0,
              "#0d0887"
             ],
             [
              0.1111111111111111,
              "#46039f"
             ],
             [
              0.2222222222222222,
              "#7201a8"
             ],
             [
              0.3333333333333333,
              "#9c179e"
             ],
             [
              0.4444444444444444,
              "#bd3786"
             ],
             [
              0.5555555555555556,
              "#d8576b"
             ],
             [
              0.6666666666666666,
              "#ed7953"
             ],
             [
              0.7777777777777778,
              "#fb9f3a"
             ],
             [
              0.8888888888888888,
              "#fdca26"
             ],
             [
              1,
              "#f0f921"
             ]
            ],
            "type": "heatmapgl"
           }
          ],
          "histogram": [
           {
            "marker": {
             "pattern": {
              "fillmode": "overlay",
              "size": 10,
              "solidity": 0.2
             }
            },
            "type": "histogram"
           }
          ],
          "histogram2d": [
           {
            "colorbar": {
             "outlinewidth": 0,
             "ticks": ""
            },
            "colorscale": [
             [
              0,
              "#0d0887"
             ],
             [
              0.1111111111111111,
              "#46039f"
             ],
             [
              0.2222222222222222,
              "#7201a8"
             ],
             [
              0.3333333333333333,
              "#9c179e"
             ],
             [
              0.4444444444444444,
              "#bd3786"
             ],
             [
              0.5555555555555556,
              "#d8576b"
             ],
             [
              0.6666666666666666,
              "#ed7953"
             ],
             [
              0.7777777777777778,
              "#fb9f3a"
             ],
             [
              0.8888888888888888,
              "#fdca26"
             ],
             [
              1,
              "#f0f921"
             ]
            ],
            "type": "histogram2d"
           }
          ],
          "histogram2dcontour": [
           {
            "colorbar": {
             "outlinewidth": 0,
             "ticks": ""
            },
            "colorscale": [
             [
              0,
              "#0d0887"
             ],
             [
              0.1111111111111111,
              "#46039f"
             ],
             [
              0.2222222222222222,
              "#7201a8"
             ],
             [
              0.3333333333333333,
              "#9c179e"
             ],
             [
              0.4444444444444444,
              "#bd3786"
             ],
             [
              0.5555555555555556,
              "#d8576b"
             ],
             [
              0.6666666666666666,
              "#ed7953"
             ],
             [
              0.7777777777777778,
              "#fb9f3a"
             ],
             [
              0.8888888888888888,
              "#fdca26"
             ],
             [
              1,
              "#f0f921"
             ]
            ],
            "type": "histogram2dcontour"
           }
          ],
          "mesh3d": [
           {
            "colorbar": {
             "outlinewidth": 0,
             "ticks": ""
            },
            "type": "mesh3d"
           }
          ],
          "parcoords": [
           {
            "line": {
             "colorbar": {
              "outlinewidth": 0,
              "ticks": ""
             }
            },
            "type": "parcoords"
           }
          ],
          "pie": [
           {
            "automargin": true,
            "type": "pie"
           }
          ],
          "scatter": [
           {
            "fillpattern": {
             "fillmode": "overlay",
             "size": 10,
             "solidity": 0.2
            },
            "type": "scatter"
           }
          ],
          "scatter3d": [
           {
            "line": {
             "colorbar": {
              "outlinewidth": 0,
              "ticks": ""
             }
            },
            "marker": {
             "colorbar": {
              "outlinewidth": 0,
              "ticks": ""
             }
            },
            "type": "scatter3d"
           }
          ],
          "scattercarpet": [
           {
            "marker": {
             "colorbar": {
              "outlinewidth": 0,
              "ticks": ""
             }
            },
            "type": "scattercarpet"
           }
          ],
          "scattergeo": [
           {
            "marker": {
             "colorbar": {
              "outlinewidth": 0,
              "ticks": ""
             }
            },
            "type": "scattergeo"
           }
          ],
          "scattergl": [
           {
            "marker": {
             "colorbar": {
              "outlinewidth": 0,
              "ticks": ""
             }
            },
            "type": "scattergl"
           }
          ],
          "scattermapbox": [
           {
            "marker": {
             "colorbar": {
              "outlinewidth": 0,
              "ticks": ""
             }
            },
            "type": "scattermapbox"
           }
          ],
          "scatterpolar": [
           {
            "marker": {
             "colorbar": {
              "outlinewidth": 0,
              "ticks": ""
             }
            },
            "type": "scatterpolar"
           }
          ],
          "scatterpolargl": [
           {
            "marker": {
             "colorbar": {
              "outlinewidth": 0,
              "ticks": ""
             }
            },
            "type": "scatterpolargl"
           }
          ],
          "scatterternary": [
           {
            "marker": {
             "colorbar": {
              "outlinewidth": 0,
              "ticks": ""
             }
            },
            "type": "scatterternary"
           }
          ],
          "surface": [
           {
            "colorbar": {
             "outlinewidth": 0,
             "ticks": ""
            },
            "colorscale": [
             [
              0,
              "#0d0887"
             ],
             [
              0.1111111111111111,
              "#46039f"
             ],
             [
              0.2222222222222222,
              "#7201a8"
             ],
             [
              0.3333333333333333,
              "#9c179e"
             ],
             [
              0.4444444444444444,
              "#bd3786"
             ],
             [
              0.5555555555555556,
              "#d8576b"
             ],
             [
              0.6666666666666666,
              "#ed7953"
             ],
             [
              0.7777777777777778,
              "#fb9f3a"
             ],
             [
              0.8888888888888888,
              "#fdca26"
             ],
             [
              1,
              "#f0f921"
             ]
            ],
            "type": "surface"
           }
          ],
          "table": [
           {
            "cells": {
             "fill": {
              "color": "#EBF0F8"
             },
             "line": {
              "color": "white"
             }
            },
            "header": {
             "fill": {
              "color": "#C8D4E3"
             },
             "line": {
              "color": "white"
             }
            },
            "type": "table"
           }
          ]
         },
         "layout": {
          "annotationdefaults": {
           "arrowcolor": "#2a3f5f",
           "arrowhead": 0,
           "arrowwidth": 1
          },
          "autotypenumbers": "strict",
          "coloraxis": {
           "colorbar": {
            "outlinewidth": 0,
            "ticks": ""
           }
          },
          "colorscale": {
           "diverging": [
            [
             0,
             "#8e0152"
            ],
            [
             0.1,
             "#c51b7d"
            ],
            [
             0.2,
             "#de77ae"
            ],
            [
             0.3,
             "#f1b6da"
            ],
            [
             0.4,
             "#fde0ef"
            ],
            [
             0.5,
             "#f7f7f7"
            ],
            [
             0.6,
             "#e6f5d0"
            ],
            [
             0.7,
             "#b8e186"
            ],
            [
             0.8,
             "#7fbc41"
            ],
            [
             0.9,
             "#4d9221"
            ],
            [
             1,
             "#276419"
            ]
           ],
           "sequential": [
            [
             0,
             "#0d0887"
            ],
            [
             0.1111111111111111,
             "#46039f"
            ],
            [
             0.2222222222222222,
             "#7201a8"
            ],
            [
             0.3333333333333333,
             "#9c179e"
            ],
            [
             0.4444444444444444,
             "#bd3786"
            ],
            [
             0.5555555555555556,
             "#d8576b"
            ],
            [
             0.6666666666666666,
             "#ed7953"
            ],
            [
             0.7777777777777778,
             "#fb9f3a"
            ],
            [
             0.8888888888888888,
             "#fdca26"
            ],
            [
             1,
             "#f0f921"
            ]
           ],
           "sequentialminus": [
            [
             0,
             "#0d0887"
            ],
            [
             0.1111111111111111,
             "#46039f"
            ],
            [
             0.2222222222222222,
             "#7201a8"
            ],
            [
             0.3333333333333333,
             "#9c179e"
            ],
            [
             0.4444444444444444,
             "#bd3786"
            ],
            [
             0.5555555555555556,
             "#d8576b"
            ],
            [
             0.6666666666666666,
             "#ed7953"
            ],
            [
             0.7777777777777778,
             "#fb9f3a"
            ],
            [
             0.8888888888888888,
             "#fdca26"
            ],
            [
             1,
             "#f0f921"
            ]
           ]
          },
          "colorway": [
           "#636efa",
           "#EF553B",
           "#00cc96",
           "#ab63fa",
           "#FFA15A",
           "#19d3f3",
           "#FF6692",
           "#B6E880",
           "#FF97FF",
           "#FECB52"
          ],
          "font": {
           "color": "#2a3f5f"
          },
          "geo": {
           "bgcolor": "white",
           "lakecolor": "white",
           "landcolor": "#E5ECF6",
           "showlakes": true,
           "showland": true,
           "subunitcolor": "white"
          },
          "hoverlabel": {
           "align": "left"
          },
          "hovermode": "closest",
          "mapbox": {
           "style": "light"
          },
          "paper_bgcolor": "white",
          "plot_bgcolor": "#E5ECF6",
          "polar": {
           "angularaxis": {
            "gridcolor": "white",
            "linecolor": "white",
            "ticks": ""
           },
           "bgcolor": "#E5ECF6",
           "radialaxis": {
            "gridcolor": "white",
            "linecolor": "white",
            "ticks": ""
           }
          },
          "scene": {
           "xaxis": {
            "backgroundcolor": "#E5ECF6",
            "gridcolor": "white",
            "gridwidth": 2,
            "linecolor": "white",
            "showbackground": true,
            "ticks": "",
            "zerolinecolor": "white"
           },
           "yaxis": {
            "backgroundcolor": "#E5ECF6",
            "gridcolor": "white",
            "gridwidth": 2,
            "linecolor": "white",
            "showbackground": true,
            "ticks": "",
            "zerolinecolor": "white"
           },
           "zaxis": {
            "backgroundcolor": "#E5ECF6",
            "gridcolor": "white",
            "gridwidth": 2,
            "linecolor": "white",
            "showbackground": true,
            "ticks": "",
            "zerolinecolor": "white"
           }
          },
          "shapedefaults": {
           "line": {
            "color": "#2a3f5f"
           }
          },
          "ternary": {
           "aaxis": {
            "gridcolor": "white",
            "linecolor": "white",
            "ticks": ""
           },
           "baxis": {
            "gridcolor": "white",
            "linecolor": "white",
            "ticks": ""
           },
           "bgcolor": "#E5ECF6",
           "caxis": {
            "gridcolor": "white",
            "linecolor": "white",
            "ticks": ""
           }
          },
          "title": {
           "x": 0.05
          },
          "xaxis": {
           "automargin": true,
           "gridcolor": "white",
           "linecolor": "white",
           "ticks": "",
           "title": {
            "standoff": 15
           },
           "zerolinecolor": "white",
           "zerolinewidth": 2
          },
          "yaxis": {
           "automargin": true,
           "gridcolor": "white",
           "linecolor": "white",
           "ticks": "",
           "title": {
            "standoff": 15
           },
           "zerolinecolor": "white",
           "zerolinewidth": 2
          }
         }
        },
        "xaxis": {
         "anchor": "y",
         "domain": [
          0,
          1
         ],
         "title": {
          "text": "SHOT_DISTANCE"
         }
        },
        "yaxis": {
         "anchor": "x",
         "domain": [
          0,
          1
         ],
         "title": {
          "text": "fg_pct"
         }
        }
       }
      }
     },
     "metadata": {},
     "output_type": "display_data"
    }
   ],
   "source": [
    "fig = px.scatter(y, x=\"SHOT_DISTANCE\", y=\"fg_pct\")\n",
    "fig.show()"
   ]
  }
 ],
 "metadata": {
  "interpreter": {
   "hash": "745ad8b2a7e3296165476373b435416d170bbb004e566d53aaaee70bc60621d4"
  },
  "kernelspec": {
   "display_name": "Python 3.8.2 ('.venv': venv)",
   "language": "python",
   "name": "python3"
  },
  "language_info": {
   "codemirror_mode": {
    "name": "ipython",
    "version": 3
   },
   "file_extension": ".py",
   "mimetype": "text/x-python",
   "name": "python",
   "nbconvert_exporter": "python",
   "pygments_lexer": "ipython3",
   "version": "3.12.3"
  },
  "orig_nbformat": 4
 },
 "nbformat": 4,
 "nbformat_minor": 2
}
