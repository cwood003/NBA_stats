{
 "cells": [
  {
   "cell_type": "code",
   "execution_count": 61,
   "metadata": {},
   "outputs": [
    {
     "ename": "ModuleNotFoundError",
     "evalue": "No module named 'scipy'",
     "output_type": "error",
     "traceback": [
      "\u001b[1;31m---------------------------------------------------------------------------\u001b[0m",
      "\u001b[1;31mModuleNotFoundError\u001b[0m                       Traceback (most recent call last)",
      "\u001b[1;32mc:\\Users\\cwood\\Documents\\NBA_stats\\shotChartDetail.ipynb Cell 1\u001b[0m in \u001b[0;36m<cell line: 13>\u001b[1;34m()\u001b[0m\n\u001b[0;32m     <a href='vscode-notebook-cell:/c%3A/Users/cwood/Documents/NBA_stats/shotChartDetail.ipynb#W0sZmlsZQ%3D%3D?line=10'>11</a>\u001b[0m \u001b[39mimport\u001b[39;00m \u001b[39mpandas\u001b[39;00m \u001b[39mas\u001b[39;00m \u001b[39mpd\u001b[39;00m\n\u001b[0;32m     <a href='vscode-notebook-cell:/c%3A/Users/cwood/Documents/NBA_stats/shotChartDetail.ipynb#W0sZmlsZQ%3D%3D?line=11'>12</a>\u001b[0m \u001b[39mimport\u001b[39;00m \u001b[39mnumpy\u001b[39;00m \u001b[39mas\u001b[39;00m \u001b[39mnp\u001b[39;00m\n\u001b[1;32m---> <a href='vscode-notebook-cell:/c%3A/Users/cwood/Documents/NBA_stats/shotChartDetail.ipynb#W0sZmlsZQ%3D%3D?line=12'>13</a>\u001b[0m \u001b[39mfrom\u001b[39;00m \u001b[39mscipy\u001b[39;00m\u001b[39m.\u001b[39;00m\u001b[39mstats\u001b[39;00m \u001b[39mimport\u001b[39;00m binned_statistic_2d\n\u001b[0;32m     <a href='vscode-notebook-cell:/c%3A/Users/cwood/Documents/NBA_stats/shotChartDetail.ipynb#W0sZmlsZQ%3D%3D?line=13'>14</a>\u001b[0m \u001b[39mimport\u001b[39;00m \u001b[39mseaborn\u001b[39;00m \u001b[39mas\u001b[39;00m \u001b[39msns\u001b[39;00m\n\u001b[0;32m     <a href='vscode-notebook-cell:/c%3A/Users/cwood/Documents/NBA_stats/shotChartDetail.ipynb#W0sZmlsZQ%3D%3D?line=14'>15</a>\u001b[0m \u001b[39mfrom\u001b[39;00m \u001b[39mbokeh\u001b[39;00m\u001b[39m.\u001b[39;00m\u001b[39mplotting\u001b[39;00m \u001b[39mimport\u001b[39;00m figure\n",
      "\u001b[1;31mModuleNotFoundError\u001b[0m: No module named 'scipy'"
     ]
    }
   ],
   "source": [
    "# Dependencies\n",
    "from nba_api.stats.endpoints import shotchartdetail, commonplayerinfo\n",
    "from nba_api.stats.static import players, teams\n",
    "import matplotlib as mpl\n",
    "import matplotlib.pyplot as plt\n",
    "import numpy as np\n",
    "import plotly.express as px\n",
    "import plotly.graph_objects as go\n",
    "from plotly.subplots import make_subplots\n",
    "import plotly.figure_factory as ff\n",
    "import pandas as pd\n",
    "import numpy as np\n",
    "from scipy.stats import binned_statistic_2d\n",
    "import seaborn as sns\n",
    "from bokeh.plotting import figure\n",
    "from math import pi"
   ]
  },
  {
   "cell_type": "code",
   "execution_count": 2,
   "metadata": {},
   "outputs": [],
   "source": [
    "# Declaring Naming Variables\n",
    "player_name = \"Brandon Ingram\"\n",
    "year = \"2021-22\""
   ]
  },
  {
   "cell_type": "code",
   "execution_count": 3,
   "metadata": {},
   "outputs": [],
   "source": [
    "# Basic Request\n",
    "player_id = players.find_players_by_full_name(player_name)[0][\"id\"]\n",
    "player_info = commonplayerinfo.CommonPlayerInfo(player_id=player_id)\n",
    "team_id = player_info.get_normalized_dict()['CommonPlayerInfo'][0]['TEAM_ID']\n",
    "shot_chart = shotchartdetail.ShotChartDetail(team_id=team_id, player_id=player_id, season_type_all_star=\"Regular Season\",\n",
    "                                             season_nullable=year, context_measure_simple=\"FGA\")"
   ]
  },
  {
   "cell_type": "code",
   "execution_count": 4,
   "metadata": {},
   "outputs": [
    {
     "data": {
      "text/html": [
       "<div>\n",
       "<style scoped>\n",
       "    .dataframe tbody tr th:only-of-type {\n",
       "        vertical-align: middle;\n",
       "    }\n",
       "\n",
       "    .dataframe tbody tr th {\n",
       "        vertical-align: top;\n",
       "    }\n",
       "\n",
       "    .dataframe thead th {\n",
       "        text-align: right;\n",
       "    }\n",
       "</style>\n",
       "<table border=\"1\" class=\"dataframe\">\n",
       "  <thead>\n",
       "    <tr style=\"text-align: right;\">\n",
       "      <th></th>\n",
       "      <th>GRID_TYPE</th>\n",
       "      <th>SHOT_ZONE_BASIC</th>\n",
       "      <th>SHOT_ZONE_AREA</th>\n",
       "      <th>SHOT_ZONE_RANGE</th>\n",
       "      <th>FGA_LA</th>\n",
       "      <th>FGM_LA</th>\n",
       "      <th>FG_PCT_LA</th>\n",
       "    </tr>\n",
       "  </thead>\n",
       "  <tbody>\n",
       "    <tr>\n",
       "      <th>0</th>\n",
       "      <td>League Averages</td>\n",
       "      <td>Above the Break 3</td>\n",
       "      <td>Back Court(BC)</td>\n",
       "      <td>Back Court Shot</td>\n",
       "      <td>35</td>\n",
       "      <td>4</td>\n",
       "      <td>0.114</td>\n",
       "    </tr>\n",
       "    <tr>\n",
       "      <th>1</th>\n",
       "      <td>League Averages</td>\n",
       "      <td>Above the Break 3</td>\n",
       "      <td>Center(C)</td>\n",
       "      <td>24+ ft.</td>\n",
       "      <td>16368</td>\n",
       "      <td>5613</td>\n",
       "      <td>0.343</td>\n",
       "    </tr>\n",
       "    <tr>\n",
       "      <th>2</th>\n",
       "      <td>League Averages</td>\n",
       "      <td>Above the Break 3</td>\n",
       "      <td>Left Side Center(LC)</td>\n",
       "      <td>24+ ft.</td>\n",
       "      <td>24924</td>\n",
       "      <td>8511</td>\n",
       "      <td>0.341</td>\n",
       "    </tr>\n",
       "    <tr>\n",
       "      <th>3</th>\n",
       "      <td>League Averages</td>\n",
       "      <td>Above the Break 3</td>\n",
       "      <td>Right Side Center(RC)</td>\n",
       "      <td>24+ ft.</td>\n",
       "      <td>23120</td>\n",
       "      <td>8171</td>\n",
       "      <td>0.353</td>\n",
       "    </tr>\n",
       "    <tr>\n",
       "      <th>4</th>\n",
       "      <td>League Averages</td>\n",
       "      <td>Backcourt</td>\n",
       "      <td>Back Court(BC)</td>\n",
       "      <td>Back Court Shot</td>\n",
       "      <td>440</td>\n",
       "      <td>11</td>\n",
       "      <td>0.025</td>\n",
       "    </tr>\n",
       "    <tr>\n",
       "      <th>5</th>\n",
       "      <td>League Averages</td>\n",
       "      <td>In The Paint (Non-RA)</td>\n",
       "      <td>Center(C)</td>\n",
       "      <td>8-16 ft.</td>\n",
       "      <td>11777</td>\n",
       "      <td>5228</td>\n",
       "      <td>0.444</td>\n",
       "    </tr>\n",
       "    <tr>\n",
       "      <th>6</th>\n",
       "      <td>League Averages</td>\n",
       "      <td>In The Paint (Non-RA)</td>\n",
       "      <td>Center(C)</td>\n",
       "      <td>Less Than 8 ft.</td>\n",
       "      <td>23351</td>\n",
       "      <td>9813</td>\n",
       "      <td>0.420</td>\n",
       "    </tr>\n",
       "    <tr>\n",
       "      <th>7</th>\n",
       "      <td>League Averages</td>\n",
       "      <td>In The Paint (Non-RA)</td>\n",
       "      <td>Left Side(L)</td>\n",
       "      <td>8-16 ft.</td>\n",
       "      <td>2197</td>\n",
       "      <td>949</td>\n",
       "      <td>0.432</td>\n",
       "    </tr>\n",
       "    <tr>\n",
       "      <th>8</th>\n",
       "      <td>League Averages</td>\n",
       "      <td>In The Paint (Non-RA)</td>\n",
       "      <td>Right Side(R)</td>\n",
       "      <td>8-16 ft.</td>\n",
       "      <td>2343</td>\n",
       "      <td>1000</td>\n",
       "      <td>0.427</td>\n",
       "    </tr>\n",
       "    <tr>\n",
       "      <th>9</th>\n",
       "      <td>League Averages</td>\n",
       "      <td>Left Corner 3</td>\n",
       "      <td>Left Side(L)</td>\n",
       "      <td>24+ ft.</td>\n",
       "      <td>11377</td>\n",
       "      <td>4371</td>\n",
       "      <td>0.384</td>\n",
       "    </tr>\n",
       "    <tr>\n",
       "      <th>10</th>\n",
       "      <td>League Averages</td>\n",
       "      <td>Mid-Range</td>\n",
       "      <td>Center(C)</td>\n",
       "      <td>8-16 ft.</td>\n",
       "      <td>2088</td>\n",
       "      <td>921</td>\n",
       "      <td>0.441</td>\n",
       "    </tr>\n",
       "    <tr>\n",
       "      <th>11</th>\n",
       "      <td>League Averages</td>\n",
       "      <td>Mid-Range</td>\n",
       "      <td>Center(C)</td>\n",
       "      <td>16-24 ft.</td>\n",
       "      <td>4165</td>\n",
       "      <td>1743</td>\n",
       "      <td>0.418</td>\n",
       "    </tr>\n",
       "    <tr>\n",
       "      <th>12</th>\n",
       "      <td>League Averages</td>\n",
       "      <td>Mid-Range</td>\n",
       "      <td>Left Side Center(LC)</td>\n",
       "      <td>16-24 ft.</td>\n",
       "      <td>3972</td>\n",
       "      <td>1632</td>\n",
       "      <td>0.411</td>\n",
       "    </tr>\n",
       "    <tr>\n",
       "      <th>13</th>\n",
       "      <td>League Averages</td>\n",
       "      <td>Mid-Range</td>\n",
       "      <td>Left Side(L)</td>\n",
       "      <td>8-16 ft.</td>\n",
       "      <td>5014</td>\n",
       "      <td>2023</td>\n",
       "      <td>0.403</td>\n",
       "    </tr>\n",
       "    <tr>\n",
       "      <th>14</th>\n",
       "      <td>League Averages</td>\n",
       "      <td>Mid-Range</td>\n",
       "      <td>Left Side(L)</td>\n",
       "      <td>16-24 ft.</td>\n",
       "      <td>1680</td>\n",
       "      <td>613</td>\n",
       "      <td>0.365</td>\n",
       "    </tr>\n",
       "    <tr>\n",
       "      <th>15</th>\n",
       "      <td>League Averages</td>\n",
       "      <td>Mid-Range</td>\n",
       "      <td>Right Side Center(RC)</td>\n",
       "      <td>16-24 ft.</td>\n",
       "      <td>4043</td>\n",
       "      <td>1575</td>\n",
       "      <td>0.390</td>\n",
       "    </tr>\n",
       "    <tr>\n",
       "      <th>16</th>\n",
       "      <td>League Averages</td>\n",
       "      <td>Mid-Range</td>\n",
       "      <td>Right Side(R)</td>\n",
       "      <td>16-24 ft.</td>\n",
       "      <td>1609</td>\n",
       "      <td>614</td>\n",
       "      <td>0.382</td>\n",
       "    </tr>\n",
       "    <tr>\n",
       "      <th>17</th>\n",
       "      <td>League Averages</td>\n",
       "      <td>Mid-Range</td>\n",
       "      <td>Right Side(R)</td>\n",
       "      <td>8-16 ft.</td>\n",
       "      <td>5141</td>\n",
       "      <td>2143</td>\n",
       "      <td>0.417</td>\n",
       "    </tr>\n",
       "    <tr>\n",
       "      <th>18</th>\n",
       "      <td>League Averages</td>\n",
       "      <td>Restricted Area</td>\n",
       "      <td>Center(C)</td>\n",
       "      <td>Less Than 8 ft.</td>\n",
       "      <td>62987</td>\n",
       "      <td>41140</td>\n",
       "      <td>0.653</td>\n",
       "    </tr>\n",
       "    <tr>\n",
       "      <th>19</th>\n",
       "      <td>League Averages</td>\n",
       "      <td>Right Corner 3</td>\n",
       "      <td>Right Side(R)</td>\n",
       "      <td>24+ ft.</td>\n",
       "      <td>10091</td>\n",
       "      <td>3855</td>\n",
       "      <td>0.382</td>\n",
       "    </tr>\n",
       "  </tbody>\n",
       "</table>\n",
       "</div>"
      ],
      "text/plain": [
       "          GRID_TYPE        SHOT_ZONE_BASIC         SHOT_ZONE_AREA  \\\n",
       "0   League Averages      Above the Break 3         Back Court(BC)   \n",
       "1   League Averages      Above the Break 3              Center(C)   \n",
       "2   League Averages      Above the Break 3   Left Side Center(LC)   \n",
       "3   League Averages      Above the Break 3  Right Side Center(RC)   \n",
       "4   League Averages              Backcourt         Back Court(BC)   \n",
       "5   League Averages  In The Paint (Non-RA)              Center(C)   \n",
       "6   League Averages  In The Paint (Non-RA)              Center(C)   \n",
       "7   League Averages  In The Paint (Non-RA)           Left Side(L)   \n",
       "8   League Averages  In The Paint (Non-RA)          Right Side(R)   \n",
       "9   League Averages          Left Corner 3           Left Side(L)   \n",
       "10  League Averages              Mid-Range              Center(C)   \n",
       "11  League Averages              Mid-Range              Center(C)   \n",
       "12  League Averages              Mid-Range   Left Side Center(LC)   \n",
       "13  League Averages              Mid-Range           Left Side(L)   \n",
       "14  League Averages              Mid-Range           Left Side(L)   \n",
       "15  League Averages              Mid-Range  Right Side Center(RC)   \n",
       "16  League Averages              Mid-Range          Right Side(R)   \n",
       "17  League Averages              Mid-Range          Right Side(R)   \n",
       "18  League Averages        Restricted Area              Center(C)   \n",
       "19  League Averages         Right Corner 3          Right Side(R)   \n",
       "\n",
       "    SHOT_ZONE_RANGE  FGA_LA  FGM_LA  FG_PCT_LA  \n",
       "0   Back Court Shot      35       4      0.114  \n",
       "1           24+ ft.   16368    5613      0.343  \n",
       "2           24+ ft.   24924    8511      0.341  \n",
       "3           24+ ft.   23120    8171      0.353  \n",
       "4   Back Court Shot     440      11      0.025  \n",
       "5          8-16 ft.   11777    5228      0.444  \n",
       "6   Less Than 8 ft.   23351    9813      0.420  \n",
       "7          8-16 ft.    2197     949      0.432  \n",
       "8          8-16 ft.    2343    1000      0.427  \n",
       "9           24+ ft.   11377    4371      0.384  \n",
       "10         8-16 ft.    2088     921      0.441  \n",
       "11        16-24 ft.    4165    1743      0.418  \n",
       "12        16-24 ft.    3972    1632      0.411  \n",
       "13         8-16 ft.    5014    2023      0.403  \n",
       "14        16-24 ft.    1680     613      0.365  \n",
       "15        16-24 ft.    4043    1575      0.390  \n",
       "16        16-24 ft.    1609     614      0.382  \n",
       "17         8-16 ft.    5141    2143      0.417  \n",
       "18  Less Than 8 ft.   62987   41140      0.653  \n",
       "19          24+ ft.   10091    3855      0.382  "
      ]
     },
     "execution_count": 4,
     "metadata": {},
     "output_type": "execute_result"
    }
   ],
   "source": [
    "x = shot_chart.shot_chart_detail.get_data_frame()\n",
    "# league_average = shot_chart.league_averages.get_data_frame().groupby([\"SHOT_ZONE_RANGE\"], as_index=False).agg(FGM=('FGM', 'sum'), FGA=('FGA', 'sum'))\n",
    "league_average = shot_chart.league_averages.get_data_frame().rename(columns={'FGA': 'FGA_LA', 'FGM': 'FGM_LA', 'FG_PCT': 'FG_PCT_LA'})\n",
    "league_average"
   ]
  },
  {
   "cell_type": "code",
   "execution_count": 5,
   "metadata": {},
   "outputs": [
    {
     "data": {
      "text/plain": [
       "983"
      ]
     },
     "execution_count": 5,
     "metadata": {},
     "output_type": "execute_result"
    }
   ],
   "source": [
    "x['SHOT_ATTEMPTED_FLAG'].sum()"
   ]
  },
  {
   "cell_type": "code",
   "execution_count": 8,
   "metadata": {},
   "outputs": [
    {
     "data": {
      "text/html": [
       "<div>\n",
       "<style scoped>\n",
       "    .dataframe tbody tr th:only-of-type {\n",
       "        vertical-align: middle;\n",
       "    }\n",
       "\n",
       "    .dataframe tbody tr th {\n",
       "        vertical-align: top;\n",
       "    }\n",
       "\n",
       "    .dataframe thead th {\n",
       "        text-align: right;\n",
       "    }\n",
       "</style>\n",
       "<table border=\"1\" class=\"dataframe\">\n",
       "  <thead>\n",
       "    <tr style=\"text-align: right;\">\n",
       "      <th></th>\n",
       "      <th>GRID_TYPE</th>\n",
       "      <th>GAME_ID</th>\n",
       "      <th>GAME_EVENT_ID</th>\n",
       "      <th>PLAYER_ID</th>\n",
       "      <th>PLAYER_NAME</th>\n",
       "      <th>TEAM_ID</th>\n",
       "      <th>TEAM_NAME</th>\n",
       "      <th>PERIOD</th>\n",
       "      <th>MINUTES_REMAINING</th>\n",
       "      <th>SECONDS_REMAINING</th>\n",
       "      <th>...</th>\n",
       "      <th>SHOT_ZONE_AREA</th>\n",
       "      <th>SHOT_ZONE_RANGE</th>\n",
       "      <th>SHOT_DISTANCE</th>\n",
       "      <th>LOC_X</th>\n",
       "      <th>LOC_Y</th>\n",
       "      <th>SHOT_ATTEMPTED_FLAG</th>\n",
       "      <th>SHOT_MADE_FLAG</th>\n",
       "      <th>GAME_DATE</th>\n",
       "      <th>HTM</th>\n",
       "      <th>VTM</th>\n",
       "    </tr>\n",
       "  </thead>\n",
       "  <tbody>\n",
       "    <tr>\n",
       "      <th>0</th>\n",
       "      <td>Shot Chart Detail</td>\n",
       "      <td>0022100009</td>\n",
       "      <td>22</td>\n",
       "      <td>1627742</td>\n",
       "      <td>Brandon Ingram</td>\n",
       "      <td>1610612740</td>\n",
       "      <td>New Orleans Pelicans</td>\n",
       "      <td>1</td>\n",
       "      <td>9</td>\n",
       "      <td>50</td>\n",
       "      <td>...</td>\n",
       "      <td>Right Side(R)</td>\n",
       "      <td>8-16 ft.</td>\n",
       "      <td>12</td>\n",
       "      <td>100</td>\n",
       "      <td>83</td>\n",
       "      <td>1</td>\n",
       "      <td>0</td>\n",
       "      <td>20211020</td>\n",
       "      <td>NOP</td>\n",
       "      <td>PHI</td>\n",
       "    </tr>\n",
       "    <tr>\n",
       "      <th>1</th>\n",
       "      <td>Shot Chart Detail</td>\n",
       "      <td>0022100009</td>\n",
       "      <td>28</td>\n",
       "      <td>1627742</td>\n",
       "      <td>Brandon Ingram</td>\n",
       "      <td>1610612740</td>\n",
       "      <td>New Orleans Pelicans</td>\n",
       "      <td>1</td>\n",
       "      <td>9</td>\n",
       "      <td>9</td>\n",
       "      <td>...</td>\n",
       "      <td>Right Side(R)</td>\n",
       "      <td>8-16 ft.</td>\n",
       "      <td>15</td>\n",
       "      <td>127</td>\n",
       "      <td>94</td>\n",
       "      <td>1</td>\n",
       "      <td>0</td>\n",
       "      <td>20211020</td>\n",
       "      <td>NOP</td>\n",
       "      <td>PHI</td>\n",
       "    </tr>\n",
       "    <tr>\n",
       "      <th>2</th>\n",
       "      <td>Shot Chart Detail</td>\n",
       "      <td>0022100009</td>\n",
       "      <td>39</td>\n",
       "      <td>1627742</td>\n",
       "      <td>Brandon Ingram</td>\n",
       "      <td>1610612740</td>\n",
       "      <td>New Orleans Pelicans</td>\n",
       "      <td>1</td>\n",
       "      <td>8</td>\n",
       "      <td>14</td>\n",
       "      <td>...</td>\n",
       "      <td>Left Side Center(LC)</td>\n",
       "      <td>24+ ft.</td>\n",
       "      <td>25</td>\n",
       "      <td>-162</td>\n",
       "      <td>194</td>\n",
       "      <td>1</td>\n",
       "      <td>0</td>\n",
       "      <td>20211020</td>\n",
       "      <td>NOP</td>\n",
       "      <td>PHI</td>\n",
       "    </tr>\n",
       "    <tr>\n",
       "      <th>3</th>\n",
       "      <td>Shot Chart Detail</td>\n",
       "      <td>0022100009</td>\n",
       "      <td>63</td>\n",
       "      <td>1627742</td>\n",
       "      <td>Brandon Ingram</td>\n",
       "      <td>1610612740</td>\n",
       "      <td>New Orleans Pelicans</td>\n",
       "      <td>1</td>\n",
       "      <td>5</td>\n",
       "      <td>45</td>\n",
       "      <td>...</td>\n",
       "      <td>Right Side(R)</td>\n",
       "      <td>8-16 ft.</td>\n",
       "      <td>9</td>\n",
       "      <td>93</td>\n",
       "      <td>17</td>\n",
       "      <td>1</td>\n",
       "      <td>0</td>\n",
       "      <td>20211020</td>\n",
       "      <td>NOP</td>\n",
       "      <td>PHI</td>\n",
       "    </tr>\n",
       "    <tr>\n",
       "      <th>4</th>\n",
       "      <td>Shot Chart Detail</td>\n",
       "      <td>0022100009</td>\n",
       "      <td>79</td>\n",
       "      <td>1627742</td>\n",
       "      <td>Brandon Ingram</td>\n",
       "      <td>1610612740</td>\n",
       "      <td>New Orleans Pelicans</td>\n",
       "      <td>1</td>\n",
       "      <td>3</td>\n",
       "      <td>54</td>\n",
       "      <td>...</td>\n",
       "      <td>Center(C)</td>\n",
       "      <td>Less Than 8 ft.</td>\n",
       "      <td>1</td>\n",
       "      <td>18</td>\n",
       "      <td>-3</td>\n",
       "      <td>1</td>\n",
       "      <td>1</td>\n",
       "      <td>20211020</td>\n",
       "      <td>NOP</td>\n",
       "      <td>PHI</td>\n",
       "    </tr>\n",
       "    <tr>\n",
       "      <th>...</th>\n",
       "      <td>...</td>\n",
       "      <td>...</td>\n",
       "      <td>...</td>\n",
       "      <td>...</td>\n",
       "      <td>...</td>\n",
       "      <td>...</td>\n",
       "      <td>...</td>\n",
       "      <td>...</td>\n",
       "      <td>...</td>\n",
       "      <td>...</td>\n",
       "      <td>...</td>\n",
       "      <td>...</td>\n",
       "      <td>...</td>\n",
       "      <td>...</td>\n",
       "      <td>...</td>\n",
       "      <td>...</td>\n",
       "      <td>...</td>\n",
       "      <td>...</td>\n",
       "      <td>...</td>\n",
       "      <td>...</td>\n",
       "      <td>...</td>\n",
       "    </tr>\n",
       "    <tr>\n",
       "      <th>978</th>\n",
       "      <td>Shot Chart Detail</td>\n",
       "      <td>0022101188</td>\n",
       "      <td>440</td>\n",
       "      <td>1627742</td>\n",
       "      <td>Brandon Ingram</td>\n",
       "      <td>1610612740</td>\n",
       "      <td>New Orleans Pelicans</td>\n",
       "      <td>3</td>\n",
       "      <td>2</td>\n",
       "      <td>38</td>\n",
       "      <td>...</td>\n",
       "      <td>Left Side Center(LC)</td>\n",
       "      <td>24+ ft.</td>\n",
       "      <td>25</td>\n",
       "      <td>-185</td>\n",
       "      <td>174</td>\n",
       "      <td>1</td>\n",
       "      <td>0</td>\n",
       "      <td>20220405</td>\n",
       "      <td>SAC</td>\n",
       "      <td>NOP</td>\n",
       "    </tr>\n",
       "    <tr>\n",
       "      <th>979</th>\n",
       "      <td>Shot Chart Detail</td>\n",
       "      <td>0022101188</td>\n",
       "      <td>560</td>\n",
       "      <td>1627742</td>\n",
       "      <td>Brandon Ingram</td>\n",
       "      <td>1610612740</td>\n",
       "      <td>New Orleans Pelicans</td>\n",
       "      <td>4</td>\n",
       "      <td>4</td>\n",
       "      <td>57</td>\n",
       "      <td>...</td>\n",
       "      <td>Center(C)</td>\n",
       "      <td>8-16 ft.</td>\n",
       "      <td>9</td>\n",
       "      <td>39</td>\n",
       "      <td>92</td>\n",
       "      <td>1</td>\n",
       "      <td>0</td>\n",
       "      <td>20220405</td>\n",
       "      <td>SAC</td>\n",
       "      <td>NOP</td>\n",
       "    </tr>\n",
       "    <tr>\n",
       "      <th>980</th>\n",
       "      <td>Shot Chart Detail</td>\n",
       "      <td>0022101188</td>\n",
       "      <td>573</td>\n",
       "      <td>1627742</td>\n",
       "      <td>Brandon Ingram</td>\n",
       "      <td>1610612740</td>\n",
       "      <td>New Orleans Pelicans</td>\n",
       "      <td>4</td>\n",
       "      <td>4</td>\n",
       "      <td>15</td>\n",
       "      <td>...</td>\n",
       "      <td>Right Side Center(RC)</td>\n",
       "      <td>16-24 ft.</td>\n",
       "      <td>17</td>\n",
       "      <td>69</td>\n",
       "      <td>159</td>\n",
       "      <td>1</td>\n",
       "      <td>0</td>\n",
       "      <td>20220405</td>\n",
       "      <td>SAC</td>\n",
       "      <td>NOP</td>\n",
       "    </tr>\n",
       "    <tr>\n",
       "      <th>981</th>\n",
       "      <td>Shot Chart Detail</td>\n",
       "      <td>0022101188</td>\n",
       "      <td>577</td>\n",
       "      <td>1627742</td>\n",
       "      <td>Brandon Ingram</td>\n",
       "      <td>1610612740</td>\n",
       "      <td>New Orleans Pelicans</td>\n",
       "      <td>4</td>\n",
       "      <td>3</td>\n",
       "      <td>51</td>\n",
       "      <td>...</td>\n",
       "      <td>Center(C)</td>\n",
       "      <td>8-16 ft.</td>\n",
       "      <td>13</td>\n",
       "      <td>-55</td>\n",
       "      <td>123</td>\n",
       "      <td>1</td>\n",
       "      <td>0</td>\n",
       "      <td>20220405</td>\n",
       "      <td>SAC</td>\n",
       "      <td>NOP</td>\n",
       "    </tr>\n",
       "    <tr>\n",
       "      <th>982</th>\n",
       "      <td>Shot Chart Detail</td>\n",
       "      <td>0022101188</td>\n",
       "      <td>619</td>\n",
       "      <td>1627742</td>\n",
       "      <td>Brandon Ingram</td>\n",
       "      <td>1610612740</td>\n",
       "      <td>New Orleans Pelicans</td>\n",
       "      <td>4</td>\n",
       "      <td>0</td>\n",
       "      <td>32</td>\n",
       "      <td>...</td>\n",
       "      <td>Center(C)</td>\n",
       "      <td>16-24 ft.</td>\n",
       "      <td>16</td>\n",
       "      <td>-7</td>\n",
       "      <td>165</td>\n",
       "      <td>1</td>\n",
       "      <td>1</td>\n",
       "      <td>20220405</td>\n",
       "      <td>SAC</td>\n",
       "      <td>NOP</td>\n",
       "    </tr>\n",
       "  </tbody>\n",
       "</table>\n",
       "<p>983 rows × 24 columns</p>\n",
       "</div>"
      ],
      "text/plain": [
       "             GRID_TYPE     GAME_ID  GAME_EVENT_ID  PLAYER_ID     PLAYER_NAME  \\\n",
       "0    Shot Chart Detail  0022100009             22    1627742  Brandon Ingram   \n",
       "1    Shot Chart Detail  0022100009             28    1627742  Brandon Ingram   \n",
       "2    Shot Chart Detail  0022100009             39    1627742  Brandon Ingram   \n",
       "3    Shot Chart Detail  0022100009             63    1627742  Brandon Ingram   \n",
       "4    Shot Chart Detail  0022100009             79    1627742  Brandon Ingram   \n",
       "..                 ...         ...            ...        ...             ...   \n",
       "978  Shot Chart Detail  0022101188            440    1627742  Brandon Ingram   \n",
       "979  Shot Chart Detail  0022101188            560    1627742  Brandon Ingram   \n",
       "980  Shot Chart Detail  0022101188            573    1627742  Brandon Ingram   \n",
       "981  Shot Chart Detail  0022101188            577    1627742  Brandon Ingram   \n",
       "982  Shot Chart Detail  0022101188            619    1627742  Brandon Ingram   \n",
       "\n",
       "        TEAM_ID             TEAM_NAME  PERIOD  MINUTES_REMAINING  \\\n",
       "0    1610612740  New Orleans Pelicans       1                  9   \n",
       "1    1610612740  New Orleans Pelicans       1                  9   \n",
       "2    1610612740  New Orleans Pelicans       1                  8   \n",
       "3    1610612740  New Orleans Pelicans       1                  5   \n",
       "4    1610612740  New Orleans Pelicans       1                  3   \n",
       "..          ...                   ...     ...                ...   \n",
       "978  1610612740  New Orleans Pelicans       3                  2   \n",
       "979  1610612740  New Orleans Pelicans       4                  4   \n",
       "980  1610612740  New Orleans Pelicans       4                  4   \n",
       "981  1610612740  New Orleans Pelicans       4                  3   \n",
       "982  1610612740  New Orleans Pelicans       4                  0   \n",
       "\n",
       "     SECONDS_REMAINING  ...         SHOT_ZONE_AREA  SHOT_ZONE_RANGE  \\\n",
       "0                   50  ...          Right Side(R)         8-16 ft.   \n",
       "1                    9  ...          Right Side(R)         8-16 ft.   \n",
       "2                   14  ...   Left Side Center(LC)          24+ ft.   \n",
       "3                   45  ...          Right Side(R)         8-16 ft.   \n",
       "4                   54  ...              Center(C)  Less Than 8 ft.   \n",
       "..                 ...  ...                    ...              ...   \n",
       "978                 38  ...   Left Side Center(LC)          24+ ft.   \n",
       "979                 57  ...              Center(C)         8-16 ft.   \n",
       "980                 15  ...  Right Side Center(RC)        16-24 ft.   \n",
       "981                 51  ...              Center(C)         8-16 ft.   \n",
       "982                 32  ...              Center(C)        16-24 ft.   \n",
       "\n",
       "    SHOT_DISTANCE LOC_X LOC_Y SHOT_ATTEMPTED_FLAG  SHOT_MADE_FLAG  GAME_DATE  \\\n",
       "0              12   100    83                   1               0   20211020   \n",
       "1              15   127    94                   1               0   20211020   \n",
       "2              25  -162   194                   1               0   20211020   \n",
       "3               9    93    17                   1               0   20211020   \n",
       "4               1    18    -3                   1               1   20211020   \n",
       "..            ...   ...   ...                 ...             ...        ...   \n",
       "978            25  -185   174                   1               0   20220405   \n",
       "979             9    39    92                   1               0   20220405   \n",
       "980            17    69   159                   1               0   20220405   \n",
       "981            13   -55   123                   1               0   20220405   \n",
       "982            16    -7   165                   1               1   20220405   \n",
       "\n",
       "     HTM  VTM  \n",
       "0    NOP  PHI  \n",
       "1    NOP  PHI  \n",
       "2    NOP  PHI  \n",
       "3    NOP  PHI  \n",
       "4    NOP  PHI  \n",
       "..   ...  ...  \n",
       "978  SAC  NOP  \n",
       "979  SAC  NOP  \n",
       "980  SAC  NOP  \n",
       "981  SAC  NOP  \n",
       "982  SAC  NOP  \n",
       "\n",
       "[983 rows x 24 columns]"
      ]
     },
     "execution_count": 8,
     "metadata": {},
     "output_type": "execute_result"
    }
   ],
   "source": [
    "x"
   ]
  },
  {
   "cell_type": "code",
   "execution_count": 42,
   "metadata": {},
   "outputs": [
    {
     "data": {
      "text/html": [
       "<div>\n",
       "<style scoped>\n",
       "    .dataframe tbody tr th:only-of-type {\n",
       "        vertical-align: middle;\n",
       "    }\n",
       "\n",
       "    .dataframe tbody tr th {\n",
       "        vertical-align: top;\n",
       "    }\n",
       "\n",
       "    .dataframe thead th {\n",
       "        text-align: right;\n",
       "    }\n",
       "</style>\n",
       "<table border=\"1\" class=\"dataframe\">\n",
       "  <thead>\n",
       "    <tr style=\"text-align: right;\">\n",
       "      <th></th>\n",
       "      <th>GRID_TYPE_PA</th>\n",
       "      <th>GAME_ID</th>\n",
       "      <th>GAME_EVENT_ID</th>\n",
       "      <th>PLAYER_ID</th>\n",
       "      <th>PLAYER_NAME</th>\n",
       "      <th>TEAM_ID</th>\n",
       "      <th>TEAM_NAME</th>\n",
       "      <th>PERIOD</th>\n",
       "      <th>MINUTES_REMAINING</th>\n",
       "      <th>SECONDS_REMAINING</th>\n",
       "      <th>...</th>\n",
       "      <th>LOC_Y</th>\n",
       "      <th>SHOT_ATTEMPTED_FLAG</th>\n",
       "      <th>SHOT_MADE_FLAG</th>\n",
       "      <th>GAME_DATE</th>\n",
       "      <th>HTM</th>\n",
       "      <th>VTM</th>\n",
       "      <th>GRID_TYPE_LA</th>\n",
       "      <th>FGA_LA</th>\n",
       "      <th>FGM_LA</th>\n",
       "      <th>FG_PCT_LA</th>\n",
       "    </tr>\n",
       "  </thead>\n",
       "  <tbody>\n",
       "    <tr>\n",
       "      <th>0</th>\n",
       "      <td>Shot Chart Detail</td>\n",
       "      <td>0022100009</td>\n",
       "      <td>22</td>\n",
       "      <td>1627742</td>\n",
       "      <td>Brandon Ingram</td>\n",
       "      <td>1610612740</td>\n",
       "      <td>New Orleans Pelicans</td>\n",
       "      <td>1</td>\n",
       "      <td>9</td>\n",
       "      <td>50</td>\n",
       "      <td>...</td>\n",
       "      <td>83</td>\n",
       "      <td>1</td>\n",
       "      <td>0</td>\n",
       "      <td>20211020</td>\n",
       "      <td>NOP</td>\n",
       "      <td>PHI</td>\n",
       "      <td>League Averages</td>\n",
       "      <td>5141</td>\n",
       "      <td>2143</td>\n",
       "      <td>0.417</td>\n",
       "    </tr>\n",
       "    <tr>\n",
       "      <th>1</th>\n",
       "      <td>Shot Chart Detail</td>\n",
       "      <td>0022100009</td>\n",
       "      <td>28</td>\n",
       "      <td>1627742</td>\n",
       "      <td>Brandon Ingram</td>\n",
       "      <td>1610612740</td>\n",
       "      <td>New Orleans Pelicans</td>\n",
       "      <td>1</td>\n",
       "      <td>9</td>\n",
       "      <td>9</td>\n",
       "      <td>...</td>\n",
       "      <td>94</td>\n",
       "      <td>1</td>\n",
       "      <td>0</td>\n",
       "      <td>20211020</td>\n",
       "      <td>NOP</td>\n",
       "      <td>PHI</td>\n",
       "      <td>League Averages</td>\n",
       "      <td>5141</td>\n",
       "      <td>2143</td>\n",
       "      <td>0.417</td>\n",
       "    </tr>\n",
       "    <tr>\n",
       "      <th>2</th>\n",
       "      <td>Shot Chart Detail</td>\n",
       "      <td>0022100009</td>\n",
       "      <td>39</td>\n",
       "      <td>1627742</td>\n",
       "      <td>Brandon Ingram</td>\n",
       "      <td>1610612740</td>\n",
       "      <td>New Orleans Pelicans</td>\n",
       "      <td>1</td>\n",
       "      <td>8</td>\n",
       "      <td>14</td>\n",
       "      <td>...</td>\n",
       "      <td>194</td>\n",
       "      <td>1</td>\n",
       "      <td>0</td>\n",
       "      <td>20211020</td>\n",
       "      <td>NOP</td>\n",
       "      <td>PHI</td>\n",
       "      <td>League Averages</td>\n",
       "      <td>24924</td>\n",
       "      <td>8511</td>\n",
       "      <td>0.341</td>\n",
       "    </tr>\n",
       "    <tr>\n",
       "      <th>3</th>\n",
       "      <td>Shot Chart Detail</td>\n",
       "      <td>0022100009</td>\n",
       "      <td>63</td>\n",
       "      <td>1627742</td>\n",
       "      <td>Brandon Ingram</td>\n",
       "      <td>1610612740</td>\n",
       "      <td>New Orleans Pelicans</td>\n",
       "      <td>1</td>\n",
       "      <td>5</td>\n",
       "      <td>45</td>\n",
       "      <td>...</td>\n",
       "      <td>17</td>\n",
       "      <td>1</td>\n",
       "      <td>0</td>\n",
       "      <td>20211020</td>\n",
       "      <td>NOP</td>\n",
       "      <td>PHI</td>\n",
       "      <td>League Averages</td>\n",
       "      <td>5141</td>\n",
       "      <td>2143</td>\n",
       "      <td>0.417</td>\n",
       "    </tr>\n",
       "    <tr>\n",
       "      <th>4</th>\n",
       "      <td>Shot Chart Detail</td>\n",
       "      <td>0022100009</td>\n",
       "      <td>79</td>\n",
       "      <td>1627742</td>\n",
       "      <td>Brandon Ingram</td>\n",
       "      <td>1610612740</td>\n",
       "      <td>New Orleans Pelicans</td>\n",
       "      <td>1</td>\n",
       "      <td>3</td>\n",
       "      <td>54</td>\n",
       "      <td>...</td>\n",
       "      <td>-3</td>\n",
       "      <td>1</td>\n",
       "      <td>1</td>\n",
       "      <td>20211020</td>\n",
       "      <td>NOP</td>\n",
       "      <td>PHI</td>\n",
       "      <td>League Averages</td>\n",
       "      <td>62987</td>\n",
       "      <td>41140</td>\n",
       "      <td>0.653</td>\n",
       "    </tr>\n",
       "    <tr>\n",
       "      <th>...</th>\n",
       "      <td>...</td>\n",
       "      <td>...</td>\n",
       "      <td>...</td>\n",
       "      <td>...</td>\n",
       "      <td>...</td>\n",
       "      <td>...</td>\n",
       "      <td>...</td>\n",
       "      <td>...</td>\n",
       "      <td>...</td>\n",
       "      <td>...</td>\n",
       "      <td>...</td>\n",
       "      <td>...</td>\n",
       "      <td>...</td>\n",
       "      <td>...</td>\n",
       "      <td>...</td>\n",
       "      <td>...</td>\n",
       "      <td>...</td>\n",
       "      <td>...</td>\n",
       "      <td>...</td>\n",
       "      <td>...</td>\n",
       "      <td>...</td>\n",
       "    </tr>\n",
       "    <tr>\n",
       "      <th>978</th>\n",
       "      <td>Shot Chart Detail</td>\n",
       "      <td>0022101188</td>\n",
       "      <td>440</td>\n",
       "      <td>1627742</td>\n",
       "      <td>Brandon Ingram</td>\n",
       "      <td>1610612740</td>\n",
       "      <td>New Orleans Pelicans</td>\n",
       "      <td>3</td>\n",
       "      <td>2</td>\n",
       "      <td>38</td>\n",
       "      <td>...</td>\n",
       "      <td>174</td>\n",
       "      <td>1</td>\n",
       "      <td>0</td>\n",
       "      <td>20220405</td>\n",
       "      <td>SAC</td>\n",
       "      <td>NOP</td>\n",
       "      <td>League Averages</td>\n",
       "      <td>24924</td>\n",
       "      <td>8511</td>\n",
       "      <td>0.341</td>\n",
       "    </tr>\n",
       "    <tr>\n",
       "      <th>979</th>\n",
       "      <td>Shot Chart Detail</td>\n",
       "      <td>0022101188</td>\n",
       "      <td>560</td>\n",
       "      <td>1627742</td>\n",
       "      <td>Brandon Ingram</td>\n",
       "      <td>1610612740</td>\n",
       "      <td>New Orleans Pelicans</td>\n",
       "      <td>4</td>\n",
       "      <td>4</td>\n",
       "      <td>57</td>\n",
       "      <td>...</td>\n",
       "      <td>92</td>\n",
       "      <td>1</td>\n",
       "      <td>0</td>\n",
       "      <td>20220405</td>\n",
       "      <td>SAC</td>\n",
       "      <td>NOP</td>\n",
       "      <td>League Averages</td>\n",
       "      <td>11777</td>\n",
       "      <td>5228</td>\n",
       "      <td>0.444</td>\n",
       "    </tr>\n",
       "    <tr>\n",
       "      <th>980</th>\n",
       "      <td>Shot Chart Detail</td>\n",
       "      <td>0022101188</td>\n",
       "      <td>573</td>\n",
       "      <td>1627742</td>\n",
       "      <td>Brandon Ingram</td>\n",
       "      <td>1610612740</td>\n",
       "      <td>New Orleans Pelicans</td>\n",
       "      <td>4</td>\n",
       "      <td>4</td>\n",
       "      <td>15</td>\n",
       "      <td>...</td>\n",
       "      <td>159</td>\n",
       "      <td>1</td>\n",
       "      <td>0</td>\n",
       "      <td>20220405</td>\n",
       "      <td>SAC</td>\n",
       "      <td>NOP</td>\n",
       "      <td>League Averages</td>\n",
       "      <td>4043</td>\n",
       "      <td>1575</td>\n",
       "      <td>0.390</td>\n",
       "    </tr>\n",
       "    <tr>\n",
       "      <th>981</th>\n",
       "      <td>Shot Chart Detail</td>\n",
       "      <td>0022101188</td>\n",
       "      <td>577</td>\n",
       "      <td>1627742</td>\n",
       "      <td>Brandon Ingram</td>\n",
       "      <td>1610612740</td>\n",
       "      <td>New Orleans Pelicans</td>\n",
       "      <td>4</td>\n",
       "      <td>3</td>\n",
       "      <td>51</td>\n",
       "      <td>...</td>\n",
       "      <td>123</td>\n",
       "      <td>1</td>\n",
       "      <td>0</td>\n",
       "      <td>20220405</td>\n",
       "      <td>SAC</td>\n",
       "      <td>NOP</td>\n",
       "      <td>League Averages</td>\n",
       "      <td>11777</td>\n",
       "      <td>5228</td>\n",
       "      <td>0.444</td>\n",
       "    </tr>\n",
       "    <tr>\n",
       "      <th>982</th>\n",
       "      <td>Shot Chart Detail</td>\n",
       "      <td>0022101188</td>\n",
       "      <td>619</td>\n",
       "      <td>1627742</td>\n",
       "      <td>Brandon Ingram</td>\n",
       "      <td>1610612740</td>\n",
       "      <td>New Orleans Pelicans</td>\n",
       "      <td>4</td>\n",
       "      <td>0</td>\n",
       "      <td>32</td>\n",
       "      <td>...</td>\n",
       "      <td>165</td>\n",
       "      <td>1</td>\n",
       "      <td>1</td>\n",
       "      <td>20220405</td>\n",
       "      <td>SAC</td>\n",
       "      <td>NOP</td>\n",
       "      <td>League Averages</td>\n",
       "      <td>4165</td>\n",
       "      <td>1743</td>\n",
       "      <td>0.418</td>\n",
       "    </tr>\n",
       "  </tbody>\n",
       "</table>\n",
       "<p>983 rows × 28 columns</p>\n",
       "</div>"
      ],
      "text/plain": [
       "          GRID_TYPE_PA     GAME_ID  GAME_EVENT_ID  PLAYER_ID     PLAYER_NAME  \\\n",
       "0    Shot Chart Detail  0022100009             22    1627742  Brandon Ingram   \n",
       "1    Shot Chart Detail  0022100009             28    1627742  Brandon Ingram   \n",
       "2    Shot Chart Detail  0022100009             39    1627742  Brandon Ingram   \n",
       "3    Shot Chart Detail  0022100009             63    1627742  Brandon Ingram   \n",
       "4    Shot Chart Detail  0022100009             79    1627742  Brandon Ingram   \n",
       "..                 ...         ...            ...        ...             ...   \n",
       "978  Shot Chart Detail  0022101188            440    1627742  Brandon Ingram   \n",
       "979  Shot Chart Detail  0022101188            560    1627742  Brandon Ingram   \n",
       "980  Shot Chart Detail  0022101188            573    1627742  Brandon Ingram   \n",
       "981  Shot Chart Detail  0022101188            577    1627742  Brandon Ingram   \n",
       "982  Shot Chart Detail  0022101188            619    1627742  Brandon Ingram   \n",
       "\n",
       "        TEAM_ID             TEAM_NAME  PERIOD  MINUTES_REMAINING  \\\n",
       "0    1610612740  New Orleans Pelicans       1                  9   \n",
       "1    1610612740  New Orleans Pelicans       1                  9   \n",
       "2    1610612740  New Orleans Pelicans       1                  8   \n",
       "3    1610612740  New Orleans Pelicans       1                  5   \n",
       "4    1610612740  New Orleans Pelicans       1                  3   \n",
       "..          ...                   ...     ...                ...   \n",
       "978  1610612740  New Orleans Pelicans       3                  2   \n",
       "979  1610612740  New Orleans Pelicans       4                  4   \n",
       "980  1610612740  New Orleans Pelicans       4                  4   \n",
       "981  1610612740  New Orleans Pelicans       4                  3   \n",
       "982  1610612740  New Orleans Pelicans       4                  0   \n",
       "\n",
       "     SECONDS_REMAINING  ... LOC_Y SHOT_ATTEMPTED_FLAG SHOT_MADE_FLAG  \\\n",
       "0                   50  ...    83                   1              0   \n",
       "1                    9  ...    94                   1              0   \n",
       "2                   14  ...   194                   1              0   \n",
       "3                   45  ...    17                   1              0   \n",
       "4                   54  ...    -3                   1              1   \n",
       "..                 ...  ...   ...                 ...            ...   \n",
       "978                 38  ...   174                   1              0   \n",
       "979                 57  ...    92                   1              0   \n",
       "980                 15  ...   159                   1              0   \n",
       "981                 51  ...   123                   1              0   \n",
       "982                 32  ...   165                   1              1   \n",
       "\n",
       "    GAME_DATE  HTM  VTM     GRID_TYPE_LA  FGA_LA  FGM_LA  FG_PCT_LA  \n",
       "0    20211020  NOP  PHI  League Averages    5141    2143      0.417  \n",
       "1    20211020  NOP  PHI  League Averages    5141    2143      0.417  \n",
       "2    20211020  NOP  PHI  League Averages   24924    8511      0.341  \n",
       "3    20211020  NOP  PHI  League Averages    5141    2143      0.417  \n",
       "4    20211020  NOP  PHI  League Averages   62987   41140      0.653  \n",
       "..        ...  ...  ...              ...     ...     ...        ...  \n",
       "978  20220405  SAC  NOP  League Averages   24924    8511      0.341  \n",
       "979  20220405  SAC  NOP  League Averages   11777    5228      0.444  \n",
       "980  20220405  SAC  NOP  League Averages    4043    1575      0.390  \n",
       "981  20220405  SAC  NOP  League Averages   11777    5228      0.444  \n",
       "982  20220405  SAC  NOP  League Averages    4165    1743      0.418  \n",
       "\n",
       "[983 rows x 28 columns]"
      ]
     },
     "execution_count": 42,
     "metadata": {},
     "output_type": "execute_result"
    }
   ],
   "source": [
    "# Merge x with league_average on SHOT_ZONE_AREA and SHOT_ZONE_RANGE\n",
    "temp = x.merge(league_average, on=['SHOT_ZONE_AREA', 'SHOT_ZONE_RANGE', 'SHOT_ZONE_BASIC'], how='left', suffixes=('_PA', '_LA'))\n",
    "temp"
   ]
  },
  {
   "cell_type": "code",
   "execution_count": 10,
   "metadata": {},
   "outputs": [
    {
     "data": {
      "text/html": [
       "<div>\n",
       "<style scoped>\n",
       "    .dataframe tbody tr th:only-of-type {\n",
       "        vertical-align: middle;\n",
       "    }\n",
       "\n",
       "    .dataframe tbody tr th {\n",
       "        vertical-align: top;\n",
       "    }\n",
       "\n",
       "    .dataframe thead th {\n",
       "        text-align: right;\n",
       "    }\n",
       "</style>\n",
       "<table border=\"1\" class=\"dataframe\">\n",
       "  <thead>\n",
       "    <tr style=\"text-align: right;\">\n",
       "      <th></th>\n",
       "      <th>SHOT_DISTANCE</th>\n",
       "      <th>SHOT_ZONE_RANGE</th>\n",
       "      <th>fg_pct</th>\n",
       "      <th>FGA</th>\n",
       "      <th>FGM</th>\n",
       "      <th>GRID_TYPE</th>\n",
       "      <th>SHOT_ZONE_BASIC</th>\n",
       "      <th>SHOT_ZONE_AREA</th>\n",
       "      <th>FGA_LA</th>\n",
       "      <th>FGM_LA</th>\n",
       "      <th>FG_PCT_LA</th>\n",
       "    </tr>\n",
       "  </thead>\n",
       "  <tbody>\n",
       "    <tr>\n",
       "      <th>0</th>\n",
       "      <td>0</td>\n",
       "      <td>Less Than 8 ft.</td>\n",
       "      <td>0.730769</td>\n",
       "      <td>19</td>\n",
       "      <td>19</td>\n",
       "      <td>League Averages</td>\n",
       "      <td>In The Paint (Non-RA)</td>\n",
       "      <td>Center(C)</td>\n",
       "      <td>23351</td>\n",
       "      <td>9813</td>\n",
       "      <td>0.420</td>\n",
       "    </tr>\n",
       "    <tr>\n",
       "      <th>1</th>\n",
       "      <td>0</td>\n",
       "      <td>Less Than 8 ft.</td>\n",
       "      <td>0.730769</td>\n",
       "      <td>19</td>\n",
       "      <td>19</td>\n",
       "      <td>League Averages</td>\n",
       "      <td>Restricted Area</td>\n",
       "      <td>Center(C)</td>\n",
       "      <td>62987</td>\n",
       "      <td>41140</td>\n",
       "      <td>0.653</td>\n",
       "    </tr>\n",
       "    <tr>\n",
       "      <th>2</th>\n",
       "      <td>1</td>\n",
       "      <td>Less Than 8 ft.</td>\n",
       "      <td>0.727273</td>\n",
       "      <td>40</td>\n",
       "      <td>40</td>\n",
       "      <td>League Averages</td>\n",
       "      <td>In The Paint (Non-RA)</td>\n",
       "      <td>Center(C)</td>\n",
       "      <td>23351</td>\n",
       "      <td>9813</td>\n",
       "      <td>0.420</td>\n",
       "    </tr>\n",
       "    <tr>\n",
       "      <th>3</th>\n",
       "      <td>1</td>\n",
       "      <td>Less Than 8 ft.</td>\n",
       "      <td>0.727273</td>\n",
       "      <td>40</td>\n",
       "      <td>40</td>\n",
       "      <td>League Averages</td>\n",
       "      <td>Restricted Area</td>\n",
       "      <td>Center(C)</td>\n",
       "      <td>62987</td>\n",
       "      <td>41140</td>\n",
       "      <td>0.653</td>\n",
       "    </tr>\n",
       "    <tr>\n",
       "      <th>4</th>\n",
       "      <td>2</td>\n",
       "      <td>Less Than 8 ft.</td>\n",
       "      <td>0.614035</td>\n",
       "      <td>35</td>\n",
       "      <td>35</td>\n",
       "      <td>League Averages</td>\n",
       "      <td>In The Paint (Non-RA)</td>\n",
       "      <td>Center(C)</td>\n",
       "      <td>23351</td>\n",
       "      <td>9813</td>\n",
       "      <td>0.420</td>\n",
       "    </tr>\n",
       "    <tr>\n",
       "      <th>...</th>\n",
       "      <td>...</td>\n",
       "      <td>...</td>\n",
       "      <td>...</td>\n",
       "      <td>...</td>\n",
       "      <td>...</td>\n",
       "      <td>...</td>\n",
       "      <td>...</td>\n",
       "      <td>...</td>\n",
       "      <td>...</td>\n",
       "      <td>...</td>\n",
       "      <td>...</td>\n",
       "    </tr>\n",
       "    <tr>\n",
       "      <th>81</th>\n",
       "      <td>26</td>\n",
       "      <td>24+ ft.</td>\n",
       "      <td>0.260870</td>\n",
       "      <td>12</td>\n",
       "      <td>12</td>\n",
       "      <td>League Averages</td>\n",
       "      <td>Above the Break 3</td>\n",
       "      <td>Center(C)</td>\n",
       "      <td>16368</td>\n",
       "      <td>5613</td>\n",
       "      <td>0.343</td>\n",
       "    </tr>\n",
       "    <tr>\n",
       "      <th>82</th>\n",
       "      <td>26</td>\n",
       "      <td>24+ ft.</td>\n",
       "      <td>0.260870</td>\n",
       "      <td>12</td>\n",
       "      <td>12</td>\n",
       "      <td>League Averages</td>\n",
       "      <td>Above the Break 3</td>\n",
       "      <td>Left Side Center(LC)</td>\n",
       "      <td>24924</td>\n",
       "      <td>8511</td>\n",
       "      <td>0.341</td>\n",
       "    </tr>\n",
       "    <tr>\n",
       "      <th>83</th>\n",
       "      <td>26</td>\n",
       "      <td>24+ ft.</td>\n",
       "      <td>0.260870</td>\n",
       "      <td>12</td>\n",
       "      <td>12</td>\n",
       "      <td>League Averages</td>\n",
       "      <td>Above the Break 3</td>\n",
       "      <td>Right Side Center(RC)</td>\n",
       "      <td>23120</td>\n",
       "      <td>8171</td>\n",
       "      <td>0.353</td>\n",
       "    </tr>\n",
       "    <tr>\n",
       "      <th>84</th>\n",
       "      <td>26</td>\n",
       "      <td>24+ ft.</td>\n",
       "      <td>0.260870</td>\n",
       "      <td>12</td>\n",
       "      <td>12</td>\n",
       "      <td>League Averages</td>\n",
       "      <td>Left Corner 3</td>\n",
       "      <td>Left Side(L)</td>\n",
       "      <td>11377</td>\n",
       "      <td>4371</td>\n",
       "      <td>0.384</td>\n",
       "    </tr>\n",
       "    <tr>\n",
       "      <th>85</th>\n",
       "      <td>26</td>\n",
       "      <td>24+ ft.</td>\n",
       "      <td>0.260870</td>\n",
       "      <td>12</td>\n",
       "      <td>12</td>\n",
       "      <td>League Averages</td>\n",
       "      <td>Right Corner 3</td>\n",
       "      <td>Right Side(R)</td>\n",
       "      <td>10091</td>\n",
       "      <td>3855</td>\n",
       "      <td>0.382</td>\n",
       "    </tr>\n",
       "  </tbody>\n",
       "</table>\n",
       "<p>86 rows × 11 columns</p>\n",
       "</div>"
      ],
      "text/plain": [
       "    SHOT_DISTANCE  SHOT_ZONE_RANGE    fg_pct  FGA  FGM        GRID_TYPE  \\\n",
       "0               0  Less Than 8 ft.  0.730769   19   19  League Averages   \n",
       "1               0  Less Than 8 ft.  0.730769   19   19  League Averages   \n",
       "2               1  Less Than 8 ft.  0.727273   40   40  League Averages   \n",
       "3               1  Less Than 8 ft.  0.727273   40   40  League Averages   \n",
       "4               2  Less Than 8 ft.  0.614035   35   35  League Averages   \n",
       "..            ...              ...       ...  ...  ...              ...   \n",
       "81             26          24+ ft.  0.260870   12   12  League Averages   \n",
       "82             26          24+ ft.  0.260870   12   12  League Averages   \n",
       "83             26          24+ ft.  0.260870   12   12  League Averages   \n",
       "84             26          24+ ft.  0.260870   12   12  League Averages   \n",
       "85             26          24+ ft.  0.260870   12   12  League Averages   \n",
       "\n",
       "          SHOT_ZONE_BASIC         SHOT_ZONE_AREA  FGA_LA  FGM_LA  FG_PCT_LA  \n",
       "0   In The Paint (Non-RA)              Center(C)   23351    9813      0.420  \n",
       "1         Restricted Area              Center(C)   62987   41140      0.653  \n",
       "2   In The Paint (Non-RA)              Center(C)   23351    9813      0.420  \n",
       "3         Restricted Area              Center(C)   62987   41140      0.653  \n",
       "4   In The Paint (Non-RA)              Center(C)   23351    9813      0.420  \n",
       "..                    ...                    ...     ...     ...        ...  \n",
       "81      Above the Break 3              Center(C)   16368    5613      0.343  \n",
       "82      Above the Break 3   Left Side Center(LC)   24924    8511      0.341  \n",
       "83      Above the Break 3  Right Side Center(RC)   23120    8171      0.353  \n",
       "84          Left Corner 3           Left Side(L)   11377    4371      0.384  \n",
       "85         Right Corner 3          Right Side(R)   10091    3855      0.382  \n",
       "\n",
       "[86 rows x 11 columns]"
      ]
     },
     "execution_count": 10,
     "metadata": {},
     "output_type": "execute_result"
    }
   ],
   "source": [
    "# not sure what all this stuff does so lets just leave it for now\n",
    "\n",
    "tmp = x.groupby([\"SHOT_DISTANCE\", \"SHOT_ZONE_RANGE\"], as_index=False).agg(fg_pct=(\"SHOT_MADE_FLAG\", 'mean'), FGA=(\"SHOT_MADE_FLAG\", 'sum'), FGM=(\"SHOT_MADE_FLAG\", \"sum\"))\n",
    "y = tmp[(tmp['FGA'] > 10)]\n",
    "both = y.merge(league_average, on=\"SHOT_ZONE_RANGE\", suffixes=('_pl', '_la'))\n",
    "# Add column to 'both' dataframe that will tell whether or not fg_pct_la is .10 higher or lower than fg_pct_pl\n",
    "# both['fg_pct_diff'] = both['fg_pct_pl'] - both['fg_pct_la']\n",
    "# both[[\"SHOT_DISTANCE\", \"fg_pct_pl\", 'fg_pct_la', 'fg_pct_diff']]\n",
    "both"
   ]
  },
  {
   "cell_type": "code",
   "execution_count": 65,
   "metadata": {},
   "outputs": [],
   "source": [
    "def create_court(ax, color):\n",
    "    # Short corner 3PT lines\n",
    "    ax.plot([-220, -220], [0, 140], linewidth=2, color=color, zorder=50)\n",
    "    ax.plot([220, 220], [0, 140], linewidth=2, color=color, zorder=50)\n",
    "    # 3PT Arc\n",
    "    ax.add_artist(mpl.patches.Arc((0, 140), 440, 315, theta1=0, theta2=180, facecolor='none', edgecolor=color, lw=2))\n",
    "    # Lane and Key\n",
    "    ax.plot([-80, -80], [0, 190], linewidth=2, color=color, zorder=50)\n",
    "    ax.plot([80, 80], [0, 190], linewidth=2, color=color, zorder=50)\n",
    "    ax.plot([-60, -60], [0, 190], linewidth=2, color=color, zorder=50)\n",
    "    ax.plot([60, 60], [0, 190], linewidth=2, color=color, zorder=50)\n",
    "    ax.plot([-80, 80], [190, 190], linewidth=2, color=color, zorder=50)\n",
    "    ax.add_artist(mpl.patches.Circle((0, 190), 60, facecolor='none', edgecolor=color, lw=2))\n",
    "    # Rim\n",
    "    ax.add_artist(mpl.patches.Circle((0, 60), 15, facecolor='none', edgecolor=color, lw=2))\n",
    "    # Backboard\n",
    "    ax.plot([-30, 30], [40, 40], linewidth=2, color=color)\n",
    "    # Remove ticks\n",
    "    ax.set_xticks([])\n",
    "    ax.set_yticks([])\n",
    "        \n",
    "    # Set axis limits\n",
    "    ax.set_xlim(-250, 250)\n",
    "    ax.set_ylim(0, 470)\n",
    "\n",
    "    # set background color\n",
    "    ax.set(facecolor=\"#FFFAF0\") #, alpha=\"#ffffcc\")\n",
    "\n",
    "    return ax"
   ]
  },
  {
   "cell_type": "code",
   "execution_count": 59,
   "metadata": {},
   "outputs": [],
   "source": [
    "# General plot parameters\n",
    "mpl.rcParams['font.family'] = 'Avenir'\n",
    "mpl.rcParams['font.size'] = 18\n",
    "mpl.rcParams['axes.linewidth'] = 2"
   ]
  },
  {
   "cell_type": "code",
   "execution_count": 66,
   "metadata": {},
   "outputs": [
    {
     "data": {
      "image/png": "[encoded data removed]",
      "text/plain": [
       "<Figure size 576x541.44 with 1 Axes>"
      ]
     },
     "metadata": {},
     "output_type": "display_data"
    }
   ],
   "source": [
    " # Draw basketball court\n",
    "fig = plt.figure(figsize=(8, 7.52))\n",
    "ax = fig.add_axes([0, 0, 1, 1])\n",
    "ax = create_court(ax, 'black')\n",
    "# Hexbin x and y shot coordinates\n",
    "# Bin size will be 3.5\n",
    "gridsize = 20\n",
    "hexDF = temp[(temp['SHOT_ZONE_RANGE'] != \"Back Court Shot\")]\n",
    "ax.hexbin(hexDF['LOC_X'], hexDF['LOC_Y'] + 60, gridsize=gridsize, C=hexDF['SHOT_MADE_FLAG'], bins='log', reduce_C_function=np.sum, \n",
    "    cmap='Blues', zorder=0)\n",
    "# hexResults2 = plt.hexbin(hexDF['LOC_X'], hexDF['LOC_Y'], gridsize=gridsize, C=hexDF['SHOT_ATTEMPTED_FLAG'], reduce_C_function=np.sum)\n",
    "# hexResults3 = plt.hexbin(hexDF['LOC_X'], hexDF['LOC_Y'], gridsize=gridsize, C=hexDF['FGA_LA'], reduce_C_function=np.sum)\n",
    "# hexResults4 = plt.hexbin(hexDF['LOC_X'], hexDF['LOC_Y'], gridsize=gridsize, C=hexDF['FGM_LA'], reduce_C_function=np.sum)\n",
    "# plt.savefig('ShotChart.png', dpi=300, bbox_inches='tight')\n",
    "plt.show()"
   ]
  },
  {
   "cell_type": "code",
   "execution_count": 62,
   "metadata": {},
   "outputs": [],
   "source": [
    "# Bokeh Shot Chart\n",
    "def bokeh_draw_court(figure, line_width=1, line_color='gray'):\n",
    "    \"\"\"Returns a figure with the basketball court lines drawn onto it\"\"\"\n",
    "\n",
    "    # hoop\n",
    "    figure.circle(x=0, y=0, radius=7.5, fill_alpha=0,\n",
    "                  line_color=line_color, line_width=line_width)\n",
    "\n",
    "    # backboard\n",
    "    figure.line(x=range(-30,31), y=-7.5, line_color=line_color)\n",
    "\n",
    "    # The paint\n",
    "    # outerbox\n",
    "    figure.rect(x=0, y=47.5, width=160, height=190,fill_alpha=0, \n",
    "                line_color=line_color, line_width=line_width)\n",
    "    # innerbox\n",
    "    # left inner box line\n",
    "    figure.line(x=-60, y=np.arange(-47.5, 143.5), line_color=line_color,\n",
    "                line_width=line_width)\n",
    "    # right inner box line\n",
    "    figure.line(x=60, y=np.arange(-47.5, 143.5), line_color=line_color,\n",
    "                line_width=line_width)\n",
    "\n",
    "    # Restricted Zone\n",
    "    figure.arc(x=0, y=0, radius=40, start_angle=pi, end_angle=0,\n",
    "               line_color=line_color, line_width=line_width)\n",
    "\n",
    "    # top free throw arc\n",
    "    figure.arc(x=0, y=142.5, radius=60, start_angle=pi, end_angle=0,\n",
    "               line_color=line_color)\n",
    "\n",
    "    # bottome free throw arc\n",
    "    figure.arc(x=0, y=142.5, radius=60, start_angle=0, end_angle=pi,\n",
    "               line_color=line_color, line_dash=\"dashed\")\n",
    "\n",
    "    # Three point line\n",
    "    # corner three point lines\n",
    "    figure.line(x=-220, y=np.arange(-47.5, 92.5), line_color=line_color,\n",
    "                line_width=line_width)\n",
    "    figure.line(x=220, y=np.arange(-47.5, 92.5), line_color=line_color,\n",
    "                line_width=line_width)\n",
    "    # # three point arc\n",
    "    figure.arc(x=0, y=0, radius=237.5, start_angle=3.528, end_angle=-0.3863,\n",
    "               line_color=line_color, line_width=line_width)\n",
    "\n",
    "    # add center court\n",
    "    # outer center arc\n",
    "    figure.arc(x=0, y=422.5, radius=60, start_angle=0, end_angle=pi,\n",
    "               line_color=line_color, line_width=line_width)\n",
    "    # inner center arct\n",
    "    figure.arc(x=0, y=422.5, radius=20, start_angle=0, end_angle=pi,\n",
    "               line_color=line_color, line_width=line_width)\n",
    "\n",
    "\n",
    "    # outer lines, consistting of half court lines and out of bounds\n",
    "    # lines\n",
    "    figure.rect(x=0, y=187.5, width=500, height=470, fill_alpha=0,\n",
    "                line_color=line_color, line_width=line_width)\n",
    "    \n",
    "    return figure"
   ]
  },
  {
   "cell_type": "code",
   "execution_count": 63,
   "metadata": {},
   "outputs": [],
   "source": [
    "\n",
    "\n",
    "def bokeh_shot_chart(source, x=\"LOC_X\", y=\"LOC_Y\", fill_color=\"#1f77b4\",\n",
    "                     fill_alpha=0.3, line_alpha=0.3, court_lw=1,\n",
    "                     court_line_color='gray'):\n",
    "    \"\"\"\n",
    "    Returns a figure with both FGA and basketball court lines drawn onto it.\n",
    "\n",
    "    This function expects data to be a ColumnDataSource with the x and y values\n",
    "    named \"LOC_X\" and \"LOC_Y\".  Otherwise specify x and y.\n",
    "    \"\"\"\n",
    "\n",
    "    fig = figure(width=700, height=658, x_range=[-250, 250],\n",
    "                 y_range=[422.5, -47.5], min_border=0,\n",
    "                 x_axis_type=None, y_axis_type=None,\n",
    "                 outline_line_color=\"black\")\n",
    "\n",
    "    fig.scatter(x, y, source=source, size=10, fill_alpha=0.3,\n",
    "                line_alpha=0.3)\n",
    "\n",
    "    bokeh_draw_court(fig, line_color='gray')\n",
    "\n",
    "    return fig\n",
    "\n"
   ]
  },
  {
   "cell_type": "code",
   "execution_count": 151,
   "metadata": {},
   "outputs": [
    {
     "data": {
      "image/png": "[encoded data removed]",
      "text/plain": [
       "<Figure size 432x288 with 1 Axes>"
      ]
     },
     "metadata": {
      "needs_background": "light"
     },
     "output_type": "display_data"
    }
   ],
   "source": [
    "# Hexbin x and y shot coordinates\n",
    "# Bin size will be 3.5\n",
    "gridsize = 20\n",
    "hexDF = temp[(temp['SHOT_ZONE_RANGE'] != \"Back Court Shot\")]\n",
    "hexResults = plt.hexbin(hexDF['LOC_X'], hexDF['LOC_Y'], gridsize=gridsize, C=hexDF['SHOT_MADE_FLAG'], reduce_C_function=np.sum)\n",
    "hexResults2 = plt.hexbin(hexDF['LOC_X'], hexDF['LOC_Y'], gridsize=gridsize, C=hexDF['SHOT_ATTEMPTED_FLAG'], reduce_C_function=np.sum)\n",
    "hexResults3 = plt.hexbin(hexDF['LOC_X'], hexDF['LOC_Y'], gridsize=gridsize, C=hexDF['FGA_LA'], reduce_C_function=np.sum)\n",
    "hexResults4 = plt.hexbin(hexDF['LOC_X'], hexDF['LOC_Y'], gridsize=gridsize, C=hexDF['FGM_LA'], reduce_C_function=np.sum)\n",
    "\n",
    "coordinates = pd.DataFrame(hexResults.get_offsets(), columns=['x', 'y'])\n",
    "FGM = pd.DataFrame(hexResults.get_array(), columns=['FGM'])\n",
    "FGA = pd.DataFrame(hexResults2.get_array(), columns=['FGA'])\n",
    "FGA_LA = pd.DataFrame(hexResults3.get_array(), columns=['FGA_LA'])\n",
    "FGM_LA = pd.DataFrame(hexResults4.get_array(), columns=['FGM_LA'])\n",
    "# filter to df with FGA > 0\n",
    "refined_results = pd.concat([coordinates, FGM, FGA, FGA_LA, FGM_LA], axis='columns')\n",
    "refined_results['FG_pct'] = refined_results['FGM'] / refined_results['FGA']\n",
    "refined_results['FG_pct_LA'] = refined_results['FGM_LA'] / refined_results['FGA_LA']\n",
    "refined_results['FG_pct_diff'] = refined_results['FG_pct'] - refined_results['FG_pct_LA']"
   ]
  },
  {
   "cell_type": "code",
   "execution_count": 10,
   "metadata": {},
   "outputs": [
    {
     "data": {
      "application/vnd.plotly.v1+json": {
       "config": {
        "plotlyServerURL": "https://plot.ly"
       },
       "data": [
        {
         "name": "fg_pct_pl",
         "type": "scatter",
         "x": [
          0,
          1,
          2,
          3,
          4,
          5,
          6,
          7,
          8,
          9,
          10,
          11,
          12,
          13,
          14,
          15,
          16,
          17,
          18,
          19,
          20,
          21,
          23,
          24,
          25,
          26,
          27
         ],
         "y": [
          0.7307692307692307,
          0.7272727272727273,
          0.6140350877192983,
          0.5483870967741935,
          0.35714285714285715,
          0.25,
          0.23076923076923078,
          0.4117647058823529,
          0.55,
          0.4827586206896552,
          0.56,
          0.4634146341463415,
          0.5263157894736842,
          0.5428571428571428,
          0.48333333333333334,
          0.5098039215686274,
          0.4909090909090909,
          0.4084507042253521,
          0.28,
          0.3333333333333333,
          0.5217391304347826,
          0.5,
          0.3333333333333333,
          0.40625,
          0.3333333333333333,
          0.2608695652173913,
          0.2222222222222222
         ]
        },
        {
         "name": "fg_pct_la",
         "type": "scatter",
         "x": [
          0,
          1,
          2,
          3,
          4,
          5,
          6,
          7,
          8,
          9,
          10,
          11,
          12,
          13,
          14,
          15,
          16,
          17,
          18,
          19,
          20,
          21,
          23,
          24,
          25,
          26,
          27
         ],
         "y": [
          0.5901572887952002,
          0.5901572887952002,
          0.5901572887952002,
          0.5901572887952002,
          0.5901572887952002,
          0.5901572887952002,
          0.5901572887952002,
          0.5901572887952002,
          0.4294117647058823,
          0.4294117647058823,
          0.4294117647058823,
          0.4294117647058823,
          0.4294117647058823,
          0.4294117647058823,
          0.4294117647058823,
          0.4294117647058823,
          0.3993147585493568,
          0.3993147585493568,
          0.3993147585493568,
          0.3993147585493568,
          0.3993147585493568,
          0.3993147585493568,
          0.35539124359571495,
          0.35539124359571495,
          0.35539124359571495,
          0.35539124359571495,
          0.35539124359571495
         ]
        }
       ],
       "layout": {
        "template": {
         "data": {
          "bar": [
           {
            "error_x": {
             "color": "#2a3f5f"
            },
            "error_y": {
             "color": "#2a3f5f"
            },
            "marker": {
             "line": {
              "color": "#E5ECF6",
              "width": 0.5
             },
             "pattern": {
              "fillmode": "overlay",
              "size": 10,
              "solidity": 0.2
             }
            },
            "type": "bar"
           }
          ],
          "barpolar": [
           {
            "marker": {
             "line": {
              "color": "#E5ECF6",
              "width": 0.5
             },
             "pattern": {
              "fillmode": "overlay",
              "size": 10,
              "solidity": 0.2
             }
            },
            "type": "barpolar"
           }
          ],
          "carpet": [
           {
            "aaxis": {
             "endlinecolor": "#2a3f5f",
             "gridcolor": "white",
             "linecolor": "white",
             "minorgridcolor": "white",
             "startlinecolor": "#2a3f5f"
            },
            "baxis": {
             "endlinecolor": "#2a3f5f",
             "gridcolor": "white",
             "linecolor": "white",
             "minorgridcolor": "white",
             "startlinecolor": "#2a3f5f"
            },
            "type": "carpet"
           }
          ],
          "choropleth": [
           {
            "colorbar": {
             "outlinewidth": 0,
             "ticks": ""
            },
            "type": "choropleth"
           }
          ],
          "contour": [
           {
            "colorbar": {
             "outlinewidth": 0,
             "ticks": ""
            },
            "colorscale": [
             [
              0,
              "#0d0887"
             ],
             [
              0.1111111111111111,
              "#46039f"
             ],
             [
              0.2222222222222222,
              "#7201a8"
             ],
             [
              0.3333333333333333,
              "#9c179e"
             ],
             [
              0.4444444444444444,
              "#bd3786"
             ],
             [
              0.5555555555555556,
              "#d8576b"
             ],
             [
              0.6666666666666666,
              "#ed7953"
             ],
             [
              0.7777777777777778,
              "#fb9f3a"
             ],
             [
              0.8888888888888888,
              "#fdca26"
             ],
             [
              1,
              "#f0f921"
             ]
            ],
            "type": "contour"
           }
          ],
          "contourcarpet": [
           {
            "colorbar": {
             "outlinewidth": 0,
             "ticks": ""
            },
            "type": "contourcarpet"
           }
          ],
          "heatmap": [
           {
            "colorbar": {
             "outlinewidth": 0,
             "ticks": ""
            },
            "colorscale": [
             [
              0,
              "#0d0887"
             ],
             [
              0.1111111111111111,
              "#46039f"
             ],
             [
              0.2222222222222222,
              "#7201a8"
             ],
             [
              0.3333333333333333,
              "#9c179e"
             ],
             [
              0.4444444444444444,
              "#bd3786"
             ],
             [
              0.5555555555555556,
              "#d8576b"
             ],
             [
              0.6666666666666666,
              "#ed7953"
             ],
             [
              0.7777777777777778,
              "#fb9f3a"
             ],
             [
              0.8888888888888888,
              "#fdca26"
             ],
             [
              1,
              "#f0f921"
             ]
            ],
            "type": "heatmap"
           }
          ],
          "heatmapgl": [
           {
            "colorbar": {
             "outlinewidth": 0,
             "ticks": ""
            },
            "colorscale": [
             [
              0,
              "#0d0887"
             ],
             [
              0.1111111111111111,
              "#46039f"
             ],
             [
              0.2222222222222222,
              "#7201a8"
             ],
             [
              0.3333333333333333,
              "#9c179e"
             ],
             [
              0.4444444444444444,
              "#bd3786"
             ],
             [
              0.5555555555555556,
              "#d8576b"
             ],
             [
              0.6666666666666666,
              "#ed7953"
             ],
             [
              0.7777777777777778,
              "#fb9f3a"
             ],
             [
              0.8888888888888888,
              "#fdca26"
             ],
             [
              1,
              "#f0f921"
             ]
            ],
            "type": "heatmapgl"
           }
          ],
          "histogram": [
           {
            "marker": {
             "pattern": {
              "fillmode": "overlay",
              "size": 10,
              "solidity": 0.2
             }
            },
            "type": "histogram"
           }
          ],
          "histogram2d": [
           {
            "colorbar": {
             "outlinewidth": 0,
             "ticks": ""
            },
            "colorscale": [
             [
              0,
              "#0d0887"
             ],
             [
              0.1111111111111111,
              "#46039f"
             ],
             [
              0.2222222222222222,
              "#7201a8"
             ],
             [
              0.3333333333333333,
              "#9c179e"
             ],
             [
              0.4444444444444444,
              "#bd3786"
             ],
             [
              0.5555555555555556,
              "#d8576b"
             ],
             [
              0.6666666666666666,
              "#ed7953"
             ],
             [
              0.7777777777777778,
              "#fb9f3a"
             ],
             [
              0.8888888888888888,
              "#fdca26"
             ],
             [
              1,
              "#f0f921"
             ]
            ],
            "type": "histogram2d"
           }
          ],
          "histogram2dcontour": [
           {
            "colorbar": {
             "outlinewidth": 0,
             "ticks": ""
            },
            "colorscale": [
             [
              0,
              "#0d0887"
             ],
             [
              0.1111111111111111,
              "#46039f"
             ],
             [
              0.2222222222222222,
              "#7201a8"
             ],
             [
              0.3333333333333333,
              "#9c179e"
             ],
             [
              0.4444444444444444,
              "#bd3786"
             ],
             [
              0.5555555555555556,
              "#d8576b"
             ],
             [
              0.6666666666666666,
              "#ed7953"
             ],
             [
              0.7777777777777778,
              "#fb9f3a"
             ],
             [
              0.8888888888888888,
              "#fdca26"
             ],
             [
              1,
              "#f0f921"
             ]
            ],
            "type": "histogram2dcontour"
           }
          ],
          "mesh3d": [
           {
            "colorbar": {
             "outlinewidth": 0,
             "ticks": ""
            },
            "type": "mesh3d"
           }
          ],
          "parcoords": [
           {
            "line": {
             "colorbar": {
              "outlinewidth": 0,
              "ticks": ""
             }
            },
            "type": "parcoords"
           }
          ],
          "pie": [
           {
            "automargin": true,
            "type": "pie"
           }
          ],
          "scatter": [
           {
            "fillpattern": {
             "fillmode": "overlay",
             "size": 10,
             "solidity": 0.2
            },
            "type": "scatter"
           }
          ],
          "scatter3d": [
           {
            "line": {
             "colorbar": {
              "outlinewidth": 0,
              "ticks": ""
             }
            },
            "marker": {
             "colorbar": {
              "outlinewidth": 0,
              "ticks": ""
             }
            },
            "type": "scatter3d"
           }
          ],
          "scattercarpet": [
           {
            "marker": {
             "colorbar": {
              "outlinewidth": 0,
              "ticks": ""
             }
            },
            "type": "scattercarpet"
           }
          ],
          "scattergeo": [
           {
            "marker": {
             "colorbar": {
              "outlinewidth": 0,
              "ticks": ""
             }
            },
            "type": "scattergeo"
           }
          ],
          "scattergl": [
           {
            "marker": {
             "colorbar": {
              "outlinewidth": 0,
              "ticks": ""
             }
            },
            "type": "scattergl"
           }
          ],
          "scattermapbox": [
           {
            "marker": {
             "colorbar": {
              "outlinewidth": 0,
              "ticks": ""
             }
            },
            "type": "scattermapbox"
           }
          ],
          "scatterpolar": [
           {
            "marker": {
             "colorbar": {
              "outlinewidth": 0,
              "ticks": ""
             }
            },
            "type": "scatterpolar"
           }
          ],
          "scatterpolargl": [
           {
            "marker": {
             "colorbar": {
              "outlinewidth": 0,
              "ticks": ""
             }
            },
            "type": "scatterpolargl"
           }
          ],
          "scatterternary": [
           {
            "marker": {
             "colorbar": {
              "outlinewidth": 0,
              "ticks": ""
             }
            },
            "type": "scatterternary"
           }
          ],
          "surface": [
           {
            "colorbar": {
             "outlinewidth": 0,
             "ticks": ""
            },
            "colorscale": [
             [
              0,
              "#0d0887"
             ],
             [
              0.1111111111111111,
              "#46039f"
             ],
             [
              0.2222222222222222,
              "#7201a8"
             ],
             [
              0.3333333333333333,
              "#9c179e"
             ],
             [
              0.4444444444444444,
              "#bd3786"
             ],
             [
              0.5555555555555556,
              "#d8576b"
             ],
             [
              0.6666666666666666,
              "#ed7953"
             ],
             [
              0.7777777777777778,
              "#fb9f3a"
             ],
             [
              0.8888888888888888,
              "#fdca26"
             ],
             [
              1,
              "#f0f921"
             ]
            ],
            "type": "surface"
           }
          ],
          "table": [
           {
            "cells": {
             "fill": {
              "color": "#EBF0F8"
             },
             "line": {
              "color": "white"
             }
            },
            "header": {
             "fill": {
              "color": "#C8D4E3"
             },
             "line": {
              "color": "white"
             }
            },
            "type": "table"
           }
          ]
         },
         "layout": {
          "annotationdefaults": {
           "arrowcolor": "#2a3f5f",
           "arrowhead": 0,
           "arrowwidth": 1
          },
          "autotypenumbers": "strict",
          "coloraxis": {
           "colorbar": {
            "outlinewidth": 0,
            "ticks": ""
           }
          },
          "colorscale": {
           "diverging": [
            [
             0,
             "#8e0152"
            ],
            [
             0.1,
             "#c51b7d"
            ],
            [
             0.2,
             "#de77ae"
            ],
            [
             0.3,
             "#f1b6da"
            ],
            [
             0.4,
             "#fde0ef"
            ],
            [
             0.5,
             "#f7f7f7"
            ],
            [
             0.6,
             "#e6f5d0"
            ],
            [
             0.7,
             "#b8e186"
            ],
            [
             0.8,
             "#7fbc41"
            ],
            [
             0.9,
             "#4d9221"
            ],
            [
             1,
             "#276419"
            ]
           ],
           "sequential": [
            [
             0,
             "#0d0887"
            ],
            [
             0.1111111111111111,
             "#46039f"
            ],
            [
             0.2222222222222222,
             "#7201a8"
            ],
            [
             0.3333333333333333,
             "#9c179e"
            ],
            [
             0.4444444444444444,
             "#bd3786"
            ],
            [
             0.5555555555555556,
             "#d8576b"
            ],
            [
             0.6666666666666666,
             "#ed7953"
            ],
            [
             0.7777777777777778,
             "#fb9f3a"
            ],
            [
             0.8888888888888888,
             "#fdca26"
            ],
            [
             1,
             "#f0f921"
            ]
           ],
           "sequentialminus": [
            [
             0,
             "#0d0887"
            ],
            [
             0.1111111111111111,
             "#46039f"
            ],
            [
             0.2222222222222222,
             "#7201a8"
            ],
            [
             0.3333333333333333,
             "#9c179e"
            ],
            [
             0.4444444444444444,
             "#bd3786"
            ],
            [
             0.5555555555555556,
             "#d8576b"
            ],
            [
             0.6666666666666666,
             "#ed7953"
            ],
            [
             0.7777777777777778,
             "#fb9f3a"
            ],
            [
             0.8888888888888888,
             "#fdca26"
            ],
            [
             1,
             "#f0f921"
            ]
           ]
          },
          "colorway": [
           "#636efa",
           "#EF553B",
           "#00cc96",
           "#ab63fa",
           "#FFA15A",
           "#19d3f3",
           "#FF6692",
           "#B6E880",
           "#FF97FF",
           "#FECB52"
          ],
          "font": {
           "color": "#2a3f5f"
          },
          "geo": {
           "bgcolor": "white",
           "lakecolor": "white",
           "landcolor": "#E5ECF6",
           "showlakes": true,
           "showland": true,
           "subunitcolor": "white"
          },
          "hoverlabel": {
           "align": "left"
          },
          "hovermode": "closest",
          "mapbox": {
           "style": "light"
          },
          "paper_bgcolor": "white",
          "plot_bgcolor": "#E5ECF6",
          "polar": {
           "angularaxis": {
            "gridcolor": "white",
            "linecolor": "white",
            "ticks": ""
           },
           "bgcolor": "#E5ECF6",
           "radialaxis": {
            "gridcolor": "white",
            "linecolor": "white",
            "ticks": ""
           }
          },
          "scene": {
           "xaxis": {
            "backgroundcolor": "#E5ECF6",
            "gridcolor": "white",
            "gridwidth": 2,
            "linecolor": "white",
            "showbackground": true,
            "ticks": "",
            "zerolinecolor": "white"
           },
           "yaxis": {
            "backgroundcolor": "#E5ECF6",
            "gridcolor": "white",
            "gridwidth": 2,
            "linecolor": "white",
            "showbackground": true,
            "ticks": "",
            "zerolinecolor": "white"
           },
           "zaxis": {
            "backgroundcolor": "#E5ECF6",
            "gridcolor": "white",
            "gridwidth": 2,
            "linecolor": "white",
            "showbackground": true,
            "ticks": "",
            "zerolinecolor": "white"
           }
          },
          "shapedefaults": {
           "line": {
            "color": "#2a3f5f"
           }
          },
          "ternary": {
           "aaxis": {
            "gridcolor": "white",
            "linecolor": "white",
            "ticks": ""
           },
           "baxis": {
            "gridcolor": "white",
            "linecolor": "white",
            "ticks": ""
           },
           "bgcolor": "#E5ECF6",
           "caxis": {
            "gridcolor": "white",
            "linecolor": "white",
            "ticks": ""
           }
          },
          "title": {
           "x": 0.05
          },
          "xaxis": {
           "automargin": true,
           "gridcolor": "white",
           "linecolor": "white",
           "ticks": "",
           "title": {
            "standoff": 15
           },
           "zerolinecolor": "white",
           "zerolinewidth": 2
          },
          "yaxis": {
           "automargin": true,
           "gridcolor": "white",
           "linecolor": "white",
           "ticks": "",
           "title": {
            "standoff": 15
           },
           "zerolinecolor": "white",
           "zerolinewidth": 2
          }
         }
        }
       }
      }
     },
     "metadata": {},
     "output_type": "display_data"
    }
   ],
   "source": [
    "# Plot 'both' dataframe using plotly .addTrace and scatter with shot distance as the x axis and fg_pct_pl as the y axis\n",
    "fig = go.Figure()\n",
    "fig.add_trace(go.Scatter(x=both['SHOT_DISTANCE'], y=both['fg_pct_pl'], name=\"fg_pct_pl\"))\n",
    "fig.add_trace(go.Scatter(x=both['SHOT_DISTANCE'], y=both['fg_pct_la'], name=\"fg_pct_la\"))\n",
    "fig.show()"
   ]
  },
  {
   "cell_type": "code",
   "execution_count": 49,
   "metadata": {},
   "outputs": [
    {
     "data": {
      "application/vnd.plotly.v1+json": {
       "config": {
        "plotlyServerURL": "https://plot.ly"
       },
       "data": [
        {
         "hovertemplate": "SHOT_DISTANCE=%{x}<br>fg_pct=%{y}<extra></extra>",
         "legendgroup": "",
         "marker": {
          "color": "#636efa",
          "symbol": "circle"
         },
         "mode": "markers",
         "name": "",
         "orientation": "v",
         "showlegend": false,
         "type": "scatter",
         "x": [
          0,
          1,
          2,
          3,
          4,
          5,
          6,
          7,
          8,
          9,
          10,
          11,
          12,
          13,
          14,
          15,
          16,
          17,
          18,
          19,
          20,
          21,
          22,
          23,
          24,
          25,
          26,
          27
         ],
         "xaxis": "x",
         "y": [
          0.7307692307692307,
          0.7272727272727273,
          0.6140350877192983,
          0.5483870967741935,
          0.35714285714285715,
          0.25,
          0.23076923076923078,
          0.4117647058823529,
          0.55,
          0.4827586206896552,
          0.56,
          0.4634146341463415,
          0.5263157894736842,
          0.5428571428571428,
          0.48333333333333334,
          0.5098039215686274,
          0.4909090909090909,
          0.4084507042253521,
          0.28,
          0.3333333333333333,
          0.5217391304347826,
          0.5,
          0.3333333333333333,
          0.37037037037037035,
          0.40625,
          0.3333333333333333,
          0.2608695652173913,
          0.2222222222222222
         ],
         "yaxis": "y"
        }
       ],
       "layout": {
        "legend": {
         "tracegroupgap": 0
        },
        "margin": {
         "t": 60
        },
        "template": {
         "data": {
          "bar": [
           {
            "error_x": {
             "color": "#2a3f5f"
            },
            "error_y": {
             "color": "#2a3f5f"
            },
            "marker": {
             "line": {
              "color": "#E5ECF6",
              "width": 0.5
             },
             "pattern": {
              "fillmode": "overlay",
              "size": 10,
              "solidity": 0.2
             }
            },
            "type": "bar"
           }
          ],
          "barpolar": [
           {
            "marker": {
             "line": {
              "color": "#E5ECF6",
              "width": 0.5
             },
             "pattern": {
              "fillmode": "overlay",
              "size": 10,
              "solidity": 0.2
             }
            },
            "type": "barpolar"
           }
          ],
          "carpet": [
           {
            "aaxis": {
             "endlinecolor": "#2a3f5f",
             "gridcolor": "white",
             "linecolor": "white",
             "minorgridcolor": "white",
             "startlinecolor": "#2a3f5f"
            },
            "baxis": {
             "endlinecolor": "#2a3f5f",
             "gridcolor": "white",
             "linecolor": "white",
             "minorgridcolor": "white",
             "startlinecolor": "#2a3f5f"
            },
            "type": "carpet"
           }
          ],
          "choropleth": [
           {
            "colorbar": {
             "outlinewidth": 0,
             "ticks": ""
            },
            "type": "choropleth"
           }
          ],
          "contour": [
           {
            "colorbar": {
             "outlinewidth": 0,
             "ticks": ""
            },
            "colorscale": [
             [
              0,
              "#0d0887"
             ],
             [
              0.1111111111111111,
              "#46039f"
             ],
             [
              0.2222222222222222,
              "#7201a8"
             ],
             [
              0.3333333333333333,
              "#9c179e"
             ],
             [
              0.4444444444444444,
              "#bd3786"
             ],
             [
              0.5555555555555556,
              "#d8576b"
             ],
             [
              0.6666666666666666,
              "#ed7953"
             ],
             [
              0.7777777777777778,
              "#fb9f3a"
             ],
             [
              0.8888888888888888,
              "#fdca26"
             ],
             [
              1,
              "#f0f921"
             ]
            ],
            "type": "contour"
           }
          ],
          "contourcarpet": [
           {
            "colorbar": {
             "outlinewidth": 0,
             "ticks": ""
            },
            "type": "contourcarpet"
           }
          ],
          "heatmap": [
           {
            "colorbar": {
             "outlinewidth": 0,
             "ticks": ""
            },
            "colorscale": [
             [
              0,
              "#0d0887"
             ],
             [
              0.1111111111111111,
              "#46039f"
             ],
             [
              0.2222222222222222,
              "#7201a8"
             ],
             [
              0.3333333333333333,
              "#9c179e"
             ],
             [
              0.4444444444444444,
              "#bd3786"
             ],
             [
              0.5555555555555556,
              "#d8576b"
             ],
             [
              0.6666666666666666,
              "#ed7953"
             ],
             [
              0.7777777777777778,
              "#fb9f3a"
             ],
             [
              0.8888888888888888,
              "#fdca26"
             ],
             [
              1,
              "#f0f921"
             ]
            ],
            "type": "heatmap"
           }
          ],
          "heatmapgl": [
           {
            "colorbar": {
             "outlinewidth": 0,
             "ticks": ""
            },
            "colorscale": [
             [
              0,
              "#0d0887"
             ],
             [
              0.1111111111111111,
              "#46039f"
             ],
             [
              0.2222222222222222,
              "#7201a8"
             ],
             [
              0.3333333333333333,
              "#9c179e"
             ],
             [
              0.4444444444444444,
              "#bd3786"
             ],
             [
              0.5555555555555556,
              "#d8576b"
             ],
             [
              0.6666666666666666,
              "#ed7953"
             ],
             [
              0.7777777777777778,
              "#fb9f3a"
             ],
             [
              0.8888888888888888,
              "#fdca26"
             ],
             [
              1,
              "#f0f921"
             ]
            ],
            "type": "heatmapgl"
           }
          ],
          "histogram": [
           {
            "marker": {
             "pattern": {
              "fillmode": "overlay",
              "size": 10,
              "solidity": 0.2
             }
            },
            "type": "histogram"
           }
          ],
          "histogram2d": [
           {
            "colorbar": {
             "outlinewidth": 0,
             "ticks": ""
            },
            "colorscale": [
             [
              0,
              "#0d0887"
             ],
             [
              0.1111111111111111,
              "#46039f"
             ],
             [
              0.2222222222222222,
              "#7201a8"
             ],
             [
              0.3333333333333333,
              "#9c179e"
             ],
             [
              0.4444444444444444,
              "#bd3786"
             ],
             [
              0.5555555555555556,
              "#d8576b"
             ],
             [
              0.6666666666666666,
              "#ed7953"
             ],
             [
              0.7777777777777778,
              "#fb9f3a"
             ],
             [
              0.8888888888888888,
              "#fdca26"
             ],
             [
              1,
              "#f0f921"
             ]
            ],
            "type": "histogram2d"
           }
          ],
          "histogram2dcontour": [
           {
            "colorbar": {
             "outlinewidth": 0,
             "ticks": ""
            },
            "colorscale": [
             [
              0,
              "#0d0887"
             ],
             [
              0.1111111111111111,
              "#46039f"
             ],
             [
              0.2222222222222222,
              "#7201a8"
             ],
             [
              0.3333333333333333,
              "#9c179e"
             ],
             [
              0.4444444444444444,
              "#bd3786"
             ],
             [
              0.5555555555555556,
              "#d8576b"
             ],
             [
              0.6666666666666666,
              "#ed7953"
             ],
             [
              0.7777777777777778,
              "#fb9f3a"
             ],
             [
              0.8888888888888888,
              "#fdca26"
             ],
             [
              1,
              "#f0f921"
             ]
            ],
            "type": "histogram2dcontour"
           }
          ],
          "mesh3d": [
           {
            "colorbar": {
             "outlinewidth": 0,
             "ticks": ""
            },
            "type": "mesh3d"
           }
          ],
          "parcoords": [
           {
            "line": {
             "colorbar": {
              "outlinewidth": 0,
              "ticks": ""
             }
            },
            "type": "parcoords"
           }
          ],
          "pie": [
           {
            "automargin": true,
            "type": "pie"
           }
          ],
          "scatter": [
           {
            "fillpattern": {
             "fillmode": "overlay",
             "size": 10,
             "solidity": 0.2
            },
            "type": "scatter"
           }
          ],
          "scatter3d": [
           {
            "line": {
             "colorbar": {
              "outlinewidth": 0,
              "ticks": ""
             }
            },
            "marker": {
             "colorbar": {
              "outlinewidth": 0,
              "ticks": ""
             }
            },
            "type": "scatter3d"
           }
          ],
          "scattercarpet": [
           {
            "marker": {
             "colorbar": {
              "outlinewidth": 0,
              "ticks": ""
             }
            },
            "type": "scattercarpet"
           }
          ],
          "scattergeo": [
           {
            "marker": {
             "colorbar": {
              "outlinewidth": 0,
              "ticks": ""
             }
            },
            "type": "scattergeo"
           }
          ],
          "scattergl": [
           {
            "marker": {
             "colorbar": {
              "outlinewidth": 0,
              "ticks": ""
             }
            },
            "type": "scattergl"
           }
          ],
          "scattermapbox": [
           {
            "marker": {
             "colorbar": {
              "outlinewidth": 0,
              "ticks": ""
             }
            },
            "type": "scattermapbox"
           }
          ],
          "scatterpolar": [
           {
            "marker": {
             "colorbar": {
              "outlinewidth": 0,
              "ticks": ""
             }
            },
            "type": "scatterpolar"
           }
          ],
          "scatterpolargl": [
           {
            "marker": {
             "colorbar": {
              "outlinewidth": 0,
              "ticks": ""
             }
            },
            "type": "scatterpolargl"
           }
          ],
          "scatterternary": [
           {
            "marker": {
             "colorbar": {
              "outlinewidth": 0,
              "ticks": ""
             }
            },
            "type": "scatterternary"
           }
          ],
          "surface": [
           {
            "colorbar": {
             "outlinewidth": 0,
             "ticks": ""
            },
            "colorscale": [
             [
              0,
              "#0d0887"
             ],
             [
              0.1111111111111111,
              "#46039f"
             ],
             [
              0.2222222222222222,
              "#7201a8"
             ],
             [
              0.3333333333333333,
              "#9c179e"
             ],
             [
              0.4444444444444444,
              "#bd3786"
             ],
             [
              0.5555555555555556,
              "#d8576b"
             ],
             [
              0.6666666666666666,
              "#ed7953"
             ],
             [
              0.7777777777777778,
              "#fb9f3a"
             ],
             [
              0.8888888888888888,
              "#fdca26"
             ],
             [
              1,
              "#f0f921"
             ]
            ],
            "type": "surface"
           }
          ],
          "table": [
           {
            "cells": {
             "fill": {
              "color": "#EBF0F8"
             },
             "line": {
              "color": "white"
             }
            },
            "header": {
             "fill": {
              "color": "#C8D4E3"
             },
             "line": {
              "color": "white"
             }
            },
            "type": "table"
           }
          ]
         },
         "layout": {
          "annotationdefaults": {
           "arrowcolor": "#2a3f5f",
           "arrowhead": 0,
           "arrowwidth": 1
          },
          "autotypenumbers": "strict",
          "coloraxis": {
           "colorbar": {
            "outlinewidth": 0,
            "ticks": ""
           }
          },
          "colorscale": {
           "diverging": [
            [
             0,
             "#8e0152"
            ],
            [
             0.1,
             "#c51b7d"
            ],
            [
             0.2,
             "#de77ae"
            ],
            [
             0.3,
             "#f1b6da"
            ],
            [
             0.4,
             "#fde0ef"
            ],
            [
             0.5,
             "#f7f7f7"
            ],
            [
             0.6,
             "#e6f5d0"
            ],
            [
             0.7,
             "#b8e186"
            ],
            [
             0.8,
             "#7fbc41"
            ],
            [
             0.9,
             "#4d9221"
            ],
            [
             1,
             "#276419"
            ]
           ],
           "sequential": [
            [
             0,
             "#0d0887"
            ],
            [
             0.1111111111111111,
             "#46039f"
            ],
            [
             0.2222222222222222,
             "#7201a8"
            ],
            [
             0.3333333333333333,
             "#9c179e"
            ],
            [
             0.4444444444444444,
             "#bd3786"
            ],
            [
             0.5555555555555556,
             "#d8576b"
            ],
            [
             0.6666666666666666,
             "#ed7953"
            ],
            [
             0.7777777777777778,
             "#fb9f3a"
            ],
            [
             0.8888888888888888,
             "#fdca26"
            ],
            [
             1,
             "#f0f921"
            ]
           ],
           "sequentialminus": [
            [
             0,
             "#0d0887"
            ],
            [
             0.1111111111111111,
             "#46039f"
            ],
            [
             0.2222222222222222,
             "#7201a8"
            ],
            [
             0.3333333333333333,
             "#9c179e"
            ],
            [
             0.4444444444444444,
             "#bd3786"
            ],
            [
             0.5555555555555556,
             "#d8576b"
            ],
            [
             0.6666666666666666,
             "#ed7953"
            ],
            [
             0.7777777777777778,
             "#fb9f3a"
            ],
            [
             0.8888888888888888,
             "#fdca26"
            ],
            [
             1,
             "#f0f921"
            ]
           ]
          },
          "colorway": [
           "#636efa",
           "#EF553B",
           "#00cc96",
           "#ab63fa",
           "#FFA15A",
           "#19d3f3",
           "#FF6692",
           "#B6E880",
           "#FF97FF",
           "#FECB52"
          ],
          "font": {
           "color": "#2a3f5f"
          },
          "geo": {
           "bgcolor": "white",
           "lakecolor": "white",
           "landcolor": "#E5ECF6",
           "showlakes": true,
           "showland": true,
           "subunitcolor": "white"
          },
          "hoverlabel": {
           "align": "left"
          },
          "hovermode": "closest",
          "mapbox": {
           "style": "light"
          },
          "paper_bgcolor": "white",
          "plot_bgcolor": "#E5ECF6",
          "polar": {
           "angularaxis": {
            "gridcolor": "white",
            "linecolor": "white",
            "ticks": ""
           },
           "bgcolor": "#E5ECF6",
           "radialaxis": {
            "gridcolor": "white",
            "linecolor": "white",
            "ticks": ""
           }
          },
          "scene": {
           "xaxis": {
            "backgroundcolor": "#E5ECF6",
            "gridcolor": "white",
            "gridwidth": 2,
            "linecolor": "white",
            "showbackground": true,
            "ticks": "",
            "zerolinecolor": "white"
           },
           "yaxis": {
            "backgroundcolor": "#E5ECF6",
            "gridcolor": "white",
            "gridwidth": 2,
            "linecolor": "white",
            "showbackground": true,
            "ticks": "",
            "zerolinecolor": "white"
           },
           "zaxis": {
            "backgroundcolor": "#E5ECF6",
            "gridcolor": "white",
            "gridwidth": 2,
            "linecolor": "white",
            "showbackground": true,
            "ticks": "",
            "zerolinecolor": "white"
           }
          },
          "shapedefaults": {
           "line": {
            "color": "#2a3f5f"
           }
          },
          "ternary": {
           "aaxis": {
            "gridcolor": "white",
            "linecolor": "white",
            "ticks": ""
           },
           "baxis": {
            "gridcolor": "white",
            "linecolor": "white",
            "ticks": ""
           },
           "bgcolor": "#E5ECF6",
           "caxis": {
            "gridcolor": "white",
            "linecolor": "white",
            "ticks": ""
           }
          },
          "title": {
           "x": 0.05
          },
          "xaxis": {
           "automargin": true,
           "gridcolor": "white",
           "linecolor": "white",
           "ticks": "",
           "title": {
            "standoff": 15
           },
           "zerolinecolor": "white",
           "zerolinewidth": 2
          },
          "yaxis": {
           "automargin": true,
           "gridcolor": "white",
           "linecolor": "white",
           "ticks": "",
           "title": {
            "standoff": 15
           },
           "zerolinecolor": "white",
           "zerolinewidth": 2
          }
         }
        },
        "xaxis": {
         "anchor": "y",
         "domain": [
          0,
          1
         ],
         "title": {
          "text": "SHOT_DISTANCE"
         }
        },
        "yaxis": {
         "anchor": "x",
         "domain": [
          0,
          1
         ],
         "title": {
          "text": "fg_pct"
         }
        }
       }
      }
     },
     "metadata": {},
     "output_type": "display_data"
    }
   ],
   "source": [
    "fig = px.scatter(y, x=\"SHOT_DISTANCE\", y=\"fg_pct\")\n",
    "fig.show()"
   ]
  },
  {
   "cell_type": "code",
   "execution_count": null,
   "metadata": {},
   "outputs": [],
   "source": []
  }
 ],
 "metadata": {
  "interpreter": {
   "hash": "745ad8b2a7e3296165476373b435416d170bbb004e566d53aaaee70bc60621d4"
  },
  "kernelspec": {
   "display_name": "Python 3.8.2 ('.venv': venv)",
   "language": "python",
   "name": "python3"
  },
  "language_info": {
   "codemirror_mode": {
    "name": "ipython",
    "version": 3
   },
   "file_extension": ".py",
   "mimetype": "text/x-python",
   "name": "python",
   "nbconvert_exporter": "python",
   "pygments_lexer": "ipython3",
   "version": "3.8.2"
  },
  "orig_nbformat": 4
 },
 "nbformat": 4,
 "nbformat_minor": 2
}
