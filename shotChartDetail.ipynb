{
 "cells": [
  {
   "cell_type": "code",
   "execution_count": 69,
   "metadata": {},
   "outputs": [],
   "source": [
    "# Dependencies\n",
    "from nba_api.stats.endpoints import shotchartdetail, commonplayerinfo\n",
    "from nba_api.stats.static import players, teams\n",
    "import matplotlib as mpl\n",
    "import matplotlib.pyplot as plt\n",
    "import numpy as np\n",
    "import plotly.express as px\n",
    "import plotly.graph_objects as go\n",
    "from plotly.subplots import make_subplots\n",
    "import plotly.figure_factory as ff\n",
    "import pandas as pd"
   ]
  },
  {
   "cell_type": "code",
   "execution_count": 3,
   "metadata": {},
   "outputs": [],
   "source": [
    "# Declaring Naming Variables\n",
    "player_name = \"Brandon Ingram\"\n",
    "year = \"2021-22\""
   ]
  },
  {
   "cell_type": "code",
   "execution_count": 4,
   "metadata": {},
   "outputs": [],
   "source": [
    "# Basic Request\n",
    "player_id = players.find_players_by_full_name(player_name)[0][\"id\"]\n",
    "player_info = commonplayerinfo.CommonPlayerInfo(player_id=player_id)\n",
    "team_id = player_info.get_normalized_dict()['CommonPlayerInfo'][0]['TEAM_ID']\n",
    "shot_chart = shotchartdetail.ShotChartDetail(team_id=team_id, player_id=player_id, season_type_all_star=\"Regular Season\",\n",
    "                                             season_nullable=year, context_measure_simple=\"FGA\")"
   ]
  },
  {
   "cell_type": "code",
   "execution_count": 62,
   "metadata": {},
   "outputs": [
    {
     "data": {
      "text/html": [
       "<div>\n",
       "<style scoped>\n",
       "    .dataframe tbody tr th:only-of-type {\n",
       "        vertical-align: middle;\n",
       "    }\n",
       "\n",
       "    .dataframe tbody tr th {\n",
       "        vertical-align: top;\n",
       "    }\n",
       "\n",
       "    .dataframe thead th {\n",
       "        text-align: right;\n",
       "    }\n",
       "</style>\n",
       "<table border=\"1\" class=\"dataframe\">\n",
       "  <thead>\n",
       "    <tr style=\"text-align: right;\">\n",
       "      <th></th>\n",
       "      <th>GRID_TYPE</th>\n",
       "      <th>SHOT_ZONE_BASIC</th>\n",
       "      <th>SHOT_ZONE_AREA</th>\n",
       "      <th>SHOT_ZONE_RANGE</th>\n",
       "      <th>FGA_LA</th>\n",
       "      <th>FGM_LA</th>\n",
       "      <th>FG_PCT_LA</th>\n",
       "    </tr>\n",
       "  </thead>\n",
       "  <tbody>\n",
       "    <tr>\n",
       "      <th>0</th>\n",
       "      <td>League Averages</td>\n",
       "      <td>Above the Break 3</td>\n",
       "      <td>Back Court(BC)</td>\n",
       "      <td>Back Court Shot</td>\n",
       "      <td>35</td>\n",
       "      <td>4</td>\n",
       "      <td>0.114</td>\n",
       "    </tr>\n",
       "    <tr>\n",
       "      <th>1</th>\n",
       "      <td>League Averages</td>\n",
       "      <td>Above the Break 3</td>\n",
       "      <td>Center(C)</td>\n",
       "      <td>24+ ft.</td>\n",
       "      <td>16368</td>\n",
       "      <td>5613</td>\n",
       "      <td>0.343</td>\n",
       "    </tr>\n",
       "    <tr>\n",
       "      <th>2</th>\n",
       "      <td>League Averages</td>\n",
       "      <td>Above the Break 3</td>\n",
       "      <td>Left Side Center(LC)</td>\n",
       "      <td>24+ ft.</td>\n",
       "      <td>24924</td>\n",
       "      <td>8511</td>\n",
       "      <td>0.341</td>\n",
       "    </tr>\n",
       "    <tr>\n",
       "      <th>3</th>\n",
       "      <td>League Averages</td>\n",
       "      <td>Above the Break 3</td>\n",
       "      <td>Right Side Center(RC)</td>\n",
       "      <td>24+ ft.</td>\n",
       "      <td>23120</td>\n",
       "      <td>8171</td>\n",
       "      <td>0.353</td>\n",
       "    </tr>\n",
       "    <tr>\n",
       "      <th>4</th>\n",
       "      <td>League Averages</td>\n",
       "      <td>Backcourt</td>\n",
       "      <td>Back Court(BC)</td>\n",
       "      <td>Back Court Shot</td>\n",
       "      <td>440</td>\n",
       "      <td>11</td>\n",
       "      <td>0.025</td>\n",
       "    </tr>\n",
       "    <tr>\n",
       "      <th>5</th>\n",
       "      <td>League Averages</td>\n",
       "      <td>In The Paint (Non-RA)</td>\n",
       "      <td>Center(C)</td>\n",
       "      <td>8-16 ft.</td>\n",
       "      <td>11777</td>\n",
       "      <td>5228</td>\n",
       "      <td>0.444</td>\n",
       "    </tr>\n",
       "    <tr>\n",
       "      <th>6</th>\n",
       "      <td>League Averages</td>\n",
       "      <td>In The Paint (Non-RA)</td>\n",
       "      <td>Center(C)</td>\n",
       "      <td>Less Than 8 ft.</td>\n",
       "      <td>23351</td>\n",
       "      <td>9813</td>\n",
       "      <td>0.420</td>\n",
       "    </tr>\n",
       "    <tr>\n",
       "      <th>7</th>\n",
       "      <td>League Averages</td>\n",
       "      <td>In The Paint (Non-RA)</td>\n",
       "      <td>Left Side(L)</td>\n",
       "      <td>8-16 ft.</td>\n",
       "      <td>2197</td>\n",
       "      <td>949</td>\n",
       "      <td>0.432</td>\n",
       "    </tr>\n",
       "    <tr>\n",
       "      <th>8</th>\n",
       "      <td>League Averages</td>\n",
       "      <td>In The Paint (Non-RA)</td>\n",
       "      <td>Right Side(R)</td>\n",
       "      <td>8-16 ft.</td>\n",
       "      <td>2343</td>\n",
       "      <td>1000</td>\n",
       "      <td>0.427</td>\n",
       "    </tr>\n",
       "    <tr>\n",
       "      <th>9</th>\n",
       "      <td>League Averages</td>\n",
       "      <td>Left Corner 3</td>\n",
       "      <td>Left Side(L)</td>\n",
       "      <td>24+ ft.</td>\n",
       "      <td>11377</td>\n",
       "      <td>4371</td>\n",
       "      <td>0.384</td>\n",
       "    </tr>\n",
       "    <tr>\n",
       "      <th>10</th>\n",
       "      <td>League Averages</td>\n",
       "      <td>Mid-Range</td>\n",
       "      <td>Center(C)</td>\n",
       "      <td>8-16 ft.</td>\n",
       "      <td>2088</td>\n",
       "      <td>921</td>\n",
       "      <td>0.441</td>\n",
       "    </tr>\n",
       "    <tr>\n",
       "      <th>11</th>\n",
       "      <td>League Averages</td>\n",
       "      <td>Mid-Range</td>\n",
       "      <td>Center(C)</td>\n",
       "      <td>16-24 ft.</td>\n",
       "      <td>4165</td>\n",
       "      <td>1743</td>\n",
       "      <td>0.418</td>\n",
       "    </tr>\n",
       "    <tr>\n",
       "      <th>12</th>\n",
       "      <td>League Averages</td>\n",
       "      <td>Mid-Range</td>\n",
       "      <td>Left Side Center(LC)</td>\n",
       "      <td>16-24 ft.</td>\n",
       "      <td>3972</td>\n",
       "      <td>1632</td>\n",
       "      <td>0.411</td>\n",
       "    </tr>\n",
       "    <tr>\n",
       "      <th>13</th>\n",
       "      <td>League Averages</td>\n",
       "      <td>Mid-Range</td>\n",
       "      <td>Left Side(L)</td>\n",
       "      <td>8-16 ft.</td>\n",
       "      <td>5014</td>\n",
       "      <td>2023</td>\n",
       "      <td>0.403</td>\n",
       "    </tr>\n",
       "    <tr>\n",
       "      <th>14</th>\n",
       "      <td>League Averages</td>\n",
       "      <td>Mid-Range</td>\n",
       "      <td>Left Side(L)</td>\n",
       "      <td>16-24 ft.</td>\n",
       "      <td>1680</td>\n",
       "      <td>613</td>\n",
       "      <td>0.365</td>\n",
       "    </tr>\n",
       "    <tr>\n",
       "      <th>15</th>\n",
       "      <td>League Averages</td>\n",
       "      <td>Mid-Range</td>\n",
       "      <td>Right Side Center(RC)</td>\n",
       "      <td>16-24 ft.</td>\n",
       "      <td>4043</td>\n",
       "      <td>1575</td>\n",
       "      <td>0.390</td>\n",
       "    </tr>\n",
       "    <tr>\n",
       "      <th>16</th>\n",
       "      <td>League Averages</td>\n",
       "      <td>Mid-Range</td>\n",
       "      <td>Right Side(R)</td>\n",
       "      <td>16-24 ft.</td>\n",
       "      <td>1609</td>\n",
       "      <td>614</td>\n",
       "      <td>0.382</td>\n",
       "    </tr>\n",
       "    <tr>\n",
       "      <th>17</th>\n",
       "      <td>League Averages</td>\n",
       "      <td>Mid-Range</td>\n",
       "      <td>Right Side(R)</td>\n",
       "      <td>8-16 ft.</td>\n",
       "      <td>5141</td>\n",
       "      <td>2143</td>\n",
       "      <td>0.417</td>\n",
       "    </tr>\n",
       "    <tr>\n",
       "      <th>18</th>\n",
       "      <td>League Averages</td>\n",
       "      <td>Restricted Area</td>\n",
       "      <td>Center(C)</td>\n",
       "      <td>Less Than 8 ft.</td>\n",
       "      <td>62987</td>\n",
       "      <td>41140</td>\n",
       "      <td>0.653</td>\n",
       "    </tr>\n",
       "    <tr>\n",
       "      <th>19</th>\n",
       "      <td>League Averages</td>\n",
       "      <td>Right Corner 3</td>\n",
       "      <td>Right Side(R)</td>\n",
       "      <td>24+ ft.</td>\n",
       "      <td>10091</td>\n",
       "      <td>3855</td>\n",
       "      <td>0.382</td>\n",
       "    </tr>\n",
       "  </tbody>\n",
       "</table>\n",
       "</div>"
      ],
      "text/plain": [
       "          GRID_TYPE        SHOT_ZONE_BASIC         SHOT_ZONE_AREA  \\\n",
       "0   League Averages      Above the Break 3         Back Court(BC)   \n",
       "1   League Averages      Above the Break 3              Center(C)   \n",
       "2   League Averages      Above the Break 3   Left Side Center(LC)   \n",
       "3   League Averages      Above the Break 3  Right Side Center(RC)   \n",
       "4   League Averages              Backcourt         Back Court(BC)   \n",
       "5   League Averages  In The Paint (Non-RA)              Center(C)   \n",
       "6   League Averages  In The Paint (Non-RA)              Center(C)   \n",
       "7   League Averages  In The Paint (Non-RA)           Left Side(L)   \n",
       "8   League Averages  In The Paint (Non-RA)          Right Side(R)   \n",
       "9   League Averages          Left Corner 3           Left Side(L)   \n",
       "10  League Averages              Mid-Range              Center(C)   \n",
       "11  League Averages              Mid-Range              Center(C)   \n",
       "12  League Averages              Mid-Range   Left Side Center(LC)   \n",
       "13  League Averages              Mid-Range           Left Side(L)   \n",
       "14  League Averages              Mid-Range           Left Side(L)   \n",
       "15  League Averages              Mid-Range  Right Side Center(RC)   \n",
       "16  League Averages              Mid-Range          Right Side(R)   \n",
       "17  League Averages              Mid-Range          Right Side(R)   \n",
       "18  League Averages        Restricted Area              Center(C)   \n",
       "19  League Averages         Right Corner 3          Right Side(R)   \n",
       "\n",
       "    SHOT_ZONE_RANGE  FGA_LA  FGM_LA  FG_PCT_LA  \n",
       "0   Back Court Shot      35       4      0.114  \n",
       "1           24+ ft.   16368    5613      0.343  \n",
       "2           24+ ft.   24924    8511      0.341  \n",
       "3           24+ ft.   23120    8171      0.353  \n",
       "4   Back Court Shot     440      11      0.025  \n",
       "5          8-16 ft.   11777    5228      0.444  \n",
       "6   Less Than 8 ft.   23351    9813      0.420  \n",
       "7          8-16 ft.    2197     949      0.432  \n",
       "8          8-16 ft.    2343    1000      0.427  \n",
       "9           24+ ft.   11377    4371      0.384  \n",
       "10         8-16 ft.    2088     921      0.441  \n",
       "11        16-24 ft.    4165    1743      0.418  \n",
       "12        16-24 ft.    3972    1632      0.411  \n",
       "13         8-16 ft.    5014    2023      0.403  \n",
       "14        16-24 ft.    1680     613      0.365  \n",
       "15        16-24 ft.    4043    1575      0.390  \n",
       "16        16-24 ft.    1609     614      0.382  \n",
       "17         8-16 ft.    5141    2143      0.417  \n",
       "18  Less Than 8 ft.   62987   41140      0.653  \n",
       "19          24+ ft.   10091    3855      0.382  "
      ]
     },
     "execution_count": 62,
     "metadata": {},
     "output_type": "execute_result"
    }
   ],
   "source": [
    "x = shot_chart.shot_chart_detail.get_data_frame()\n",
    "# league_average = shot_chart.league_averages.get_data_frame().groupby([\"SHOT_ZONE_RANGE\"], as_index=False).agg(FGM=('FGM', 'sum'), FGA=('FGA', 'sum'))\n",
    "league_average = shot_chart.league_averages.get_data_frame().rename(columns={'FGA': 'FGA_LA', 'FGM': 'FGM_LA', 'FG_PCT': 'FG_PCT_LA'})\n",
    "league_average"
   ]
  },
  {
   "cell_type": "code",
   "execution_count": 106,
   "metadata": {},
   "outputs": [
    {
     "data": {
      "text/plain": [
       "983"
      ]
     },
     "execution_count": 106,
     "metadata": {},
     "output_type": "execute_result"
    }
   ],
   "source": [
    "x['SHOT_ATTEMPTED_FLAG'].sum()"
   ]
  },
  {
   "cell_type": "code",
   "execution_count": 63,
   "metadata": {},
   "outputs": [
    {
     "data": {
      "text/html": [
       "<div>\n",
       "<style scoped>\n",
       "    .dataframe tbody tr th:only-of-type {\n",
       "        vertical-align: middle;\n",
       "    }\n",
       "\n",
       "    .dataframe tbody tr th {\n",
       "        vertical-align: top;\n",
       "    }\n",
       "\n",
       "    .dataframe thead th {\n",
       "        text-align: right;\n",
       "    }\n",
       "</style>\n",
       "<table border=\"1\" class=\"dataframe\">\n",
       "  <thead>\n",
       "    <tr style=\"text-align: right;\">\n",
       "      <th></th>\n",
       "      <th>GRID_TYPE_PA</th>\n",
       "      <th>GAME_ID</th>\n",
       "      <th>GAME_EVENT_ID</th>\n",
       "      <th>PLAYER_ID</th>\n",
       "      <th>PLAYER_NAME</th>\n",
       "      <th>TEAM_ID</th>\n",
       "      <th>TEAM_NAME</th>\n",
       "      <th>PERIOD</th>\n",
       "      <th>MINUTES_REMAINING</th>\n",
       "      <th>SECONDS_REMAINING</th>\n",
       "      <th>...</th>\n",
       "      <th>LOC_Y</th>\n",
       "      <th>SHOT_ATTEMPTED_FLAG</th>\n",
       "      <th>SHOT_MADE_FLAG</th>\n",
       "      <th>GAME_DATE</th>\n",
       "      <th>HTM</th>\n",
       "      <th>VTM</th>\n",
       "      <th>GRID_TYPE_LA</th>\n",
       "      <th>FGA_LA</th>\n",
       "      <th>FGM_LA</th>\n",
       "      <th>FG_PCT_LA</th>\n",
       "    </tr>\n",
       "  </thead>\n",
       "  <tbody>\n",
       "    <tr>\n",
       "      <th>0</th>\n",
       "      <td>Shot Chart Detail</td>\n",
       "      <td>0022100009</td>\n",
       "      <td>22</td>\n",
       "      <td>1627742</td>\n",
       "      <td>Brandon Ingram</td>\n",
       "      <td>1610612740</td>\n",
       "      <td>New Orleans Pelicans</td>\n",
       "      <td>1</td>\n",
       "      <td>9</td>\n",
       "      <td>50</td>\n",
       "      <td>...</td>\n",
       "      <td>83</td>\n",
       "      <td>1</td>\n",
       "      <td>0</td>\n",
       "      <td>20211020</td>\n",
       "      <td>NOP</td>\n",
       "      <td>PHI</td>\n",
       "      <td>League Averages</td>\n",
       "      <td>5141</td>\n",
       "      <td>2143</td>\n",
       "      <td>0.417</td>\n",
       "    </tr>\n",
       "    <tr>\n",
       "      <th>1</th>\n",
       "      <td>Shot Chart Detail</td>\n",
       "      <td>0022100009</td>\n",
       "      <td>28</td>\n",
       "      <td>1627742</td>\n",
       "      <td>Brandon Ingram</td>\n",
       "      <td>1610612740</td>\n",
       "      <td>New Orleans Pelicans</td>\n",
       "      <td>1</td>\n",
       "      <td>9</td>\n",
       "      <td>9</td>\n",
       "      <td>...</td>\n",
       "      <td>94</td>\n",
       "      <td>1</td>\n",
       "      <td>0</td>\n",
       "      <td>20211020</td>\n",
       "      <td>NOP</td>\n",
       "      <td>PHI</td>\n",
       "      <td>League Averages</td>\n",
       "      <td>5141</td>\n",
       "      <td>2143</td>\n",
       "      <td>0.417</td>\n",
       "    </tr>\n",
       "    <tr>\n",
       "      <th>2</th>\n",
       "      <td>Shot Chart Detail</td>\n",
       "      <td>0022100009</td>\n",
       "      <td>39</td>\n",
       "      <td>1627742</td>\n",
       "      <td>Brandon Ingram</td>\n",
       "      <td>1610612740</td>\n",
       "      <td>New Orleans Pelicans</td>\n",
       "      <td>1</td>\n",
       "      <td>8</td>\n",
       "      <td>14</td>\n",
       "      <td>...</td>\n",
       "      <td>194</td>\n",
       "      <td>1</td>\n",
       "      <td>0</td>\n",
       "      <td>20211020</td>\n",
       "      <td>NOP</td>\n",
       "      <td>PHI</td>\n",
       "      <td>League Averages</td>\n",
       "      <td>24924</td>\n",
       "      <td>8511</td>\n",
       "      <td>0.341</td>\n",
       "    </tr>\n",
       "    <tr>\n",
       "      <th>3</th>\n",
       "      <td>Shot Chart Detail</td>\n",
       "      <td>0022100009</td>\n",
       "      <td>63</td>\n",
       "      <td>1627742</td>\n",
       "      <td>Brandon Ingram</td>\n",
       "      <td>1610612740</td>\n",
       "      <td>New Orleans Pelicans</td>\n",
       "      <td>1</td>\n",
       "      <td>5</td>\n",
       "      <td>45</td>\n",
       "      <td>...</td>\n",
       "      <td>17</td>\n",
       "      <td>1</td>\n",
       "      <td>0</td>\n",
       "      <td>20211020</td>\n",
       "      <td>NOP</td>\n",
       "      <td>PHI</td>\n",
       "      <td>League Averages</td>\n",
       "      <td>5141</td>\n",
       "      <td>2143</td>\n",
       "      <td>0.417</td>\n",
       "    </tr>\n",
       "    <tr>\n",
       "      <th>4</th>\n",
       "      <td>Shot Chart Detail</td>\n",
       "      <td>0022100009</td>\n",
       "      <td>79</td>\n",
       "      <td>1627742</td>\n",
       "      <td>Brandon Ingram</td>\n",
       "      <td>1610612740</td>\n",
       "      <td>New Orleans Pelicans</td>\n",
       "      <td>1</td>\n",
       "      <td>3</td>\n",
       "      <td>54</td>\n",
       "      <td>...</td>\n",
       "      <td>-3</td>\n",
       "      <td>1</td>\n",
       "      <td>1</td>\n",
       "      <td>20211020</td>\n",
       "      <td>NOP</td>\n",
       "      <td>PHI</td>\n",
       "      <td>League Averages</td>\n",
       "      <td>62987</td>\n",
       "      <td>41140</td>\n",
       "      <td>0.653</td>\n",
       "    </tr>\n",
       "    <tr>\n",
       "      <th>...</th>\n",
       "      <td>...</td>\n",
       "      <td>...</td>\n",
       "      <td>...</td>\n",
       "      <td>...</td>\n",
       "      <td>...</td>\n",
       "      <td>...</td>\n",
       "      <td>...</td>\n",
       "      <td>...</td>\n",
       "      <td>...</td>\n",
       "      <td>...</td>\n",
       "      <td>...</td>\n",
       "      <td>...</td>\n",
       "      <td>...</td>\n",
       "      <td>...</td>\n",
       "      <td>...</td>\n",
       "      <td>...</td>\n",
       "      <td>...</td>\n",
       "      <td>...</td>\n",
       "      <td>...</td>\n",
       "      <td>...</td>\n",
       "      <td>...</td>\n",
       "    </tr>\n",
       "    <tr>\n",
       "      <th>978</th>\n",
       "      <td>Shot Chart Detail</td>\n",
       "      <td>0022101188</td>\n",
       "      <td>440</td>\n",
       "      <td>1627742</td>\n",
       "      <td>Brandon Ingram</td>\n",
       "      <td>1610612740</td>\n",
       "      <td>New Orleans Pelicans</td>\n",
       "      <td>3</td>\n",
       "      <td>2</td>\n",
       "      <td>38</td>\n",
       "      <td>...</td>\n",
       "      <td>174</td>\n",
       "      <td>1</td>\n",
       "      <td>0</td>\n",
       "      <td>20220405</td>\n",
       "      <td>SAC</td>\n",
       "      <td>NOP</td>\n",
       "      <td>League Averages</td>\n",
       "      <td>24924</td>\n",
       "      <td>8511</td>\n",
       "      <td>0.341</td>\n",
       "    </tr>\n",
       "    <tr>\n",
       "      <th>979</th>\n",
       "      <td>Shot Chart Detail</td>\n",
       "      <td>0022101188</td>\n",
       "      <td>560</td>\n",
       "      <td>1627742</td>\n",
       "      <td>Brandon Ingram</td>\n",
       "      <td>1610612740</td>\n",
       "      <td>New Orleans Pelicans</td>\n",
       "      <td>4</td>\n",
       "      <td>4</td>\n",
       "      <td>57</td>\n",
       "      <td>...</td>\n",
       "      <td>92</td>\n",
       "      <td>1</td>\n",
       "      <td>0</td>\n",
       "      <td>20220405</td>\n",
       "      <td>SAC</td>\n",
       "      <td>NOP</td>\n",
       "      <td>League Averages</td>\n",
       "      <td>11777</td>\n",
       "      <td>5228</td>\n",
       "      <td>0.444</td>\n",
       "    </tr>\n",
       "    <tr>\n",
       "      <th>980</th>\n",
       "      <td>Shot Chart Detail</td>\n",
       "      <td>0022101188</td>\n",
       "      <td>573</td>\n",
       "      <td>1627742</td>\n",
       "      <td>Brandon Ingram</td>\n",
       "      <td>1610612740</td>\n",
       "      <td>New Orleans Pelicans</td>\n",
       "      <td>4</td>\n",
       "      <td>4</td>\n",
       "      <td>15</td>\n",
       "      <td>...</td>\n",
       "      <td>159</td>\n",
       "      <td>1</td>\n",
       "      <td>0</td>\n",
       "      <td>20220405</td>\n",
       "      <td>SAC</td>\n",
       "      <td>NOP</td>\n",
       "      <td>League Averages</td>\n",
       "      <td>4043</td>\n",
       "      <td>1575</td>\n",
       "      <td>0.390</td>\n",
       "    </tr>\n",
       "    <tr>\n",
       "      <th>981</th>\n",
       "      <td>Shot Chart Detail</td>\n",
       "      <td>0022101188</td>\n",
       "      <td>577</td>\n",
       "      <td>1627742</td>\n",
       "      <td>Brandon Ingram</td>\n",
       "      <td>1610612740</td>\n",
       "      <td>New Orleans Pelicans</td>\n",
       "      <td>4</td>\n",
       "      <td>3</td>\n",
       "      <td>51</td>\n",
       "      <td>...</td>\n",
       "      <td>123</td>\n",
       "      <td>1</td>\n",
       "      <td>0</td>\n",
       "      <td>20220405</td>\n",
       "      <td>SAC</td>\n",
       "      <td>NOP</td>\n",
       "      <td>League Averages</td>\n",
       "      <td>11777</td>\n",
       "      <td>5228</td>\n",
       "      <td>0.444</td>\n",
       "    </tr>\n",
       "    <tr>\n",
       "      <th>982</th>\n",
       "      <td>Shot Chart Detail</td>\n",
       "      <td>0022101188</td>\n",
       "      <td>619</td>\n",
       "      <td>1627742</td>\n",
       "      <td>Brandon Ingram</td>\n",
       "      <td>1610612740</td>\n",
       "      <td>New Orleans Pelicans</td>\n",
       "      <td>4</td>\n",
       "      <td>0</td>\n",
       "      <td>32</td>\n",
       "      <td>...</td>\n",
       "      <td>165</td>\n",
       "      <td>1</td>\n",
       "      <td>1</td>\n",
       "      <td>20220405</td>\n",
       "      <td>SAC</td>\n",
       "      <td>NOP</td>\n",
       "      <td>League Averages</td>\n",
       "      <td>4165</td>\n",
       "      <td>1743</td>\n",
       "      <td>0.418</td>\n",
       "    </tr>\n",
       "  </tbody>\n",
       "</table>\n",
       "<p>983 rows × 28 columns</p>\n",
       "</div>"
      ],
      "text/plain": [
       "          GRID_TYPE_PA     GAME_ID  GAME_EVENT_ID  PLAYER_ID     PLAYER_NAME  \\\n",
       "0    Shot Chart Detail  0022100009             22    1627742  Brandon Ingram   \n",
       "1    Shot Chart Detail  0022100009             28    1627742  Brandon Ingram   \n",
       "2    Shot Chart Detail  0022100009             39    1627742  Brandon Ingram   \n",
       "3    Shot Chart Detail  0022100009             63    1627742  Brandon Ingram   \n",
       "4    Shot Chart Detail  0022100009             79    1627742  Brandon Ingram   \n",
       "..                 ...         ...            ...        ...             ...   \n",
       "978  Shot Chart Detail  0022101188            440    1627742  Brandon Ingram   \n",
       "979  Shot Chart Detail  0022101188            560    1627742  Brandon Ingram   \n",
       "980  Shot Chart Detail  0022101188            573    1627742  Brandon Ingram   \n",
       "981  Shot Chart Detail  0022101188            577    1627742  Brandon Ingram   \n",
       "982  Shot Chart Detail  0022101188            619    1627742  Brandon Ingram   \n",
       "\n",
       "        TEAM_ID             TEAM_NAME  PERIOD  MINUTES_REMAINING  \\\n",
       "0    1610612740  New Orleans Pelicans       1                  9   \n",
       "1    1610612740  New Orleans Pelicans       1                  9   \n",
       "2    1610612740  New Orleans Pelicans       1                  8   \n",
       "3    1610612740  New Orleans Pelicans       1                  5   \n",
       "4    1610612740  New Orleans Pelicans       1                  3   \n",
       "..          ...                   ...     ...                ...   \n",
       "978  1610612740  New Orleans Pelicans       3                  2   \n",
       "979  1610612740  New Orleans Pelicans       4                  4   \n",
       "980  1610612740  New Orleans Pelicans       4                  4   \n",
       "981  1610612740  New Orleans Pelicans       4                  3   \n",
       "982  1610612740  New Orleans Pelicans       4                  0   \n",
       "\n",
       "     SECONDS_REMAINING  ... LOC_Y SHOT_ATTEMPTED_FLAG SHOT_MADE_FLAG  \\\n",
       "0                   50  ...    83                   1              0   \n",
       "1                    9  ...    94                   1              0   \n",
       "2                   14  ...   194                   1              0   \n",
       "3                   45  ...    17                   1              0   \n",
       "4                   54  ...    -3                   1              1   \n",
       "..                 ...  ...   ...                 ...            ...   \n",
       "978                 38  ...   174                   1              0   \n",
       "979                 57  ...    92                   1              0   \n",
       "980                 15  ...   159                   1              0   \n",
       "981                 51  ...   123                   1              0   \n",
       "982                 32  ...   165                   1              1   \n",
       "\n",
       "    GAME_DATE  HTM  VTM     GRID_TYPE_LA  FGA_LA  FGM_LA  FG_PCT_LA  \n",
       "0    20211020  NOP  PHI  League Averages    5141    2143      0.417  \n",
       "1    20211020  NOP  PHI  League Averages    5141    2143      0.417  \n",
       "2    20211020  NOP  PHI  League Averages   24924    8511      0.341  \n",
       "3    20211020  NOP  PHI  League Averages    5141    2143      0.417  \n",
       "4    20211020  NOP  PHI  League Averages   62987   41140      0.653  \n",
       "..        ...  ...  ...              ...     ...     ...        ...  \n",
       "978  20220405  SAC  NOP  League Averages   24924    8511      0.341  \n",
       "979  20220405  SAC  NOP  League Averages   11777    5228      0.444  \n",
       "980  20220405  SAC  NOP  League Averages    4043    1575      0.390  \n",
       "981  20220405  SAC  NOP  League Averages   11777    5228      0.444  \n",
       "982  20220405  SAC  NOP  League Averages    4165    1743      0.418  \n",
       "\n",
       "[983 rows x 28 columns]"
      ]
     },
     "execution_count": 63,
     "metadata": {},
     "output_type": "execute_result"
    }
   ],
   "source": [
    "# Merge x with league_average on SHOT_ZONE_AREA and SHOT_ZONE_RANGE\n",
    "temp = x.merge(league_average, on=['SHOT_ZONE_AREA', 'SHOT_ZONE_RANGE', 'SHOT_ZONE_BASIC'], how='left', suffixes=('_PA', '_LA'))\n",
    "temp"
   ]
  },
  {
   "cell_type": "code",
   "execution_count": 14,
   "metadata": {},
   "outputs": [
    {
     "data": {
      "text/html": [
       "<div>\n",
       "<style scoped>\n",
       "    .dataframe tbody tr th:only-of-type {\n",
       "        vertical-align: middle;\n",
       "    }\n",
       "\n",
       "    .dataframe tbody tr th {\n",
       "        vertical-align: top;\n",
       "    }\n",
       "\n",
       "    .dataframe thead th {\n",
       "        text-align: right;\n",
       "    }\n",
       "</style>\n",
       "<table border=\"1\" class=\"dataframe\">\n",
       "  <thead>\n",
       "    <tr style=\"text-align: right;\">\n",
       "      <th></th>\n",
       "      <th>SHOT_DISTANCE</th>\n",
       "      <th>fg_pct_pl</th>\n",
       "      <th>fg_pct_la</th>\n",
       "      <th>fg_pct_diff</th>\n",
       "    </tr>\n",
       "  </thead>\n",
       "  <tbody>\n",
       "    <tr>\n",
       "      <th>0</th>\n",
       "      <td>0</td>\n",
       "      <td>0.730769</td>\n",
       "      <td>0.590157</td>\n",
       "      <td>0.140612</td>\n",
       "    </tr>\n",
       "    <tr>\n",
       "      <th>1</th>\n",
       "      <td>1</td>\n",
       "      <td>0.727273</td>\n",
       "      <td>0.590157</td>\n",
       "      <td>0.137115</td>\n",
       "    </tr>\n",
       "    <tr>\n",
       "      <th>2</th>\n",
       "      <td>2</td>\n",
       "      <td>0.614035</td>\n",
       "      <td>0.590157</td>\n",
       "      <td>0.023878</td>\n",
       "    </tr>\n",
       "    <tr>\n",
       "      <th>3</th>\n",
       "      <td>3</td>\n",
       "      <td>0.548387</td>\n",
       "      <td>0.590157</td>\n",
       "      <td>-0.041770</td>\n",
       "    </tr>\n",
       "    <tr>\n",
       "      <th>4</th>\n",
       "      <td>4</td>\n",
       "      <td>0.357143</td>\n",
       "      <td>0.590157</td>\n",
       "      <td>-0.233014</td>\n",
       "    </tr>\n",
       "    <tr>\n",
       "      <th>5</th>\n",
       "      <td>5</td>\n",
       "      <td>0.250000</td>\n",
       "      <td>0.590157</td>\n",
       "      <td>-0.340157</td>\n",
       "    </tr>\n",
       "    <tr>\n",
       "      <th>6</th>\n",
       "      <td>6</td>\n",
       "      <td>0.230769</td>\n",
       "      <td>0.590157</td>\n",
       "      <td>-0.359388</td>\n",
       "    </tr>\n",
       "    <tr>\n",
       "      <th>7</th>\n",
       "      <td>7</td>\n",
       "      <td>0.411765</td>\n",
       "      <td>0.590157</td>\n",
       "      <td>-0.178393</td>\n",
       "    </tr>\n",
       "    <tr>\n",
       "      <th>8</th>\n",
       "      <td>8</td>\n",
       "      <td>0.550000</td>\n",
       "      <td>0.429412</td>\n",
       "      <td>0.120588</td>\n",
       "    </tr>\n",
       "    <tr>\n",
       "      <th>9</th>\n",
       "      <td>9</td>\n",
       "      <td>0.482759</td>\n",
       "      <td>0.429412</td>\n",
       "      <td>0.053347</td>\n",
       "    </tr>\n",
       "    <tr>\n",
       "      <th>10</th>\n",
       "      <td>10</td>\n",
       "      <td>0.560000</td>\n",
       "      <td>0.429412</td>\n",
       "      <td>0.130588</td>\n",
       "    </tr>\n",
       "    <tr>\n",
       "      <th>11</th>\n",
       "      <td>11</td>\n",
       "      <td>0.463415</td>\n",
       "      <td>0.429412</td>\n",
       "      <td>0.034003</td>\n",
       "    </tr>\n",
       "    <tr>\n",
       "      <th>12</th>\n",
       "      <td>12</td>\n",
       "      <td>0.526316</td>\n",
       "      <td>0.429412</td>\n",
       "      <td>0.096904</td>\n",
       "    </tr>\n",
       "    <tr>\n",
       "      <th>13</th>\n",
       "      <td>13</td>\n",
       "      <td>0.542857</td>\n",
       "      <td>0.429412</td>\n",
       "      <td>0.113445</td>\n",
       "    </tr>\n",
       "    <tr>\n",
       "      <th>14</th>\n",
       "      <td>14</td>\n",
       "      <td>0.483333</td>\n",
       "      <td>0.429412</td>\n",
       "      <td>0.053922</td>\n",
       "    </tr>\n",
       "    <tr>\n",
       "      <th>15</th>\n",
       "      <td>15</td>\n",
       "      <td>0.509804</td>\n",
       "      <td>0.429412</td>\n",
       "      <td>0.080392</td>\n",
       "    </tr>\n",
       "    <tr>\n",
       "      <th>16</th>\n",
       "      <td>16</td>\n",
       "      <td>0.490909</td>\n",
       "      <td>0.399315</td>\n",
       "      <td>0.091594</td>\n",
       "    </tr>\n",
       "    <tr>\n",
       "      <th>17</th>\n",
       "      <td>17</td>\n",
       "      <td>0.408451</td>\n",
       "      <td>0.399315</td>\n",
       "      <td>0.009136</td>\n",
       "    </tr>\n",
       "    <tr>\n",
       "      <th>18</th>\n",
       "      <td>18</td>\n",
       "      <td>0.280000</td>\n",
       "      <td>0.399315</td>\n",
       "      <td>-0.119315</td>\n",
       "    </tr>\n",
       "    <tr>\n",
       "      <th>19</th>\n",
       "      <td>19</td>\n",
       "      <td>0.333333</td>\n",
       "      <td>0.399315</td>\n",
       "      <td>-0.065981</td>\n",
       "    </tr>\n",
       "    <tr>\n",
       "      <th>20</th>\n",
       "      <td>20</td>\n",
       "      <td>0.521739</td>\n",
       "      <td>0.399315</td>\n",
       "      <td>0.122424</td>\n",
       "    </tr>\n",
       "    <tr>\n",
       "      <th>21</th>\n",
       "      <td>21</td>\n",
       "      <td>0.500000</td>\n",
       "      <td>0.399315</td>\n",
       "      <td>0.100685</td>\n",
       "    </tr>\n",
       "    <tr>\n",
       "      <th>22</th>\n",
       "      <td>23</td>\n",
       "      <td>0.333333</td>\n",
       "      <td>0.355391</td>\n",
       "      <td>-0.022058</td>\n",
       "    </tr>\n",
       "    <tr>\n",
       "      <th>23</th>\n",
       "      <td>24</td>\n",
       "      <td>0.406250</td>\n",
       "      <td>0.355391</td>\n",
       "      <td>0.050859</td>\n",
       "    </tr>\n",
       "    <tr>\n",
       "      <th>24</th>\n",
       "      <td>25</td>\n",
       "      <td>0.333333</td>\n",
       "      <td>0.355391</td>\n",
       "      <td>-0.022058</td>\n",
       "    </tr>\n",
       "    <tr>\n",
       "      <th>25</th>\n",
       "      <td>26</td>\n",
       "      <td>0.260870</td>\n",
       "      <td>0.355391</td>\n",
       "      <td>-0.094522</td>\n",
       "    </tr>\n",
       "    <tr>\n",
       "      <th>26</th>\n",
       "      <td>27</td>\n",
       "      <td>0.222222</td>\n",
       "      <td>0.355391</td>\n",
       "      <td>-0.133169</td>\n",
       "    </tr>\n",
       "  </tbody>\n",
       "</table>\n",
       "</div>"
      ],
      "text/plain": [
       "    SHOT_DISTANCE  fg_pct_pl  fg_pct_la  fg_pct_diff\n",
       "0               0   0.730769   0.590157     0.140612\n",
       "1               1   0.727273   0.590157     0.137115\n",
       "2               2   0.614035   0.590157     0.023878\n",
       "3               3   0.548387   0.590157    -0.041770\n",
       "4               4   0.357143   0.590157    -0.233014\n",
       "5               5   0.250000   0.590157    -0.340157\n",
       "6               6   0.230769   0.590157    -0.359388\n",
       "7               7   0.411765   0.590157    -0.178393\n",
       "8               8   0.550000   0.429412     0.120588\n",
       "9               9   0.482759   0.429412     0.053347\n",
       "10             10   0.560000   0.429412     0.130588\n",
       "11             11   0.463415   0.429412     0.034003\n",
       "12             12   0.526316   0.429412     0.096904\n",
       "13             13   0.542857   0.429412     0.113445\n",
       "14             14   0.483333   0.429412     0.053922\n",
       "15             15   0.509804   0.429412     0.080392\n",
       "16             16   0.490909   0.399315     0.091594\n",
       "17             17   0.408451   0.399315     0.009136\n",
       "18             18   0.280000   0.399315    -0.119315\n",
       "19             19   0.333333   0.399315    -0.065981\n",
       "20             20   0.521739   0.399315     0.122424\n",
       "21             21   0.500000   0.399315     0.100685\n",
       "22             23   0.333333   0.355391    -0.022058\n",
       "23             24   0.406250   0.355391     0.050859\n",
       "24             25   0.333333   0.355391    -0.022058\n",
       "25             26   0.260870   0.355391    -0.094522\n",
       "26             27   0.222222   0.355391    -0.133169"
      ]
     },
     "execution_count": 14,
     "metadata": {},
     "output_type": "execute_result"
    }
   ],
   "source": [
    "tmp = x.groupby([\"SHOT_DISTANCE\", \"SHOT_ZONE_RANGE\"], as_index=False).agg(fg_pct=(\"SHOT_MADE_FLAG\", 'mean'), FGA=(\"SHOT_MADE_FLAG\", 'count'), FGM=(\"SHOT_MADE_FLAG\", \"sum\"))\n",
    "y = tmp[(tmp['FGA'] > 10)]\n",
    "both = y.merge(league_average, on=\"SHOT_ZONE_RANGE\", suffixes=('_pl', '_la'))\n",
    "# Add column to 'both' dataframe that will tell whether or not fg_pct_la is .10 higher or lower than fg_pct_pl\n",
    "both['fg_pct_diff'] = both['fg_pct_pl'] - both['fg_pct_la']\n",
    "both[[\"SHOT_DISTANCE\", \"fg_pct_pl\", 'fg_pct_la', 'fg_pct_diff']]"
   ]
  },
  {
   "cell_type": "code",
   "execution_count": 151,
   "metadata": {},
   "outputs": [
    {
     "data": {
      "image/png": "[encoded data removed]",
      "text/plain": [
       "<Figure size 432x288 with 1 Axes>"
      ]
     },
     "metadata": {
      "needs_background": "light"
     },
     "output_type": "display_data"
    }
   ],
   "source": [
    "# Hexbin x and y shot coordinates\n",
    "# Bin size will be 3.5\n",
    "gridsize = 20\n",
    "hexDF = temp[(temp['SHOT_ZONE_RANGE'] != \"Back Court Shot\")]\n",
    "hexResults = plt.hexbin(hexDF['LOC_X'], hexDF['LOC_Y'], gridsize=gridsize, C=hexDF['SHOT_MADE_FLAG'], reduce_C_function=np.sum)\n",
    "hexResults2 = plt.hexbin(hexDF['LOC_X'], hexDF['LOC_Y'], gridsize=gridsize, C=hexDF['SHOT_ATTEMPTED_FLAG'], reduce_C_function=np.sum)\n",
    "hexResults3 = plt.hexbin(hexDF['LOC_X'], hexDF['LOC_Y'], gridsize=gridsize, C=hexDF['FGA_LA'], reduce_C_function=np.sum)\n",
    "hexResults4 = plt.hexbin(hexDF['LOC_X'], hexDF['LOC_Y'], gridsize=gridsize, C=hexDF['FGM_LA'], reduce_C_function=np.sum)\n",
    "\n",
    "coordinates = pd.DataFrame(hexResults.get_offsets(), columns=['x', 'y'])\n",
    "FGM = pd.DataFrame(hexResults.get_array(), columns=['FGM'])\n",
    "FGA = pd.DataFrame(hexResults2.get_array(), columns=['FGA'])\n",
    "FGA_LA = pd.DataFrame(hexResults3.get_array(), columns=['FGA_LA'])\n",
    "FGM_LA = pd.DataFrame(hexResults4.get_array(), columns=['FGM_LA'])\n",
    "# filter to df with FGA > 0\n",
    "refined_results = pd.concat([coordinates, FGM, FGA, FGA_LA, FGM_LA], axis='columns')\n",
    "refined_results['FG_pct'] = refined_results['FGM'] / refined_results['FGA']\n",
    "refined_results['FG_pct_LA'] = refined_results['FGM_LA'] / refined_results['FGA_LA']\n",
    "refined_results['FG_pct_diff'] = refined_results['FG_pct'] - refined_results['FG_pct_LA']"
   ]
  },
  {
   "cell_type": "code",
   "execution_count": null,
   "metadata": {},
   "outputs": [],
   "source": [
    "max_freq = 0.002\n",
    "freq_by_hex = np.array([min(max_freq, i) for i in league_hexbin_stats['freq_by_hex']])\n",
    "colorscale = 'YlOrRd'\n",
    "marker_cmin = 0.1\n",
    "marker_cmax = 0.6\n",
    "ticktexts = [str(marker_cmin*100)+'%-', \"\", str(marker_cmax*100)+'%+']\n",
    "\n",
    "fig = go.Figure()\n",
    "draw_plotly_court(fig)\n",
    "fig.add_trace(go.Scatter(\n",
    "    x=xlocs, y=ylocs, mode='markers', name='markers',\n",
    "    marker=dict(\n",
    "        size=freq_by_hex, sizemode='area', sizeref=2. * max(freq_by_hex) / (11. ** 2), sizemin=2.5,\n",
    "        color=accs_by_hex, colorscale=colorscale,\n",
    "        colorbar=dict(\n",
    "            thickness=15,\n",
    "            x=0.84,\n",
    "            y=0.87,\n",
    "            yanchor='middle',\n",
    "            len=0.2,\n",
    "            title=dict(\n",
    "                text=\"<B>Accuracy</B>\",\n",
    "                font=dict(\n",
    "                    size=11,\n",
    "                    color='#4d4d4d'\n",
    "                ),\n",
    "            ),\n",
    "            tickvals=[marker_cmin, (marker_cmin + marker_cmax) / 2, marker_cmax],\n",
    "            ticktext=ticktexts,\n",
    "            tickfont=dict(\n",
    "                size=11,\n",
    "                color='#4d4d4d'\n",
    "            )\n",
    "        ),\n",
    "        cmin=marker_cmin, cmax=marker_cmax,\n",
    "        line=dict(width=1, color='#333333'), symbol='hexagon',\n",
    "    ),\n",
    "))\n",
    "fig.show(config=dict(displayModeBar=False))"
   ]
  },
  {
   "cell_type": "code",
   "execution_count": 119,
   "metadata": {},
   "outputs": [
    {
     "data": {
      "text/html": [
       "<div>\n",
       "<style scoped>\n",
       "    .dataframe tbody tr th:only-of-type {\n",
       "        vertical-align: middle;\n",
       "    }\n",
       "\n",
       "    .dataframe tbody tr th {\n",
       "        vertical-align: top;\n",
       "    }\n",
       "\n",
       "    .dataframe thead th {\n",
       "        text-align: right;\n",
       "    }\n",
       "</style>\n",
       "<table border=\"1\" class=\"dataframe\">\n",
       "  <thead>\n",
       "    <tr style=\"text-align: right;\">\n",
       "      <th></th>\n",
       "      <th>FGA</th>\n",
       "    </tr>\n",
       "    <tr>\n",
       "      <th>bins</th>\n",
       "      <th></th>\n",
       "    </tr>\n",
       "  </thead>\n",
       "  <tbody>\n",
       "    <tr>\n",
       "      <th>1-2</th>\n",
       "      <td>262.0</td>\n",
       "    </tr>\n",
       "    <tr>\n",
       "      <th>2-5</th>\n",
       "      <td>270.0</td>\n",
       "    </tr>\n",
       "    <tr>\n",
       "      <th>5-10</th>\n",
       "      <td>84.0</td>\n",
       "    </tr>\n",
       "    <tr>\n",
       "      <th>10-20</th>\n",
       "      <td>64.0</td>\n",
       "    </tr>\n",
       "    <tr>\n",
       "      <th>20+</th>\n",
       "      <td>0.0</td>\n",
       "    </tr>\n",
       "  </tbody>\n",
       "</table>\n",
       "</div>"
      ],
      "text/plain": [
       "         FGA\n",
       "bins        \n",
       "1-2    262.0\n",
       "2-5    270.0\n",
       "5-10    84.0\n",
       "10-20   64.0\n",
       "20+      0.0"
      ]
     },
     "execution_count": 119,
     "metadata": {},
     "output_type": "execute_result"
    }
   ],
   "source": [
    "bin_df = refined_results\n",
    "bin_df['bins'] = pd.cut(x = refined_results['FGA'], bins=[1,2,5,10,20,100], labels=['1-2', '2-5', '5-10', '10-20', '20+'])\n",
    "# group bin_df by bins and sum FGA\n",
    "bin_df = bin_df.groupby(['bins']).agg(FGA=('FGA', 'sum'))\n",
    "bin_df"
   ]
  },
  {
   "cell_type": "code",
   "execution_count": 10,
   "metadata": {},
   "outputs": [
    {
     "data": {
      "application/vnd.plotly.v1+json": {
       "config": {
        "plotlyServerURL": "https://plot.ly"
       },
       "data": [
        {
         "name": "fg_pct_pl",
         "type": "scatter",
         "x": [
          0,
          1,
          2,
          3,
          4,
          5,
          6,
          7,
          8,
          9,
          10,
          11,
          12,
          13,
          14,
          15,
          16,
          17,
          18,
          19,
          20,
          21,
          23,
          24,
          25,
          26,
          27
         ],
         "y": [
          0.7307692307692307,
          0.7272727272727273,
          0.6140350877192983,
          0.5483870967741935,
          0.35714285714285715,
          0.25,
          0.23076923076923078,
          0.4117647058823529,
          0.55,
          0.4827586206896552,
          0.56,
          0.4634146341463415,
          0.5263157894736842,
          0.5428571428571428,
          0.48333333333333334,
          0.5098039215686274,
          0.4909090909090909,
          0.4084507042253521,
          0.28,
          0.3333333333333333,
          0.5217391304347826,
          0.5,
          0.3333333333333333,
          0.40625,
          0.3333333333333333,
          0.2608695652173913,
          0.2222222222222222
         ]
        },
        {
         "name": "fg_pct_la",
         "type": "scatter",
         "x": [
          0,
          1,
          2,
          3,
          4,
          5,
          6,
          7,
          8,
          9,
          10,
          11,
          12,
          13,
          14,
          15,
          16,
          17,
          18,
          19,
          20,
          21,
          23,
          24,
          25,
          26,
          27
         ],
         "y": [
          0.5901572887952002,
          0.5901572887952002,
          0.5901572887952002,
          0.5901572887952002,
          0.5901572887952002,
          0.5901572887952002,
          0.5901572887952002,
          0.5901572887952002,
          0.4294117647058823,
          0.4294117647058823,
          0.4294117647058823,
          0.4294117647058823,
          0.4294117647058823,
          0.4294117647058823,
          0.4294117647058823,
          0.4294117647058823,
          0.3993147585493568,
          0.3993147585493568,
          0.3993147585493568,
          0.3993147585493568,
          0.3993147585493568,
          0.3993147585493568,
          0.35539124359571495,
          0.35539124359571495,
          0.35539124359571495,
          0.35539124359571495,
          0.35539124359571495
         ]
        }
       ],
       "layout": {
        "template": {
         "data": {
          "bar": [
           {
            "error_x": {
             "color": "#2a3f5f"
            },
            "error_y": {
             "color": "#2a3f5f"
            },
            "marker": {
             "line": {
              "color": "#E5ECF6",
              "width": 0.5
             },
             "pattern": {
              "fillmode": "overlay",
              "size": 10,
              "solidity": 0.2
             }
            },
            "type": "bar"
           }
          ],
          "barpolar": [
           {
            "marker": {
             "line": {
              "color": "#E5ECF6",
              "width": 0.5
             },
             "pattern": {
              "fillmode": "overlay",
              "size": 10,
              "solidity": 0.2
             }
            },
            "type": "barpolar"
           }
          ],
          "carpet": [
           {
            "aaxis": {
             "endlinecolor": "#2a3f5f",
             "gridcolor": "white",
             "linecolor": "white",
             "minorgridcolor": "white",
             "startlinecolor": "#2a3f5f"
            },
            "baxis": {
             "endlinecolor": "#2a3f5f",
             "gridcolor": "white",
             "linecolor": "white",
             "minorgridcolor": "white",
             "startlinecolor": "#2a3f5f"
            },
            "type": "carpet"
           }
          ],
          "choropleth": [
           {
            "colorbar": {
             "outlinewidth": 0,
             "ticks": ""
            },
            "type": "choropleth"
           }
          ],
          "contour": [
           {
            "colorbar": {
             "outlinewidth": 0,
             "ticks": ""
            },
            "colorscale": [
             [
              0,
              "#0d0887"
             ],
             [
              0.1111111111111111,
              "#46039f"
             ],
             [
              0.2222222222222222,
              "#7201a8"
             ],
             [
              0.3333333333333333,
              "#9c179e"
             ],
             [
              0.4444444444444444,
              "#bd3786"
             ],
             [
              0.5555555555555556,
              "#d8576b"
             ],
             [
              0.6666666666666666,
              "#ed7953"
             ],
             [
              0.7777777777777778,
              "#fb9f3a"
             ],
             [
              0.8888888888888888,
              "#fdca26"
             ],
             [
              1,
              "#f0f921"
             ]
            ],
            "type": "contour"
           }
          ],
          "contourcarpet": [
           {
            "colorbar": {
             "outlinewidth": 0,
             "ticks": ""
            },
            "type": "contourcarpet"
           }
          ],
          "heatmap": [
           {
            "colorbar": {
             "outlinewidth": 0,
             "ticks": ""
            },
            "colorscale": [
             [
              0,
              "#0d0887"
             ],
             [
              0.1111111111111111,
              "#46039f"
             ],
             [
              0.2222222222222222,
              "#7201a8"
             ],
             [
              0.3333333333333333,
              "#9c179e"
             ],
             [
              0.4444444444444444,
              "#bd3786"
             ],
             [
              0.5555555555555556,
              "#d8576b"
             ],
             [
              0.6666666666666666,
              "#ed7953"
             ],
             [
              0.7777777777777778,
              "#fb9f3a"
             ],
             [
              0.8888888888888888,
              "#fdca26"
             ],
             [
              1,
              "#f0f921"
             ]
            ],
            "type": "heatmap"
           }
          ],
          "heatmapgl": [
           {
            "colorbar": {
             "outlinewidth": 0,
             "ticks": ""
            },
            "colorscale": [
             [
              0,
              "#0d0887"
             ],
             [
              0.1111111111111111,
              "#46039f"
             ],
             [
              0.2222222222222222,
              "#7201a8"
             ],
             [
              0.3333333333333333,
              "#9c179e"
             ],
             [
              0.4444444444444444,
              "#bd3786"
             ],
             [
              0.5555555555555556,
              "#d8576b"
             ],
             [
              0.6666666666666666,
              "#ed7953"
             ],
             [
              0.7777777777777778,
              "#fb9f3a"
             ],
             [
              0.8888888888888888,
              "#fdca26"
             ],
             [
              1,
              "#f0f921"
             ]
            ],
            "type": "heatmapgl"
           }
          ],
          "histogram": [
           {
            "marker": {
             "pattern": {
              "fillmode": "overlay",
              "size": 10,
              "solidity": 0.2
             }
            },
            "type": "histogram"
           }
          ],
          "histogram2d": [
           {
            "colorbar": {
             "outlinewidth": 0,
             "ticks": ""
            },
            "colorscale": [
             [
              0,
              "#0d0887"
             ],
             [
              0.1111111111111111,
              "#46039f"
             ],
             [
              0.2222222222222222,
              "#7201a8"
             ],
             [
              0.3333333333333333,
              "#9c179e"
             ],
             [
              0.4444444444444444,
              "#bd3786"
             ],
             [
              0.5555555555555556,
              "#d8576b"
             ],
             [
              0.6666666666666666,
              "#ed7953"
             ],
             [
              0.7777777777777778,
              "#fb9f3a"
             ],
             [
              0.8888888888888888,
              "#fdca26"
             ],
             [
              1,
              "#f0f921"
             ]
            ],
            "type": "histogram2d"
           }
          ],
          "histogram2dcontour": [
           {
            "colorbar": {
             "outlinewidth": 0,
             "ticks": ""
            },
            "colorscale": [
             [
              0,
              "#0d0887"
             ],
             [
              0.1111111111111111,
              "#46039f"
             ],
             [
              0.2222222222222222,
              "#7201a8"
             ],
             [
              0.3333333333333333,
              "#9c179e"
             ],
             [
              0.4444444444444444,
              "#bd3786"
             ],
             [
              0.5555555555555556,
              "#d8576b"
             ],
             [
              0.6666666666666666,
              "#ed7953"
             ],
             [
              0.7777777777777778,
              "#fb9f3a"
             ],
             [
              0.8888888888888888,
              "#fdca26"
             ],
             [
              1,
              "#f0f921"
             ]
            ],
            "type": "histogram2dcontour"
           }
          ],
          "mesh3d": [
           {
            "colorbar": {
             "outlinewidth": 0,
             "ticks": ""
            },
            "type": "mesh3d"
           }
          ],
          "parcoords": [
           {
            "line": {
             "colorbar": {
              "outlinewidth": 0,
              "ticks": ""
             }
            },
            "type": "parcoords"
           }
          ],
          "pie": [
           {
            "automargin": true,
            "type": "pie"
           }
          ],
          "scatter": [
           {
            "fillpattern": {
             "fillmode": "overlay",
             "size": 10,
             "solidity": 0.2
            },
            "type": "scatter"
           }
          ],
          "scatter3d": [
           {
            "line": {
             "colorbar": {
              "outlinewidth": 0,
              "ticks": ""
             }
            },
            "marker": {
             "colorbar": {
              "outlinewidth": 0,
              "ticks": ""
             }
            },
            "type": "scatter3d"
           }
          ],
          "scattercarpet": [
           {
            "marker": {
             "colorbar": {
              "outlinewidth": 0,
              "ticks": ""
             }
            },
            "type": "scattercarpet"
           }
          ],
          "scattergeo": [
           {
            "marker": {
             "colorbar": {
              "outlinewidth": 0,
              "ticks": ""
             }
            },
            "type": "scattergeo"
           }
          ],
          "scattergl": [
           {
            "marker": {
             "colorbar": {
              "outlinewidth": 0,
              "ticks": ""
             }
            },
            "type": "scattergl"
           }
          ],
          "scattermapbox": [
           {
            "marker": {
             "colorbar": {
              "outlinewidth": 0,
              "ticks": ""
             }
            },
            "type": "scattermapbox"
           }
          ],
          "scatterpolar": [
           {
            "marker": {
             "colorbar": {
              "outlinewidth": 0,
              "ticks": ""
             }
            },
            "type": "scatterpolar"
           }
          ],
          "scatterpolargl": [
           {
            "marker": {
             "colorbar": {
              "outlinewidth": 0,
              "ticks": ""
             }
            },
            "type": "scatterpolargl"
           }
          ],
          "scatterternary": [
           {
            "marker": {
             "colorbar": {
              "outlinewidth": 0,
              "ticks": ""
             }
            },
            "type": "scatterternary"
           }
          ],
          "surface": [
           {
            "colorbar": {
             "outlinewidth": 0,
             "ticks": ""
            },
            "colorscale": [
             [
              0,
              "#0d0887"
             ],
             [
              0.1111111111111111,
              "#46039f"
             ],
             [
              0.2222222222222222,
              "#7201a8"
             ],
             [
              0.3333333333333333,
              "#9c179e"
             ],
             [
              0.4444444444444444,
              "#bd3786"
             ],
             [
              0.5555555555555556,
              "#d8576b"
             ],
             [
              0.6666666666666666,
              "#ed7953"
             ],
             [
              0.7777777777777778,
              "#fb9f3a"
             ],
             [
              0.8888888888888888,
              "#fdca26"
             ],
             [
              1,
              "#f0f921"
             ]
            ],
            "type": "surface"
           }
          ],
          "table": [
           {
            "cells": {
             "fill": {
              "color": "#EBF0F8"
             },
             "line": {
              "color": "white"
             }
            },
            "header": {
             "fill": {
              "color": "#C8D4E3"
             },
             "line": {
              "color": "white"
             }
            },
            "type": "table"
           }
          ]
         },
         "layout": {
          "annotationdefaults": {
           "arrowcolor": "#2a3f5f",
           "arrowhead": 0,
           "arrowwidth": 1
          },
          "autotypenumbers": "strict",
          "coloraxis": {
           "colorbar": {
            "outlinewidth": 0,
            "ticks": ""
           }
          },
          "colorscale": {
           "diverging": [
            [
             0,
             "#8e0152"
            ],
            [
             0.1,
             "#c51b7d"
            ],
            [
             0.2,
             "#de77ae"
            ],
            [
             0.3,
             "#f1b6da"
            ],
            [
             0.4,
             "#fde0ef"
            ],
            [
             0.5,
             "#f7f7f7"
            ],
            [
             0.6,
             "#e6f5d0"
            ],
            [
             0.7,
             "#b8e186"
            ],
            [
             0.8,
             "#7fbc41"
            ],
            [
             0.9,
             "#4d9221"
            ],
            [
             1,
             "#276419"
            ]
           ],
           "sequential": [
            [
             0,
             "#0d0887"
            ],
            [
             0.1111111111111111,
             "#46039f"
            ],
            [
             0.2222222222222222,
             "#7201a8"
            ],
            [
             0.3333333333333333,
             "#9c179e"
            ],
            [
             0.4444444444444444,
             "#bd3786"
            ],
            [
             0.5555555555555556,
             "#d8576b"
            ],
            [
             0.6666666666666666,
             "#ed7953"
            ],
            [
             0.7777777777777778,
             "#fb9f3a"
            ],
            [
             0.8888888888888888,
             "#fdca26"
            ],
            [
             1,
             "#f0f921"
            ]
           ],
           "sequentialminus": [
            [
             0,
             "#0d0887"
            ],
            [
             0.1111111111111111,
             "#46039f"
            ],
            [
             0.2222222222222222,
             "#7201a8"
            ],
            [
             0.3333333333333333,
             "#9c179e"
            ],
            [
             0.4444444444444444,
             "#bd3786"
            ],
            [
             0.5555555555555556,
             "#d8576b"
            ],
            [
             0.6666666666666666,
             "#ed7953"
            ],
            [
             0.7777777777777778,
             "#fb9f3a"
            ],
            [
             0.8888888888888888,
             "#fdca26"
            ],
            [
             1,
             "#f0f921"
            ]
           ]
          },
          "colorway": [
           "#636efa",
           "#EF553B",
           "#00cc96",
           "#ab63fa",
           "#FFA15A",
           "#19d3f3",
           "#FF6692",
           "#B6E880",
           "#FF97FF",
           "#FECB52"
          ],
          "font": {
           "color": "#2a3f5f"
          },
          "geo": {
           "bgcolor": "white",
           "lakecolor": "white",
           "landcolor": "#E5ECF6",
           "showlakes": true,
           "showland": true,
           "subunitcolor": "white"
          },
          "hoverlabel": {
           "align": "left"
          },
          "hovermode": "closest",
          "mapbox": {
           "style": "light"
          },
          "paper_bgcolor": "white",
          "plot_bgcolor": "#E5ECF6",
          "polar": {
           "angularaxis": {
            "gridcolor": "white",
            "linecolor": "white",
            "ticks": ""
           },
           "bgcolor": "#E5ECF6",
           "radialaxis": {
            "gridcolor": "white",
            "linecolor": "white",
            "ticks": ""
           }
          },
          "scene": {
           "xaxis": {
            "backgroundcolor": "#E5ECF6",
            "gridcolor": "white",
            "gridwidth": 2,
            "linecolor": "white",
            "showbackground": true,
            "ticks": "",
            "zerolinecolor": "white"
           },
           "yaxis": {
            "backgroundcolor": "#E5ECF6",
            "gridcolor": "white",
            "gridwidth": 2,
            "linecolor": "white",
            "showbackground": true,
            "ticks": "",
            "zerolinecolor": "white"
           },
           "zaxis": {
            "backgroundcolor": "#E5ECF6",
            "gridcolor": "white",
            "gridwidth": 2,
            "linecolor": "white",
            "showbackground": true,
            "ticks": "",
            "zerolinecolor": "white"
           }
          },
          "shapedefaults": {
           "line": {
            "color": "#2a3f5f"
           }
          },
          "ternary": {
           "aaxis": {
            "gridcolor": "white",
            "linecolor": "white",
            "ticks": ""
           },
           "baxis": {
            "gridcolor": "white",
            "linecolor": "white",
            "ticks": ""
           },
           "bgcolor": "#E5ECF6",
           "caxis": {
            "gridcolor": "white",
            "linecolor": "white",
            "ticks": ""
           }
          },
          "title": {
           "x": 0.05
          },
          "xaxis": {
           "automargin": true,
           "gridcolor": "white",
           "linecolor": "white",
           "ticks": "",
           "title": {
            "standoff": 15
           },
           "zerolinecolor": "white",
           "zerolinewidth": 2
          },
          "yaxis": {
           "automargin": true,
           "gridcolor": "white",
           "linecolor": "white",
           "ticks": "",
           "title": {
            "standoff": 15
           },
           "zerolinecolor": "white",
           "zerolinewidth": 2
          }
         }
        }
       }
      }
     },
     "metadata": {},
     "output_type": "display_data"
    }
   ],
   "source": [
    "# Plot 'both' dataframe using plotly .addTrace and scatter with shot distance as the x axis and fg_pct_pl as the y axis\n",
    "fig = go.Figure()\n",
    "fig.add_trace(go.Scatter(x=both['SHOT_DISTANCE'], y=both['fg_pct_pl'], name=\"fg_pct_pl\"))\n",
    "fig.add_trace(go.Scatter(x=both['SHOT_DISTANCE'], y=both['fg_pct_la'], name=\"fg_pct_la\"))\n",
    "fig.show()"
   ]
  },
  {
   "cell_type": "code",
   "execution_count": 49,
   "metadata": {},
   "outputs": [
    {
     "data": {
      "application/vnd.plotly.v1+json": {
       "config": {
        "plotlyServerURL": "https://plot.ly"
       },
       "data": [
        {
         "hovertemplate": "SHOT_DISTANCE=%{x}<br>fg_pct=%{y}<extra></extra>",
         "legendgroup": "",
         "marker": {
          "color": "#636efa",
          "symbol": "circle"
         },
         "mode": "markers",
         "name": "",
         "orientation": "v",
         "showlegend": false,
         "type": "scatter",
         "x": [
          0,
          1,
          2,
          3,
          4,
          5,
          6,
          7,
          8,
          9,
          10,
          11,
          12,
          13,
          14,
          15,
          16,
          17,
          18,
          19,
          20,
          21,
          22,
          23,
          24,
          25,
          26,
          27
         ],
         "xaxis": "x",
         "y": [
          0.7307692307692307,
          0.7272727272727273,
          0.6140350877192983,
          0.5483870967741935,
          0.35714285714285715,
          0.25,
          0.23076923076923078,
          0.4117647058823529,
          0.55,
          0.4827586206896552,
          0.56,
          0.4634146341463415,
          0.5263157894736842,
          0.5428571428571428,
          0.48333333333333334,
          0.5098039215686274,
          0.4909090909090909,
          0.4084507042253521,
          0.28,
          0.3333333333333333,
          0.5217391304347826,
          0.5,
          0.3333333333333333,
          0.37037037037037035,
          0.40625,
          0.3333333333333333,
          0.2608695652173913,
          0.2222222222222222
         ],
         "yaxis": "y"
        }
       ],
       "layout": {
        "legend": {
         "tracegroupgap": 0
        },
        "margin": {
         "t": 60
        },
        "template": {
         "data": {
          "bar": [
           {
            "error_x": {
             "color": "#2a3f5f"
            },
            "error_y": {
             "color": "#2a3f5f"
            },
            "marker": {
             "line": {
              "color": "#E5ECF6",
              "width": 0.5
             },
             "pattern": {
              "fillmode": "overlay",
              "size": 10,
              "solidity": 0.2
             }
            },
            "type": "bar"
           }
          ],
          "barpolar": [
           {
            "marker": {
             "line": {
              "color": "#E5ECF6",
              "width": 0.5
             },
             "pattern": {
              "fillmode": "overlay",
              "size": 10,
              "solidity": 0.2
             }
            },
            "type": "barpolar"
           }
          ],
          "carpet": [
           {
            "aaxis": {
             "endlinecolor": "#2a3f5f",
             "gridcolor": "white",
             "linecolor": "white",
             "minorgridcolor": "white",
             "startlinecolor": "#2a3f5f"
            },
            "baxis": {
             "endlinecolor": "#2a3f5f",
             "gridcolor": "white",
             "linecolor": "white",
             "minorgridcolor": "white",
             "startlinecolor": "#2a3f5f"
            },
            "type": "carpet"
           }
          ],
          "choropleth": [
           {
            "colorbar": {
             "outlinewidth": 0,
             "ticks": ""
            },
            "type": "choropleth"
           }
          ],
          "contour": [
           {
            "colorbar": {
             "outlinewidth": 0,
             "ticks": ""
            },
            "colorscale": [
             [
              0,
              "#0d0887"
             ],
             [
              0.1111111111111111,
              "#46039f"
             ],
             [
              0.2222222222222222,
              "#7201a8"
             ],
             [
              0.3333333333333333,
              "#9c179e"
             ],
             [
              0.4444444444444444,
              "#bd3786"
             ],
             [
              0.5555555555555556,
              "#d8576b"
             ],
             [
              0.6666666666666666,
              "#ed7953"
             ],
             [
              0.7777777777777778,
              "#fb9f3a"
             ],
             [
              0.8888888888888888,
              "#fdca26"
             ],
             [
              1,
              "#f0f921"
             ]
            ],
            "type": "contour"
           }
          ],
          "contourcarpet": [
           {
            "colorbar": {
             "outlinewidth": 0,
             "ticks": ""
            },
            "type": "contourcarpet"
           }
          ],
          "heatmap": [
           {
            "colorbar": {
             "outlinewidth": 0,
             "ticks": ""
            },
            "colorscale": [
             [
              0,
              "#0d0887"
             ],
             [
              0.1111111111111111,
              "#46039f"
             ],
             [
              0.2222222222222222,
              "#7201a8"
             ],
             [
              0.3333333333333333,
              "#9c179e"
             ],
             [
              0.4444444444444444,
              "#bd3786"
             ],
             [
              0.5555555555555556,
              "#d8576b"
             ],
             [
              0.6666666666666666,
              "#ed7953"
             ],
             [
              0.7777777777777778,
              "#fb9f3a"
             ],
             [
              0.8888888888888888,
              "#fdca26"
             ],
             [
              1,
              "#f0f921"
             ]
            ],
            "type": "heatmap"
           }
          ],
          "heatmapgl": [
           {
            "colorbar": {
             "outlinewidth": 0,
             "ticks": ""
            },
            "colorscale": [
             [
              0,
              "#0d0887"
             ],
             [
              0.1111111111111111,
              "#46039f"
             ],
             [
              0.2222222222222222,
              "#7201a8"
             ],
             [
              0.3333333333333333,
              "#9c179e"
             ],
             [
              0.4444444444444444,
              "#bd3786"
             ],
             [
              0.5555555555555556,
              "#d8576b"
             ],
             [
              0.6666666666666666,
              "#ed7953"
             ],
             [
              0.7777777777777778,
              "#fb9f3a"
             ],
             [
              0.8888888888888888,
              "#fdca26"
             ],
             [
              1,
              "#f0f921"
             ]
            ],
            "type": "heatmapgl"
           }
          ],
          "histogram": [
           {
            "marker": {
             "pattern": {
              "fillmode": "overlay",
              "size": 10,
              "solidity": 0.2
             }
            },
            "type": "histogram"
           }
          ],
          "histogram2d": [
           {
            "colorbar": {
             "outlinewidth": 0,
             "ticks": ""
            },
            "colorscale": [
             [
              0,
              "#0d0887"
             ],
             [
              0.1111111111111111,
              "#46039f"
             ],
             [
              0.2222222222222222,
              "#7201a8"
             ],
             [
              0.3333333333333333,
              "#9c179e"
             ],
             [
              0.4444444444444444,
              "#bd3786"
             ],
             [
              0.5555555555555556,
              "#d8576b"
             ],
             [
              0.6666666666666666,
              "#ed7953"
             ],
             [
              0.7777777777777778,
              "#fb9f3a"
             ],
             [
              0.8888888888888888,
              "#fdca26"
             ],
             [
              1,
              "#f0f921"
             ]
            ],
            "type": "histogram2d"
           }
          ],
          "histogram2dcontour": [
           {
            "colorbar": {
             "outlinewidth": 0,
             "ticks": ""
            },
            "colorscale": [
             [
              0,
              "#0d0887"
             ],
             [
              0.1111111111111111,
              "#46039f"
             ],
             [
              0.2222222222222222,
              "#7201a8"
             ],
             [
              0.3333333333333333,
              "#9c179e"
             ],
             [
              0.4444444444444444,
              "#bd3786"
             ],
             [
              0.5555555555555556,
              "#d8576b"
             ],
             [
              0.6666666666666666,
              "#ed7953"
             ],
             [
              0.7777777777777778,
              "#fb9f3a"
             ],
             [
              0.8888888888888888,
              "#fdca26"
             ],
             [
              1,
              "#f0f921"
             ]
            ],
            "type": "histogram2dcontour"
           }
          ],
          "mesh3d": [
           {
            "colorbar": {
             "outlinewidth": 0,
             "ticks": ""
            },
            "type": "mesh3d"
           }
          ],
          "parcoords": [
           {
            "line": {
             "colorbar": {
              "outlinewidth": 0,
              "ticks": ""
             }
            },
            "type": "parcoords"
           }
          ],
          "pie": [
           {
            "automargin": true,
            "type": "pie"
           }
          ],
          "scatter": [
           {
            "fillpattern": {
             "fillmode": "overlay",
             "size": 10,
             "solidity": 0.2
            },
            "type": "scatter"
           }
          ],
          "scatter3d": [
           {
            "line": {
             "colorbar": {
              "outlinewidth": 0,
              "ticks": ""
             }
            },
            "marker": {
             "colorbar": {
              "outlinewidth": 0,
              "ticks": ""
             }
            },
            "type": "scatter3d"
           }
          ],
          "scattercarpet": [
           {
            "marker": {
             "colorbar": {
              "outlinewidth": 0,
              "ticks": ""
             }
            },
            "type": "scattercarpet"
           }
          ],
          "scattergeo": [
           {
            "marker": {
             "colorbar": {
              "outlinewidth": 0,
              "ticks": ""
             }
            },
            "type": "scattergeo"
           }
          ],
          "scattergl": [
           {
            "marker": {
             "colorbar": {
              "outlinewidth": 0,
              "ticks": ""
             }
            },
            "type": "scattergl"
           }
          ],
          "scattermapbox": [
           {
            "marker": {
             "colorbar": {
              "outlinewidth": 0,
              "ticks": ""
             }
            },
            "type": "scattermapbox"
           }
          ],
          "scatterpolar": [
           {
            "marker": {
             "colorbar": {
              "outlinewidth": 0,
              "ticks": ""
             }
            },
            "type": "scatterpolar"
           }
          ],
          "scatterpolargl": [
           {
            "marker": {
             "colorbar": {
              "outlinewidth": 0,
              "ticks": ""
             }
            },
            "type": "scatterpolargl"
           }
          ],
          "scatterternary": [
           {
            "marker": {
             "colorbar": {
              "outlinewidth": 0,
              "ticks": ""
             }
            },
            "type": "scatterternary"
           }
          ],
          "surface": [
           {
            "colorbar": {
             "outlinewidth": 0,
             "ticks": ""
            },
            "colorscale": [
             [
              0,
              "#0d0887"
             ],
             [
              0.1111111111111111,
              "#46039f"
             ],
             [
              0.2222222222222222,
              "#7201a8"
             ],
             [
              0.3333333333333333,
              "#9c179e"
             ],
             [
              0.4444444444444444,
              "#bd3786"
             ],
             [
              0.5555555555555556,
              "#d8576b"
             ],
             [
              0.6666666666666666,
              "#ed7953"
             ],
             [
              0.7777777777777778,
              "#fb9f3a"
             ],
             [
              0.8888888888888888,
              "#fdca26"
             ],
             [
              1,
              "#f0f921"
             ]
            ],
            "type": "surface"
           }
          ],
          "table": [
           {
            "cells": {
             "fill": {
              "color": "#EBF0F8"
             },
             "line": {
              "color": "white"
             }
            },
            "header": {
             "fill": {
              "color": "#C8D4E3"
             },
             "line": {
              "color": "white"
             }
            },
            "type": "table"
           }
          ]
         },
         "layout": {
          "annotationdefaults": {
           "arrowcolor": "#2a3f5f",
           "arrowhead": 0,
           "arrowwidth": 1
          },
          "autotypenumbers": "strict",
          "coloraxis": {
           "colorbar": {
            "outlinewidth": 0,
            "ticks": ""
           }
          },
          "colorscale": {
           "diverging": [
            [
             0,
             "#8e0152"
            ],
            [
             0.1,
             "#c51b7d"
            ],
            [
             0.2,
             "#de77ae"
            ],
            [
             0.3,
             "#f1b6da"
            ],
            [
             0.4,
             "#fde0ef"
            ],
            [
             0.5,
             "#f7f7f7"
            ],
            [
             0.6,
             "#e6f5d0"
            ],
            [
             0.7,
             "#b8e186"
            ],
            [
             0.8,
             "#7fbc41"
            ],
            [
             0.9,
             "#4d9221"
            ],
            [
             1,
             "#276419"
            ]
           ],
           "sequential": [
            [
             0,
             "#0d0887"
            ],
            [
             0.1111111111111111,
             "#46039f"
            ],
            [
             0.2222222222222222,
             "#7201a8"
            ],
            [
             0.3333333333333333,
             "#9c179e"
            ],
            [
             0.4444444444444444,
             "#bd3786"
            ],
            [
             0.5555555555555556,
             "#d8576b"
            ],
            [
             0.6666666666666666,
             "#ed7953"
            ],
            [
             0.7777777777777778,
             "#fb9f3a"
            ],
            [
             0.8888888888888888,
             "#fdca26"
            ],
            [
             1,
             "#f0f921"
            ]
           ],
           "sequentialminus": [
            [
             0,
             "#0d0887"
            ],
            [
             0.1111111111111111,
             "#46039f"
            ],
            [
             0.2222222222222222,
             "#7201a8"
            ],
            [
             0.3333333333333333,
             "#9c179e"
            ],
            [
             0.4444444444444444,
             "#bd3786"
            ],
            [
             0.5555555555555556,
             "#d8576b"
            ],
            [
             0.6666666666666666,
             "#ed7953"
            ],
            [
             0.7777777777777778,
             "#fb9f3a"
            ],
            [
             0.8888888888888888,
             "#fdca26"
            ],
            [
             1,
             "#f0f921"
            ]
           ]
          },
          "colorway": [
           "#636efa",
           "#EF553B",
           "#00cc96",
           "#ab63fa",
           "#FFA15A",
           "#19d3f3",
           "#FF6692",
           "#B6E880",
           "#FF97FF",
           "#FECB52"
          ],
          "font": {
           "color": "#2a3f5f"
          },
          "geo": {
           "bgcolor": "white",
           "lakecolor": "white",
           "landcolor": "#E5ECF6",
           "showlakes": true,
           "showland": true,
           "subunitcolor": "white"
          },
          "hoverlabel": {
           "align": "left"
          },
          "hovermode": "closest",
          "mapbox": {
           "style": "light"
          },
          "paper_bgcolor": "white",
          "plot_bgcolor": "#E5ECF6",
          "polar": {
           "angularaxis": {
            "gridcolor": "white",
            "linecolor": "white",
            "ticks": ""
           },
           "bgcolor": "#E5ECF6",
           "radialaxis": {
            "gridcolor": "white",
            "linecolor": "white",
            "ticks": ""
           }
          },
          "scene": {
           "xaxis": {
            "backgroundcolor": "#E5ECF6",
            "gridcolor": "white",
            "gridwidth": 2,
            "linecolor": "white",
            "showbackground": true,
            "ticks": "",
            "zerolinecolor": "white"
           },
           "yaxis": {
            "backgroundcolor": "#E5ECF6",
            "gridcolor": "white",
            "gridwidth": 2,
            "linecolor": "white",
            "showbackground": true,
            "ticks": "",
            "zerolinecolor": "white"
           },
           "zaxis": {
            "backgroundcolor": "#E5ECF6",
            "gridcolor": "white",
            "gridwidth": 2,
            "linecolor": "white",
            "showbackground": true,
            "ticks": "",
            "zerolinecolor": "white"
           }
          },
          "shapedefaults": {
           "line": {
            "color": "#2a3f5f"
           }
          },
          "ternary": {
           "aaxis": {
            "gridcolor": "white",
            "linecolor": "white",
            "ticks": ""
           },
           "baxis": {
            "gridcolor": "white",
            "linecolor": "white",
            "ticks": ""
           },
           "bgcolor": "#E5ECF6",
           "caxis": {
            "gridcolor": "white",
            "linecolor": "white",
            "ticks": ""
           }
          },
          "title": {
           "x": 0.05
          },
          "xaxis": {
           "automargin": true,
           "gridcolor": "white",
           "linecolor": "white",
           "ticks": "",
           "title": {
            "standoff": 15
           },
           "zerolinecolor": "white",
           "zerolinewidth": 2
          },
          "yaxis": {
           "automargin": true,
           "gridcolor": "white",
           "linecolor": "white",
           "ticks": "",
           "title": {
            "standoff": 15
           },
           "zerolinecolor": "white",
           "zerolinewidth": 2
          }
         }
        },
        "xaxis": {
         "anchor": "y",
         "domain": [
          0,
          1
         ],
         "title": {
          "text": "SHOT_DISTANCE"
         }
        },
        "yaxis": {
         "anchor": "x",
         "domain": [
          0,
          1
         ],
         "title": {
          "text": "fg_pct"
         }
        }
       }
      }
     },
     "metadata": {},
     "output_type": "display_data"
    }
   ],
   "source": [
    "fig = px.scatter(y, x=\"SHOT_DISTANCE\", y=\"fg_pct\")\n",
    "fig.show()"
   ]
  }
 ],
 "metadata": {
  "interpreter": {
   "hash": "745ad8b2a7e3296165476373b435416d170bbb004e566d53aaaee70bc60621d4"
  },
  "kernelspec": {
   "display_name": "Python 3.8.2 ('.venv': venv)",
   "language": "python",
   "name": "python3"
  },
  "language_info": {
   "codemirror_mode": {
    "name": "ipython",
    "version": 3
   },
   "file_extension": ".py",
   "mimetype": "text/x-python",
   "name": "python",
   "nbconvert_exporter": "python",
   "pygments_lexer": "ipython3",
   "version": "3.8.2"
  },
  "orig_nbformat": 4
 },
 "nbformat": 4,
 "nbformat_minor": 2
}
